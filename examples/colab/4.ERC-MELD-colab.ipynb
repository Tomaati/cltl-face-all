{
  "nbformat": 4,
  "nbformat_minor": 0,
  "metadata": {
    "colab": {
      "name": "4.ERC-MELD-colab.ipynb",
      "provenance": [],
      "collapsed_sections": [],
      "include_colab_link": true
    },
    "kernelspec": {
      "name": "python3",
      "display_name": "Python 3"
    },
    "widgets": {
      "application/vnd.jupyter.widget-state+json": {
        "401725efbe6148b3bef933e281e9b8ad": {
          "model_module": "@jupyter-widgets/controls",
          "model_name": "HBoxModel",
          "state": {
            "_view_name": "HBoxView",
            "_dom_classes": [],
            "_model_name": "HBoxModel",
            "_view_module": "@jupyter-widgets/controls",
            "_model_module_version": "1.5.0",
            "_view_count": null,
            "_view_module_version": "1.5.0",
            "box_style": "",
            "layout": "IPY_MODEL_0b4d81bcf4a340db88626f73567b21a9",
            "_model_module": "@jupyter-widgets/controls",
            "children": [
              "IPY_MODEL_e2a58c0ee59843ef93a7b0255a151b7d",
              "IPY_MODEL_862bec07cff046f8b16da78e52a099a0"
            ]
          }
        },
        "0b4d81bcf4a340db88626f73567b21a9": {
          "model_module": "@jupyter-widgets/base",
          "model_name": "LayoutModel",
          "state": {
            "_view_name": "LayoutView",
            "grid_template_rows": null,
            "right": null,
            "justify_content": null,
            "_view_module": "@jupyter-widgets/base",
            "overflow": null,
            "_model_module_version": "1.2.0",
            "_view_count": null,
            "flex_flow": null,
            "width": null,
            "min_width": null,
            "border": null,
            "align_items": null,
            "bottom": null,
            "_model_module": "@jupyter-widgets/base",
            "top": null,
            "grid_column": null,
            "overflow_y": null,
            "overflow_x": null,
            "grid_auto_flow": null,
            "grid_area": null,
            "grid_template_columns": null,
            "flex": null,
            "_model_name": "LayoutModel",
            "justify_items": null,
            "grid_row": null,
            "max_height": null,
            "align_content": null,
            "visibility": null,
            "align_self": null,
            "height": null,
            "min_height": null,
            "padding": null,
            "grid_auto_rows": null,
            "grid_gap": null,
            "max_width": null,
            "order": null,
            "_view_module_version": "1.2.0",
            "grid_template_areas": null,
            "object_position": null,
            "object_fit": null,
            "grid_auto_columns": null,
            "margin": null,
            "display": null,
            "left": null
          }
        },
        "e2a58c0ee59843ef93a7b0255a151b7d": {
          "model_module": "@jupyter-widgets/controls",
          "model_name": "FloatProgressModel",
          "state": {
            "_view_name": "ProgressView",
            "style": "IPY_MODEL_778b7783dae941e68bd68563f8bfc952",
            "_dom_classes": [],
            "description": "  0%",
            "_model_name": "FloatProgressModel",
            "bar_style": "danger",
            "max": 3,
            "_view_module": "@jupyter-widgets/controls",
            "_model_module_version": "1.5.0",
            "value": 0,
            "_view_count": null,
            "_view_module_version": "1.5.0",
            "orientation": "horizontal",
            "min": 0,
            "description_tooltip": null,
            "_model_module": "@jupyter-widgets/controls",
            "layout": "IPY_MODEL_fc7c605143ff41e2b5df024b0ec08172"
          }
        },
        "862bec07cff046f8b16da78e52a099a0": {
          "model_module": "@jupyter-widgets/controls",
          "model_name": "HTMLModel",
          "state": {
            "_view_name": "HTMLView",
            "style": "IPY_MODEL_5b3e42ee20c94d37b617334e553cf63d",
            "_dom_classes": [],
            "description": "",
            "_model_name": "HTMLModel",
            "placeholder": "​",
            "_view_module": "@jupyter-widgets/controls",
            "_model_module_version": "1.5.0",
            "value": " 0/3 [00:05&lt;?, ?it/s]",
            "_view_count": null,
            "_view_module_version": "1.5.0",
            "description_tooltip": null,
            "_model_module": "@jupyter-widgets/controls",
            "layout": "IPY_MODEL_7591d7c6e9974763945e91f9dd256e70"
          }
        },
        "778b7783dae941e68bd68563f8bfc952": {
          "model_module": "@jupyter-widgets/controls",
          "model_name": "ProgressStyleModel",
          "state": {
            "_view_name": "StyleView",
            "_model_name": "ProgressStyleModel",
            "description_width": "initial",
            "_view_module": "@jupyter-widgets/base",
            "_model_module_version": "1.5.0",
            "_view_count": null,
            "_view_module_version": "1.2.0",
            "bar_color": null,
            "_model_module": "@jupyter-widgets/controls"
          }
        },
        "fc7c605143ff41e2b5df024b0ec08172": {
          "model_module": "@jupyter-widgets/base",
          "model_name": "LayoutModel",
          "state": {
            "_view_name": "LayoutView",
            "grid_template_rows": null,
            "right": null,
            "justify_content": null,
            "_view_module": "@jupyter-widgets/base",
            "overflow": null,
            "_model_module_version": "1.2.0",
            "_view_count": null,
            "flex_flow": null,
            "width": null,
            "min_width": null,
            "border": null,
            "align_items": null,
            "bottom": null,
            "_model_module": "@jupyter-widgets/base",
            "top": null,
            "grid_column": null,
            "overflow_y": null,
            "overflow_x": null,
            "grid_auto_flow": null,
            "grid_area": null,
            "grid_template_columns": null,
            "flex": null,
            "_model_name": "LayoutModel",
            "justify_items": null,
            "grid_row": null,
            "max_height": null,
            "align_content": null,
            "visibility": null,
            "align_self": null,
            "height": null,
            "min_height": null,
            "padding": null,
            "grid_auto_rows": null,
            "grid_gap": null,
            "max_width": null,
            "order": null,
            "_view_module_version": "1.2.0",
            "grid_template_areas": null,
            "object_position": null,
            "object_fit": null,
            "grid_auto_columns": null,
            "margin": null,
            "display": null,
            "left": null
          }
        },
        "5b3e42ee20c94d37b617334e553cf63d": {
          "model_module": "@jupyter-widgets/controls",
          "model_name": "DescriptionStyleModel",
          "state": {
            "_view_name": "StyleView",
            "_model_name": "DescriptionStyleModel",
            "description_width": "",
            "_view_module": "@jupyter-widgets/base",
            "_model_module_version": "1.5.0",
            "_view_count": null,
            "_view_module_version": "1.2.0",
            "_model_module": "@jupyter-widgets/controls"
          }
        },
        "7591d7c6e9974763945e91f9dd256e70": {
          "model_module": "@jupyter-widgets/base",
          "model_name": "LayoutModel",
          "state": {
            "_view_name": "LayoutView",
            "grid_template_rows": null,
            "right": null,
            "justify_content": null,
            "_view_module": "@jupyter-widgets/base",
            "overflow": null,
            "_model_module_version": "1.2.0",
            "_view_count": null,
            "flex_flow": null,
            "width": null,
            "min_width": null,
            "border": null,
            "align_items": null,
            "bottom": null,
            "_model_module": "@jupyter-widgets/base",
            "top": null,
            "grid_column": null,
            "overflow_y": null,
            "overflow_x": null,
            "grid_auto_flow": null,
            "grid_area": null,
            "grid_template_columns": null,
            "flex": null,
            "_model_name": "LayoutModel",
            "justify_items": null,
            "grid_row": null,
            "max_height": null,
            "align_content": null,
            "visibility": null,
            "align_self": null,
            "height": null,
            "min_height": null,
            "padding": null,
            "grid_auto_rows": null,
            "grid_gap": null,
            "max_width": null,
            "order": null,
            "_view_module_version": "1.2.0",
            "grid_template_areas": null,
            "object_position": null,
            "object_fit": null,
            "grid_auto_columns": null,
            "margin": null,
            "display": null,
            "left": null
          }
        },
        "12c79fa04f2e4cc08cc10d95cc398c0e": {
          "model_module": "@jupyter-widgets/controls",
          "model_name": "HBoxModel",
          "state": {
            "_view_name": "HBoxView",
            "_dom_classes": [],
            "_model_name": "HBoxModel",
            "_view_module": "@jupyter-widgets/controls",
            "_model_module_version": "1.5.0",
            "_view_count": null,
            "_view_module_version": "1.5.0",
            "box_style": "",
            "layout": "IPY_MODEL_5a7713c25c744cf0a2bcb2125e8b313c",
            "_model_module": "@jupyter-widgets/controls",
            "children": [
              "IPY_MODEL_b37b2a1f1ed046178ee510284d5b9cf0",
              "IPY_MODEL_7596f87b5afa42d9870748657e4dd649"
            ]
          }
        },
        "5a7713c25c744cf0a2bcb2125e8b313c": {
          "model_module": "@jupyter-widgets/base",
          "model_name": "LayoutModel",
          "state": {
            "_view_name": "LayoutView",
            "grid_template_rows": null,
            "right": null,
            "justify_content": null,
            "_view_module": "@jupyter-widgets/base",
            "overflow": null,
            "_model_module_version": "1.2.0",
            "_view_count": null,
            "flex_flow": null,
            "width": null,
            "min_width": null,
            "border": null,
            "align_items": null,
            "bottom": null,
            "_model_module": "@jupyter-widgets/base",
            "top": null,
            "grid_column": null,
            "overflow_y": null,
            "overflow_x": null,
            "grid_auto_flow": null,
            "grid_area": null,
            "grid_template_columns": null,
            "flex": null,
            "_model_name": "LayoutModel",
            "justify_items": null,
            "grid_row": null,
            "max_height": null,
            "align_content": null,
            "visibility": null,
            "align_self": null,
            "height": null,
            "min_height": null,
            "padding": null,
            "grid_auto_rows": null,
            "grid_gap": null,
            "max_width": null,
            "order": null,
            "_view_module_version": "1.2.0",
            "grid_template_areas": null,
            "object_position": null,
            "object_fit": null,
            "grid_auto_columns": null,
            "margin": null,
            "display": null,
            "left": null
          }
        },
        "b37b2a1f1ed046178ee510284d5b9cf0": {
          "model_module": "@jupyter-widgets/controls",
          "model_name": "FloatProgressModel",
          "state": {
            "_view_name": "ProgressView",
            "style": "IPY_MODEL_882ea7a0a7a0436b9c6db49312e03d83",
            "_dom_classes": [],
            "description": "100%",
            "_model_name": "FloatProgressModel",
            "bar_style": "success",
            "max": 3,
            "_view_module": "@jupyter-widgets/controls",
            "_model_module_version": "1.5.0",
            "value": 3,
            "_view_count": null,
            "_view_module_version": "1.5.0",
            "orientation": "horizontal",
            "min": 0,
            "description_tooltip": null,
            "_model_module": "@jupyter-widgets/controls",
            "layout": "IPY_MODEL_4b344ca8a5284bdab0900b344ff33404"
          }
        },
        "7596f87b5afa42d9870748657e4dd649": {
          "model_module": "@jupyter-widgets/controls",
          "model_name": "HTMLModel",
          "state": {
            "_view_name": "HTMLView",
            "style": "IPY_MODEL_c23860599e564d31965a54d47f05ace8",
            "_dom_classes": [],
            "description": "",
            "_model_name": "HTMLModel",
            "placeholder": "​",
            "_view_module": "@jupyter-widgets/controls",
            "_model_module_version": "1.5.0",
            "value": " 3/3 [00:00&lt;00:00, 29.55it/s]",
            "_view_count": null,
            "_view_module_version": "1.5.0",
            "description_tooltip": null,
            "_model_module": "@jupyter-widgets/controls",
            "layout": "IPY_MODEL_9556c05635b04a05918197ac2176733b"
          }
        },
        "882ea7a0a7a0436b9c6db49312e03d83": {
          "model_module": "@jupyter-widgets/controls",
          "model_name": "ProgressStyleModel",
          "state": {
            "_view_name": "StyleView",
            "_model_name": "ProgressStyleModel",
            "description_width": "initial",
            "_view_module": "@jupyter-widgets/base",
            "_model_module_version": "1.5.0",
            "_view_count": null,
            "_view_module_version": "1.2.0",
            "bar_color": null,
            "_model_module": "@jupyter-widgets/controls"
          }
        },
        "4b344ca8a5284bdab0900b344ff33404": {
          "model_module": "@jupyter-widgets/base",
          "model_name": "LayoutModel",
          "state": {
            "_view_name": "LayoutView",
            "grid_template_rows": null,
            "right": null,
            "justify_content": null,
            "_view_module": "@jupyter-widgets/base",
            "overflow": null,
            "_model_module_version": "1.2.0",
            "_view_count": null,
            "flex_flow": null,
            "width": null,
            "min_width": null,
            "border": null,
            "align_items": null,
            "bottom": null,
            "_model_module": "@jupyter-widgets/base",
            "top": null,
            "grid_column": null,
            "overflow_y": null,
            "overflow_x": null,
            "grid_auto_flow": null,
            "grid_area": null,
            "grid_template_columns": null,
            "flex": null,
            "_model_name": "LayoutModel",
            "justify_items": null,
            "grid_row": null,
            "max_height": null,
            "align_content": null,
            "visibility": null,
            "align_self": null,
            "height": null,
            "min_height": null,
            "padding": null,
            "grid_auto_rows": null,
            "grid_gap": null,
            "max_width": null,
            "order": null,
            "_view_module_version": "1.2.0",
            "grid_template_areas": null,
            "object_position": null,
            "object_fit": null,
            "grid_auto_columns": null,
            "margin": null,
            "display": null,
            "left": null
          }
        },
        "c23860599e564d31965a54d47f05ace8": {
          "model_module": "@jupyter-widgets/controls",
          "model_name": "DescriptionStyleModel",
          "state": {
            "_view_name": "StyleView",
            "_model_name": "DescriptionStyleModel",
            "description_width": "",
            "_view_module": "@jupyter-widgets/base",
            "_model_module_version": "1.5.0",
            "_view_count": null,
            "_view_module_version": "1.2.0",
            "_model_module": "@jupyter-widgets/controls"
          }
        },
        "9556c05635b04a05918197ac2176733b": {
          "model_module": "@jupyter-widgets/base",
          "model_name": "LayoutModel",
          "state": {
            "_view_name": "LayoutView",
            "grid_template_rows": null,
            "right": null,
            "justify_content": null,
            "_view_module": "@jupyter-widgets/base",
            "overflow": null,
            "_model_module_version": "1.2.0",
            "_view_count": null,
            "flex_flow": null,
            "width": null,
            "min_width": null,
            "border": null,
            "align_items": null,
            "bottom": null,
            "_model_module": "@jupyter-widgets/base",
            "top": null,
            "grid_column": null,
            "overflow_y": null,
            "overflow_x": null,
            "grid_auto_flow": null,
            "grid_area": null,
            "grid_template_columns": null,
            "flex": null,
            "_model_name": "LayoutModel",
            "justify_items": null,
            "grid_row": null,
            "max_height": null,
            "align_content": null,
            "visibility": null,
            "align_self": null,
            "height": null,
            "min_height": null,
            "padding": null,
            "grid_auto_rows": null,
            "grid_gap": null,
            "max_width": null,
            "order": null,
            "_view_module_version": "1.2.0",
            "grid_template_areas": null,
            "object_position": null,
            "object_fit": null,
            "grid_auto_columns": null,
            "margin": null,
            "display": null,
            "left": null
          }
        },
        "5b54f6217331425fa1635c9ee1cae480": {
          "model_module": "@jupyter-widgets/controls",
          "model_name": "HBoxModel",
          "state": {
            "_view_name": "HBoxView",
            "_dom_classes": [],
            "_model_name": "HBoxModel",
            "_view_module": "@jupyter-widgets/controls",
            "_model_module_version": "1.5.0",
            "_view_count": null,
            "_view_module_version": "1.5.0",
            "box_style": "",
            "layout": "IPY_MODEL_ad0bea06d2954728a429f04a8b2ad894",
            "_model_module": "@jupyter-widgets/controls",
            "children": [
              "IPY_MODEL_ea42e23bd40d48e58efab685e44c4cab",
              "IPY_MODEL_565ddae27e2844ef96ee0a812b62cd90"
            ]
          }
        },
        "ad0bea06d2954728a429f04a8b2ad894": {
          "model_module": "@jupyter-widgets/base",
          "model_name": "LayoutModel",
          "state": {
            "_view_name": "LayoutView",
            "grid_template_rows": null,
            "right": null,
            "justify_content": null,
            "_view_module": "@jupyter-widgets/base",
            "overflow": null,
            "_model_module_version": "1.2.0",
            "_view_count": null,
            "flex_flow": null,
            "width": null,
            "min_width": null,
            "border": null,
            "align_items": null,
            "bottom": null,
            "_model_module": "@jupyter-widgets/base",
            "top": null,
            "grid_column": null,
            "overflow_y": null,
            "overflow_x": null,
            "grid_auto_flow": null,
            "grid_area": null,
            "grid_template_columns": null,
            "flex": null,
            "_model_name": "LayoutModel",
            "justify_items": null,
            "grid_row": null,
            "max_height": null,
            "align_content": null,
            "visibility": null,
            "align_self": null,
            "height": null,
            "min_height": null,
            "padding": null,
            "grid_auto_rows": null,
            "grid_gap": null,
            "max_width": null,
            "order": null,
            "_view_module_version": "1.2.0",
            "grid_template_areas": null,
            "object_position": null,
            "object_fit": null,
            "grid_auto_columns": null,
            "margin": null,
            "display": null,
            "left": null
          }
        },
        "ea42e23bd40d48e58efab685e44c4cab": {
          "model_module": "@jupyter-widgets/controls",
          "model_name": "FloatProgressModel",
          "state": {
            "_view_name": "ProgressView",
            "style": "IPY_MODEL_1003a704add746a29c81889fd6774250",
            "_dom_classes": [],
            "description": "100%",
            "_model_name": "FloatProgressModel",
            "bar_style": "success",
            "max": 3,
            "_view_module": "@jupyter-widgets/controls",
            "_model_module_version": "1.5.0",
            "value": 3,
            "_view_count": null,
            "_view_module_version": "1.5.0",
            "orientation": "horizontal",
            "min": 0,
            "description_tooltip": null,
            "_model_module": "@jupyter-widgets/controls",
            "layout": "IPY_MODEL_976dbb3e80f84e2e828a700dea267469"
          }
        },
        "565ddae27e2844ef96ee0a812b62cd90": {
          "model_module": "@jupyter-widgets/controls",
          "model_name": "HTMLModel",
          "state": {
            "_view_name": "HTMLView",
            "style": "IPY_MODEL_4151d78141dd41afaa317a76b27b09dd",
            "_dom_classes": [],
            "description": "",
            "_model_name": "HTMLModel",
            "placeholder": "​",
            "_view_module": "@jupyter-widgets/controls",
            "_model_module_version": "1.5.0",
            "value": " 3/3 [04:45&lt;00:00, 95.15s/it]",
            "_view_count": null,
            "_view_module_version": "1.5.0",
            "description_tooltip": null,
            "_model_module": "@jupyter-widgets/controls",
            "layout": "IPY_MODEL_433b8530145a474ba05403bdf0a091e1"
          }
        },
        "1003a704add746a29c81889fd6774250": {
          "model_module": "@jupyter-widgets/controls",
          "model_name": "ProgressStyleModel",
          "state": {
            "_view_name": "StyleView",
            "_model_name": "ProgressStyleModel",
            "description_width": "initial",
            "_view_module": "@jupyter-widgets/base",
            "_model_module_version": "1.5.0",
            "_view_count": null,
            "_view_module_version": "1.2.0",
            "bar_color": null,
            "_model_module": "@jupyter-widgets/controls"
          }
        },
        "976dbb3e80f84e2e828a700dea267469": {
          "model_module": "@jupyter-widgets/base",
          "model_name": "LayoutModel",
          "state": {
            "_view_name": "LayoutView",
            "grid_template_rows": null,
            "right": null,
            "justify_content": null,
            "_view_module": "@jupyter-widgets/base",
            "overflow": null,
            "_model_module_version": "1.2.0",
            "_view_count": null,
            "flex_flow": null,
            "width": null,
            "min_width": null,
            "border": null,
            "align_items": null,
            "bottom": null,
            "_model_module": "@jupyter-widgets/base",
            "top": null,
            "grid_column": null,
            "overflow_y": null,
            "overflow_x": null,
            "grid_auto_flow": null,
            "grid_area": null,
            "grid_template_columns": null,
            "flex": null,
            "_model_name": "LayoutModel",
            "justify_items": null,
            "grid_row": null,
            "max_height": null,
            "align_content": null,
            "visibility": null,
            "align_self": null,
            "height": null,
            "min_height": null,
            "padding": null,
            "grid_auto_rows": null,
            "grid_gap": null,
            "max_width": null,
            "order": null,
            "_view_module_version": "1.2.0",
            "grid_template_areas": null,
            "object_position": null,
            "object_fit": null,
            "grid_auto_columns": null,
            "margin": null,
            "display": null,
            "left": null
          }
        },
        "4151d78141dd41afaa317a76b27b09dd": {
          "model_module": "@jupyter-widgets/controls",
          "model_name": "DescriptionStyleModel",
          "state": {
            "_view_name": "StyleView",
            "_model_name": "DescriptionStyleModel",
            "description_width": "",
            "_view_module": "@jupyter-widgets/base",
            "_model_module_version": "1.5.0",
            "_view_count": null,
            "_view_module_version": "1.2.0",
            "_model_module": "@jupyter-widgets/controls"
          }
        },
        "433b8530145a474ba05403bdf0a091e1": {
          "model_module": "@jupyter-widgets/base",
          "model_name": "LayoutModel",
          "state": {
            "_view_name": "LayoutView",
            "grid_template_rows": null,
            "right": null,
            "justify_content": null,
            "_view_module": "@jupyter-widgets/base",
            "overflow": null,
            "_model_module_version": "1.2.0",
            "_view_count": null,
            "flex_flow": null,
            "width": null,
            "min_width": null,
            "border": null,
            "align_items": null,
            "bottom": null,
            "_model_module": "@jupyter-widgets/base",
            "top": null,
            "grid_column": null,
            "overflow_y": null,
            "overflow_x": null,
            "grid_auto_flow": null,
            "grid_area": null,
            "grid_template_columns": null,
            "flex": null,
            "_model_name": "LayoutModel",
            "justify_items": null,
            "grid_row": null,
            "max_height": null,
            "align_content": null,
            "visibility": null,
            "align_self": null,
            "height": null,
            "min_height": null,
            "padding": null,
            "grid_auto_rows": null,
            "grid_gap": null,
            "max_width": null,
            "order": null,
            "_view_module_version": "1.2.0",
            "grid_template_areas": null,
            "object_position": null,
            "object_fit": null,
            "grid_auto_columns": null,
            "margin": null,
            "display": null,
            "left": null
          }
        },
        "d9f2efdb10a04d59990a600321ed4932": {
          "model_module": "@jupyter-widgets/controls",
          "model_name": "HBoxModel",
          "state": {
            "_view_name": "HBoxView",
            "_dom_classes": [],
            "_model_name": "HBoxModel",
            "_view_module": "@jupyter-widgets/controls",
            "_model_module_version": "1.5.0",
            "_view_count": null,
            "_view_module_version": "1.5.0",
            "box_style": "",
            "layout": "IPY_MODEL_fde4b1cec0084bfc8dcd736238410214",
            "_model_module": "@jupyter-widgets/controls",
            "children": [
              "IPY_MODEL_0d3fdc232fd54d7ca8a1ddfecd6f34f5",
              "IPY_MODEL_9a1fa504a4e14bb6928068c245c55dfe"
            ]
          }
        },
        "fde4b1cec0084bfc8dcd736238410214": {
          "model_module": "@jupyter-widgets/base",
          "model_name": "LayoutModel",
          "state": {
            "_view_name": "LayoutView",
            "grid_template_rows": null,
            "right": null,
            "justify_content": null,
            "_view_module": "@jupyter-widgets/base",
            "overflow": null,
            "_model_module_version": "1.2.0",
            "_view_count": null,
            "flex_flow": null,
            "width": null,
            "min_width": null,
            "border": null,
            "align_items": null,
            "bottom": null,
            "_model_module": "@jupyter-widgets/base",
            "top": null,
            "grid_column": null,
            "overflow_y": null,
            "overflow_x": null,
            "grid_auto_flow": null,
            "grid_area": null,
            "grid_template_columns": null,
            "flex": null,
            "_model_name": "LayoutModel",
            "justify_items": null,
            "grid_row": null,
            "max_height": null,
            "align_content": null,
            "visibility": null,
            "align_self": null,
            "height": null,
            "min_height": null,
            "padding": null,
            "grid_auto_rows": null,
            "grid_gap": null,
            "max_width": null,
            "order": null,
            "_view_module_version": "1.2.0",
            "grid_template_areas": null,
            "object_position": null,
            "object_fit": null,
            "grid_auto_columns": null,
            "margin": null,
            "display": null,
            "left": null
          }
        },
        "0d3fdc232fd54d7ca8a1ddfecd6f34f5": {
          "model_module": "@jupyter-widgets/controls",
          "model_name": "FloatProgressModel",
          "state": {
            "_view_name": "ProgressView",
            "style": "IPY_MODEL_b1c91a2e6b3d4427b9414a80eac23493",
            "_dom_classes": [],
            "description": "100%",
            "_model_name": "FloatProgressModel",
            "bar_style": "success",
            "max": 9989,
            "_view_module": "@jupyter-widgets/controls",
            "_model_module_version": "1.5.0",
            "value": 9989,
            "_view_count": null,
            "_view_module_version": "1.5.0",
            "orientation": "horizontal",
            "min": 0,
            "description_tooltip": null,
            "_model_module": "@jupyter-widgets/controls",
            "layout": "IPY_MODEL_9c332b7fddba4abbb535fcbbe96dc80b"
          }
        },
        "9a1fa504a4e14bb6928068c245c55dfe": {
          "model_module": "@jupyter-widgets/controls",
          "model_name": "HTMLModel",
          "state": {
            "_view_name": "HTMLView",
            "style": "IPY_MODEL_2f988e8fc6324dd0835da48d30bff742",
            "_dom_classes": [],
            "description": "",
            "_model_name": "HTMLModel",
            "placeholder": "​",
            "_view_module": "@jupyter-widgets/controls",
            "_model_module_version": "1.5.0",
            "value": " 9989/9989 [04:45&lt;00:00, 35.00it/s]",
            "_view_count": null,
            "_view_module_version": "1.5.0",
            "description_tooltip": null,
            "_model_module": "@jupyter-widgets/controls",
            "layout": "IPY_MODEL_deafaa7dfece469ba3d4179ddc99f470"
          }
        },
        "b1c91a2e6b3d4427b9414a80eac23493": {
          "model_module": "@jupyter-widgets/controls",
          "model_name": "ProgressStyleModel",
          "state": {
            "_view_name": "StyleView",
            "_model_name": "ProgressStyleModel",
            "description_width": "initial",
            "_view_module": "@jupyter-widgets/base",
            "_model_module_version": "1.5.0",
            "_view_count": null,
            "_view_module_version": "1.2.0",
            "bar_color": null,
            "_model_module": "@jupyter-widgets/controls"
          }
        },
        "9c332b7fddba4abbb535fcbbe96dc80b": {
          "model_module": "@jupyter-widgets/base",
          "model_name": "LayoutModel",
          "state": {
            "_view_name": "LayoutView",
            "grid_template_rows": null,
            "right": null,
            "justify_content": null,
            "_view_module": "@jupyter-widgets/base",
            "overflow": null,
            "_model_module_version": "1.2.0",
            "_view_count": null,
            "flex_flow": null,
            "width": null,
            "min_width": null,
            "border": null,
            "align_items": null,
            "bottom": null,
            "_model_module": "@jupyter-widgets/base",
            "top": null,
            "grid_column": null,
            "overflow_y": null,
            "overflow_x": null,
            "grid_auto_flow": null,
            "grid_area": null,
            "grid_template_columns": null,
            "flex": null,
            "_model_name": "LayoutModel",
            "justify_items": null,
            "grid_row": null,
            "max_height": null,
            "align_content": null,
            "visibility": null,
            "align_self": null,
            "height": null,
            "min_height": null,
            "padding": null,
            "grid_auto_rows": null,
            "grid_gap": null,
            "max_width": null,
            "order": null,
            "_view_module_version": "1.2.0",
            "grid_template_areas": null,
            "object_position": null,
            "object_fit": null,
            "grid_auto_columns": null,
            "margin": null,
            "display": null,
            "left": null
          }
        },
        "2f988e8fc6324dd0835da48d30bff742": {
          "model_module": "@jupyter-widgets/controls",
          "model_name": "DescriptionStyleModel",
          "state": {
            "_view_name": "StyleView",
            "_model_name": "DescriptionStyleModel",
            "description_width": "",
            "_view_module": "@jupyter-widgets/base",
            "_model_module_version": "1.5.0",
            "_view_count": null,
            "_view_module_version": "1.2.0",
            "_model_module": "@jupyter-widgets/controls"
          }
        },
        "deafaa7dfece469ba3d4179ddc99f470": {
          "model_module": "@jupyter-widgets/base",
          "model_name": "LayoutModel",
          "state": {
            "_view_name": "LayoutView",
            "grid_template_rows": null,
            "right": null,
            "justify_content": null,
            "_view_module": "@jupyter-widgets/base",
            "overflow": null,
            "_model_module_version": "1.2.0",
            "_view_count": null,
            "flex_flow": null,
            "width": null,
            "min_width": null,
            "border": null,
            "align_items": null,
            "bottom": null,
            "_model_module": "@jupyter-widgets/base",
            "top": null,
            "grid_column": null,
            "overflow_y": null,
            "overflow_x": null,
            "grid_auto_flow": null,
            "grid_area": null,
            "grid_template_columns": null,
            "flex": null,
            "_model_name": "LayoutModel",
            "justify_items": null,
            "grid_row": null,
            "max_height": null,
            "align_content": null,
            "visibility": null,
            "align_self": null,
            "height": null,
            "min_height": null,
            "padding": null,
            "grid_auto_rows": null,
            "grid_gap": null,
            "max_width": null,
            "order": null,
            "_view_module_version": "1.2.0",
            "grid_template_areas": null,
            "object_position": null,
            "object_fit": null,
            "grid_auto_columns": null,
            "margin": null,
            "display": null,
            "left": null
          }
        },
        "024f1139ad4246bbac85acbdda508401": {
          "model_module": "@jupyter-widgets/controls",
          "model_name": "HBoxModel",
          "state": {
            "_view_name": "HBoxView",
            "_dom_classes": [],
            "_model_name": "HBoxModel",
            "_view_module": "@jupyter-widgets/controls",
            "_model_module_version": "1.5.0",
            "_view_count": null,
            "_view_module_version": "1.5.0",
            "box_style": "",
            "layout": "IPY_MODEL_34749e41628442ab9427ea26a0efd3ba",
            "_model_module": "@jupyter-widgets/controls",
            "children": [
              "IPY_MODEL_a643b481cf5c42c8be671e8087dab522",
              "IPY_MODEL_c7e7365e33db469b96ef5067ffc40a3f"
            ]
          }
        },
        "34749e41628442ab9427ea26a0efd3ba": {
          "model_module": "@jupyter-widgets/base",
          "model_name": "LayoutModel",
          "state": {
            "_view_name": "LayoutView",
            "grid_template_rows": null,
            "right": null,
            "justify_content": null,
            "_view_module": "@jupyter-widgets/base",
            "overflow": null,
            "_model_module_version": "1.2.0",
            "_view_count": null,
            "flex_flow": null,
            "width": null,
            "min_width": null,
            "border": null,
            "align_items": null,
            "bottom": null,
            "_model_module": "@jupyter-widgets/base",
            "top": null,
            "grid_column": null,
            "overflow_y": null,
            "overflow_x": null,
            "grid_auto_flow": null,
            "grid_area": null,
            "grid_template_columns": null,
            "flex": null,
            "_model_name": "LayoutModel",
            "justify_items": null,
            "grid_row": null,
            "max_height": null,
            "align_content": null,
            "visibility": null,
            "align_self": null,
            "height": null,
            "min_height": null,
            "padding": null,
            "grid_auto_rows": null,
            "grid_gap": null,
            "max_width": null,
            "order": null,
            "_view_module_version": "1.2.0",
            "grid_template_areas": null,
            "object_position": null,
            "object_fit": null,
            "grid_auto_columns": null,
            "margin": null,
            "display": null,
            "left": null
          }
        },
        "a643b481cf5c42c8be671e8087dab522": {
          "model_module": "@jupyter-widgets/controls",
          "model_name": "FloatProgressModel",
          "state": {
            "_view_name": "ProgressView",
            "style": "IPY_MODEL_1c56fcb1947f417eacea7dbbd9caae12",
            "_dom_classes": [],
            "description": "100%",
            "_model_name": "FloatProgressModel",
            "bar_style": "success",
            "max": 1108,
            "_view_module": "@jupyter-widgets/controls",
            "_model_module_version": "1.5.0",
            "value": 1108,
            "_view_count": null,
            "_view_module_version": "1.5.0",
            "orientation": "horizontal",
            "min": 0,
            "description_tooltip": null,
            "_model_module": "@jupyter-widgets/controls",
            "layout": "IPY_MODEL_6d3f10dd1d3647ac81deb371344a06ff"
          }
        },
        "c7e7365e33db469b96ef5067ffc40a3f": {
          "model_module": "@jupyter-widgets/controls",
          "model_name": "HTMLModel",
          "state": {
            "_view_name": "HTMLView",
            "style": "IPY_MODEL_7ea93c6b03b843b5b6360266f5863446",
            "_dom_classes": [],
            "description": "",
            "_model_name": "HTMLModel",
            "placeholder": "​",
            "_view_module": "@jupyter-widgets/controls",
            "_model_module_version": "1.5.0",
            "value": " 1108/1108 [02:18&lt;00:00,  8.00it/s]",
            "_view_count": null,
            "_view_module_version": "1.5.0",
            "description_tooltip": null,
            "_model_module": "@jupyter-widgets/controls",
            "layout": "IPY_MODEL_52e583a47509413f9dff8f6c24a04393"
          }
        },
        "1c56fcb1947f417eacea7dbbd9caae12": {
          "model_module": "@jupyter-widgets/controls",
          "model_name": "ProgressStyleModel",
          "state": {
            "_view_name": "StyleView",
            "_model_name": "ProgressStyleModel",
            "description_width": "initial",
            "_view_module": "@jupyter-widgets/base",
            "_model_module_version": "1.5.0",
            "_view_count": null,
            "_view_module_version": "1.2.0",
            "bar_color": null,
            "_model_module": "@jupyter-widgets/controls"
          }
        },
        "6d3f10dd1d3647ac81deb371344a06ff": {
          "model_module": "@jupyter-widgets/base",
          "model_name": "LayoutModel",
          "state": {
            "_view_name": "LayoutView",
            "grid_template_rows": null,
            "right": null,
            "justify_content": null,
            "_view_module": "@jupyter-widgets/base",
            "overflow": null,
            "_model_module_version": "1.2.0",
            "_view_count": null,
            "flex_flow": null,
            "width": null,
            "min_width": null,
            "border": null,
            "align_items": null,
            "bottom": null,
            "_model_module": "@jupyter-widgets/base",
            "top": null,
            "grid_column": null,
            "overflow_y": null,
            "overflow_x": null,
            "grid_auto_flow": null,
            "grid_area": null,
            "grid_template_columns": null,
            "flex": null,
            "_model_name": "LayoutModel",
            "justify_items": null,
            "grid_row": null,
            "max_height": null,
            "align_content": null,
            "visibility": null,
            "align_self": null,
            "height": null,
            "min_height": null,
            "padding": null,
            "grid_auto_rows": null,
            "grid_gap": null,
            "max_width": null,
            "order": null,
            "_view_module_version": "1.2.0",
            "grid_template_areas": null,
            "object_position": null,
            "object_fit": null,
            "grid_auto_columns": null,
            "margin": null,
            "display": null,
            "left": null
          }
        },
        "7ea93c6b03b843b5b6360266f5863446": {
          "model_module": "@jupyter-widgets/controls",
          "model_name": "DescriptionStyleModel",
          "state": {
            "_view_name": "StyleView",
            "_model_name": "DescriptionStyleModel",
            "description_width": "",
            "_view_module": "@jupyter-widgets/base",
            "_model_module_version": "1.5.0",
            "_view_count": null,
            "_view_module_version": "1.2.0",
            "_model_module": "@jupyter-widgets/controls"
          }
        },
        "52e583a47509413f9dff8f6c24a04393": {
          "model_module": "@jupyter-widgets/base",
          "model_name": "LayoutModel",
          "state": {
            "_view_name": "LayoutView",
            "grid_template_rows": null,
            "right": null,
            "justify_content": null,
            "_view_module": "@jupyter-widgets/base",
            "overflow": null,
            "_model_module_version": "1.2.0",
            "_view_count": null,
            "flex_flow": null,
            "width": null,
            "min_width": null,
            "border": null,
            "align_items": null,
            "bottom": null,
            "_model_module": "@jupyter-widgets/base",
            "top": null,
            "grid_column": null,
            "overflow_y": null,
            "overflow_x": null,
            "grid_auto_flow": null,
            "grid_area": null,
            "grid_template_columns": null,
            "flex": null,
            "_model_name": "LayoutModel",
            "justify_items": null,
            "grid_row": null,
            "max_height": null,
            "align_content": null,
            "visibility": null,
            "align_self": null,
            "height": null,
            "min_height": null,
            "padding": null,
            "grid_auto_rows": null,
            "grid_gap": null,
            "max_width": null,
            "order": null,
            "_view_module_version": "1.2.0",
            "grid_template_areas": null,
            "object_position": null,
            "object_fit": null,
            "grid_auto_columns": null,
            "margin": null,
            "display": null,
            "left": null
          }
        },
        "4f1ffdb3df7f429cbc040d6ea02d991a": {
          "model_module": "@jupyter-widgets/controls",
          "model_name": "HBoxModel",
          "state": {
            "_view_name": "HBoxView",
            "_dom_classes": [],
            "_model_name": "HBoxModel",
            "_view_module": "@jupyter-widgets/controls",
            "_model_module_version": "1.5.0",
            "_view_count": null,
            "_view_module_version": "1.5.0",
            "box_style": "",
            "layout": "IPY_MODEL_55d4ab39f34b411c980ed6eb0d893a02",
            "_model_module": "@jupyter-widgets/controls",
            "children": [
              "IPY_MODEL_91d54a5fcfa245a4ab2a0fb92c1d4973",
              "IPY_MODEL_c4d9f3469d8d45018490d97c077408d9"
            ]
          }
        },
        "55d4ab39f34b411c980ed6eb0d893a02": {
          "model_module": "@jupyter-widgets/base",
          "model_name": "LayoutModel",
          "state": {
            "_view_name": "LayoutView",
            "grid_template_rows": null,
            "right": null,
            "justify_content": null,
            "_view_module": "@jupyter-widgets/base",
            "overflow": null,
            "_model_module_version": "1.2.0",
            "_view_count": null,
            "flex_flow": null,
            "width": null,
            "min_width": null,
            "border": null,
            "align_items": null,
            "bottom": null,
            "_model_module": "@jupyter-widgets/base",
            "top": null,
            "grid_column": null,
            "overflow_y": null,
            "overflow_x": null,
            "grid_auto_flow": null,
            "grid_area": null,
            "grid_template_columns": null,
            "flex": null,
            "_model_name": "LayoutModel",
            "justify_items": null,
            "grid_row": null,
            "max_height": null,
            "align_content": null,
            "visibility": null,
            "align_self": null,
            "height": null,
            "min_height": null,
            "padding": null,
            "grid_auto_rows": null,
            "grid_gap": null,
            "max_width": null,
            "order": null,
            "_view_module_version": "1.2.0",
            "grid_template_areas": null,
            "object_position": null,
            "object_fit": null,
            "grid_auto_columns": null,
            "margin": null,
            "display": null,
            "left": null
          }
        },
        "91d54a5fcfa245a4ab2a0fb92c1d4973": {
          "model_module": "@jupyter-widgets/controls",
          "model_name": "FloatProgressModel",
          "state": {
            "_view_name": "ProgressView",
            "style": "IPY_MODEL_4f1d8404eb4a4510b513c5760452110e",
            "_dom_classes": [],
            "description": "100%",
            "_model_name": "FloatProgressModel",
            "bar_style": "success",
            "max": 2610,
            "_view_module": "@jupyter-widgets/controls",
            "_model_module_version": "1.5.0",
            "value": 2610,
            "_view_count": null,
            "_view_module_version": "1.5.0",
            "orientation": "horizontal",
            "min": 0,
            "description_tooltip": null,
            "_model_module": "@jupyter-widgets/controls",
            "layout": "IPY_MODEL_eeecd8ae0b534f7f8c2d6f8f1567e737"
          }
        },
        "c4d9f3469d8d45018490d97c077408d9": {
          "model_module": "@jupyter-widgets/controls",
          "model_name": "HTMLModel",
          "state": {
            "_view_name": "HTMLView",
            "style": "IPY_MODEL_3c3f7f8eec92482c80d7379c1c22a21b",
            "_dom_classes": [],
            "description": "",
            "_model_name": "HTMLModel",
            "placeholder": "​",
            "_view_module": "@jupyter-widgets/controls",
            "_model_module_version": "1.5.0",
            "value": " 2610/2610 [00:48&lt;00:00, 53.45it/s]",
            "_view_count": null,
            "_view_module_version": "1.5.0",
            "description_tooltip": null,
            "_model_module": "@jupyter-widgets/controls",
            "layout": "IPY_MODEL_f3a08ee1b7a84202a7241222492f1a8f"
          }
        },
        "4f1d8404eb4a4510b513c5760452110e": {
          "model_module": "@jupyter-widgets/controls",
          "model_name": "ProgressStyleModel",
          "state": {
            "_view_name": "StyleView",
            "_model_name": "ProgressStyleModel",
            "description_width": "initial",
            "_view_module": "@jupyter-widgets/base",
            "_model_module_version": "1.5.0",
            "_view_count": null,
            "_view_module_version": "1.2.0",
            "bar_color": null,
            "_model_module": "@jupyter-widgets/controls"
          }
        },
        "eeecd8ae0b534f7f8c2d6f8f1567e737": {
          "model_module": "@jupyter-widgets/base",
          "model_name": "LayoutModel",
          "state": {
            "_view_name": "LayoutView",
            "grid_template_rows": null,
            "right": null,
            "justify_content": null,
            "_view_module": "@jupyter-widgets/base",
            "overflow": null,
            "_model_module_version": "1.2.0",
            "_view_count": null,
            "flex_flow": null,
            "width": null,
            "min_width": null,
            "border": null,
            "align_items": null,
            "bottom": null,
            "_model_module": "@jupyter-widgets/base",
            "top": null,
            "grid_column": null,
            "overflow_y": null,
            "overflow_x": null,
            "grid_auto_flow": null,
            "grid_area": null,
            "grid_template_columns": null,
            "flex": null,
            "_model_name": "LayoutModel",
            "justify_items": null,
            "grid_row": null,
            "max_height": null,
            "align_content": null,
            "visibility": null,
            "align_self": null,
            "height": null,
            "min_height": null,
            "padding": null,
            "grid_auto_rows": null,
            "grid_gap": null,
            "max_width": null,
            "order": null,
            "_view_module_version": "1.2.0",
            "grid_template_areas": null,
            "object_position": null,
            "object_fit": null,
            "grid_auto_columns": null,
            "margin": null,
            "display": null,
            "left": null
          }
        },
        "3c3f7f8eec92482c80d7379c1c22a21b": {
          "model_module": "@jupyter-widgets/controls",
          "model_name": "DescriptionStyleModel",
          "state": {
            "_view_name": "StyleView",
            "_model_name": "DescriptionStyleModel",
            "description_width": "",
            "_view_module": "@jupyter-widgets/base",
            "_model_module_version": "1.5.0",
            "_view_count": null,
            "_view_module_version": "1.2.0",
            "_model_module": "@jupyter-widgets/controls"
          }
        },
        "f3a08ee1b7a84202a7241222492f1a8f": {
          "model_module": "@jupyter-widgets/base",
          "model_name": "LayoutModel",
          "state": {
            "_view_name": "LayoutView",
            "grid_template_rows": null,
            "right": null,
            "justify_content": null,
            "_view_module": "@jupyter-widgets/base",
            "overflow": null,
            "_model_module_version": "1.2.0",
            "_view_count": null,
            "flex_flow": null,
            "width": null,
            "min_width": null,
            "border": null,
            "align_items": null,
            "bottom": null,
            "_model_module": "@jupyter-widgets/base",
            "top": null,
            "grid_column": null,
            "overflow_y": null,
            "overflow_x": null,
            "grid_auto_flow": null,
            "grid_area": null,
            "grid_template_columns": null,
            "flex": null,
            "_model_name": "LayoutModel",
            "justify_items": null,
            "grid_row": null,
            "max_height": null,
            "align_content": null,
            "visibility": null,
            "align_self": null,
            "height": null,
            "min_height": null,
            "padding": null,
            "grid_auto_rows": null,
            "grid_gap": null,
            "max_width": null,
            "order": null,
            "_view_module_version": "1.2.0",
            "grid_template_areas": null,
            "object_position": null,
            "object_fit": null,
            "grid_auto_columns": null,
            "margin": null,
            "display": null,
            "left": null
          }
        },
        "7944a4dc971f42388395ad7a865150f2": {
          "model_module": "@jupyter-widgets/controls",
          "model_name": "HBoxModel",
          "state": {
            "_view_name": "HBoxView",
            "_dom_classes": [],
            "_model_name": "HBoxModel",
            "_view_module": "@jupyter-widgets/controls",
            "_model_module_version": "1.5.0",
            "_view_count": null,
            "_view_module_version": "1.5.0",
            "box_style": "",
            "layout": "IPY_MODEL_08d508dd0bab4f97bca8e4f982dcea96",
            "_model_module": "@jupyter-widgets/controls",
            "children": [
              "IPY_MODEL_630b7c540cf941ae9b8926c5ac14343f",
              "IPY_MODEL_e82dc82b64be4affaff784335e82f7e5"
            ]
          }
        },
        "08d508dd0bab4f97bca8e4f982dcea96": {
          "model_module": "@jupyter-widgets/base",
          "model_name": "LayoutModel",
          "state": {
            "_view_name": "LayoutView",
            "grid_template_rows": null,
            "right": null,
            "justify_content": null,
            "_view_module": "@jupyter-widgets/base",
            "overflow": null,
            "_model_module_version": "1.2.0",
            "_view_count": null,
            "flex_flow": null,
            "width": null,
            "min_width": null,
            "border": null,
            "align_items": null,
            "bottom": null,
            "_model_module": "@jupyter-widgets/base",
            "top": null,
            "grid_column": null,
            "overflow_y": null,
            "overflow_x": null,
            "grid_auto_flow": null,
            "grid_area": null,
            "grid_template_columns": null,
            "flex": null,
            "_model_name": "LayoutModel",
            "justify_items": null,
            "grid_row": null,
            "max_height": null,
            "align_content": null,
            "visibility": null,
            "align_self": null,
            "height": null,
            "min_height": null,
            "padding": null,
            "grid_auto_rows": null,
            "grid_gap": null,
            "max_width": null,
            "order": null,
            "_view_module_version": "1.2.0",
            "grid_template_areas": null,
            "object_position": null,
            "object_fit": null,
            "grid_auto_columns": null,
            "margin": null,
            "display": null,
            "left": null
          }
        },
        "630b7c540cf941ae9b8926c5ac14343f": {
          "model_module": "@jupyter-widgets/controls",
          "model_name": "FloatProgressModel",
          "state": {
            "_view_name": "ProgressView",
            "style": "IPY_MODEL_f2bfa3d9426a4dd2ab0feb5238024670",
            "_dom_classes": [],
            "description": "100%",
            "_model_name": "FloatProgressModel",
            "bar_style": "success",
            "max": 3,
            "_view_module": "@jupyter-widgets/controls",
            "_model_module_version": "1.5.0",
            "value": 3,
            "_view_count": null,
            "_view_module_version": "1.5.0",
            "orientation": "horizontal",
            "min": 0,
            "description_tooltip": null,
            "_model_module": "@jupyter-widgets/controls",
            "layout": "IPY_MODEL_aebadc6959bc43b59e7f482b102151fd"
          }
        },
        "e82dc82b64be4affaff784335e82f7e5": {
          "model_module": "@jupyter-widgets/controls",
          "model_name": "HTMLModel",
          "state": {
            "_view_name": "HTMLView",
            "style": "IPY_MODEL_9af4f191075a40da91c6503bb07d97a2",
            "_dom_classes": [],
            "description": "",
            "_model_name": "HTMLModel",
            "placeholder": "​",
            "_view_module": "@jupyter-widgets/controls",
            "_model_module_version": "1.5.0",
            "value": " 3/3 [00:24&lt;00:00,  8.18s/it]",
            "_view_count": null,
            "_view_module_version": "1.5.0",
            "description_tooltip": null,
            "_model_module": "@jupyter-widgets/controls",
            "layout": "IPY_MODEL_3b42b4ea707441c9ac07b0281205c85e"
          }
        },
        "f2bfa3d9426a4dd2ab0feb5238024670": {
          "model_module": "@jupyter-widgets/controls",
          "model_name": "ProgressStyleModel",
          "state": {
            "_view_name": "StyleView",
            "_model_name": "ProgressStyleModel",
            "description_width": "initial",
            "_view_module": "@jupyter-widgets/base",
            "_model_module_version": "1.5.0",
            "_view_count": null,
            "_view_module_version": "1.2.0",
            "bar_color": null,
            "_model_module": "@jupyter-widgets/controls"
          }
        },
        "aebadc6959bc43b59e7f482b102151fd": {
          "model_module": "@jupyter-widgets/base",
          "model_name": "LayoutModel",
          "state": {
            "_view_name": "LayoutView",
            "grid_template_rows": null,
            "right": null,
            "justify_content": null,
            "_view_module": "@jupyter-widgets/base",
            "overflow": null,
            "_model_module_version": "1.2.0",
            "_view_count": null,
            "flex_flow": null,
            "width": null,
            "min_width": null,
            "border": null,
            "align_items": null,
            "bottom": null,
            "_model_module": "@jupyter-widgets/base",
            "top": null,
            "grid_column": null,
            "overflow_y": null,
            "overflow_x": null,
            "grid_auto_flow": null,
            "grid_area": null,
            "grid_template_columns": null,
            "flex": null,
            "_model_name": "LayoutModel",
            "justify_items": null,
            "grid_row": null,
            "max_height": null,
            "align_content": null,
            "visibility": null,
            "align_self": null,
            "height": null,
            "min_height": null,
            "padding": null,
            "grid_auto_rows": null,
            "grid_gap": null,
            "max_width": null,
            "order": null,
            "_view_module_version": "1.2.0",
            "grid_template_areas": null,
            "object_position": null,
            "object_fit": null,
            "grid_auto_columns": null,
            "margin": null,
            "display": null,
            "left": null
          }
        },
        "9af4f191075a40da91c6503bb07d97a2": {
          "model_module": "@jupyter-widgets/controls",
          "model_name": "DescriptionStyleModel",
          "state": {
            "_view_name": "StyleView",
            "_model_name": "DescriptionStyleModel",
            "description_width": "",
            "_view_module": "@jupyter-widgets/base",
            "_model_module_version": "1.5.0",
            "_view_count": null,
            "_view_module_version": "1.2.0",
            "_model_module": "@jupyter-widgets/controls"
          }
        },
        "3b42b4ea707441c9ac07b0281205c85e": {
          "model_module": "@jupyter-widgets/base",
          "model_name": "LayoutModel",
          "state": {
            "_view_name": "LayoutView",
            "grid_template_rows": null,
            "right": null,
            "justify_content": null,
            "_view_module": "@jupyter-widgets/base",
            "overflow": null,
            "_model_module_version": "1.2.0",
            "_view_count": null,
            "flex_flow": null,
            "width": null,
            "min_width": null,
            "border": null,
            "align_items": null,
            "bottom": null,
            "_model_module": "@jupyter-widgets/base",
            "top": null,
            "grid_column": null,
            "overflow_y": null,
            "overflow_x": null,
            "grid_auto_flow": null,
            "grid_area": null,
            "grid_template_columns": null,
            "flex": null,
            "_model_name": "LayoutModel",
            "justify_items": null,
            "grid_row": null,
            "max_height": null,
            "align_content": null,
            "visibility": null,
            "align_self": null,
            "height": null,
            "min_height": null,
            "padding": null,
            "grid_auto_rows": null,
            "grid_gap": null,
            "max_width": null,
            "order": null,
            "_view_module_version": "1.2.0",
            "grid_template_areas": null,
            "object_position": null,
            "object_fit": null,
            "grid_auto_columns": null,
            "margin": null,
            "display": null,
            "left": null
          }
        }
      }
    },
    "accelerator": "GPU"
  },
  "cells": [
    {
      "cell_type": "markdown",
      "metadata": {
        "id": "view-in-github",
        "colab_type": "text"
      },
      "source": [
        "<a href=\"https://colab.research.google.com/github/leolani/cltl-face-all/blob/master/examples/colab/4.ERC-MELD-colab.ipynb\" target=\"_parent\"><img src=\"https://colab.research.google.com/assets/colab-badge.svg\" alt=\"Open In Colab\"/></a>"
      ]
    },
    {
      "cell_type": "markdown",
      "metadata": {
        "id": "ZrxsvcwFpBEm"
      },
      "source": [
        "# We will train our simples models here together.\n",
        "\n",
        "We'll start with the small pre-defined dataset."
      ]
    },
    {
      "cell_type": "markdown",
      "metadata": {
        "id": "tjBTsRr7msfa"
      },
      "source": [
        "## Clone the repo, download the necessary files, etc."
      ]
    },
    {
      "cell_type": "code",
      "metadata": {
        "id": "4HBvOvmSmm1k",
        "colab": {
          "base_uri": "https://localhost:8080/"
        },
        "outputId": "68756aea-9427-4279-a936-c7c9bd442f38"
      },
      "source": [
        "%cd /content\n",
        "!git clone https://github.com/leolani/cltl-face-all\n",
        "!cd cltl-face-all/ && pip install .\n",
        "!pip install omegaconf==2.0.5\n",
        "!pip install tqdm av\n",
        "\n",
        "# Download the annotations and stuff\n",
        "!wget https://raw.githubusercontent.com/declare-lab/MELD/master/data/MELD/train_sent_emo.csv\n",
        "!wget https://raw.githubusercontent.com/leolani/cltl-face-all/master/examples/smaller-datasets-jsons/dataset-small.json\n",
        "!wget https://raw.githubusercontent.com/leolani/cltl-face-all/master/examples/smaller-datasets-jsons/dataset-medium.json\n",
        "!wget https://raw.githubusercontent.com/leolani/cltl-face-all/master/examples/smaller-datasets-jsons/dataset-large.json\n",
        "!wget https://raw.githubusercontent.com/leolani/cltl-face-all/master/examples/smaller-datasets-jsons/datasets.json\n",
        "\n",
        "!gdown --id 1rsLbfgQYztDtrPFqEmkh-2d_0ap1qd_s\n",
        "!unzip visual-features-smaller-dataset.zip\n",
        "!rm visual-features-smaller-dataset.zip\n",
        "\n",
        "!gdown --id 16ck7plW9v9eSHGCs5wuB2AhhufPRt3Wi\n",
        "!unzip smaller-dataset.zip\n",
        "!rm smaller-dataset.zip\n",
        "\n",
        "!ls smaller-dataset/  |  wc -l\n",
        "!ls visual-features-smaller-dataset | wc -l"
      ],
      "execution_count": null,
      "outputs": [
        {
          "output_type": "stream",
          "text": [
            "/content\n",
            "fatal: destination path 'cltl-face-all' already exists and is not an empty directory.\n",
            "Processing /content/cltl-face-all\n",
            "Building wheels for collected packages: cltl-face-all\n",
            "  Building wheel for cltl-face-all (setup.py) ... \u001b[?25l\u001b[?25hdone\n",
            "  Created wheel for cltl-face-all: filename=cltl_face_all-0.0.0-cp36-none-any.whl size=53234 sha256=0ac0ab7f48be5917cabf368336c66ee674b46b82e08524399f71dd4c242657b1\n",
            "  Stored in directory: /root/.cache/pip/wheels/8d/71/f3/2db0b17856a0b395aaa04c8562716e0350cfc712cdd4b9947e\n",
            "Successfully built cltl-face-all\n",
            "Installing collected packages: cltl-face-all\n",
            "  Found existing installation: cltl-face-all 0.0.0\n",
            "    Uninstalling cltl-face-all-0.0.0:\n",
            "      Successfully uninstalled cltl-face-all-0.0.0\n",
            "Successfully installed cltl-face-all-0.0.0\n",
            "Requirement already satisfied: omegaconf==2.0.5 in /usr/local/lib/python3.6/dist-packages (2.0.5)\n",
            "Requirement already satisfied: dataclasses; python_version == \"3.6\" in /usr/local/lib/python3.6/dist-packages (from omegaconf==2.0.5) (0.8)\n",
            "Requirement already satisfied: typing-extensions in /usr/local/lib/python3.6/dist-packages (from omegaconf==2.0.5) (3.7.4.3)\n",
            "Requirement already satisfied: PyYAML>=5.1.* in /usr/local/lib/python3.6/dist-packages (from omegaconf==2.0.5) (5.3.1)\n",
            "Requirement already satisfied: tqdm in /usr/local/lib/python3.6/dist-packages (4.41.1)\n",
            "Requirement already satisfied: av in /usr/local/lib/python3.6/dist-packages (8.0.2)\n",
            "--2020-12-10 17:15:17--  https://raw.githubusercontent.com/declare-lab/MELD/master/data/MELD/train_sent_emo.csv\n",
            "Resolving raw.githubusercontent.com (raw.githubusercontent.com)... 151.101.0.133, 151.101.64.133, 151.101.128.133, ...\n",
            "Connecting to raw.githubusercontent.com (raw.githubusercontent.com)|151.101.0.133|:443... connected.\n",
            "HTTP request sent, awaiting response... 200 OK\n",
            "Length: 1119290 (1.1M) [text/plain]\n",
            "Saving to: ‘train_sent_emo.csv.1’\n",
            "\n",
            "train_sent_emo.csv. 100%[===================>]   1.07M  --.-KB/s    in 0.04s   \n",
            "\n",
            "2020-12-10 17:15:17 (24.1 MB/s) - ‘train_sent_emo.csv.1’ saved [1119290/1119290]\n",
            "\n",
            "--2020-12-10 17:15:17--  https://raw.githubusercontent.com/leolani/cltl-face-all/master/examples/smaller-datasets-jsons/dataset-small.json\n",
            "Resolving raw.githubusercontent.com (raw.githubusercontent.com)... 151.101.0.133, 151.101.64.133, 151.101.128.133, ...\n",
            "Connecting to raw.githubusercontent.com (raw.githubusercontent.com)|151.101.0.133|:443... connected.\n",
            "HTTP request sent, awaiting response... 200 OK\n",
            "Length: 5660 (5.5K) [text/plain]\n",
            "Saving to: ‘dataset-small.json.1’\n",
            "\n",
            "dataset-small.json. 100%[===================>]   5.53K  --.-KB/s    in 0s      \n",
            "\n",
            "2020-12-10 17:15:17 (67.6 MB/s) - ‘dataset-small.json.1’ saved [5660/5660]\n",
            "\n",
            "--2020-12-10 17:15:17--  https://raw.githubusercontent.com/leolani/cltl-face-all/master/examples/smaller-datasets-jsons/dataset-medium.json\n",
            "Resolving raw.githubusercontent.com (raw.githubusercontent.com)... 151.101.0.133, 151.101.64.133, 151.101.128.133, ...\n",
            "Connecting to raw.githubusercontent.com (raw.githubusercontent.com)|151.101.0.133|:443... connected.\n",
            "HTTP request sent, awaiting response... 200 OK\n",
            "Length: 10309 (10K) [text/plain]\n",
            "Saving to: ‘dataset-medium.json.1’\n",
            "\n",
            "dataset-medium.json 100%[===================>]  10.07K  --.-KB/s    in 0s      \n",
            "\n",
            "2020-12-10 17:15:17 (123 MB/s) - ‘dataset-medium.json.1’ saved [10309/10309]\n",
            "\n",
            "--2020-12-10 17:15:18--  https://raw.githubusercontent.com/leolani/cltl-face-all/master/examples/smaller-datasets-jsons/dataset-large.json\n",
            "Resolving raw.githubusercontent.com (raw.githubusercontent.com)... 151.101.0.133, 151.101.64.133, 151.101.128.133, ...\n",
            "Connecting to raw.githubusercontent.com (raw.githubusercontent.com)|151.101.0.133|:443... connected.\n",
            "HTTP request sent, awaiting response... 200 OK\n",
            "Length: 21584 (21K) [text/plain]\n",
            "Saving to: ‘dataset-large.json.1’\n",
            "\n",
            "dataset-large.json. 100%[===================>]  21.08K  --.-KB/s    in 0.001s  \n",
            "\n",
            "2020-12-10 17:15:18 (38.4 MB/s) - ‘dataset-large.json.1’ saved [21584/21584]\n",
            "\n",
            "--2020-12-10 17:15:18--  https://raw.githubusercontent.com/leolani/cltl-face-all/master/examples/smaller-datasets-jsons/datasets.json\n",
            "Resolving raw.githubusercontent.com (raw.githubusercontent.com)... 151.101.0.133, 151.101.64.133, 151.101.128.133, ...\n",
            "Connecting to raw.githubusercontent.com (raw.githubusercontent.com)|151.101.0.133|:443... connected.\n",
            "HTTP request sent, awaiting response... 200 OK\n",
            "Length: 672504 (657K) [text/plain]\n",
            "Saving to: ‘datasets.json.1’\n",
            "\n",
            "datasets.json.1     100%[===================>] 656.74K  --.-KB/s    in 0.03s   \n",
            "\n",
            "2020-12-10 17:15:18 (21.0 MB/s) - ‘datasets.json.1’ saved [672504/672504]\n",
            "\n",
            "Downloading...\n",
            "From: https://drive.google.com/uc?id=1rsLbfgQYztDtrPFqEmkh-2d_0ap1qd_s\n",
            "To: /content/visual-features-smaller-dataset.zip\n",
            "264MB [00:00, 270MB/s]\n",
            "Archive:  visual-features-smaller-dataset.zip\n",
            "replace visual-features-smaller-dataset/dia523_utt4.npy? [y]es, [n]o, [A]ll, [N]one, [r]ename: N\n",
            "Downloading...\n",
            "From: https://drive.google.com/uc?id=16ck7plW9v9eSHGCs5wuB2AhhufPRt3Wi\n",
            "To: /content/smaller-dataset.zip\n",
            "629MB [00:02, 266MB/s]\n",
            "Archive:  smaller-dataset.zip\n",
            "replace smaller-dataset/dia47_utt0.mp4? [y]es, [n]o, [A]ll, [N]one, [r]ename: N\n",
            "789\n",
            "789\n"
          ],
          "name": "stdout"
        }
      ]
    },
    {
      "cell_type": "code",
      "metadata": {
        "id": "i7fM8jE1rduB"
      },
      "source": [
        "import json\n",
        "\n",
        "with open('datasets.json', 'r') as stream:\n",
        "    datasets = json.load(stream)\n",
        "\n",
        "datasets = datasets['large']"
      ],
      "execution_count": null,
      "outputs": []
    },
    {
      "cell_type": "markdown",
      "metadata": {
        "id": "Z8_WhbBZRV_w"
      },
      "source": [
        "## Randomly select a video and play it\n",
        "\n"
      ]
    },
    {
      "cell_type": "code",
      "metadata": {
        "id": "wLBMSi9sRa0s"
      },
      "source": [
        "from glob import glob\n",
        "import random\n",
        "import os\n",
        "import json\n",
        "import numpy as np\n",
        "import av\n",
        "import matplotlib.pyplot as plt\n",
        "import cv2\n",
        "import random\n",
        "from IPython.display import HTML\n",
        "from base64 import b64encode\n",
        "\n",
        "VISUAL_FEATURES_PATH = 'visual-features-smaller-dataset/'\n",
        "VIDEOS_PATH = \"smaller-dataset/\"\n",
        "\n",
        "diautt = random.choice([foo for foo, bar in datasets['train'].items()])\n",
        "annot = datasets['train'][diautt]\n",
        "features_path = os.path.join(VISUAL_FEATURES_PATH, diautt) + '.npy'\n",
        "\n",
        "features = np.load(features_path, allow_pickle=True)\n",
        "# below line is necessary since the saved file is actually a dictionary.\n",
        "features = features.item()\n",
        "\n",
        "vid_path = os.path.join(VIDEOS_PATH, diautt) +  '.mp4'\n",
        "container = av.open(vid_path)\n",
        "\n",
        "print(vid_path)\n",
        "print(annot)\n",
        "\n",
        "frames = {}\n",
        "for idx, frame in enumerate(container.decode(video=0)):\n",
        "    numpy_RGB = np.array(frame.to_image())\n",
        "    frames[idx] = numpy_RGB\n",
        "\n",
        "assert np.abs(len(frames) - len(features)) <= 1\n",
        "\n",
        "mp4 = open(vid_path,'rb').read()\n",
        "data_url = \"data:video/mp4;base64,\" + b64encode(mp4).decode()\n",
        "\n",
        "HTML(\"\"\"\n",
        "<video width=1280 controls>\n",
        "      <source src=\"%s\" type=\"video/mp4\">\n",
        "</video>\n",
        "\"\"\" % data_url)"
      ],
      "execution_count": null,
      "outputs": []
    },
    {
      "cell_type": "markdown",
      "metadata": {
        "id": "ljENNO_dSHxs"
      },
      "source": [
        "## Randomly select a frame and check it"
      ]
    },
    {
      "cell_type": "code",
      "metadata": {
        "id": "yQXWHtPwSJXb"
      },
      "source": [
        "def draw_label(image, point, label, font=cv2.FONT_HERSHEY_SIMPLEX,\n",
        "               font_scale=0.8, thickness=1):\n",
        "    size = cv2.getTextSize(label, font, font_scale, thickness)[0]\n",
        "    x, y = point\n",
        "    cv2.rectangle(image, (x, y - size[1]), (x + size[0], y), (255, 0, 0), cv2.FILLED)\n",
        "    cv2.putText(image, label, point, font, font_scale, (255, 255, 255), thickness, lineType=cv2.LINE_AA)\n",
        "    \n",
        "idx = random.choice(list(frames.keys()))\n",
        "img = frames[idx]\n",
        "print(idx)\n",
        "\n",
        "feature = features[idx]\n",
        "\n",
        "for feat in feature:\n",
        "    bbox = feat['bbox']\n",
        "    landmark = feat['landmark']\n",
        "    age = feat['age']\n",
        "    gender = feat['gender']\n",
        "    embedding = feat['embedding']\n",
        "    # face = feat['face']\n",
        "\n",
        "    x1, y1, x2, y2, prob = bbox\n",
        "    \n",
        "    x1, y1, x2, y2 = int(x1), int(y1), int(x2), int(y2)\n",
        "    cv2.rectangle(img, (x1, y1), (x2, y2), (255, 0, 0), 2)\n",
        "\n",
        "    label = f\"{str(round(prob*100, 1))} % face\"\n",
        "    draw_label(img, (x1, y2), label, font_scale=0.5, thickness=1)\n",
        "\n",
        "    for lm in landmark:\n",
        "        cv2.circle(img, (int(lm[0]), int(lm[1])), 1, (0,255,0), -1)\n",
        "\n",
        "    label = f\"{int(age)} years old, {str(round(gender*100, 1))} % female\"\n",
        "    draw_label(img, (x1, y1), label, font_scale=0.5, thickness=1)\n",
        "    \n",
        "plt.figure(figsize=(15,15))\n",
        "plt.imshow(img)\n",
        "plt.show()\n",
        "\n",
        "for key, val in annot.items():\n",
        "    print(key, '\\t', val)"
      ],
      "execution_count": null,
      "outputs": []
    },
    {
      "cell_type": "markdown",
      "metadata": {
        "id": "omO1t2U5o-Vv"
      },
      "source": [
        "## The datasets structure\n",
        "\n",
        "It has train, dev and test. "
      ]
    },
    {
      "cell_type": "code",
      "metadata": {
        "id": "jIEc8IbR5EQR",
        "colab": {
          "base_uri": "https://localhost:8080/"
        },
        "outputId": "8b56a592-e0ce-47da-e3a4-d51d23c89a27"
      },
      "source": [
        "datasets.keys()"
      ],
      "execution_count": null,
      "outputs": [
        {
          "output_type": "execute_result",
          "data": {
            "text/plain": [
              "dict_keys(['train', 'dev', 'test'])"
            ]
          },
          "metadata": {
            "tags": []
          },
          "execution_count": 13
        }
      ]
    },
    {
      "cell_type": "code",
      "metadata": {
        "id": "p50YaecPmycS",
        "colab": {
          "base_uri": "https://localhost:8080/"
        },
        "outputId": "a38b9783-29ec-4587-d513-98790731ef34"
      },
      "source": [
        "for key, val in datasets.items():\n",
        "    print(key, len(val))"
      ],
      "execution_count": null,
      "outputs": [
        {
          "output_type": "stream",
          "text": [
            "train 173\n",
            "dev 14\n",
            "test 17\n"
          ],
          "name": "stdout"
        }
      ]
    },
    {
      "cell_type": "markdown",
      "metadata": {
        "id": "QUbKLlMprqCb"
      },
      "source": [
        "## Let's see how the data actually looks like\n",
        "\n",
        "run the below cell."
      ]
    },
    {
      "cell_type": "code",
      "metadata": {
        "id": "4E-wm5EIrsT0",
        "colab": {
          "base_uri": "https://localhost:8080/"
        },
        "outputId": "e80fe48e-f499-4369-9982-922088ca43a2"
      },
      "source": [
        "datasets['train']['dia1000_utt0']"
      ],
      "execution_count": null,
      "outputs": [
        {
          "output_type": "execute_result",
          "data": {
            "text/plain": [
              "{'Dialogue_ID': '1000',\n",
              " 'Emotion': 'disgust',\n",
              " 'EndTime': '00:06:49,783',\n",
              " 'Episode': '3',\n",
              " 'Season': '2',\n",
              " 'Sentiment': 'negative',\n",
              " 'Speaker': 'Monica',\n",
              " 'SrNo': '10029',\n",
              " 'StartTime': '00:06:45,780',\n",
              " 'Utterance': 'Would you look at this dump? He hated us. This is his final revenge!',\n",
              " 'Utterance_ID': '0'}"
            ]
          },
          "metadata": {
            "tags": []
          },
          "execution_count": 106
        }
      ]
    },
    {
      "cell_type": "markdown",
      "metadata": {
        "id": "htmUkh-VpPST"
      },
      "source": [
        "## Let's check out the data distributions."
      ]
    },
    {
      "cell_type": "code",
      "metadata": {
        "id": "XUW6NGRrpPnG"
      },
      "source": [
        "import numpy as np\n",
        "from tqdm.notebook import tqdm\n",
        "from collections import Counter\n",
        "\n",
        "def count2ratio(counts):\n",
        "    total_counts = sum([val for key, val in counts.items()])\n",
        "\n",
        "    return {key: round(val/total_counts, 3) for key, val in counts.items()}\n",
        "\n",
        "for key, val in datasets.items():\n",
        "    sentiments = []\n",
        "    emotions = []\n",
        "    speakers = []\n",
        "\n",
        "    for diautt, annot in val.items():\n",
        "        sentiments.append(annot['Sentiment'])\n",
        "        emotions.append(annot['Emotion'])\n",
        "        speakers.append(annot['Speaker'])\n",
        "\n",
        "    sentiments = dict(Counter(sentiments))\n",
        "    emotions = dict(Counter(emotions))\n",
        "    speakers = dict(Counter(speakers))\n",
        "\n",
        "    sentiments = count2ratio(sentiments)\n",
        "    emotions = count2ratio(emotions)\n",
        "    speakers = count2ratio(speakers)\n",
        "\n",
        "    print(key, 'sentiments', sentiments)\n",
        "    print(key, 'emotions', emotions)\n",
        "    print(key, 'speakers', sentiments)\n",
        "    print()"
      ],
      "execution_count": null,
      "outputs": []
    },
    {
      "cell_type": "markdown",
      "metadata": {
        "id": "q0sBIZPuOo-b"
      },
      "source": [
        "When it comes to the emotion classes, you can see that the label `neutral` accounts for nearly half of the instances. **This means that if your emotion classifier performs less than the accuracy of 50%, you are doing something wrong.**\n",
        "\n"
      ]
    },
    {
      "cell_type": "markdown",
      "metadata": {
        "id": "ms9-zMVhBVCA"
      },
      "source": [
        "## **TODO0**: \n",
        "Down-sample the data. "
      ]
    },
    {
      "cell_type": "code",
      "metadata": {
        "id": "pWU49Gv6BUBt",
        "colab": {
          "base_uri": "https://localhost:8080/"
        },
        "outputId": "6bed9c8b-ee87-4f1a-eafb-f6a8ebfada41"
      },
      "source": [
        "import pandas as pd\n",
        "\n",
        "BALANCE = True\n",
        "\n",
        "def balance(train, method = ''):\n",
        "    \"\"\"\n",
        "    Balances the classes by down-sampling.\n",
        "    \"\"\"\n",
        "    df = pd.DataFrame(train).T\n",
        "\n",
        "    if method == 'all':\n",
        "        g = df.groupby('Emotion', group_keys=False)\n",
        "        data = pd.DataFrame(g.apply(lambda x: x.sample(g.size().min())))\n",
        "        return data.T.to_dict()\n",
        "    \n",
        "    elif method == 'halved':\n",
        "        ### Separate the majority and minority classes\n",
        "      df_minority  = df[df['Emotion']=='joy']\n",
        "      df_majority = df[df['Emotion']=='neutral']\n",
        "      df_rest = df[df['Emotion'] != 'neutral'][df['Emotion'] != 'joy']\n",
        "\n",
        "      ### Now, downsamples majority labels equal to the number of samples in the minority class\n",
        "\n",
        "      df_majority = df_majority.sample(len(df_minority), random_state=0)\n",
        "\n",
        "      ### concat the majority and minority dataframes\n",
        "      df = pd.concat([df_majority,df_minority, df_rest])\n",
        "\n",
        "      ## Shuffle the dataset to prevent the model from getting biased by similar samples\n",
        "      df = df.sample(frac=1, random_state=0)\n",
        "      print(df['Emotion'].value_counts())\n",
        "      return df.T.to_dict()\n",
        "\n",
        "if BALANCE:\n",
        "    datasets['balanced_train'] = balance(datasets['train'], method = 'halved')\n"
      ],
      "execution_count": null,
      "outputs": [
        {
          "output_type": "stream",
          "text": [
            "joy         106\n",
            "neutral     106\n",
            "surprise     73\n",
            "anger        53\n",
            "sadness      48\n",
            "disgust      15\n",
            "fear         13\n",
            "Name: Emotion, dtype: int64\n"
          ],
          "name": "stdout"
        },
        {
          "output_type": "stream",
          "text": [
            "/usr/local/lib/python3.6/dist-packages/ipykernel_launcher.py:20: UserWarning: Boolean Series key will be reindexed to match DataFrame index.\n"
          ],
          "name": "stderr"
        }
      ]
    },
    {
      "cell_type": "markdown",
      "metadata": {
        "id": "un5HEtRys1tk"
      },
      "source": [
        ""
      ]
    },
    {
      "cell_type": "markdown",
      "metadata": {
        "id": "GyjaXtcNtLeu"
      },
      "source": [
        "## TODO1:\n",
        "\n",
        "Extract viasual features or train a classifier. Each video (utterance) should result in a fixed-size vector. This should be done by Tae and Wes."
      ]
    },
    {
      "cell_type": "code",
      "metadata": {
        "colab": {
          "base_uri": "https://localhost:8080/",
          "height": 406,
          "referenced_widgets": [
            "401725efbe6148b3bef933e281e9b8ad",
            "0b4d81bcf4a340db88626f73567b21a9",
            "e2a58c0ee59843ef93a7b0255a151b7d",
            "862bec07cff046f8b16da78e52a099a0",
            "778b7783dae941e68bd68563f8bfc952",
            "fc7c605143ff41e2b5df024b0ec08172",
            "5b3e42ee20c94d37b617334e553cf63d",
            "7591d7c6e9974763945e91f9dd256e70"
          ]
        },
        "id": "NTLxHn-btF8s",
        "outputId": "16d6f03b-6583-47a2-e8aa-0e8312d12980"
      },
      "source": [
        "import os\n",
        "from glob import glob\n",
        "import numpy as np\n",
        "from cltl_face_all.arcface import calc_angle_distance\n",
        "from tqdm.notebook import tqdm\n",
        "\n",
        "\n",
        "predefined_faces_= glob(os.path.join('./cltl-face-all/your-faces/*/*.npy'))\n",
        "predefined_faces = {}\n",
        "\n",
        "for path in predefined_faces_:\n",
        "    name = path.split('/')[-2]\n",
        "    predefined_faces[name] = np.load(path)\n",
        "\n",
        "vecs = {}\n",
        "THRESHOLDS = {'face': 0.9, 'angle': 1.15}\n",
        "\n",
        "for DATASET in tqdm(['train', 'dev', 'test']):\n",
        "    vecs[DATASET] = {}\n",
        "    for diautt, annot in datasets[DATASET].items():\n",
        "        vecs[DATASET][diautt] = {}\n",
        "        speaker = annot['Speaker']\n",
        "\n",
        "        visual_features = np.load(f'visual-features-smaller-dataset/{diautt}.npy', \\\n",
        "                                    allow_pickle=True).item()\n",
        "\n",
        "        for frame, features in visual_features.items():\n",
        "            vecs[DATASET][diautt][frame] = None\n",
        "            # Assume that there is only one unique face per frame.\n",
        "            for feat in features:\n",
        "                age = feat['age']\n",
        "                gender = feat['gender']\n",
        "                bbox = feat['bbox']\n",
        "                embedding = feat['embedding']\n",
        "                landmark = feat['landmark']\n",
        "\n",
        "                if bbox[-1] < THRESHOLDS['face']:\n",
        "                    continue\n",
        "\n",
        "                if speaker not in list(predefined_faces.keys()):\n",
        "                    continue\n",
        "\n",
        "                embedding.reshape(1, 512)\n",
        "\n",
        "                dists = {key: calc_angle_distance(embedding, val) for key, val \\\n",
        "                            in predefined_faces.items()}\n",
        "\n",
        "                if dists[speaker] < THRESHOLDS['angle']:\n",
        "                    vecs[DATASET][diautt][frame] = landmark\n"
      ],
      "execution_count": null,
      "outputs": [
        {
          "output_type": "display_data",
          "data": {
            "application/vnd.jupyter.widget-view+json": {
              "model_id": "401725efbe6148b3bef933e281e9b8ad",
              "version_minor": 0,
              "version_major": 2
            },
            "text/plain": [
              "HBox(children=(FloatProgress(value=0.0, max=3.0), HTML(value='')))"
            ]
          },
          "metadata": {
            "tags": []
          }
        },
        {
          "output_type": "error",
          "ename": "KeyboardInterrupt",
          "evalue": "ignored",
          "traceback": [
            "\u001b[0;31m---------------------------------------------------------------------------\u001b[0m",
            "\u001b[0;31mKeyboardInterrupt\u001b[0m                         Traceback (most recent call last)",
            "\u001b[0;32m<ipython-input-17-028e81db6e3b>\u001b[0m in \u001b[0;36m<module>\u001b[0;34m()\u001b[0m\n\u001b[1;32m     42\u001b[0m                 \u001b[0membedding\u001b[0m\u001b[0;34m.\u001b[0m\u001b[0mreshape\u001b[0m\u001b[0;34m(\u001b[0m\u001b[0;36m1\u001b[0m\u001b[0;34m,\u001b[0m \u001b[0;36m512\u001b[0m\u001b[0;34m)\u001b[0m\u001b[0;34m\u001b[0m\u001b[0;34m\u001b[0m\u001b[0m\n\u001b[1;32m     43\u001b[0m \u001b[0;34m\u001b[0m\u001b[0m\n\u001b[0;32m---> 44\u001b[0;31m                 \u001b[0mdists\u001b[0m \u001b[0;34m=\u001b[0m \u001b[0;34m{\u001b[0m\u001b[0mkey\u001b[0m\u001b[0;34m:\u001b[0m \u001b[0mcalc_angle_distance\u001b[0m\u001b[0;34m(\u001b[0m\u001b[0membedding\u001b[0m\u001b[0;34m,\u001b[0m \u001b[0mval\u001b[0m\u001b[0;34m)\u001b[0m \u001b[0;32mfor\u001b[0m \u001b[0mkey\u001b[0m\u001b[0;34m,\u001b[0m \u001b[0mval\u001b[0m                             \u001b[0;32min\u001b[0m \u001b[0mpredefined_faces\u001b[0m\u001b[0;34m.\u001b[0m\u001b[0mitems\u001b[0m\u001b[0;34m(\u001b[0m\u001b[0;34m)\u001b[0m\u001b[0;34m}\u001b[0m\u001b[0;34m\u001b[0m\u001b[0;34m\u001b[0m\u001b[0m\n\u001b[0m\u001b[1;32m     45\u001b[0m \u001b[0;34m\u001b[0m\u001b[0m\n\u001b[1;32m     46\u001b[0m                 \u001b[0;32mif\u001b[0m \u001b[0mdists\u001b[0m\u001b[0;34m[\u001b[0m\u001b[0mspeaker\u001b[0m\u001b[0;34m]\u001b[0m \u001b[0;34m<\u001b[0m \u001b[0mTHRESHOLDS\u001b[0m\u001b[0;34m[\u001b[0m\u001b[0;34m'angle'\u001b[0m\u001b[0;34m]\u001b[0m\u001b[0;34m:\u001b[0m\u001b[0;34m\u001b[0m\u001b[0;34m\u001b[0m\u001b[0m\n",
            "\u001b[0;32m<ipython-input-17-028e81db6e3b>\u001b[0m in \u001b[0;36m<dictcomp>\u001b[0;34m(.0)\u001b[0m\n\u001b[1;32m     42\u001b[0m                 \u001b[0membedding\u001b[0m\u001b[0;34m.\u001b[0m\u001b[0mreshape\u001b[0m\u001b[0;34m(\u001b[0m\u001b[0;36m1\u001b[0m\u001b[0;34m,\u001b[0m \u001b[0;36m512\u001b[0m\u001b[0;34m)\u001b[0m\u001b[0;34m\u001b[0m\u001b[0;34m\u001b[0m\u001b[0m\n\u001b[1;32m     43\u001b[0m \u001b[0;34m\u001b[0m\u001b[0m\n\u001b[0;32m---> 44\u001b[0;31m                 \u001b[0mdists\u001b[0m \u001b[0;34m=\u001b[0m \u001b[0;34m{\u001b[0m\u001b[0mkey\u001b[0m\u001b[0;34m:\u001b[0m \u001b[0mcalc_angle_distance\u001b[0m\u001b[0;34m(\u001b[0m\u001b[0membedding\u001b[0m\u001b[0;34m,\u001b[0m \u001b[0mval\u001b[0m\u001b[0;34m)\u001b[0m \u001b[0;32mfor\u001b[0m \u001b[0mkey\u001b[0m\u001b[0;34m,\u001b[0m \u001b[0mval\u001b[0m                             \u001b[0;32min\u001b[0m \u001b[0mpredefined_faces\u001b[0m\u001b[0;34m.\u001b[0m\u001b[0mitems\u001b[0m\u001b[0;34m(\u001b[0m\u001b[0;34m)\u001b[0m\u001b[0;34m}\u001b[0m\u001b[0;34m\u001b[0m\u001b[0;34m\u001b[0m\u001b[0m\n\u001b[0m\u001b[1;32m     45\u001b[0m \u001b[0;34m\u001b[0m\u001b[0m\n\u001b[1;32m     46\u001b[0m                 \u001b[0;32mif\u001b[0m \u001b[0mdists\u001b[0m\u001b[0;34m[\u001b[0m\u001b[0mspeaker\u001b[0m\u001b[0;34m]\u001b[0m \u001b[0;34m<\u001b[0m \u001b[0mTHRESHOLDS\u001b[0m\u001b[0;34m[\u001b[0m\u001b[0;34m'angle'\u001b[0m\u001b[0;34m]\u001b[0m\u001b[0;34m:\u001b[0m\u001b[0;34m\u001b[0m\u001b[0;34m\u001b[0m\u001b[0m\n",
            "\u001b[0;32m/usr/local/lib/python3.6/dist-packages/cltl_face_all/arcface/modules/utils.py\u001b[0m in \u001b[0;36mcalc_angle_distance\u001b[0;34m(emb1, emb2)\u001b[0m\n\u001b[1;32m     51\u001b[0m \u001b[0;32mdef\u001b[0m \u001b[0mcalc_angle_distance\u001b[0m\u001b[0;34m(\u001b[0m\u001b[0memb1\u001b[0m\u001b[0;34m,\u001b[0m \u001b[0memb2\u001b[0m\u001b[0;34m)\u001b[0m\u001b[0;34m:\u001b[0m\u001b[0;34m\u001b[0m\u001b[0;34m\u001b[0m\u001b[0m\n\u001b[1;32m     52\u001b[0m     \u001b[0;34m\"\"\"Calculate the angle (radian) distance between the embeddings.\"\"\"\u001b[0m\u001b[0;34m\u001b[0m\u001b[0;34m\u001b[0m\u001b[0m\n\u001b[0;32m---> 53\u001b[0;31m     \u001b[0;32mreturn\u001b[0m \u001b[0mnp\u001b[0m\u001b[0;34m.\u001b[0m\u001b[0marccos\u001b[0m\u001b[0;34m(\u001b[0m\u001b[0mnp\u001b[0m\u001b[0;34m.\u001b[0m\u001b[0mclip\u001b[0m\u001b[0;34m(\u001b[0m\u001b[0;34m(\u001b[0m\u001b[0memb1\u001b[0m \u001b[0;34m@\u001b[0m \u001b[0memb2\u001b[0m\u001b[0;34m.\u001b[0m\u001b[0mT\u001b[0m\u001b[0;34m)\u001b[0m\u001b[0;34m,\u001b[0m \u001b[0;34m-\u001b[0m\u001b[0;36m1\u001b[0m\u001b[0;34m,\u001b[0m \u001b[0;36m1\u001b[0m\u001b[0;34m)\u001b[0m\u001b[0;34m)\u001b[0m\u001b[0;34m\u001b[0m\u001b[0;34m\u001b[0m\u001b[0m\n\u001b[0m\u001b[1;32m     54\u001b[0m \u001b[0;34m\u001b[0m\u001b[0m\n\u001b[1;32m     55\u001b[0m \u001b[0;34m\u001b[0m\u001b[0m\n",
            "\u001b[0;31mKeyboardInterrupt\u001b[0m: "
          ]
        }
      ]
    },
    {
      "cell_type": "code",
      "metadata": {
        "colab": {
          "base_uri": "https://localhost:8080/",
          "height": 270,
          "referenced_widgets": [
            "12c79fa04f2e4cc08cc10d95cc398c0e",
            "5a7713c25c744cf0a2bcb2125e8b313c",
            "b37b2a1f1ed046178ee510284d5b9cf0",
            "7596f87b5afa42d9870748657e4dd649",
            "882ea7a0a7a0436b9c6db49312e03d83",
            "4b344ca8a5284bdab0900b344ff33404",
            "c23860599e564d31965a54d47f05ace8",
            "9556c05635b04a05918197ac2176733b"
          ]
        },
        "id": "NXpw-lsfjP9L",
        "outputId": "e6191750-bbea-4b51-f1c1-7373ef55711f"
      },
      "source": [
        "vecs_with_speaker = {}\n",
        "\n",
        "for DATASET in tqdm(['train', 'dev', 'test']):\n",
        "    vecs_with_speaker[DATASET] = {}\n",
        "\n",
        "    print(f\"{len(vecs[DATASET])} videos in {DATASET}\")\n",
        "    for diautt, frame_landmarks in vecs[DATASET].items():\n",
        "        with_speaker = [lm for lm in frame_landmarks.values() if lm is not None]\n",
        "        if len(with_speaker) > 0:\n",
        "            vecs_with_speaker[DATASET][diautt] = with_speaker\n",
        "\n",
        "    print(f\"{len(vecs_with_speaker[DATASET])} videos in {DATASET}, after removing the utterances without the speaker face\")\n",
        "    print(f\"the ratio is {len(vecs_with_speaker[DATASET]) / len(vecs[DATASET])}\")\n",
        "    print()"
      ],
      "execution_count": null,
      "outputs": [
        {
          "output_type": "display_data",
          "data": {
            "application/vnd.jupyter.widget-view+json": {
              "model_id": "12c79fa04f2e4cc08cc10d95cc398c0e",
              "version_minor": 0,
              "version_major": 2
            },
            "text/plain": [
              "HBox(children=(FloatProgress(value=0.0, max=3.0), HTML(value='')))"
            ]
          },
          "metadata": {
            "tags": []
          }
        },
        {
          "output_type": "stream",
          "text": [
            "584 videos in train\n",
            "517 videos in train, after removing the utterances without the speaker face\n",
            "the ratio is 0.8852739726027398\n",
            "\n",
            "97 videos in dev\n",
            "81 videos in dev, after removing the utterances without the speaker face\n",
            "the ratio is 0.8350515463917526\n",
            "\n",
            "108 videos in test\n",
            "94 videos in test, after removing the utterances without the speaker face\n",
            "the ratio is 0.8703703703703703\n",
            "\n",
            "\n"
          ],
          "name": "stdout"
        }
      ]
    },
    {
      "cell_type": "code",
      "metadata": {
        "id": "H3lCjNwD57jY",
        "colab": {
          "base_uri": "https://localhost:8080/",
          "height": 231
        },
        "outputId": "b4b3dd6b-ce1e-48f6-de91-f80103d6d5e9"
      },
      "source": [
        "X = {}\n",
        "y = {}\n",
        "\n",
        "original_diautt = {}\n",
        "\n",
        "emotion2num = {'anger': 0,\n",
        "               'disgust': 1,\n",
        "               'fear': 2,\n",
        "               'joy': 3,\n",
        "               'neutral': 4,\n",
        "               'sadness': 5, \n",
        "               'surprise': 6}\n",
        "\n",
        "num2emotion = {val: key for key, val in emotion2num.items()}\n",
        "num2onehot = {0: np.array([1, 0, 0, 0, 0, 0, 0]),\n",
        "              1: np.array([0, 1, 0, 0, 0, 0, 0]),\n",
        "              2: np.array([0, 0, 1, 0, 0, 0, 0]),\n",
        "              3: np.array([0, 0, 0, 1, 0, 0, 0]),\n",
        "              4: np.array([0, 0, 0, 0, 1, 0, 0]),\n",
        "              5: np.array([0, 0, 0, 0, 0, 1, 0]),\n",
        "              6: np.array([0, 0, 0, 0, 0, 0, 1])}\n",
        "\n",
        "\n",
        "for DATATYPE in ['train', 'dev', 'test']:\n",
        "    X[DATATYPE] = []\n",
        "    y[DATATYPE] = []\n",
        "    original_diautt[DATATYPE] = []\n",
        "    for diautt, landmarks in vecs_with_speaker[DATATYPE].items():\n",
        "        label = datasets[DATATYPE][diautt]['Emotion']\n",
        "        X[DATATYPE].append(landmarks)\n",
        "        y[DATATYPE].append(num2onehot[emotion2num[label]])\n",
        "        original_diautt[DATATYPE].append(diautt)\n"
      ],
      "execution_count": 38,
      "outputs": [
        {
          "output_type": "error",
          "ename": "NameError",
          "evalue": "ignored",
          "traceback": [
            "\u001b[0;31m---------------------------------------------------------------------------\u001b[0m",
            "\u001b[0;31mNameError\u001b[0m                                 Traceback (most recent call last)",
            "\u001b[0;32m<ipython-input-38-783b90a9e44b>\u001b[0m in \u001b[0;36m<module>\u001b[0;34m()\u001b[0m\n\u001b[1;32m     26\u001b[0m     \u001b[0my\u001b[0m\u001b[0;34m[\u001b[0m\u001b[0mDATATYPE\u001b[0m\u001b[0;34m]\u001b[0m \u001b[0;34m=\u001b[0m \u001b[0;34m[\u001b[0m\u001b[0;34m]\u001b[0m\u001b[0;34m\u001b[0m\u001b[0;34m\u001b[0m\u001b[0m\n\u001b[1;32m     27\u001b[0m     \u001b[0moriginal_diautt\u001b[0m\u001b[0;34m[\u001b[0m\u001b[0mDATATYPE\u001b[0m\u001b[0;34m]\u001b[0m \u001b[0;34m=\u001b[0m \u001b[0;34m[\u001b[0m\u001b[0;34m]\u001b[0m\u001b[0;34m\u001b[0m\u001b[0;34m\u001b[0m\u001b[0m\n\u001b[0;32m---> 28\u001b[0;31m     \u001b[0;32mfor\u001b[0m \u001b[0mdiautt\u001b[0m\u001b[0;34m,\u001b[0m \u001b[0mlandmarks\u001b[0m \u001b[0;32min\u001b[0m \u001b[0mvecs_with_speaker\u001b[0m\u001b[0;34m[\u001b[0m\u001b[0mDATATYPE\u001b[0m\u001b[0;34m]\u001b[0m\u001b[0;34m.\u001b[0m\u001b[0mitems\u001b[0m\u001b[0;34m(\u001b[0m\u001b[0;34m)\u001b[0m\u001b[0;34m:\u001b[0m\u001b[0;34m\u001b[0m\u001b[0;34m\u001b[0m\u001b[0m\n\u001b[0m\u001b[1;32m     29\u001b[0m         \u001b[0mlabel\u001b[0m \u001b[0;34m=\u001b[0m \u001b[0mdatasets\u001b[0m\u001b[0;34m[\u001b[0m\u001b[0mDATATYPE\u001b[0m\u001b[0;34m]\u001b[0m\u001b[0;34m[\u001b[0m\u001b[0mdiautt\u001b[0m\u001b[0;34m]\u001b[0m\u001b[0;34m[\u001b[0m\u001b[0;34m'Emotion'\u001b[0m\u001b[0;34m]\u001b[0m\u001b[0;34m\u001b[0m\u001b[0;34m\u001b[0m\u001b[0m\n\u001b[1;32m     30\u001b[0m         \u001b[0mX\u001b[0m\u001b[0;34m[\u001b[0m\u001b[0mDATATYPE\u001b[0m\u001b[0;34m]\u001b[0m\u001b[0;34m.\u001b[0m\u001b[0mappend\u001b[0m\u001b[0;34m(\u001b[0m\u001b[0mlandmarks\u001b[0m\u001b[0;34m)\u001b[0m\u001b[0;34m\u001b[0m\u001b[0;34m\u001b[0m\u001b[0m\n",
            "\u001b[0;31mNameError\u001b[0m: name 'vecs_with_speaker' is not defined"
          ]
        }
      ]
    },
    {
      "cell_type": "code",
      "metadata": {
        "id": "4YBW60o_sHHr"
      },
      "source": [
        "import pickle\n",
        "\n",
        "with open('compact-visual.pkl', 'wb') as stream:\n",
        "    pickle.dump({'X': X, 'y': y, 'original_diautt': original_diautt}, stream)"
      ],
      "execution_count": null,
      "outputs": []
    },
    {
      "cell_type": "code",
      "metadata": {
        "colab": {
          "base_uri": "https://localhost:8080/"
        },
        "id": "DoLhjRgnML7-",
        "outputId": "d17ccd93-eea4-4795-c615-073ca7b21e66"
      },
      "source": [
        "len(X['train']), len(X['train'][0]), X['train'][0][0].shape, y['train'][0], len(original_diautt['train'])"
      ],
      "execution_count": null,
      "outputs": [
        {
          "output_type": "execute_result",
          "data": {
            "text/plain": [
              "(517, 9, (68, 2), array([0, 1, 0, 0, 0, 0, 0]), 517)"
            ]
          },
          "metadata": {
            "tags": []
          },
          "execution_count": 14
        }
      ]
    },
    {
      "cell_type": "markdown",
      "metadata": {
        "id": "raqXanaNtdFC"
      },
      "source": [
        "## TODO2:\n",
        "\n",
        "Extract text features  or train a classifier. Each video (utterance) should result in a fixed-size vector. This should be done by Nihat and Zeynep."
      ]
    },
    {
      "cell_type": "markdown",
      "metadata": {
        "id": "jL2pjkY4SNWM"
      },
      "source": [
        "## Roberta Text Classification"
      ]
    },
    {
      "cell_type": "code",
      "metadata": {
        "colab": {
          "base_uri": "https://localhost:8080/"
        },
        "id": "1tRbxenRrm1P",
        "outputId": "da7b87ba-615b-412c-88db-cb9f2d725653"
      },
      "source": [
        "!pip install transformers==3.0.2"
      ],
      "execution_count": 20,
      "outputs": [
        {
          "output_type": "stream",
          "text": [
            "Requirement already satisfied: transformers==3.0.2 in /usr/local/lib/python3.6/dist-packages (3.0.2)\n",
            "Requirement already satisfied: filelock in /usr/local/lib/python3.6/dist-packages (from transformers==3.0.2) (3.0.12)\n",
            "Requirement already satisfied: numpy in /usr/local/lib/python3.6/dist-packages (from transformers==3.0.2) (1.18.5)\n",
            "Requirement already satisfied: packaging in /usr/local/lib/python3.6/dist-packages (from transformers==3.0.2) (20.7)\n",
            "Requirement already satisfied: regex!=2019.12.17 in /usr/local/lib/python3.6/dist-packages (from transformers==3.0.2) (2019.12.20)\n",
            "Requirement already satisfied: sentencepiece!=0.1.92 in /usr/local/lib/python3.6/dist-packages (from transformers==3.0.2) (0.1.94)\n",
            "Requirement already satisfied: tqdm>=4.27 in /usr/local/lib/python3.6/dist-packages (from transformers==3.0.2) (4.41.1)\n",
            "Requirement already satisfied: sacremoses in /usr/local/lib/python3.6/dist-packages (from transformers==3.0.2) (0.0.43)\n",
            "Requirement already satisfied: requests in /usr/local/lib/python3.6/dist-packages (from transformers==3.0.2) (2.23.0)\n",
            "Requirement already satisfied: dataclasses; python_version < \"3.7\" in /usr/local/lib/python3.6/dist-packages (from transformers==3.0.2) (0.8)\n",
            "Requirement already satisfied: tokenizers==0.8.1.rc1 in /usr/local/lib/python3.6/dist-packages (from transformers==3.0.2) (0.8.1rc1)\n",
            "Requirement already satisfied: pyparsing>=2.0.2 in /usr/local/lib/python3.6/dist-packages (from packaging->transformers==3.0.2) (2.4.7)\n",
            "Requirement already satisfied: joblib in /usr/local/lib/python3.6/dist-packages (from sacremoses->transformers==3.0.2) (0.17.0)\n",
            "Requirement already satisfied: click in /usr/local/lib/python3.6/dist-packages (from sacremoses->transformers==3.0.2) (7.1.2)\n",
            "Requirement already satisfied: six in /usr/local/lib/python3.6/dist-packages (from sacremoses->transformers==3.0.2) (1.15.0)\n",
            "Requirement already satisfied: urllib3!=1.25.0,!=1.25.1,<1.26,>=1.21.1 in /usr/local/lib/python3.6/dist-packages (from requests->transformers==3.0.2) (1.24.3)\n",
            "Requirement already satisfied: chardet<4,>=3.0.2 in /usr/local/lib/python3.6/dist-packages (from requests->transformers==3.0.2) (3.0.4)\n",
            "Requirement already satisfied: idna<3,>=2.5 in /usr/local/lib/python3.6/dist-packages (from requests->transformers==3.0.2) (2.10)\n",
            "Requirement already satisfied: certifi>=2017.4.17 in /usr/local/lib/python3.6/dist-packages (from requests->transformers==3.0.2) (2020.12.5)\n"
          ],
          "name": "stdout"
        }
      ]
    },
    {
      "cell_type": "code",
      "metadata": {
        "id": "-wxqLw9brBfS"
      },
      "source": [
        "# Transformers packages\n",
        "import transformers\n",
        "from transformers import RobertaModel, RobertaTokenizer\n",
        "# Torch packages\n",
        "import torch\n",
        "from torch.utils.data import Dataset, DataLoader\n",
        "from torch import cuda\n",
        "\n",
        "# Check for the device\n",
        "device = 'cuda' if cuda.is_available() else 'cpu'"
      ],
      "execution_count": 21,
      "outputs": []
    },
    {
      "cell_type": "markdown",
      "metadata": {
        "id": "xLAhJILJSgKQ"
      },
      "source": [
        "### Embedding"
      ]
    },
    {
      "cell_type": "code",
      "metadata": {
        "colab": {
          "base_uri": "https://localhost:8080/",
          "height": 625
        },
        "id": "i1vYPn-eHXkn",
        "outputId": "242ba44b-775a-4e76-d39f-35aff9ef19a1"
      },
      "source": [
        "import matplotlib.pyplot as plt\r\n",
        "from pylab import rcParams\r\n",
        "import seaborn as sns\r\n",
        "import pandas as pd\r\n",
        "import numpy as np\r\n",
        "import requests\r\n",
        "import io\r\n",
        "\r\n",
        "%matplotlib inline\r\n",
        "%config InlineBackend.figure_format='retina'\r\n",
        "\r\n",
        "sns.set(style='whitegrid', palette='muted', font_scale=1.2)\r\n",
        "HAPPY_COLORS_PALETTE = [\"#01BEFE\", \"#FFDD00\", \"#FF7D00\", \"#FF006D\", \"#ADFF02\", \"#8F00FF\"]\r\n",
        "sns.set_palette(sns.color_palette(HAPPY_COLORS_PALETTE))\r\n",
        "rcParams['figure.figsize'] = 12, 8\r\n",
        "\r\n",
        "# Download data\r\n",
        "download_train = requests.get('https://raw.githubusercontent.com/declare-lab/MELD/master/data/MELD/train_sent_emo.csv').content\r\n",
        "download_val = requests.get('https://raw.githubusercontent.com/declare-lab/MELD/master/data/MELD/dev_sent_emo.csv').content\r\n",
        "download_test = requests.get('https://raw.githubusercontent.com/declare-lab/MELD/master/data/MELD/test_sent_emo.csv').content\r\n",
        "\r\n",
        "# Create frames\r\n",
        "df_train = pd.read_csv(io.StringIO(download_train.decode('utf-8')))\r\n",
        "df_val = pd.read_csv(io.StringIO(download_val.decode('utf-8')))\r\n",
        "df_test = pd.read_csv(io.StringIO(download_test.decode('utf-8')))\r\n",
        "\r\n",
        "# Declare class names\r\n",
        "class_names = [\r\n",
        "    'neutral', 'joy', 'surprise', 'anger', 'sadness', 'disgust', 'fear'\r\n",
        "]\r\n",
        "\r\n",
        "def transform_labels(emotion):\r\n",
        "    if emotion == 'neutral': return 0\r\n",
        "    elif emotion == 'joy': return 1\r\n",
        "    elif emotion == 'surprise': return 2\r\n",
        "    elif emotion == 'anger': return 3\r\n",
        "    elif emotion == 'sadness': return 4\r\n",
        "    elif emotion == 'disgust': return 5\r\n",
        "    elif emotion == 'fear': return 6\r\n",
        "\r\n",
        "df_train['enc_emotion'] = df_train.Emotion.apply(transform_labels)\r\n",
        "df_val['enc_emotion'] = df_val.Emotion.apply(transform_labels)\r\n",
        "df_test['enc_emotion'] = df_test.Emotion.apply(transform_labels)\r\n",
        "\r\n",
        "ax = sns.countplot(x=df_train.enc_emotion)\r\n",
        "plt.xlabel('Emotion classes before downsampling')\r\n",
        "ax.set_xticklabels(class_names)"
      ],
      "execution_count": 22,
      "outputs": [
        {
          "output_type": "execute_result",
          "data": {
            "text/plain": [
              "[Text(0, 0, 'neutral'),\n",
              " Text(0, 0, 'joy'),\n",
              " Text(0, 0, 'surprise'),\n",
              " Text(0, 0, 'anger'),\n",
              " Text(0, 0, 'sadness'),\n",
              " Text(0, 0, 'disgust'),\n",
              " Text(0, 0, 'fear')]"
            ]
          },
          "metadata": {
            "tags": []
          },
          "execution_count": 22
        },
        {
          "output_type": "display_data",
          "data": {
            "image/png": "[encoded data removed]",
            "text/plain": [
              "<Figure size 864x576 with 1 Axes>"
            ]
          },
          "metadata": {
            "tags": [],
            "image/png": {
              "width": 745,
              "height": 489
            }
          }
        }
      ]
    },
    {
      "cell_type": "code",
      "metadata": {
        "id": "_dcoKsRpSh6H"
      },
      "source": [
        "# Sort train set\n",
        "df_train.sort_values(by=['Season', 'Episode', 'StartTime', 'EndTime'], inplace=True, ignore_index=True)\n",
        "# Drop first 2710\n",
        "df_train = df_train.drop(df_train[df_train['Emotion']=='neutral'].head(2710).index).reset_index()\n",
        "\n",
        "# Defining some key variables that will be used later on in the training\n",
        "MAX_LEN = 95\n",
        "MODEL_NAME = \"roberta-base\"\n",
        "\n",
        "tokenizer = RobertaTokenizer.from_pretrained(MODEL_NAME, truncation=True, do_lower_case=True)"
      ],
      "execution_count": 23,
      "outputs": []
    },
    {
      "cell_type": "code",
      "metadata": {
        "colab": {
          "base_uri": "https://localhost:8080/",
          "height": 560
        },
        "id": "FAqdgxiHvswA",
        "outputId": "df027c33-5c7c-4c91-8487-159f60d045a3"
      },
      "source": [
        "# Print the token length distribution\n",
        "token_lens = []\n",
        "utterances = df_train.Utterance.to_numpy()\n",
        "\n",
        "for txt in utterances:\n",
        "  tokens = tokenizer.encode(txt, truncation=True, max_length=512)\n",
        "  token_lens.append(len(tokens))\n",
        "\n",
        "sns.distplot(token_lens)\n",
        "plt.xlim([0, 100]);\n",
        "plt.xlabel('Token count');"
      ],
      "execution_count": 24,
      "outputs": [
        {
          "output_type": "stream",
          "text": [
            "/usr/local/lib/python3.6/dist-packages/seaborn/distributions.py:2551: FutureWarning: `distplot` is a deprecated function and will be removed in a future version. Please adapt your code to use either `displot` (a figure-level function with similar flexibility) or `histplot` (an axes-level function for histograms).\n",
            "  warnings.warn(msg, FutureWarning)\n"
          ],
          "name": "stderr"
        },
        {
          "output_type": "display_data",
          "data": {
            "image/png": "[encoded data removed]",
            "text/plain": [
              "<Figure size 864x576 with 1 Axes>"
            ]
          },
          "metadata": {
            "tags": [],
            "image/png": {
              "width": 753,
              "height": 489
            }
          }
        }
      ]
    },
    {
      "cell_type": "code",
      "metadata": {
        "colab": {
          "base_uri": "https://localhost:8080/",
          "height": 560
        },
        "id": "WLkuCZp86bVS",
        "outputId": "ac432979-1cd4-437c-9e6f-713541b957d4"
      },
      "source": [
        "# Print the token length distribution [test]\n",
        "token_lens = []\n",
        "utterances = df_test.Utterance.to_numpy()\n",
        "\n",
        "for txt in utterances:\n",
        "  tokens = tokenizer.encode(txt, truncation=True, max_length=512)\n",
        "  token_lens.append(len(tokens))\n",
        "\n",
        "sns.distplot(token_lens)\n",
        "plt.xlim([0, 100]);\n",
        "plt.xlabel('Token count');"
      ],
      "execution_count": 25,
      "outputs": [
        {
          "output_type": "stream",
          "text": [
            "/usr/local/lib/python3.6/dist-packages/seaborn/distributions.py:2551: FutureWarning: `distplot` is a deprecated function and will be removed in a future version. Please adapt your code to use either `displot` (a figure-level function with similar flexibility) or `histplot` (an axes-level function for histograms).\n",
            "  warnings.warn(msg, FutureWarning)\n"
          ],
          "name": "stderr"
        },
        {
          "output_type": "display_data",
          "data": {
            "image/png": "[encoded data removed]",
            "text/plain": [
              "<Figure size 864x576 with 1 Axes>"
            ]
          },
          "metadata": {
            "tags": [],
            "image/png": {
              "width": 753,
              "height": 489
            }
          }
        }
      ]
    },
    {
      "cell_type": "code",
      "metadata": {
        "colab": {
          "base_uri": "https://localhost:8080/"
        },
        "id": "Y8TZ1kEM7HXv",
        "outputId": "5d07efcd-e744-4ffb-af2f-0b1c61209dde"
      },
      "source": [
        "token_lens[np.argmax(token_lens)]"
      ],
      "execution_count": 26,
      "outputs": [
        {
          "output_type": "execute_result",
          "data": {
            "text/plain": [
              "66"
            ]
          },
          "metadata": {
            "tags": []
          },
          "execution_count": 26
        }
      ]
    },
    {
      "cell_type": "code",
      "metadata": {
        "colab": {
          "base_uri": "https://localhost:8080/",
          "height": 625
        },
        "id": "AerlUt2lCNaS",
        "outputId": "584d0737-062b-4f18-8871-6deaf644bc31"
      },
      "source": [
        "ax = sns.countplot(x=df_train.enc_emotion)\r\n",
        "plt.xlabel('Emotion classes after downsampling')\r\n",
        "ax.set_xticklabels(class_names)"
      ],
      "execution_count": 27,
      "outputs": [
        {
          "output_type": "execute_result",
          "data": {
            "text/plain": [
              "[Text(0, 0, 'neutral'),\n",
              " Text(0, 0, 'joy'),\n",
              " Text(0, 0, 'surprise'),\n",
              " Text(0, 0, 'anger'),\n",
              " Text(0, 0, 'sadness'),\n",
              " Text(0, 0, 'disgust'),\n",
              " Text(0, 0, 'fear')]"
            ]
          },
          "metadata": {
            "tags": []
          },
          "execution_count": 27
        },
        {
          "output_type": "display_data",
          "data": {
            "image/png": "[encoded data removed]",
            "text/plain": [
              "<Figure size 864x576 with 1 Axes>"
            ]
          },
          "metadata": {
            "tags": [],
            "image/png": {
              "width": 745,
              "height": 489
            }
          }
        }
      ]
    },
    {
      "cell_type": "code",
      "metadata": {
        "id": "7dOKeOdlVOJA"
      },
      "source": [
        "def utterance_encode(utterance: str):\n",
        "    inputs = tokenizer.encode_plus(\n",
        "        utterance,\n",
        "        None,\n",
        "        add_special_tokens=True,\n",
        "        max_length=MAX_LEN,\n",
        "        truncation=True,\n",
        "        padding='max_length',\n",
        "        return_token_type_ids=True\n",
        "    )\n",
        "\n",
        "    ids = inputs['input_ids']\n",
        "    mask = inputs['attention_mask']\n",
        "    token_type_ids = inputs[\"token_type_ids\"]\n",
        "\n",
        "    return {\n",
        "        'ids': torch.tensor(ids, dtype=torch.long).unsqueeze(0),\n",
        "        'mask': torch.tensor(mask, dtype=torch.long).unsqueeze(0),\n",
        "        'token_type_ids': torch.tensor(token_type_ids, dtype=torch.long)\n",
        "    }"
      ],
      "execution_count": 28,
      "outputs": []
    },
    {
      "cell_type": "markdown",
      "metadata": {
        "id": "yHW0WtDXSaLK"
      },
      "source": [
        "### Model"
      ]
    },
    {
      "cell_type": "code",
      "metadata": {
        "id": "21xMpscnrVjL"
      },
      "source": [
        "class RobertaClass(torch.nn.Module):\n",
        "    def __init__(self):\n",
        "        super(RobertaClass, self).__init__()\n",
        "        self.l1 = RobertaModel.from_pretrained('roberta-base')\n",
        "        self.pre_classifier = torch.nn.Linear(768, 768)\n",
        "        self.dropout = torch.nn.Dropout(0.3)\n",
        "        self.classifier = torch.nn.Linear(768, 7)\n",
        "\n",
        "    def forward(self, input_ids, attention_mask, token_type_ids):\n",
        "        output_1 = self.l1(input_ids=input_ids, attention_mask=attention_mask, token_type_ids=token_type_ids)\n",
        "        hidden_state = output_1[0]\n",
        "        pooler = hidden_state[:, 0]\n",
        "        # print(pooler.size())\n",
        "        pooler = self.pre_classifier(pooler)\n",
        "        pooler = torch.nn.ReLU()(pooler)\n",
        "        pooler = self.dropout(pooler)\n",
        "        output = self.classifier(pooler)\n",
        "        return output\n",
        "\n",
        "model = RobertaClass().to(device=device)"
      ],
      "execution_count": 29,
      "outputs": []
    },
    {
      "cell_type": "code",
      "metadata": {
        "colab": {
          "base_uri": "https://localhost:8080/"
        },
        "id": "uW1YivmTpk9V",
        "outputId": "11750c8a-0a34-404f-fbda-aa164f107e0b"
      },
      "source": [
        "file_id = '1-0HL9o2tnNYUJwoVv1HMLj_NmY07kBu0' # '1--TzzCipxlgo17bWNhY0Z4rWNQWzFpMv' -> 256 length if needed\n",
        "!gdown https://drive.google.com/uc?id={file_id}\n",
        "\n",
        "# Load configs to the existing model\n",
        "model.load_state_dict(torch.load('pytorch_roberta_sentiment.bin'))"
      ],
      "execution_count": 30,
      "outputs": [
        {
          "output_type": "stream",
          "text": [
            "Downloading...\n",
            "From: https://drive.google.com/uc?id=1-0HL9o2tnNYUJwoVv1HMLj_NmY07kBu0\n",
            "To: /content/pytorch_roberta_sentiment.bin\n",
            "501MB [00:05, 99.5MB/s]\n"
          ],
          "name": "stdout"
        },
        {
          "output_type": "execute_result",
          "data": {
            "text/plain": [
              "<All keys matched successfully>"
            ]
          },
          "metadata": {
            "tags": []
          },
          "execution_count": 30
        }
      ]
    },
    {
      "cell_type": "code",
      "metadata": {
        "id": "ShbHyg9UVHOg"
      },
      "source": [
        "def predict_emotion(utterance) -> tuple:\n",
        "    '''\n",
        "    utterance: str\n",
        "        The utterance text.\n",
        "    \n",
        "    Returns tuple.\n",
        "        First item is the belonging class name.\n",
        "        Second item is the encoded class name.\n",
        "    '''\n",
        "    # Encode inputs\n",
        "    inputs = utterance_encode(utterance)\n",
        "    # Parse into needed variables\n",
        "    ids = inputs['ids'].to(device, dtype = torch.long)\n",
        "    mask = inputs['mask'].to(device, dtype = torch.long)\n",
        "    token_type_ids = inputs['token_type_ids'].to(device, dtype = torch.long)\n",
        "\n",
        "    # Predict\n",
        "    output = model(ids, mask, token_type_ids)\n",
        "    _, prediction = torch.max(output, dim=1)\n",
        "\n",
        "    return (output.to(torch.device(\"cpu\")).detach().numpy(), class_names[prediction], prediction.item())\n",
        "\n",
        "output, cls_name, index = predict_emotion(\"why you did that??\")"
      ],
      "execution_count": 31,
      "outputs": []
    },
    {
      "cell_type": "code",
      "metadata": {
        "colab": {
          "base_uri": "https://localhost:8080/"
        },
        "id": "LO-rqYVLno6g",
        "outputId": "a4b92930-492a-478e-c636-d687202d61df"
      },
      "source": [
        "def tae(utterance) -> dict:\n",
        "    '''\n",
        "    utterance: str\n",
        "        The utterance text.\n",
        "    '''\n",
        "    idx = {\n",
        "        'anger': 0,\n",
        "        'disgust': 1,\n",
        "        'fear': 2,\n",
        "        'joy': 3,\n",
        "        'neutral': 4,\n",
        "        'sadness': 5,\n",
        "        'surprise': 6\n",
        "    }\n",
        "\n",
        "    # Encode inputs\n",
        "    inputs = utterance_encode(utterance)\n",
        "    # Parse into needed variables\n",
        "    ids = inputs['ids'].to(device, dtype = torch.long)\n",
        "    mask = inputs['mask'].to(device, dtype = torch.long)\n",
        "    token_type_ids = inputs['token_type_ids'].to(device, dtype = torch.long)\n",
        "\n",
        "    # Predict\n",
        "    output = torch.nn.functional.softmax(model(ids, mask, token_type_ids), dim=1)\n",
        "    _, prediction = torch.max(output, dim=1)\n",
        "\n",
        "    return {\n",
        "        'probs': output.to(torch.device(\"cpu\")).detach().numpy(),\n",
        "        'label': class_names[prediction],\n",
        "        'index': idx[class_names[prediction]]\n",
        "    }\n",
        "\n",
        "tae(\"why you did that??\")"
      ],
      "execution_count": 32,
      "outputs": [
        {
          "output_type": "execute_result",
          "data": {
            "text/plain": [
              "{'index': 6,\n",
              " 'label': 'surprise',\n",
              " 'probs': array([[0.08868632, 0.0600471 , 0.5052935 , 0.16866326, 0.05313095,\n",
              "         0.07318622, 0.0509927 ]], dtype=float32)}"
            ]
          },
          "metadata": {
            "tags": []
          },
          "execution_count": 32
        }
      ]
    },
    {
      "cell_type": "markdown",
      "metadata": {
        "id": "uYrjl8SjtrT7"
      },
      "source": [
        "## TODO3:\n",
        "\n",
        "Extract audio features  or train a classifier. Each video (utterance) should result in a fixed-size vector. This should be done by Vivian.\n",
        "\n"
      ]
    },
    {
      "cell_type": "code",
      "metadata": {
        "id": "Bn7um158tq1x",
        "colab": {
          "base_uri": "https://localhost:8080/"
        },
        "outputId": "de73259e-104f-4b3c-d044-6b784bc3bd2c"
      },
      "source": [
        "! pip install librosa"
      ],
      "execution_count": 1,
      "outputs": [
        {
          "output_type": "stream",
          "text": [
            "Requirement already satisfied: librosa in /usr/local/lib/python3.6/dist-packages (0.6.3)\n",
            "Requirement already satisfied: numba>=0.38.0 in /usr/local/lib/python3.6/dist-packages (from librosa) (0.48.0)\n",
            "Requirement already satisfied: numpy>=1.8.0 in /usr/local/lib/python3.6/dist-packages (from librosa) (1.18.5)\n",
            "Requirement already satisfied: joblib>=0.12 in /usr/local/lib/python3.6/dist-packages (from librosa) (0.17.0)\n",
            "Requirement already satisfied: scikit-learn!=0.19.0,>=0.14.0 in /usr/local/lib/python3.6/dist-packages (from librosa) (0.22.2.post1)\n",
            "Requirement already satisfied: six>=1.3 in /usr/local/lib/python3.6/dist-packages (from librosa) (1.15.0)\n",
            "Requirement already satisfied: audioread>=2.0.0 in /usr/local/lib/python3.6/dist-packages (from librosa) (2.1.9)\n",
            "Requirement already satisfied: scipy>=1.0.0 in /usr/local/lib/python3.6/dist-packages (from librosa) (1.4.1)\n",
            "Requirement already satisfied: decorator>=3.0.0 in /usr/local/lib/python3.6/dist-packages (from librosa) (4.4.2)\n",
            "Requirement already satisfied: resampy>=0.2.0 in /usr/local/lib/python3.6/dist-packages (from librosa) (0.2.2)\n",
            "Requirement already satisfied: llvmlite<0.32.0,>=0.31.0dev0 in /usr/local/lib/python3.6/dist-packages (from numba>=0.38.0->librosa) (0.31.0)\n",
            "Requirement already satisfied: setuptools in /usr/local/lib/python3.6/dist-packages (from numba>=0.38.0->librosa) (50.3.2)\n"
          ],
          "name": "stdout"
        }
      ]
    },
    {
      "cell_type": "code",
      "metadata": {
        "id": "9zz3TYu2oWBf"
      },
      "source": [
        "# from google.colab import drive\n",
        "# drive.mount('/content/drive')\n",
        "# !unzip 'drive/My Drive/audio.zip'\n",
        "!gdown --id 1e6HlcqfAjNOQJROtXn7gqcuPTGzu2KUk\n",
        "!unzip audio.zip"
      ],
      "execution_count": null,
      "outputs": []
    },
    {
      "cell_type": "code",
      "metadata": {
        "id": "ue-NVUsI4XgP"
      },
      "source": [
        "# Show random audio representation example of file\r\n",
        "from scipy.io import wavfile as wav\r\n",
        "import random\r\n",
        "import os\r\n",
        "from matplotlib import pyplot as plt\r\n",
        "import IPython.display as ipd\r\n",
        "import librosa.display\r\n",
        "\r\n",
        "\r\n",
        "AUDIO_PATH = \"smaller-dataset/\"\r\n",
        "\r\n",
        "diautt = random.choice([foo for foo, bar in datasets['train'].items()])\r\n",
        "annot = datasets['train'][diautt]\r\n",
        "\r\n",
        "print(annot)\r\n",
        "\r\n",
        "audio_path = os.path.join(AUDIO_PATH, diautt) +  '.mp4'\r\n",
        "\r\n",
        "def print_plot_play(x, Fs, text=''):\r\n",
        "    print('%s Fs = %d, x.shape = %s, x.dtype = %s' % (text, Fs, x.shape, x.dtype))\r\n",
        "    plt.figure(figsize=(8, 2))\r\n",
        "    plt.plot(x, color='gray')\r\n",
        "    plt.xlim([0, x.shape[0]])\r\n",
        "    plt.xlabel('Time (samples)')\r\n",
        "    plt.ylabel('Amplitude')\r\n",
        "    plt.tight_layout()\r\n",
        "    plt.show()\r\n",
        "    ipd.display(ipd.Audio(data=x, rate=Fs))\r\n",
        "\r\n",
        "x, sr = librosa.load(audio_path)\r\n",
        "print_plot_play(x=x, Fs=sr, text='MP4 file: ')\r\n",
        "\r\n",
        "mfccs = librosa.feature.mfcc(x, sr=sr)\r\n",
        "print(mfccs.shape)\r\n",
        "#Displaying  the MFCCs:\r\n",
        "librosa.display.specshow(mfccs, sr=sr, x_axis='time')\r\n",
        "\r\n",
        "X = librosa.stft(x)\r\n",
        "Xdb = librosa.amplitude_to_db(abs(X))\r\n",
        "plt.figure(figsize=(14, 5))\r\n",
        "librosa.display.specshow(Xdb, sr=sr, x_axis='time', y_axis='hz') \r\n",
        "#If to pring log of frequencies  \r\n",
        "#librosa.display.specshow(Xdb, sr=sr, x_axis='time', y_axis='log')\r\n",
        "plt.colorbar()"
      ],
      "execution_count": null,
      "outputs": []
    },
    {
      "cell_type": "code",
      "metadata": {
        "id": "-kfOD53zqHTA"
      },
      "source": [
        "import requests \r\n",
        "import io\r\n",
        "import pandas as pd\r\n",
        "\r\n",
        "download_train = requests.get('https://raw.githubusercontent.com/declare-lab/MELD/master/data/MELD/train_sent_emo.csv').content\r\n",
        "download_val = requests.get('https://raw.githubusercontent.com/declare-lab/MELD/master/data/MELD/dev_sent_emo.csv').content\r\n",
        "download_test = requests.get('https://raw.githubusercontent.com/declare-lab/MELD/master/data/MELD/test_sent_emo.csv').content\r\n",
        "\r\n",
        "# Create frames\r\n",
        "df_train = pd.read_csv(io.StringIO(download_train.decode('utf-8')))\r\n",
        "df_val = pd.read_csv(io.StringIO(download_val.decode('utf-8')))\r\n",
        "df_test = pd.read_csv(io.StringIO(download_test.decode('utf-8')))"
      ],
      "execution_count": 3,
      "outputs": []
    },
    {
      "cell_type": "code",
      "metadata": {
        "id": "672nPI_BPrZe"
      },
      "source": [
        "from tqdm import tqdm\n",
        "import librosa \n",
        "import numpy as np\n",
        "import pandas as pd\n",
        "from numpy import std\n",
        "\n",
        "def get_features(df, dir, scaler = dict()):\n",
        "    data = pd.DataFrame(columns=['feature'])\n",
        "    label = pd.DataFrame(columns=['label'])\n",
        "    name = pd.DataFrame(columns=['name'])    \n",
        "  \n",
        "    print(f'Number of rows in DataFrame: {len(df)}')\n",
        "\n",
        "    for row in tqdm(df.itertuples()):\n",
        "        \n",
        "        try:\n",
        "            path = f'./content/MELD.Raw/audio/{dir}/dia{row.Dialogue_ID}_utt{row.Utterance_ID}.mp3'\n",
        "            y, sr = librosa.load(path, sr=None)\n",
        "\n",
        "            result = np.array([])\n",
        "\n",
        "            rmse = np.mean(librosa.feature.rmse(y=y))\n",
        "            result = np.hstack((result, rmse))\n",
        "\n",
        "            spec_cent = np.mean(librosa.feature.spectral_centroid(y=y, sr=sr))\n",
        "            result = np.hstack((result, spec_cent))\n",
        "            \n",
        "            spec_bw = np.mean(librosa.feature.spectral_bandwidth(y=y, sr=sr))\n",
        "            result = np.hstack((result, spec_bw))\n",
        "\n",
        "            rolloff = np.mean(librosa.feature.spectral_rolloff(y=y, sr=sr))\n",
        "            result = np.hstack((result, rolloff))\n",
        "\n",
        "            zcr = np.mean(librosa.feature.zero_crossing_rate(y=y))\n",
        "            result = np.hstack((result, zcr))\n",
        "\n",
        "            ## MFCCs\n",
        "            mfccs = np.mean(librosa.feature.mfcc(y=y, sr=sr, n_mfcc=40).T, axis=0)\n",
        "            result = np.hstack((result, mfccs))\n",
        "\n",
        "            ## Chroma\n",
        "            stft= np.abs(librosa.stft(y))\n",
        "            chroma = np.mean(librosa.feature.chroma_stft(S=stft, sr=sr).T, axis=0)\n",
        "            result = np.hstack((result, chroma))\n",
        "\n",
        "            ## Mel Scale\n",
        "            mel = np.mean(librosa.feature.melspectrogram(y , sr=sr).T, axis=0)\n",
        "            result = np.hstack((result, mel))\n",
        "\n",
        "            label.loc[row.Index, 'label'] = df.loc[row.Index, 'Emotion']\n",
        "            data.loc[row.Index] = [result]\n",
        "            filename = 'dia'+ str(df.loc[row.Index, 'Dialogue_ID']) + '_utt' + str(df.loc[row.Index, 'Utterance_ID'])\n",
        "            name.at[row.Index, 'name'] = filename\n",
        "\n",
        "        except:\n",
        "            print(f'failed for {row.Index}')\n",
        "\n",
        "    final_data = pd.DataFrame(data['feature'].values.tolist(), index=data.index)\n",
        "    if NORMALISE:\n",
        "        for col in final_data:\n",
        "            minimum = final_data[col].min(axis=0)\n",
        "            maximum = final_data[col].max(axis=0)\n",
        "            final_data[col] = final_data[col].apply(lambda x: (x - minimum) / (maximum - minimum))\n",
        "            scaler[col] = (minimum, maximum)\n",
        "\n",
        "    data = pd.concat([final_data, label, name], axis=1)\n",
        "    data = data.sample(frac=1)\n",
        "\n",
        "    return data, scaler"
      ],
      "execution_count": 16,
      "outputs": []
    },
    {
      "cell_type": "code",
      "metadata": {
        "colab": {
          "base_uri": "https://localhost:8080/",
          "height": 316
        },
        "id": "jRHUzcuBPrhx",
        "outputId": "618df6f6-5d7e-428e-b9ec-3a6f420b15be"
      },
      "source": [
        "NORMALISE=True\n",
        "\n",
        "audio_train, scaler = get_features(df_train, 'train')\n",
        "audio_dev, scaler, diautts_dev = get_features(df_val, 'dev', scaler)\n",
        "audio_test, scaler, diautts_test = get_features(df_test, 'test', scaler)"
      ],
      "execution_count": 20,
      "outputs": [
        {
          "output_type": "stream",
          "text": [
            "\r0it [00:00, ?it/s]"
          ],
          "name": "stderr"
        },
        {
          "output_type": "stream",
          "text": [
            "Number of rows in DataFrame: 9989\n"
          ],
          "name": "stdout"
        },
        {
          "output_type": "stream",
          "text": [
            "1165it [06:01,  3.13it/s]"
          ],
          "name": "stderr"
        },
        {
          "output_type": "stream",
          "text": [
            "failed for 1165\n"
          ],
          "name": "stdout"
        },
        {
          "output_type": "stream",
          "text": [
            "9989it [56:27,  2.95it/s]\n",
            "0it [00:00, ?it/s]"
          ],
          "name": "stderr"
        },
        {
          "output_type": "stream",
          "text": [
            "Number of rows in DataFrame: 1109\n"
          ],
          "name": "stdout"
        },
        {
          "output_type": "stream",
          "text": [
            "1085it [05:38,  4.22it/s]"
          ],
          "name": "stderr"
        },
        {
          "output_type": "stream",
          "text": [
            "failed for 1084\n"
          ],
          "name": "stdout"
        },
        {
          "output_type": "stream",
          "text": [
            "1109it [05:46,  3.20it/s]\n"
          ],
          "name": "stderr"
        },
        {
          "output_type": "error",
          "ename": "ValueError",
          "evalue": "ignored",
          "traceback": [
            "\u001b[0;31m---------------------------------------------------------------------------\u001b[0m",
            "\u001b[0;31mValueError\u001b[0m                                Traceback (most recent call last)",
            "\u001b[0;32m<ipython-input-20-c0c7039b428b>\u001b[0m in \u001b[0;36m<module>\u001b[0;34m()\u001b[0m\n\u001b[1;32m      2\u001b[0m \u001b[0;34m\u001b[0m\u001b[0m\n\u001b[1;32m      3\u001b[0m \u001b[0maudio_train\u001b[0m\u001b[0;34m,\u001b[0m \u001b[0mscaler\u001b[0m \u001b[0;34m=\u001b[0m \u001b[0mget_features\u001b[0m\u001b[0;34m(\u001b[0m\u001b[0mdf_train\u001b[0m\u001b[0;34m,\u001b[0m \u001b[0;34m'train'\u001b[0m\u001b[0;34m)\u001b[0m\u001b[0;34m\u001b[0m\u001b[0;34m\u001b[0m\u001b[0m\n\u001b[0;32m----> 4\u001b[0;31m \u001b[0maudio_dev\u001b[0m\u001b[0;34m,\u001b[0m \u001b[0mscaler\u001b[0m\u001b[0;34m,\u001b[0m \u001b[0mdiautts_dev\u001b[0m \u001b[0;34m=\u001b[0m \u001b[0mget_features\u001b[0m\u001b[0;34m(\u001b[0m\u001b[0mdf_val\u001b[0m\u001b[0;34m,\u001b[0m \u001b[0;34m'dev'\u001b[0m\u001b[0;34m,\u001b[0m \u001b[0mscaler\u001b[0m\u001b[0;34m)\u001b[0m\u001b[0;34m\u001b[0m\u001b[0;34m\u001b[0m\u001b[0m\n\u001b[0m\u001b[1;32m      5\u001b[0m \u001b[0maudio_test\u001b[0m\u001b[0;34m,\u001b[0m \u001b[0mscaler\u001b[0m\u001b[0;34m,\u001b[0m \u001b[0mdiautts_test\u001b[0m \u001b[0;34m=\u001b[0m \u001b[0mget_features\u001b[0m\u001b[0;34m(\u001b[0m\u001b[0mdf_test\u001b[0m\u001b[0;34m,\u001b[0m \u001b[0;34m'test'\u001b[0m\u001b[0;34m,\u001b[0m \u001b[0mscaler\u001b[0m\u001b[0;34m)\u001b[0m\u001b[0;34m\u001b[0m\u001b[0;34m\u001b[0m\u001b[0m\n",
            "\u001b[0;31mValueError\u001b[0m: not enough values to unpack (expected 3, got 2)"
          ]
        }
      ]
    },
    {
      "cell_type": "code",
      "metadata": {
        "id": "IcCLELk6Y5q1"
      },
      "source": [
        "# !gdown --id 1eFAHRypj9RH7pm0d5oJBFHJnaZWEo_uA\n",
        "# !unzip Downloads.zip\n",
        "# !rm -rf submissions\\ \\(2\\)\n",
        "# !rm -rf submissions\\ \\(3\\)\n",
        "\n",
        "# import pandas as pd\n",
        "\n",
        "# audio_train = pd.read_csv('full_audio_train.csv')\n",
        "# audio_dev = pd.read_csv('full_audio_dev.csv')\n",
        "# audio_test = pd.read_csv('full_audio_test.csv')"
      ],
      "execution_count": 8,
      "outputs": []
    },
    {
      "cell_type": "code",
      "metadata": {
        "colab": {
          "base_uri": "https://localhost:8080/",
          "height": 17
        },
        "id": "nGT0J3I5t0mj",
        "outputId": "1f01e5de-83c9-4de5-fc01-5cc874ad6e6a"
      },
      "source": [
        "audio_train.to_csv('full_audio_train.csv', index=False)\r\n",
        "audio_dev.to_csv('full_audio_dev.csv', index=False)\r\n",
        "audio_test.to_csv('full_audio_test.csv', index=False)\r\n",
        "\r\n",
        "from google.colab import files\r\n",
        "files.download('full_audio_train.csv')\r\n",
        "files.download('full_audio_dev.csv')\r\n",
        "files.download('full_audio_test.csv')"
      ],
      "execution_count": 9,
      "outputs": [
        {
          "output_type": "display_data",
          "data": {
            "application/javascript": [
              "\n",
              "    async function download(id, filename, size) {\n",
              "      if (!google.colab.kernel.accessAllowed) {\n",
              "        return;\n",
              "      }\n",
              "      const div = document.createElement('div');\n",
              "      const label = document.createElement('label');\n",
              "      label.textContent = `Downloading \"${filename}\": `;\n",
              "      div.appendChild(label);\n",
              "      const progress = document.createElement('progress');\n",
              "      progress.max = size;\n",
              "      div.appendChild(progress);\n",
              "      document.body.appendChild(div);\n",
              "\n",
              "      const buffers = [];\n",
              "      let downloaded = 0;\n",
              "\n",
              "      const channel = await google.colab.kernel.comms.open(id);\n",
              "      // Send a message to notify the kernel that we're ready.\n",
              "      channel.send({})\n",
              "\n",
              "      for await (const message of channel.messages) {\n",
              "        // Send a message to notify the kernel that we're ready.\n",
              "        channel.send({})\n",
              "        if (message.buffers) {\n",
              "          for (const buffer of message.buffers) {\n",
              "            buffers.push(buffer);\n",
              "            downloaded += buffer.byteLength;\n",
              "            progress.value = downloaded;\n",
              "          }\n",
              "        }\n",
              "      }\n",
              "      const blob = new Blob(buffers, {type: 'application/binary'});\n",
              "      const a = document.createElement('a');\n",
              "      a.href = window.URL.createObjectURL(blob);\n",
              "      a.download = filename;\n",
              "      div.appendChild(a);\n",
              "      a.click();\n",
              "      div.remove();\n",
              "    }\n",
              "  "
            ],
            "text/plain": [
              "<IPython.core.display.Javascript object>"
            ]
          },
          "metadata": {
            "tags": []
          }
        },
        {
          "output_type": "display_data",
          "data": {
            "application/javascript": [
              "download(\"download_1c7c2781-2290-4636-b792-df45e4d18227\", \"full_audio_train.csv\", 37951521)"
            ],
            "text/plain": [
              "<IPython.core.display.Javascript object>"
            ]
          },
          "metadata": {
            "tags": []
          }
        },
        {
          "output_type": "display_data",
          "data": {
            "application/javascript": [
              "\n",
              "    async function download(id, filename, size) {\n",
              "      if (!google.colab.kernel.accessAllowed) {\n",
              "        return;\n",
              "      }\n",
              "      const div = document.createElement('div');\n",
              "      const label = document.createElement('label');\n",
              "      label.textContent = `Downloading \"${filename}\": `;\n",
              "      div.appendChild(label);\n",
              "      const progress = document.createElement('progress');\n",
              "      progress.max = size;\n",
              "      div.appendChild(progress);\n",
              "      document.body.appendChild(div);\n",
              "\n",
              "      const buffers = [];\n",
              "      let downloaded = 0;\n",
              "\n",
              "      const channel = await google.colab.kernel.comms.open(id);\n",
              "      // Send a message to notify the kernel that we're ready.\n",
              "      channel.send({})\n",
              "\n",
              "      for await (const message of channel.messages) {\n",
              "        // Send a message to notify the kernel that we're ready.\n",
              "        channel.send({})\n",
              "        if (message.buffers) {\n",
              "          for (const buffer of message.buffers) {\n",
              "            buffers.push(buffer);\n",
              "            downloaded += buffer.byteLength;\n",
              "            progress.value = downloaded;\n",
              "          }\n",
              "        }\n",
              "      }\n",
              "      const blob = new Blob(buffers, {type: 'application/binary'});\n",
              "      const a = document.createElement('a');\n",
              "      a.href = window.URL.createObjectURL(blob);\n",
              "      a.download = filename;\n",
              "      div.appendChild(a);\n",
              "      a.click();\n",
              "      div.remove();\n",
              "    }\n",
              "  "
            ],
            "text/plain": [
              "<IPython.core.display.Javascript object>"
            ]
          },
          "metadata": {
            "tags": []
          }
        },
        {
          "output_type": "display_data",
          "data": {
            "application/javascript": [
              "download(\"download_264a8811-c24a-4b5e-9553-79b96c9f97e1\", \"full_audio_dev.csv\", 4167948)"
            ],
            "text/plain": [
              "<IPython.core.display.Javascript object>"
            ]
          },
          "metadata": {
            "tags": []
          }
        },
        {
          "output_type": "display_data",
          "data": {
            "application/javascript": [
              "\n",
              "    async function download(id, filename, size) {\n",
              "      if (!google.colab.kernel.accessAllowed) {\n",
              "        return;\n",
              "      }\n",
              "      const div = document.createElement('div');\n",
              "      const label = document.createElement('label');\n",
              "      label.textContent = `Downloading \"${filename}\": `;\n",
              "      div.appendChild(label);\n",
              "      const progress = document.createElement('progress');\n",
              "      progress.max = size;\n",
              "      div.appendChild(progress);\n",
              "      document.body.appendChild(div);\n",
              "\n",
              "      const buffers = [];\n",
              "      let downloaded = 0;\n",
              "\n",
              "      const channel = await google.colab.kernel.comms.open(id);\n",
              "      // Send a message to notify the kernel that we're ready.\n",
              "      channel.send({})\n",
              "\n",
              "      for await (const message of channel.messages) {\n",
              "        // Send a message to notify the kernel that we're ready.\n",
              "        channel.send({})\n",
              "        if (message.buffers) {\n",
              "          for (const buffer of message.buffers) {\n",
              "            buffers.push(buffer);\n",
              "            downloaded += buffer.byteLength;\n",
              "            progress.value = downloaded;\n",
              "          }\n",
              "        }\n",
              "      }\n",
              "      const blob = new Blob(buffers, {type: 'application/binary'});\n",
              "      const a = document.createElement('a');\n",
              "      a.href = window.URL.createObjectURL(blob);\n",
              "      a.download = filename;\n",
              "      div.appendChild(a);\n",
              "      a.click();\n",
              "      div.remove();\n",
              "    }\n",
              "  "
            ],
            "text/plain": [
              "<IPython.core.display.Javascript object>"
            ]
          },
          "metadata": {
            "tags": []
          }
        },
        {
          "output_type": "display_data",
          "data": {
            "application/javascript": [
              "download(\"download_7e73735d-edb2-4338-acd7-e6736aea650a\", \"full_audio_test.csv\", 9831436)"
            ],
            "text/plain": [
              "<IPython.core.display.Javascript object>"
            ]
          },
          "metadata": {
            "tags": []
          }
        }
      ]
    },
    {
      "cell_type": "code",
      "metadata": {
        "colab": {
          "base_uri": "https://localhost:8080/"
        },
        "id": "QdDojyUf-sD3",
        "outputId": "8a3283db-24ec-4b33-be8e-9e40786b68a2"
      },
      "source": [
        "# BALANCE CLASSES\r\n",
        "BALANCE = True\r\n",
        "ALL = False\r\n",
        "\r\n",
        "def balance(df, BALANCE, ALL):\r\n",
        "  if BALANCE:\r\n",
        "    # Balance classes for through down-sampling)\r\n",
        "    if ALL:\r\n",
        "        print(df.columns)\r\n",
        "        g = df.groupby('label', group_keys=False)\r\n",
        "        df = pd.DataFrame(g.apply(lambda x: x.sample(g.size().min()))).reset_index(drop=True)\r\n",
        "    else:  \r\n",
        "        ### Separate the majority and minority classes\r\n",
        "        df_minority  = df[df['label']=='joy']\r\n",
        "        df_majority = df[df['label']=='neutral']\r\n",
        "        df_rest = df[df['label'] != 'neutral'][df['label'] != 'joy']\r\n",
        "\r\n",
        "        ### Now, downsamples majority labels equal to the number of samples in the minority class\r\n",
        "\r\n",
        "        df_majority = df_majority.sample(len(df_minority), random_state=0)\r\n",
        "\r\n",
        "        ### concat the majority and minority dataframes\r\n",
        "        df = pd.concat([df_majority,df_minority, df_rest])\r\n",
        "\r\n",
        "        ## Shuffle the dataset to prevent the model from getting biased by similar samples\r\n",
        "        df = df.sample(frac=1, random_state=0)\r\n",
        "\r\n",
        "    return df\r\n",
        "\r\n",
        "    #train_df = pd.DataFrame(g.apply(lambda x: x.sample(g.size().min()))).reset_index(drop=True)\r\n",
        "\r\n",
        "balanced_train = balance(audio_train, BALANCE, ALL)\r\n",
        "balanced_train.to_csv('full_audio_train_balanced.csv', index=False)\r\n",
        "#files.download('full_audio_train_balanced.csv')\r\n",
        "\r\n",
        "balanced_train['label'].value_counts()"
      ],
      "execution_count": 10,
      "outputs": [
        {
          "output_type": "stream",
          "text": [
            "/usr/local/lib/python3.6/dist-packages/ipykernel_launcher.py:16: UserWarning: Boolean Series key will be reindexed to match DataFrame index.\n",
            "  app.launch_new_instance()\n"
          ],
          "name": "stderr"
        },
        {
          "output_type": "execute_result",
          "data": {
            "text/plain": [
              "joy         1743\n",
              "neutral     1743\n",
              "surprise    1205\n",
              "anger       1109\n",
              "sadness      683\n",
              "disgust      271\n",
              "fear         268\n",
              "Name: label, dtype: int64"
            ]
          },
          "metadata": {
            "tags": []
          },
          "execution_count": 10
        }
      ]
    },
    {
      "cell_type": "markdown",
      "metadata": {
        "id": "bkDFlE0aGTj_"
      },
      "source": [
        "# Actual audio model building\n",
        "\n",
        "\n",
        "---\n",
        "\n"
      ]
    },
    {
      "cell_type": "code",
      "metadata": {
        "id": "P2SBe1LeBqVq",
        "colab": {
          "base_uri": "https://localhost:8080/"
        },
        "outputId": "3aecf68b-93dd-449f-df51-3e77a1b1a8cf"
      },
      "source": [
        "from keras import models\n",
        "from keras import layers\n",
        "from keras.layers import Dropout\n",
        "\n",
        "model = models.Sequential()\n",
        "model.add(layers.Dense(185, activation='relu', input_shape=(185,)))\n",
        "model.add(Dropout(0.5))\n",
        "model.add(layers.Dense(128, activation='relu'))\n",
        "model.add(Dropout(0.5))\n",
        "model.add(layers.Dense(64, activation='relu'))\n",
        "model.add(Dropout(0.25))\n",
        "model.add(layers.Dense(7, activation='softmax'))\n",
        "\n",
        "model.compile(optimizer='adam',\n",
        "              loss='sparse_categorical_crossentropy',\n",
        "              metrics=['accuracy'])\n",
        "\n",
        "model.summary()"
      ],
      "execution_count": 11,
      "outputs": [
        {
          "output_type": "stream",
          "text": [
            "Model: \"sequential\"\n",
            "_________________________________________________________________\n",
            "Layer (type)                 Output Shape              Param #   \n",
            "=================================================================\n",
            "dense (Dense)                (None, 185)               34410     \n",
            "_________________________________________________________________\n",
            "dropout (Dropout)            (None, 185)               0         \n",
            "_________________________________________________________________\n",
            "dense_1 (Dense)              (None, 128)               23808     \n",
            "_________________________________________________________________\n",
            "dropout_1 (Dropout)          (None, 128)               0         \n",
            "_________________________________________________________________\n",
            "dense_2 (Dense)              (None, 64)                8256      \n",
            "_________________________________________________________________\n",
            "dropout_2 (Dropout)          (None, 64)                0         \n",
            "_________________________________________________________________\n",
            "dense_3 (Dense)              (None, 7)                 455       \n",
            "=================================================================\n",
            "Total params: 66,929\n",
            "Trainable params: 66,929\n",
            "Non-trainable params: 0\n",
            "_________________________________________________________________\n"
          ],
          "name": "stdout"
        }
      ]
    },
    {
      "cell_type": "code",
      "metadata": {
        "id": "y3oHfpLvEZC_"
      },
      "source": [
        "from sklearn.preprocessing import LabelEncoder\r\n",
        "import numpy as np\r\n",
        "\r\n",
        "X_train = np.array(balanced_train.drop('label', axis=1))\r\n",
        "y_train = balanced_train['label'].tolist()\r\n",
        "\r\n",
        "encoder = LabelEncoder()\r\n",
        "y_train = encoder.fit_transform(y_train)\r\n",
        "\r\n",
        "X_dev = np.array(audio_dev.drop('label', axis=1))\r\n",
        "y_dev = audio_dev['label'].tolist()\r\n",
        "y_dev = encoder.transform(y_dev)\r\n",
        "\r\n",
        "X_test = np.array(audio_test.drop('label', axis=1))\r\n",
        "y_test = audio_test['label'].tolist()\r\n",
        "y_test = encoder.transform(y_test)"
      ],
      "execution_count": 12,
      "outputs": []
    },
    {
      "cell_type": "code",
      "metadata": {
        "colab": {
          "base_uri": "https://localhost:8080/",
          "height": 1000
        },
        "id": "RVNknLmgEHZ3",
        "outputId": "bc64ce52-57b5-4a45-a719-76a1c16d1138"
      },
      "source": [
        "from keras.callbacks import EarlyStopping\r\n",
        "import matplotlib.pyplot as plt\r\n",
        "\r\n",
        "es = EarlyStopping(monitor='val_loss', mode='min', verbose=1, patience=75)\r\n",
        "\r\n",
        "history = model.fit(X_train,\r\n",
        "                    y_train,\r\n",
        "                    epochs=1000,\r\n",
        "                    validation_data = (X_dev, y_dev),\r\n",
        "                    batch_size=12,\r\n",
        "                    callbacks = [es])\r\n",
        "\r\n",
        "plt.plot(history.history['loss'], label='train')\r\n",
        "plt.plot(history.history['val_loss'], label='val')\r\n",
        "plt.legend()\r\n",
        "plt.show()"
      ],
      "execution_count": 13,
      "outputs": [
        {
          "output_type": "stream",
          "text": [
            "Epoch 1/1000\n",
            "586/586 [==============================] - 2s 3ms/step - loss: 1.7952 - accuracy: 0.2468 - val_loss: 1.7401 - val_accuracy: 0.4233\n",
            "Epoch 2/1000\n",
            "586/586 [==============================] - 1s 2ms/step - loss: 1.7779 - accuracy: 0.2553 - val_loss: 1.7124 - val_accuracy: 0.4025\n",
            "Epoch 3/1000\n",
            "586/586 [==============================] - 1s 2ms/step - loss: 1.7666 - accuracy: 0.2553 - val_loss: 1.6913 - val_accuracy: 0.4116\n",
            "Epoch 4/1000\n",
            "586/586 [==============================] - 1s 2ms/step - loss: 1.7598 - accuracy: 0.2677 - val_loss: 1.7007 - val_accuracy: 0.3511\n",
            "Epoch 5/1000\n",
            "586/586 [==============================] - 1s 2ms/step - loss: 1.7552 - accuracy: 0.2667 - val_loss: 1.7215 - val_accuracy: 0.2617\n",
            "Epoch 6/1000\n",
            "586/586 [==============================] - 1s 2ms/step - loss: 1.7503 - accuracy: 0.2674 - val_loss: 1.7132 - val_accuracy: 0.2049\n",
            "Epoch 7/1000\n",
            "586/586 [==============================] - 1s 2ms/step - loss: 1.7497 - accuracy: 0.2679 - val_loss: 1.6952 - val_accuracy: 0.3014\n",
            "Epoch 8/1000\n",
            "586/586 [==============================] - 1s 2ms/step - loss: 1.7525 - accuracy: 0.2687 - val_loss: 1.7067 - val_accuracy: 0.2870\n",
            "Epoch 9/1000\n",
            "586/586 [==============================] - 1s 2ms/step - loss: 1.7460 - accuracy: 0.2753 - val_loss: 1.7189 - val_accuracy: 0.2581\n",
            "Epoch 10/1000\n",
            "586/586 [==============================] - 1s 2ms/step - loss: 1.7452 - accuracy: 0.2758 - val_loss: 1.6943 - val_accuracy: 0.2401\n",
            "Epoch 11/1000\n",
            "586/586 [==============================] - 1s 2ms/step - loss: 1.7457 - accuracy: 0.2774 - val_loss: 1.7189 - val_accuracy: 0.2681\n",
            "Epoch 12/1000\n",
            "586/586 [==============================] - 1s 2ms/step - loss: 1.7477 - accuracy: 0.2753 - val_loss: 1.6971 - val_accuracy: 0.3087\n",
            "Epoch 13/1000\n",
            "586/586 [==============================] - 1s 2ms/step - loss: 1.7407 - accuracy: 0.2815 - val_loss: 1.6908 - val_accuracy: 0.3231\n",
            "Epoch 14/1000\n",
            "586/586 [==============================] - 1s 2ms/step - loss: 1.7421 - accuracy: 0.2778 - val_loss: 1.7355 - val_accuracy: 0.2401\n",
            "Epoch 15/1000\n",
            "586/586 [==============================] - 1s 2ms/step - loss: 1.7422 - accuracy: 0.2830 - val_loss: 1.6803 - val_accuracy: 0.3592\n",
            "Epoch 16/1000\n",
            "586/586 [==============================] - 1s 2ms/step - loss: 1.7391 - accuracy: 0.2760 - val_loss: 1.6946 - val_accuracy: 0.2653\n",
            "Epoch 17/1000\n",
            "586/586 [==============================] - 1s 2ms/step - loss: 1.7397 - accuracy: 0.2750 - val_loss: 1.6731 - val_accuracy: 0.3755\n",
            "Epoch 18/1000\n",
            "586/586 [==============================] - 1s 2ms/step - loss: 1.7390 - accuracy: 0.2758 - val_loss: 1.6846 - val_accuracy: 0.3547\n",
            "Epoch 19/1000\n",
            "586/586 [==============================] - 1s 2ms/step - loss: 1.7377 - accuracy: 0.2838 - val_loss: 1.6869 - val_accuracy: 0.3348\n",
            "Epoch 20/1000\n",
            "586/586 [==============================] - 1s 2ms/step - loss: 1.7394 - accuracy: 0.2760 - val_loss: 1.6669 - val_accuracy: 0.3664\n",
            "Epoch 21/1000\n",
            "586/586 [==============================] - 1s 2ms/step - loss: 1.7401 - accuracy: 0.2808 - val_loss: 1.7270 - val_accuracy: 0.2690\n",
            "Epoch 22/1000\n",
            "586/586 [==============================] - 1s 2ms/step - loss: 1.7336 - accuracy: 0.2834 - val_loss: 1.6624 - val_accuracy: 0.3691\n",
            "Epoch 23/1000\n",
            "586/586 [==============================] - 2s 3ms/step - loss: 1.7345 - accuracy: 0.2834 - val_loss: 1.6492 - val_accuracy: 0.4224\n",
            "Epoch 24/1000\n",
            "586/586 [==============================] - 2s 3ms/step - loss: 1.7337 - accuracy: 0.2834 - val_loss: 1.7042 - val_accuracy: 0.2699\n",
            "Epoch 25/1000\n",
            "586/586 [==============================] - 2s 3ms/step - loss: 1.7353 - accuracy: 0.2854 - val_loss: 1.7402 - val_accuracy: 0.2581\n",
            "Epoch 26/1000\n",
            "586/586 [==============================] - 2s 3ms/step - loss: 1.7360 - accuracy: 0.2927 - val_loss: 1.7375 - val_accuracy: 0.2572\n",
            "Epoch 27/1000\n",
            "586/586 [==============================] - 1s 3ms/step - loss: 1.7314 - accuracy: 0.2855 - val_loss: 1.6751 - val_accuracy: 0.2843\n",
            "Epoch 28/1000\n",
            "586/586 [==============================] - 2s 3ms/step - loss: 1.7339 - accuracy: 0.2808 - val_loss: 1.6750 - val_accuracy: 0.3330\n",
            "Epoch 29/1000\n",
            "586/586 [==============================] - 2s 3ms/step - loss: 1.7311 - accuracy: 0.2805 - val_loss: 1.7217 - val_accuracy: 0.2780\n",
            "Epoch 30/1000\n",
            "586/586 [==============================] - 1s 2ms/step - loss: 1.7340 - accuracy: 0.2889 - val_loss: 1.7240 - val_accuracy: 0.3150\n",
            "Epoch 31/1000\n",
            "586/586 [==============================] - 1s 2ms/step - loss: 1.7328 - accuracy: 0.2847 - val_loss: 1.6732 - val_accuracy: 0.3610\n",
            "Epoch 32/1000\n",
            "586/586 [==============================] - 1s 2ms/step - loss: 1.7277 - accuracy: 0.2902 - val_loss: 1.7248 - val_accuracy: 0.2662\n",
            "Epoch 33/1000\n",
            "586/586 [==============================] - 1s 2ms/step - loss: 1.7319 - accuracy: 0.2800 - val_loss: 1.7484 - val_accuracy: 0.2572\n",
            "Epoch 34/1000\n",
            "586/586 [==============================] - 1s 2ms/step - loss: 1.7302 - accuracy: 0.2814 - val_loss: 1.7215 - val_accuracy: 0.2843\n",
            "Epoch 35/1000\n",
            "586/586 [==============================] - 1s 2ms/step - loss: 1.7321 - accuracy: 0.2848 - val_loss: 1.6902 - val_accuracy: 0.3213\n",
            "Epoch 36/1000\n",
            "586/586 [==============================] - 1s 2ms/step - loss: 1.7291 - accuracy: 0.2884 - val_loss: 1.6809 - val_accuracy: 0.3312\n",
            "Epoch 37/1000\n",
            "586/586 [==============================] - 1s 2ms/step - loss: 1.7319 - accuracy: 0.2874 - val_loss: 1.7200 - val_accuracy: 0.2635\n",
            "Epoch 38/1000\n",
            "586/586 [==============================] - 1s 2ms/step - loss: 1.7314 - accuracy: 0.2842 - val_loss: 1.7071 - val_accuracy: 0.2861\n",
            "Epoch 39/1000\n",
            "586/586 [==============================] - 1s 2ms/step - loss: 1.7318 - accuracy: 0.2777 - val_loss: 1.6905 - val_accuracy: 0.3060\n",
            "Epoch 40/1000\n",
            "586/586 [==============================] - 1s 2ms/step - loss: 1.7296 - accuracy: 0.2858 - val_loss: 1.6781 - val_accuracy: 0.3231\n",
            "Epoch 41/1000\n",
            "586/586 [==============================] - 1s 2ms/step - loss: 1.7274 - accuracy: 0.2838 - val_loss: 1.7101 - val_accuracy: 0.3032\n",
            "Epoch 42/1000\n",
            "586/586 [==============================] - 1s 2ms/step - loss: 1.7289 - accuracy: 0.2875 - val_loss: 1.7063 - val_accuracy: 0.2735\n",
            "Epoch 43/1000\n",
            "586/586 [==============================] - 1s 2ms/step - loss: 1.7291 - accuracy: 0.2818 - val_loss: 1.6792 - val_accuracy: 0.3854\n",
            "Epoch 44/1000\n",
            "586/586 [==============================] - 1s 2ms/step - loss: 1.7235 - accuracy: 0.2901 - val_loss: 1.6977 - val_accuracy: 0.2888\n",
            "Epoch 45/1000\n",
            "586/586 [==============================] - 1s 2ms/step - loss: 1.7262 - accuracy: 0.2909 - val_loss: 1.6889 - val_accuracy: 0.3285\n",
            "Epoch 46/1000\n",
            "586/586 [==============================] - 1s 2ms/step - loss: 1.7254 - accuracy: 0.2837 - val_loss: 1.6834 - val_accuracy: 0.3042\n",
            "Epoch 47/1000\n",
            "586/586 [==============================] - 1s 2ms/step - loss: 1.7249 - accuracy: 0.2852 - val_loss: 1.7090 - val_accuracy: 0.3069\n",
            "Epoch 48/1000\n",
            "586/586 [==============================] - 1s 2ms/step - loss: 1.7235 - accuracy: 0.2892 - val_loss: 1.6990 - val_accuracy: 0.3032\n",
            "Epoch 49/1000\n",
            "586/586 [==============================] - 1s 2ms/step - loss: 1.7253 - accuracy: 0.2838 - val_loss: 1.6871 - val_accuracy: 0.3682\n",
            "Epoch 50/1000\n",
            "586/586 [==============================] - 1s 2ms/step - loss: 1.7233 - accuracy: 0.2864 - val_loss: 1.6648 - val_accuracy: 0.3673\n",
            "Epoch 51/1000\n",
            "586/586 [==============================] - 1s 2ms/step - loss: 1.7279 - accuracy: 0.2872 - val_loss: 1.7204 - val_accuracy: 0.3014\n",
            "Epoch 52/1000\n",
            "586/586 [==============================] - 1s 2ms/step - loss: 1.7215 - accuracy: 0.2840 - val_loss: 1.7223 - val_accuracy: 0.2590\n",
            "Epoch 53/1000\n",
            "586/586 [==============================] - 1s 2ms/step - loss: 1.7245 - accuracy: 0.2877 - val_loss: 1.6710 - val_accuracy: 0.3529\n",
            "Epoch 54/1000\n",
            "586/586 [==============================] - 1s 2ms/step - loss: 1.7209 - accuracy: 0.2854 - val_loss: 1.6805 - val_accuracy: 0.3673\n",
            "Epoch 55/1000\n",
            "586/586 [==============================] - 1s 2ms/step - loss: 1.7223 - accuracy: 0.2892 - val_loss: 1.7356 - val_accuracy: 0.2374\n",
            "Epoch 56/1000\n",
            "586/586 [==============================] - 1s 2ms/step - loss: 1.7181 - accuracy: 0.2931 - val_loss: 1.7118 - val_accuracy: 0.2816\n",
            "Epoch 57/1000\n",
            "586/586 [==============================] - 1s 2ms/step - loss: 1.7224 - accuracy: 0.2915 - val_loss: 1.6861 - val_accuracy: 0.3637\n",
            "Epoch 58/1000\n",
            "586/586 [==============================] - 1s 2ms/step - loss: 1.7235 - accuracy: 0.2861 - val_loss: 1.7034 - val_accuracy: 0.3709\n",
            "Epoch 59/1000\n",
            "586/586 [==============================] - 1s 2ms/step - loss: 1.7209 - accuracy: 0.2909 - val_loss: 1.7041 - val_accuracy: 0.3430\n",
            "Epoch 60/1000\n",
            "586/586 [==============================] - 1s 2ms/step - loss: 1.7216 - accuracy: 0.2857 - val_loss: 1.7308 - val_accuracy: 0.3375\n",
            "Epoch 61/1000\n",
            "586/586 [==============================] - 1s 2ms/step - loss: 1.7180 - accuracy: 0.2868 - val_loss: 1.7553 - val_accuracy: 0.2635\n",
            "Epoch 62/1000\n",
            "586/586 [==============================] - 1s 2ms/step - loss: 1.7194 - accuracy: 0.2870 - val_loss: 1.7222 - val_accuracy: 0.2816\n",
            "Epoch 63/1000\n",
            "586/586 [==============================] - 1s 2ms/step - loss: 1.7133 - accuracy: 0.2921 - val_loss: 1.6978 - val_accuracy: 0.3917\n",
            "Epoch 64/1000\n",
            "586/586 [==============================] - 1s 2ms/step - loss: 1.7193 - accuracy: 0.2885 - val_loss: 1.6928 - val_accuracy: 0.3700\n",
            "Epoch 65/1000\n",
            "586/586 [==============================] - 1s 2ms/step - loss: 1.7204 - accuracy: 0.2885 - val_loss: 1.7139 - val_accuracy: 0.2735\n",
            "Epoch 66/1000\n",
            "586/586 [==============================] - 1s 2ms/step - loss: 1.7208 - accuracy: 0.2895 - val_loss: 1.7225 - val_accuracy: 0.3321\n",
            "Epoch 67/1000\n",
            "586/586 [==============================] - 1s 2ms/step - loss: 1.7162 - accuracy: 0.2895 - val_loss: 1.7166 - val_accuracy: 0.3105\n",
            "Epoch 68/1000\n",
            "586/586 [==============================] - 1s 2ms/step - loss: 1.7160 - accuracy: 0.2951 - val_loss: 1.6870 - val_accuracy: 0.3863\n",
            "Epoch 69/1000\n",
            "586/586 [==============================] - 1s 2ms/step - loss: 1.7189 - accuracy: 0.2912 - val_loss: 1.7309 - val_accuracy: 0.2626\n",
            "Epoch 70/1000\n",
            "586/586 [==============================] - 1s 2ms/step - loss: 1.7156 - accuracy: 0.2942 - val_loss: 1.8252 - val_accuracy: 0.2617\n",
            "Epoch 71/1000\n",
            "586/586 [==============================] - 1s 2ms/step - loss: 1.7193 - accuracy: 0.2881 - val_loss: 1.7262 - val_accuracy: 0.3087\n",
            "Epoch 72/1000\n",
            "586/586 [==============================] - 1s 2ms/step - loss: 1.7165 - accuracy: 0.2899 - val_loss: 1.7027 - val_accuracy: 0.3430\n",
            "Epoch 73/1000\n",
            "586/586 [==============================] - 1s 2ms/step - loss: 1.7100 - accuracy: 0.2934 - val_loss: 1.7148 - val_accuracy: 0.3276\n",
            "Epoch 74/1000\n",
            "586/586 [==============================] - 1s 2ms/step - loss: 1.7150 - accuracy: 0.2931 - val_loss: 1.7446 - val_accuracy: 0.3240\n",
            "Epoch 75/1000\n",
            "586/586 [==============================] - 1s 2ms/step - loss: 1.7111 - accuracy: 0.2945 - val_loss: 1.7416 - val_accuracy: 0.3330\n",
            "Epoch 76/1000\n",
            "586/586 [==============================] - 1s 2ms/step - loss: 1.7135 - accuracy: 0.2939 - val_loss: 1.7137 - val_accuracy: 0.3276\n",
            "Epoch 77/1000\n",
            "586/586 [==============================] - 1s 2ms/step - loss: 1.7121 - accuracy: 0.2942 - val_loss: 1.6903 - val_accuracy: 0.3962\n",
            "Epoch 78/1000\n",
            "586/586 [==============================] - 1s 2ms/step - loss: 1.7165 - accuracy: 0.2944 - val_loss: 1.7012 - val_accuracy: 0.3700\n",
            "Epoch 79/1000\n",
            "586/586 [==============================] - 1s 2ms/step - loss: 1.7137 - accuracy: 0.2938 - val_loss: 1.7326 - val_accuracy: 0.3520\n",
            "Epoch 80/1000\n",
            "586/586 [==============================] - 1s 2ms/step - loss: 1.7119 - accuracy: 0.2929 - val_loss: 1.7518 - val_accuracy: 0.3421\n",
            "Epoch 81/1000\n",
            "586/586 [==============================] - 1s 2ms/step - loss: 1.7150 - accuracy: 0.2928 - val_loss: 1.7193 - val_accuracy: 0.3448\n",
            "Epoch 82/1000\n",
            "586/586 [==============================] - 1s 2ms/step - loss: 1.7122 - accuracy: 0.2965 - val_loss: 1.7543 - val_accuracy: 0.3204\n",
            "Epoch 83/1000\n",
            "586/586 [==============================] - 1s 2ms/step - loss: 1.7145 - accuracy: 0.2995 - val_loss: 1.7184 - val_accuracy: 0.3294\n",
            "Epoch 84/1000\n",
            "586/586 [==============================] - 1s 2ms/step - loss: 1.7163 - accuracy: 0.2965 - val_loss: 1.7456 - val_accuracy: 0.3592\n",
            "Epoch 85/1000\n",
            "586/586 [==============================] - 1s 2ms/step - loss: 1.7059 - accuracy: 0.3029 - val_loss: 1.7304 - val_accuracy: 0.3529\n",
            "Epoch 86/1000\n",
            "586/586 [==============================] - 1s 2ms/step - loss: 1.7137 - accuracy: 0.2935 - val_loss: 1.7345 - val_accuracy: 0.3412\n",
            "Epoch 87/1000\n",
            "586/586 [==============================] - 1s 2ms/step - loss: 1.7108 - accuracy: 0.2969 - val_loss: 1.7283 - val_accuracy: 0.3592\n",
            "Epoch 88/1000\n",
            "586/586 [==============================] - 1s 2ms/step - loss: 1.7083 - accuracy: 0.2965 - val_loss: 1.8052 - val_accuracy: 0.3709\n",
            "Epoch 89/1000\n",
            "586/586 [==============================] - 1s 2ms/step - loss: 1.7125 - accuracy: 0.2927 - val_loss: 1.7527 - val_accuracy: 0.2717\n",
            "Epoch 90/1000\n",
            "586/586 [==============================] - 1s 2ms/step - loss: 1.7119 - accuracy: 0.2948 - val_loss: 1.6971 - val_accuracy: 0.3881\n",
            "Epoch 91/1000\n",
            "586/586 [==============================] - 1s 2ms/step - loss: 1.7072 - accuracy: 0.2934 - val_loss: 1.7683 - val_accuracy: 0.2870\n",
            "Epoch 92/1000\n",
            "586/586 [==============================] - 1s 2ms/step - loss: 1.7108 - accuracy: 0.2983 - val_loss: 1.7589 - val_accuracy: 0.3177\n",
            "Epoch 93/1000\n",
            "586/586 [==============================] - 1s 2ms/step - loss: 1.7114 - accuracy: 0.2915 - val_loss: 1.7729 - val_accuracy: 0.3023\n",
            "Epoch 94/1000\n",
            "586/586 [==============================] - 1s 2ms/step - loss: 1.7081 - accuracy: 0.2945 - val_loss: 1.7251 - val_accuracy: 0.4034\n",
            "Epoch 95/1000\n",
            "586/586 [==============================] - 1s 2ms/step - loss: 1.7093 - accuracy: 0.2895 - val_loss: 1.7472 - val_accuracy: 0.3709\n",
            "Epoch 96/1000\n",
            "586/586 [==============================] - 1s 2ms/step - loss: 1.7053 - accuracy: 0.2983 - val_loss: 1.7658 - val_accuracy: 0.3087\n",
            "Epoch 97/1000\n",
            "586/586 [==============================] - 1s 2ms/step - loss: 1.7055 - accuracy: 0.2988 - val_loss: 1.7675 - val_accuracy: 0.3547\n",
            "Epoch 98/1000\n",
            "586/586 [==============================] - 1s 2ms/step - loss: 1.7041 - accuracy: 0.2999 - val_loss: 1.7644 - val_accuracy: 0.3042\n",
            "Epoch 00098: early stopping\n"
          ],
          "name": "stdout"
        },
        {
          "output_type": "display_data",
          "data": {
            "image/png": "[encoded data removed]",
            "text/plain": [
              "<Figure size 432x288 with 1 Axes>"
            ]
          },
          "metadata": {
            "tags": [],
            "needs_background": "light"
          }
        }
      ]
    },
    {
      "cell_type": "markdown",
      "metadata": {
        "id": "czHj3fPjOqfE"
      },
      "source": [
        ""
      ]
    },
    {
      "cell_type": "code",
      "metadata": {
        "colab": {
          "base_uri": "https://localhost:8080/"
        },
        "id": "0VnUFj0yEYG9",
        "outputId": "23a65024-4e2b-4e75-e62d-ac9d2e55f3d9"
      },
      "source": [
        "test_loss, test_acc = model.evaluate(X_test,y_test)\r\n",
        "print('test_acc: ',test_acc)"
      ],
      "execution_count": null,
      "outputs": [
        {
          "output_type": "stream",
          "text": [
            "82/82 [==============================] - 0s 2ms/step - loss: 1.9121 - accuracy: 0.3467\n",
            "test_acc:  0.34674328565597534\n"
          ],
          "name": "stdout"
        }
      ]
    },
    {
      "cell_type": "markdown",
      "metadata": {
        "id": "hJBYp156tx1h"
      },
      "source": [
        "## TODO4:\n",
        "\n",
        "Concatenate the three feature vectors and/or train a simple classifier. Start simple (e.g. one-layered logistic regression). This should be done all together.\n",
        "\n",
        "I (Viv) would propose the following structure for the voting system.\n",
        "\n",
        "\n",
        "1.   **Scenario 1**: Each modality outputs the same emotion --> pick this emotion.\n",
        "2.   **Scenario 2**: Two modalities output the same emotion --> pick this emotion.\n",
        "3.   **Scenario 3**: Each modality outputs a different emotion. Depending on which of the three initial base models performs best (likely video or text?), select this option.\n",
        "\n"
      ]
    },
    {
      "cell_type": "markdown",
      "metadata": {
        "id": "OugnpKkx3UHz"
      },
      "source": [
        "Modality fusion"
      ]
    },
    {
      "cell_type": "code",
      "metadata": {
        "colab": {
          "base_uri": "https://localhost:8080/",
          "height": 213,
          "referenced_widgets": [
            "5b54f6217331425fa1635c9ee1cae480",
            "ad0bea06d2954728a429f04a8b2ad894",
            "ea42e23bd40d48e58efab685e44c4cab",
            "565ddae27e2844ef96ee0a812b62cd90",
            "1003a704add746a29c81889fd6774250",
            "976dbb3e80f84e2e828a700dea267469",
            "4151d78141dd41afaa317a76b27b09dd",
            "433b8530145a474ba05403bdf0a091e1",
            "d9f2efdb10a04d59990a600321ed4932",
            "fde4b1cec0084bfc8dcd736238410214",
            "0d3fdc232fd54d7ca8a1ddfecd6f34f5",
            "9a1fa504a4e14bb6928068c245c55dfe",
            "b1c91a2e6b3d4427b9414a80eac23493",
            "9c332b7fddba4abbb535fcbbe96dc80b",
            "2f988e8fc6324dd0835da48d30bff742",
            "deafaa7dfece469ba3d4179ddc99f470",
            "024f1139ad4246bbac85acbdda508401",
            "34749e41628442ab9427ea26a0efd3ba",
            "a643b481cf5c42c8be671e8087dab522",
            "c7e7365e33db469b96ef5067ffc40a3f",
            "1c56fcb1947f417eacea7dbbd9caae12",
            "6d3f10dd1d3647ac81deb371344a06ff",
            "7ea93c6b03b843b5b6360266f5863446",
            "52e583a47509413f9dff8f6c24a04393",
            "4f1ffdb3df7f429cbc040d6ea02d991a",
            "55d4ab39f34b411c980ed6eb0d893a02",
            "91d54a5fcfa245a4ab2a0fb92c1d4973",
            "c4d9f3469d8d45018490d97c077408d9",
            "4f1d8404eb4a4510b513c5760452110e",
            "eeecd8ae0b534f7f8c2d6f8f1567e737",
            "3c3f7f8eec92482c80d7379c1c22a21b",
            "f3a08ee1b7a84202a7241222492f1a8f"
          ]
        },
        "id": "86Dg4fCS1-HR",
        "outputId": "7e104d3e-eb5b-41f8-a13d-054caddd1940"
      },
      "source": [
        "import os\n",
        "from tqdm.notebook import tqdm\n",
        "import json\n",
        "\n",
        "if not os.path.isfile('datasets.json'):\n",
        "    !gdown --id 1LG06KGcjJf6Efs1FGlQxz_NG_A8iWHE-\n",
        "with open('datasets.json', 'r') as stream:\n",
        "    datasets = json.load(stream)\n",
        "\n",
        "prediction_text = {}\n",
        "truth = {}\n",
        "\n",
        "for DATASET in tqdm(['train', 'dev', 'test']):\n",
        "    prediction_text[DATASET] = {}\n",
        "    truth[DATASET] = {}\n",
        "    for diautt, annot in tqdm(datasets[DATASET].items()):\n",
        "        prediction_text[DATASET][diautt] =  tae(datasets[DATASET][diautt]['Utterance'])\n",
        "        truth[DATASET][diautt] = annot['Emotion']"
      ],
      "execution_count": 33,
      "outputs": [
        {
          "output_type": "display_data",
          "data": {
            "application/vnd.jupyter.widget-view+json": {
              "model_id": "5b54f6217331425fa1635c9ee1cae480",
              "version_minor": 0,
              "version_major": 2
            },
            "text/plain": [
              "HBox(children=(FloatProgress(value=0.0, max=3.0), HTML(value='')))"
            ]
          },
          "metadata": {
            "tags": []
          }
        },
        {
          "output_type": "display_data",
          "data": {
            "application/vnd.jupyter.widget-view+json": {
              "model_id": "d9f2efdb10a04d59990a600321ed4932",
              "version_minor": 0,
              "version_major": 2
            },
            "text/plain": [
              "HBox(children=(FloatProgress(value=0.0, max=9989.0), HTML(value='')))"
            ]
          },
          "metadata": {
            "tags": []
          }
        },
        {
          "output_type": "stream",
          "text": [
            "\n"
          ],
          "name": "stdout"
        },
        {
          "output_type": "display_data",
          "data": {
            "application/vnd.jupyter.widget-view+json": {
              "model_id": "024f1139ad4246bbac85acbdda508401",
              "version_minor": 0,
              "version_major": 2
            },
            "text/plain": [
              "HBox(children=(FloatProgress(value=0.0, max=1108.0), HTML(value='')))"
            ]
          },
          "metadata": {
            "tags": []
          }
        },
        {
          "output_type": "stream",
          "text": [
            "\n"
          ],
          "name": "stdout"
        },
        {
          "output_type": "display_data",
          "data": {
            "application/vnd.jupyter.widget-view+json": {
              "model_id": "4f1ffdb3df7f429cbc040d6ea02d991a",
              "version_minor": 0,
              "version_major": 2
            },
            "text/plain": [
              "HBox(children=(FloatProgress(value=0.0, max=2610.0), HTML(value='')))"
            ]
          },
          "metadata": {
            "tags": []
          }
        },
        {
          "output_type": "stream",
          "text": [
            "\n",
            "\n"
          ],
          "name": "stdout"
        }
      ]
    },
    {
      "cell_type": "code",
      "metadata": {
        "colab": {
          "base_uri": "https://localhost:8080/"
        },
        "id": "GyGwpCvdCEWZ",
        "outputId": "17c9668c-bc8f-4120-e6ce-cf9662e3f605"
      },
      "source": [
        "DATASET, diautt, tae(datasets[DATASET][diautt]['Utterance'])"
      ],
      "execution_count": 35,
      "outputs": [
        {
          "output_type": "execute_result",
          "data": {
            "text/plain": [
              "('test',\n",
              " 'dia279_utt15',\n",
              " {'index': 4,\n",
              "  'label': 'neutral',\n",
              "  'probs': array([[0.775585  , 0.08236338, 0.01761505, 0.04764517, 0.0381019 ,\n",
              "          0.01373331, 0.02495614]], dtype=float32)})"
            ]
          },
          "metadata": {
            "tags": []
          },
          "execution_count": 35
        }
      ]
    },
    {
      "cell_type": "code",
      "metadata": {
        "colab": {
          "base_uri": "https://localhost:8080/",
          "height": 987,
          "referenced_widgets": [
            "7944a4dc971f42388395ad7a865150f2",
            "08d508dd0bab4f97bca8e4f982dcea96",
            "630b7c540cf941ae9b8926c5ac14343f",
            "e82dc82b64be4affaff784335e82f7e5",
            "f2bfa3d9426a4dd2ab0feb5238024670",
            "aebadc6959bc43b59e7f482b102151fd",
            "9af4f191075a40da91c6503bb07d97a2",
            "3b42b4ea707441c9ac07b0281205c85e"
          ]
        },
        "id": "lIa0QwylANR4",
        "outputId": "6a5d453d-79ea-44f4-9611-8fe01dbe6d08"
      },
      "source": [
        "from sklearn.metrics import classification_report, f1_score\n",
        "\n",
        "for DATASET in tqdm(['train', 'dev', 'test']):\n",
        "    y_true = []\n",
        "    y_pred = []\n",
        "    for diautt, pred in prediction_text[DATASET].items():\n",
        "        y_pred.append(emotion2num[pred['label']])\n",
        "        y_true.append(emotion2num[truth[DATASET][diautt]])\n",
        "\n",
        "    print(DATASET)\n",
        "    print(classification_report(y_true, y_pred))\n",
        "    print(f\"weighted f1 score: \", f1_score(y_true, y_pred, average='weighted'))\n",
        "    print()"
      ],
      "execution_count": 40,
      "outputs": [
        {
          "output_type": "display_data",
          "data": {
            "application/vnd.jupyter.widget-view+json": {
              "model_id": "7944a4dc971f42388395ad7a865150f2",
              "version_minor": 0,
              "version_major": 2
            },
            "text/plain": [
              "HBox(children=(FloatProgress(value=0.0, max=3.0), HTML(value='')))"
            ]
          },
          "metadata": {
            "tags": []
          }
        },
        {
          "output_type": "stream",
          "text": [
            "train\n",
            "              precision    recall  f1-score   support\n",
            "\n",
            "           0       0.42      0.66      0.51      1109\n",
            "           1       1.00      0.01      0.02       271\n",
            "           2       0.00      0.00      0.00       268\n",
            "           3       0.72      0.54      0.62      1743\n",
            "           4       0.76      0.87      0.81      4710\n",
            "           5       0.42      0.46      0.44       683\n",
            "           6       0.79      0.55      0.65      1205\n",
            "\n",
            "    accuracy                           0.67      9989\n",
            "   macro avg       0.59      0.44      0.44      9989\n",
            "weighted avg       0.68      0.67      0.66      9989\n",
            "\n",
            "weighted f1 score:  0.6558994895249571\n",
            "\n",
            "dev\n",
            "              precision    recall  f1-score   support\n",
            "\n",
            "           0       0.35      0.46      0.40       153\n",
            "           1       0.00      0.00      0.00        22\n",
            "           2       0.00      0.00      0.00        40\n",
            "           3       0.65      0.50      0.57       163\n",
            "           4       0.68      0.86      0.76       469\n",
            "           5       0.39      0.31      0.34       111\n",
            "           6       0.68      0.47      0.55       150\n",
            "\n",
            "    accuracy                           0.60      1108\n",
            "   macro avg       0.39      0.37      0.37      1108\n",
            "weighted avg       0.56      0.60      0.57      1108\n",
            "\n",
            "weighted f1 score:  0.5703604679825484\n",
            "\n",
            "test\n",
            "              precision    recall  f1-score   support\n",
            "\n",
            "           0       0.42      0.61      0.50       345\n",
            "           1       0.50      0.01      0.03        68\n",
            "           2       0.00      0.00      0.00        50\n",
            "           3       0.63      0.50      0.55       402\n",
            "           4       0.74      0.84      0.79      1256\n",
            "           5       0.36      0.33      0.34       208\n",
            "           6       0.71      0.44      0.54       281\n",
            "\n",
            "    accuracy                           0.64      2610\n",
            "   macro avg       0.48      0.39      0.39      2610\n",
            "weighted avg       0.63      0.64      0.62      2610\n",
            "\n",
            "weighted f1 score:  0.6162975416213659\n",
            "\n",
            "\n"
          ],
          "name": "stdout"
        },
        {
          "output_type": "stream",
          "text": [
            "/usr/local/lib/python3.6/dist-packages/sklearn/metrics/_classification.py:1272: UndefinedMetricWarning: Precision and F-score are ill-defined and being set to 0.0 in labels with no predicted samples. Use `zero_division` parameter to control this behavior.\n",
            "  _warn_prf(average, modifier, msg_start, len(result))\n"
          ],
          "name": "stderr"
        }
      ]
    },
    {
      "cell_type": "code",
      "metadata": {
        "id": "G-3HtW-atxEz",
        "colab": {
          "base_uri": "https://localhost:8080/",
          "height": 287
        },
        "outputId": "0c4e211e-d676-4ee5-8bee-dd44844ec5ec"
      },
      "source": [
        "#DO IT\n",
        "import matplotlib.pyplot as plt\n",
        "import matplotlib.image as mpimg\n",
        "\n",
        "img = mpimg.imread('justdoit.gif')\n",
        "plt.imshow(img)"
      ],
      "execution_count": null,
      "outputs": [
        {
          "output_type": "execute_result",
          "data": {
            "text/plain": [
              "<matplotlib.image.AxesImage at 0x7f17a8d32908>"
            ]
          },
          "metadata": {
            "tags": []
          },
          "execution_count": 2
        },
        {
          "output_type": "display_data",
          "data": {
            "image/png": "[encoded data removed]",
            "text/plain": [
              "<Figure size 432x288 with 1 Axes>"
            ]
          },
          "metadata": {
            "tags": [],
            "needs_background": "light"
          }
        }
      ]
    },
    {
      "cell_type": "code",
      "metadata": {
        "id": "-hKFHCfrzRZt"
      },
      "source": [
        ""
      ],
      "execution_count": null,
      "outputs": []
    }
  ]
}