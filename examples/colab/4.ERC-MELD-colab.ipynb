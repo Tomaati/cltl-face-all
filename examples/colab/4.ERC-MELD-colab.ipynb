{
  "nbformat": 4,
  "nbformat_minor": 0,
  "metadata": {
    "colab": {
      "name": "4.ERC-MELD-colab.ipynb",
      "provenance": [],
      "collapsed_sections": [],
      "toc_visible": true,
      "include_colab_link": true
    },
    "kernelspec": {
      "name": "python3",
      "display_name": "Python 3"
    },
    "widgets": {
      "application/vnd.jupyter.widget-state+json": {
        "401725efbe6148b3bef933e281e9b8ad": {
          "model_module": "@jupyter-widgets/controls",
          "model_name": "HBoxModel",
          "state": {
            "_view_name": "HBoxView",
            "_dom_classes": [],
            "_model_name": "HBoxModel",
            "_view_module": "@jupyter-widgets/controls",
            "_model_module_version": "1.5.0",
            "_view_count": null,
            "_view_module_version": "1.5.0",
            "box_style": "",
            "layout": "IPY_MODEL_0b4d81bcf4a340db88626f73567b21a9",
            "_model_module": "@jupyter-widgets/controls",
            "children": [
              "IPY_MODEL_e2a58c0ee59843ef93a7b0255a151b7d",
              "IPY_MODEL_862bec07cff046f8b16da78e52a099a0"
            ]
          }
        },
        "0b4d81bcf4a340db88626f73567b21a9": {
          "model_module": "@jupyter-widgets/base",
          "model_name": "LayoutModel",
          "state": {
            "_view_name": "LayoutView",
            "grid_template_rows": null,
            "right": null,
            "justify_content": null,
            "_view_module": "@jupyter-widgets/base",
            "overflow": null,
            "_model_module_version": "1.2.0",
            "_view_count": null,
            "flex_flow": null,
            "width": null,
            "min_width": null,
            "border": null,
            "align_items": null,
            "bottom": null,
            "_model_module": "@jupyter-widgets/base",
            "top": null,
            "grid_column": null,
            "overflow_y": null,
            "overflow_x": null,
            "grid_auto_flow": null,
            "grid_area": null,
            "grid_template_columns": null,
            "flex": null,
            "_model_name": "LayoutModel",
            "justify_items": null,
            "grid_row": null,
            "max_height": null,
            "align_content": null,
            "visibility": null,
            "align_self": null,
            "height": null,
            "min_height": null,
            "padding": null,
            "grid_auto_rows": null,
            "grid_gap": null,
            "max_width": null,
            "order": null,
            "_view_module_version": "1.2.0",
            "grid_template_areas": null,
            "object_position": null,
            "object_fit": null,
            "grid_auto_columns": null,
            "margin": null,
            "display": null,
            "left": null
          }
        },
        "e2a58c0ee59843ef93a7b0255a151b7d": {
          "model_module": "@jupyter-widgets/controls",
          "model_name": "FloatProgressModel",
          "state": {
            "_view_name": "ProgressView",
            "style": "IPY_MODEL_778b7783dae941e68bd68563f8bfc952",
            "_dom_classes": [],
            "description": "  0%",
            "_model_name": "FloatProgressModel",
            "bar_style": "danger",
            "max": 3,
            "_view_module": "@jupyter-widgets/controls",
            "_model_module_version": "1.5.0",
            "value": 0,
            "_view_count": null,
            "_view_module_version": "1.5.0",
            "orientation": "horizontal",
            "min": 0,
            "description_tooltip": null,
            "_model_module": "@jupyter-widgets/controls",
            "layout": "IPY_MODEL_fc7c605143ff41e2b5df024b0ec08172"
          }
        },
        "862bec07cff046f8b16da78e52a099a0": {
          "model_module": "@jupyter-widgets/controls",
          "model_name": "HTMLModel",
          "state": {
            "_view_name": "HTMLView",
            "style": "IPY_MODEL_5b3e42ee20c94d37b617334e553cf63d",
            "_dom_classes": [],
            "description": "",
            "_model_name": "HTMLModel",
            "placeholder": "​",
            "_view_module": "@jupyter-widgets/controls",
            "_model_module_version": "1.5.0",
            "value": " 0/3 [00:05&lt;?, ?it/s]",
            "_view_count": null,
            "_view_module_version": "1.5.0",
            "description_tooltip": null,
            "_model_module": "@jupyter-widgets/controls",
            "layout": "IPY_MODEL_7591d7c6e9974763945e91f9dd256e70"
          }
        },
        "778b7783dae941e68bd68563f8bfc952": {
          "model_module": "@jupyter-widgets/controls",
          "model_name": "ProgressStyleModel",
          "state": {
            "_view_name": "StyleView",
            "_model_name": "ProgressStyleModel",
            "description_width": "initial",
            "_view_module": "@jupyter-widgets/base",
            "_model_module_version": "1.5.0",
            "_view_count": null,
            "_view_module_version": "1.2.0",
            "bar_color": null,
            "_model_module": "@jupyter-widgets/controls"
          }
        },
        "fc7c605143ff41e2b5df024b0ec08172": {
          "model_module": "@jupyter-widgets/base",
          "model_name": "LayoutModel",
          "state": {
            "_view_name": "LayoutView",
            "grid_template_rows": null,
            "right": null,
            "justify_content": null,
            "_view_module": "@jupyter-widgets/base",
            "overflow": null,
            "_model_module_version": "1.2.0",
            "_view_count": null,
            "flex_flow": null,
            "width": null,
            "min_width": null,
            "border": null,
            "align_items": null,
            "bottom": null,
            "_model_module": "@jupyter-widgets/base",
            "top": null,
            "grid_column": null,
            "overflow_y": null,
            "overflow_x": null,
            "grid_auto_flow": null,
            "grid_area": null,
            "grid_template_columns": null,
            "flex": null,
            "_model_name": "LayoutModel",
            "justify_items": null,
            "grid_row": null,
            "max_height": null,
            "align_content": null,
            "visibility": null,
            "align_self": null,
            "height": null,
            "min_height": null,
            "padding": null,
            "grid_auto_rows": null,
            "grid_gap": null,
            "max_width": null,
            "order": null,
            "_view_module_version": "1.2.0",
            "grid_template_areas": null,
            "object_position": null,
            "object_fit": null,
            "grid_auto_columns": null,
            "margin": null,
            "display": null,
            "left": null
          }
        },
        "5b3e42ee20c94d37b617334e553cf63d": {
          "model_module": "@jupyter-widgets/controls",
          "model_name": "DescriptionStyleModel",
          "state": {
            "_view_name": "StyleView",
            "_model_name": "DescriptionStyleModel",
            "description_width": "",
            "_view_module": "@jupyter-widgets/base",
            "_model_module_version": "1.5.0",
            "_view_count": null,
            "_view_module_version": "1.2.0",
            "_model_module": "@jupyter-widgets/controls"
          }
        },
        "7591d7c6e9974763945e91f9dd256e70": {
          "model_module": "@jupyter-widgets/base",
          "model_name": "LayoutModel",
          "state": {
            "_view_name": "LayoutView",
            "grid_template_rows": null,
            "right": null,
            "justify_content": null,
            "_view_module": "@jupyter-widgets/base",
            "overflow": null,
            "_model_module_version": "1.2.0",
            "_view_count": null,
            "flex_flow": null,
            "width": null,
            "min_width": null,
            "border": null,
            "align_items": null,
            "bottom": null,
            "_model_module": "@jupyter-widgets/base",
            "top": null,
            "grid_column": null,
            "overflow_y": null,
            "overflow_x": null,
            "grid_auto_flow": null,
            "grid_area": null,
            "grid_template_columns": null,
            "flex": null,
            "_model_name": "LayoutModel",
            "justify_items": null,
            "grid_row": null,
            "max_height": null,
            "align_content": null,
            "visibility": null,
            "align_self": null,
            "height": null,
            "min_height": null,
            "padding": null,
            "grid_auto_rows": null,
            "grid_gap": null,
            "max_width": null,
            "order": null,
            "_view_module_version": "1.2.0",
            "grid_template_areas": null,
            "object_position": null,
            "object_fit": null,
            "grid_auto_columns": null,
            "margin": null,
            "display": null,
            "left": null
          }
        },
        "12c79fa04f2e4cc08cc10d95cc398c0e": {
          "model_module": "@jupyter-widgets/controls",
          "model_name": "HBoxModel",
          "state": {
            "_view_name": "HBoxView",
            "_dom_classes": [],
            "_model_name": "HBoxModel",
            "_view_module": "@jupyter-widgets/controls",
            "_model_module_version": "1.5.0",
            "_view_count": null,
            "_view_module_version": "1.5.0",
            "box_style": "",
            "layout": "IPY_MODEL_5a7713c25c744cf0a2bcb2125e8b313c",
            "_model_module": "@jupyter-widgets/controls",
            "children": [
              "IPY_MODEL_b37b2a1f1ed046178ee510284d5b9cf0",
              "IPY_MODEL_7596f87b5afa42d9870748657e4dd649"
            ]
          }
        },
        "5a7713c25c744cf0a2bcb2125e8b313c": {
          "model_module": "@jupyter-widgets/base",
          "model_name": "LayoutModel",
          "state": {
            "_view_name": "LayoutView",
            "grid_template_rows": null,
            "right": null,
            "justify_content": null,
            "_view_module": "@jupyter-widgets/base",
            "overflow": null,
            "_model_module_version": "1.2.0",
            "_view_count": null,
            "flex_flow": null,
            "width": null,
            "min_width": null,
            "border": null,
            "align_items": null,
            "bottom": null,
            "_model_module": "@jupyter-widgets/base",
            "top": null,
            "grid_column": null,
            "overflow_y": null,
            "overflow_x": null,
            "grid_auto_flow": null,
            "grid_area": null,
            "grid_template_columns": null,
            "flex": null,
            "_model_name": "LayoutModel",
            "justify_items": null,
            "grid_row": null,
            "max_height": null,
            "align_content": null,
            "visibility": null,
            "align_self": null,
            "height": null,
            "min_height": null,
            "padding": null,
            "grid_auto_rows": null,
            "grid_gap": null,
            "max_width": null,
            "order": null,
            "_view_module_version": "1.2.0",
            "grid_template_areas": null,
            "object_position": null,
            "object_fit": null,
            "grid_auto_columns": null,
            "margin": null,
            "display": null,
            "left": null
          }
        },
        "b37b2a1f1ed046178ee510284d5b9cf0": {
          "model_module": "@jupyter-widgets/controls",
          "model_name": "FloatProgressModel",
          "state": {
            "_view_name": "ProgressView",
            "style": "IPY_MODEL_882ea7a0a7a0436b9c6db49312e03d83",
            "_dom_classes": [],
            "description": "100%",
            "_model_name": "FloatProgressModel",
            "bar_style": "success",
            "max": 3,
            "_view_module": "@jupyter-widgets/controls",
            "_model_module_version": "1.5.0",
            "value": 3,
            "_view_count": null,
            "_view_module_version": "1.5.0",
            "orientation": "horizontal",
            "min": 0,
            "description_tooltip": null,
            "_model_module": "@jupyter-widgets/controls",
            "layout": "IPY_MODEL_4b344ca8a5284bdab0900b344ff33404"
          }
        },
        "7596f87b5afa42d9870748657e4dd649": {
          "model_module": "@jupyter-widgets/controls",
          "model_name": "HTMLModel",
          "state": {
            "_view_name": "HTMLView",
            "style": "IPY_MODEL_c23860599e564d31965a54d47f05ace8",
            "_dom_classes": [],
            "description": "",
            "_model_name": "HTMLModel",
            "placeholder": "​",
            "_view_module": "@jupyter-widgets/controls",
            "_model_module_version": "1.5.0",
            "value": " 3/3 [00:00&lt;00:00, 29.55it/s]",
            "_view_count": null,
            "_view_module_version": "1.5.0",
            "description_tooltip": null,
            "_model_module": "@jupyter-widgets/controls",
            "layout": "IPY_MODEL_9556c05635b04a05918197ac2176733b"
          }
        },
        "882ea7a0a7a0436b9c6db49312e03d83": {
          "model_module": "@jupyter-widgets/controls",
          "model_name": "ProgressStyleModel",
          "state": {
            "_view_name": "StyleView",
            "_model_name": "ProgressStyleModel",
            "description_width": "initial",
            "_view_module": "@jupyter-widgets/base",
            "_model_module_version": "1.5.0",
            "_view_count": null,
            "_view_module_version": "1.2.0",
            "bar_color": null,
            "_model_module": "@jupyter-widgets/controls"
          }
        },
        "4b344ca8a5284bdab0900b344ff33404": {
          "model_module": "@jupyter-widgets/base",
          "model_name": "LayoutModel",
          "state": {
            "_view_name": "LayoutView",
            "grid_template_rows": null,
            "right": null,
            "justify_content": null,
            "_view_module": "@jupyter-widgets/base",
            "overflow": null,
            "_model_module_version": "1.2.0",
            "_view_count": null,
            "flex_flow": null,
            "width": null,
            "min_width": null,
            "border": null,
            "align_items": null,
            "bottom": null,
            "_model_module": "@jupyter-widgets/base",
            "top": null,
            "grid_column": null,
            "overflow_y": null,
            "overflow_x": null,
            "grid_auto_flow": null,
            "grid_area": null,
            "grid_template_columns": null,
            "flex": null,
            "_model_name": "LayoutModel",
            "justify_items": null,
            "grid_row": null,
            "max_height": null,
            "align_content": null,
            "visibility": null,
            "align_self": null,
            "height": null,
            "min_height": null,
            "padding": null,
            "grid_auto_rows": null,
            "grid_gap": null,
            "max_width": null,
            "order": null,
            "_view_module_version": "1.2.0",
            "grid_template_areas": null,
            "object_position": null,
            "object_fit": null,
            "grid_auto_columns": null,
            "margin": null,
            "display": null,
            "left": null
          }
        },
        "c23860599e564d31965a54d47f05ace8": {
          "model_module": "@jupyter-widgets/controls",
          "model_name": "DescriptionStyleModel",
          "state": {
            "_view_name": "StyleView",
            "_model_name": "DescriptionStyleModel",
            "description_width": "",
            "_view_module": "@jupyter-widgets/base",
            "_model_module_version": "1.5.0",
            "_view_count": null,
            "_view_module_version": "1.2.0",
            "_model_module": "@jupyter-widgets/controls"
          }
        },
        "9556c05635b04a05918197ac2176733b": {
          "model_module": "@jupyter-widgets/base",
          "model_name": "LayoutModel",
          "state": {
            "_view_name": "LayoutView",
            "grid_template_rows": null,
            "right": null,
            "justify_content": null,
            "_view_module": "@jupyter-widgets/base",
            "overflow": null,
            "_model_module_version": "1.2.0",
            "_view_count": null,
            "flex_flow": null,
            "width": null,
            "min_width": null,
            "border": null,
            "align_items": null,
            "bottom": null,
            "_model_module": "@jupyter-widgets/base",
            "top": null,
            "grid_column": null,
            "overflow_y": null,
            "overflow_x": null,
            "grid_auto_flow": null,
            "grid_area": null,
            "grid_template_columns": null,
            "flex": null,
            "_model_name": "LayoutModel",
            "justify_items": null,
            "grid_row": null,
            "max_height": null,
            "align_content": null,
            "visibility": null,
            "align_self": null,
            "height": null,
            "min_height": null,
            "padding": null,
            "grid_auto_rows": null,
            "grid_gap": null,
            "max_width": null,
            "order": null,
            "_view_module_version": "1.2.0",
            "grid_template_areas": null,
            "object_position": null,
            "object_fit": null,
            "grid_auto_columns": null,
            "margin": null,
            "display": null,
            "left": null
          }
        },
        "2713a7ea4ed94233ab7184057c58ea67": {
          "model_module": "@jupyter-widgets/controls",
          "model_name": "HBoxModel",
          "state": {
            "_view_name": "HBoxView",
            "_dom_classes": [],
            "_model_name": "HBoxModel",
            "_view_module": "@jupyter-widgets/controls",
            "_model_module_version": "1.5.0",
            "_view_count": null,
            "_view_module_version": "1.5.0",
            "box_style": "",
            "layout": "IPY_MODEL_1a6b7f9e58ce46778a1baab57524bf62",
            "_model_module": "@jupyter-widgets/controls",
            "children": [
              "IPY_MODEL_cb3920a946074503ab3c038566d81b8a",
              "IPY_MODEL_4086cd26e7df47a3bf5d780e95a1a45e"
            ]
          }
        },
        "1a6b7f9e58ce46778a1baab57524bf62": {
          "model_module": "@jupyter-widgets/base",
          "model_name": "LayoutModel",
          "state": {
            "_view_name": "LayoutView",
            "grid_template_rows": null,
            "right": null,
            "justify_content": null,
            "_view_module": "@jupyter-widgets/base",
            "overflow": null,
            "_model_module_version": "1.2.0",
            "_view_count": null,
            "flex_flow": null,
            "width": null,
            "min_width": null,
            "border": null,
            "align_items": null,
            "bottom": null,
            "_model_module": "@jupyter-widgets/base",
            "top": null,
            "grid_column": null,
            "overflow_y": null,
            "overflow_x": null,
            "grid_auto_flow": null,
            "grid_area": null,
            "grid_template_columns": null,
            "flex": null,
            "_model_name": "LayoutModel",
            "justify_items": null,
            "grid_row": null,
            "max_height": null,
            "align_content": null,
            "visibility": null,
            "align_self": null,
            "height": null,
            "min_height": null,
            "padding": null,
            "grid_auto_rows": null,
            "grid_gap": null,
            "max_width": null,
            "order": null,
            "_view_module_version": "1.2.0",
            "grid_template_areas": null,
            "object_position": null,
            "object_fit": null,
            "grid_auto_columns": null,
            "margin": null,
            "display": null,
            "left": null
          }
        },
        "cb3920a946074503ab3c038566d81b8a": {
          "model_module": "@jupyter-widgets/controls",
          "model_name": "FloatProgressModel",
          "state": {
            "_view_name": "ProgressView",
            "style": "IPY_MODEL_ec90f3c79928424ab528cd004880f61d",
            "_dom_classes": [],
            "description": "",
            "_model_name": "FloatProgressModel",
            "bar_style": "success",
            "max": 1,
            "_view_module": "@jupyter-widgets/controls",
            "_model_module_version": "1.5.0",
            "value": 1,
            "_view_count": null,
            "_view_module_version": "1.5.0",
            "orientation": "horizontal",
            "min": 0,
            "description_tooltip": null,
            "_model_module": "@jupyter-widgets/controls",
            "layout": "IPY_MODEL_6037da49aa4a4640aa68862b144ab238"
          }
        },
        "4086cd26e7df47a3bf5d780e95a1a45e": {
          "model_module": "@jupyter-widgets/controls",
          "model_name": "HTMLModel",
          "state": {
            "_view_name": "HTMLView",
            "style": "IPY_MODEL_e42a7ba5d93d4f8f8eedb637b7e8086e",
            "_dom_classes": [],
            "description": "",
            "_model_name": "HTMLModel",
            "placeholder": "​",
            "_view_module": "@jupyter-widgets/controls",
            "_model_module_version": "1.5.0",
            "value": " 9988/? [01:18&lt;00:00, 127.52it/s]",
            "_view_count": null,
            "_view_module_version": "1.5.0",
            "description_tooltip": null,
            "_model_module": "@jupyter-widgets/controls",
            "layout": "IPY_MODEL_2cdda004e9d84d73b7a15aaa30f0231c"
          }
        },
        "ec90f3c79928424ab528cd004880f61d": {
          "model_module": "@jupyter-widgets/controls",
          "model_name": "ProgressStyleModel",
          "state": {
            "_view_name": "StyleView",
            "_model_name": "ProgressStyleModel",
            "description_width": "initial",
            "_view_module": "@jupyter-widgets/base",
            "_model_module_version": "1.5.0",
            "_view_count": null,
            "_view_module_version": "1.2.0",
            "bar_color": null,
            "_model_module": "@jupyter-widgets/controls"
          }
        },
        "6037da49aa4a4640aa68862b144ab238": {
          "model_module": "@jupyter-widgets/base",
          "model_name": "LayoutModel",
          "state": {
            "_view_name": "LayoutView",
            "grid_template_rows": null,
            "right": null,
            "justify_content": null,
            "_view_module": "@jupyter-widgets/base",
            "overflow": null,
            "_model_module_version": "1.2.0",
            "_view_count": null,
            "flex_flow": null,
            "width": null,
            "min_width": null,
            "border": null,
            "align_items": null,
            "bottom": null,
            "_model_module": "@jupyter-widgets/base",
            "top": null,
            "grid_column": null,
            "overflow_y": null,
            "overflow_x": null,
            "grid_auto_flow": null,
            "grid_area": null,
            "grid_template_columns": null,
            "flex": null,
            "_model_name": "LayoutModel",
            "justify_items": null,
            "grid_row": null,
            "max_height": null,
            "align_content": null,
            "visibility": null,
            "align_self": null,
            "height": null,
            "min_height": null,
            "padding": null,
            "grid_auto_rows": null,
            "grid_gap": null,
            "max_width": null,
            "order": null,
            "_view_module_version": "1.2.0",
            "grid_template_areas": null,
            "object_position": null,
            "object_fit": null,
            "grid_auto_columns": null,
            "margin": null,
            "display": null,
            "left": null
          }
        },
        "e42a7ba5d93d4f8f8eedb637b7e8086e": {
          "model_module": "@jupyter-widgets/controls",
          "model_name": "DescriptionStyleModel",
          "state": {
            "_view_name": "StyleView",
            "_model_name": "DescriptionStyleModel",
            "description_width": "",
            "_view_module": "@jupyter-widgets/base",
            "_model_module_version": "1.5.0",
            "_view_count": null,
            "_view_module_version": "1.2.0",
            "_model_module": "@jupyter-widgets/controls"
          }
        },
        "2cdda004e9d84d73b7a15aaa30f0231c": {
          "model_module": "@jupyter-widgets/base",
          "model_name": "LayoutModel",
          "state": {
            "_view_name": "LayoutView",
            "grid_template_rows": null,
            "right": null,
            "justify_content": null,
            "_view_module": "@jupyter-widgets/base",
            "overflow": null,
            "_model_module_version": "1.2.0",
            "_view_count": null,
            "flex_flow": null,
            "width": null,
            "min_width": null,
            "border": null,
            "align_items": null,
            "bottom": null,
            "_model_module": "@jupyter-widgets/base",
            "top": null,
            "grid_column": null,
            "overflow_y": null,
            "overflow_x": null,
            "grid_auto_flow": null,
            "grid_area": null,
            "grid_template_columns": null,
            "flex": null,
            "_model_name": "LayoutModel",
            "justify_items": null,
            "grid_row": null,
            "max_height": null,
            "align_content": null,
            "visibility": null,
            "align_self": null,
            "height": null,
            "min_height": null,
            "padding": null,
            "grid_auto_rows": null,
            "grid_gap": null,
            "max_width": null,
            "order": null,
            "_view_module_version": "1.2.0",
            "grid_template_areas": null,
            "object_position": null,
            "object_fit": null,
            "grid_auto_columns": null,
            "margin": null,
            "display": null,
            "left": null
          }
        },
        "5dcc8d31783941659526b41278a1a2e9": {
          "model_module": "@jupyter-widgets/controls",
          "model_name": "HBoxModel",
          "state": {
            "_view_name": "HBoxView",
            "_dom_classes": [],
            "_model_name": "HBoxModel",
            "_view_module": "@jupyter-widgets/controls",
            "_model_module_version": "1.5.0",
            "_view_count": null,
            "_view_module_version": "1.5.0",
            "box_style": "",
            "layout": "IPY_MODEL_abe24adde9dd4b5491e664ac6a38d1f4",
            "_model_module": "@jupyter-widgets/controls",
            "children": [
              "IPY_MODEL_d955693d7bc349f0ac513b0d6662d60b",
              "IPY_MODEL_b6958ecc653f4091a7afb3f64310ece4"
            ]
          }
        },
        "abe24adde9dd4b5491e664ac6a38d1f4": {
          "model_module": "@jupyter-widgets/base",
          "model_name": "LayoutModel",
          "state": {
            "_view_name": "LayoutView",
            "grid_template_rows": null,
            "right": null,
            "justify_content": null,
            "_view_module": "@jupyter-widgets/base",
            "overflow": null,
            "_model_module_version": "1.2.0",
            "_view_count": null,
            "flex_flow": null,
            "width": null,
            "min_width": null,
            "border": null,
            "align_items": null,
            "bottom": null,
            "_model_module": "@jupyter-widgets/base",
            "top": null,
            "grid_column": null,
            "overflow_y": null,
            "overflow_x": null,
            "grid_auto_flow": null,
            "grid_area": null,
            "grid_template_columns": null,
            "flex": null,
            "_model_name": "LayoutModel",
            "justify_items": null,
            "grid_row": null,
            "max_height": null,
            "align_content": null,
            "visibility": null,
            "align_self": null,
            "height": null,
            "min_height": null,
            "padding": null,
            "grid_auto_rows": null,
            "grid_gap": null,
            "max_width": null,
            "order": null,
            "_view_module_version": "1.2.0",
            "grid_template_areas": null,
            "object_position": null,
            "object_fit": null,
            "grid_auto_columns": null,
            "margin": null,
            "display": null,
            "left": null
          }
        },
        "d955693d7bc349f0ac513b0d6662d60b": {
          "model_module": "@jupyter-widgets/controls",
          "model_name": "FloatProgressModel",
          "state": {
            "_view_name": "ProgressView",
            "style": "IPY_MODEL_0216c5c9c54045edb4222d7d00e5f368",
            "_dom_classes": [],
            "description": "",
            "_model_name": "FloatProgressModel",
            "bar_style": "success",
            "max": 1,
            "_view_module": "@jupyter-widgets/controls",
            "_model_module_version": "1.5.0",
            "value": 1,
            "_view_count": null,
            "_view_module_version": "1.5.0",
            "orientation": "horizontal",
            "min": 0,
            "description_tooltip": null,
            "_model_module": "@jupyter-widgets/controls",
            "layout": "IPY_MODEL_446498f092b14950b070f32054504c6d"
          }
        },
        "b6958ecc653f4091a7afb3f64310ece4": {
          "model_module": "@jupyter-widgets/controls",
          "model_name": "HTMLModel",
          "state": {
            "_view_name": "HTMLView",
            "style": "IPY_MODEL_b7417810099e46b5917f3d2d76128aeb",
            "_dom_classes": [],
            "description": "",
            "_model_name": "HTMLModel",
            "placeholder": "​",
            "_view_module": "@jupyter-widgets/controls",
            "_model_module_version": "1.5.0",
            "value": " 1108/? [00:01&lt;00:00, 787.77it/s]",
            "_view_count": null,
            "_view_module_version": "1.5.0",
            "description_tooltip": null,
            "_model_module": "@jupyter-widgets/controls",
            "layout": "IPY_MODEL_cba8dc414b0444d6acfb9d66e10d2a3c"
          }
        },
        "0216c5c9c54045edb4222d7d00e5f368": {
          "model_module": "@jupyter-widgets/controls",
          "model_name": "ProgressStyleModel",
          "state": {
            "_view_name": "StyleView",
            "_model_name": "ProgressStyleModel",
            "description_width": "initial",
            "_view_module": "@jupyter-widgets/base",
            "_model_module_version": "1.5.0",
            "_view_count": null,
            "_view_module_version": "1.2.0",
            "bar_color": null,
            "_model_module": "@jupyter-widgets/controls"
          }
        },
        "446498f092b14950b070f32054504c6d": {
          "model_module": "@jupyter-widgets/base",
          "model_name": "LayoutModel",
          "state": {
            "_view_name": "LayoutView",
            "grid_template_rows": null,
            "right": null,
            "justify_content": null,
            "_view_module": "@jupyter-widgets/base",
            "overflow": null,
            "_model_module_version": "1.2.0",
            "_view_count": null,
            "flex_flow": null,
            "width": null,
            "min_width": null,
            "border": null,
            "align_items": null,
            "bottom": null,
            "_model_module": "@jupyter-widgets/base",
            "top": null,
            "grid_column": null,
            "overflow_y": null,
            "overflow_x": null,
            "grid_auto_flow": null,
            "grid_area": null,
            "grid_template_columns": null,
            "flex": null,
            "_model_name": "LayoutModel",
            "justify_items": null,
            "grid_row": null,
            "max_height": null,
            "align_content": null,
            "visibility": null,
            "align_self": null,
            "height": null,
            "min_height": null,
            "padding": null,
            "grid_auto_rows": null,
            "grid_gap": null,
            "max_width": null,
            "order": null,
            "_view_module_version": "1.2.0",
            "grid_template_areas": null,
            "object_position": null,
            "object_fit": null,
            "grid_auto_columns": null,
            "margin": null,
            "display": null,
            "left": null
          }
        },
        "b7417810099e46b5917f3d2d76128aeb": {
          "model_module": "@jupyter-widgets/controls",
          "model_name": "DescriptionStyleModel",
          "state": {
            "_view_name": "StyleView",
            "_model_name": "DescriptionStyleModel",
            "description_width": "",
            "_view_module": "@jupyter-widgets/base",
            "_model_module_version": "1.5.0",
            "_view_count": null,
            "_view_module_version": "1.2.0",
            "_model_module": "@jupyter-widgets/controls"
          }
        },
        "cba8dc414b0444d6acfb9d66e10d2a3c": {
          "model_module": "@jupyter-widgets/base",
          "model_name": "LayoutModel",
          "state": {
            "_view_name": "LayoutView",
            "grid_template_rows": null,
            "right": null,
            "justify_content": null,
            "_view_module": "@jupyter-widgets/base",
            "overflow": null,
            "_model_module_version": "1.2.0",
            "_view_count": null,
            "flex_flow": null,
            "width": null,
            "min_width": null,
            "border": null,
            "align_items": null,
            "bottom": null,
            "_model_module": "@jupyter-widgets/base",
            "top": null,
            "grid_column": null,
            "overflow_y": null,
            "overflow_x": null,
            "grid_auto_flow": null,
            "grid_area": null,
            "grid_template_columns": null,
            "flex": null,
            "_model_name": "LayoutModel",
            "justify_items": null,
            "grid_row": null,
            "max_height": null,
            "align_content": null,
            "visibility": null,
            "align_self": null,
            "height": null,
            "min_height": null,
            "padding": null,
            "grid_auto_rows": null,
            "grid_gap": null,
            "max_width": null,
            "order": null,
            "_view_module_version": "1.2.0",
            "grid_template_areas": null,
            "object_position": null,
            "object_fit": null,
            "grid_auto_columns": null,
            "margin": null,
            "display": null,
            "left": null
          }
        },
        "0437ce536d844e9c8eb41a42c29610da": {
          "model_module": "@jupyter-widgets/controls",
          "model_name": "HBoxModel",
          "state": {
            "_view_name": "HBoxView",
            "_dom_classes": [],
            "_model_name": "HBoxModel",
            "_view_module": "@jupyter-widgets/controls",
            "_model_module_version": "1.5.0",
            "_view_count": null,
            "_view_module_version": "1.5.0",
            "box_style": "",
            "layout": "IPY_MODEL_4c19d3cf0d344fcfa252072a2c94d823",
            "_model_module": "@jupyter-widgets/controls",
            "children": [
              "IPY_MODEL_c7efd60c6bd1489da54a8f939f0f55c1",
              "IPY_MODEL_b2cc7b13ece14b18a32740530ef911e6"
            ]
          }
        },
        "4c19d3cf0d344fcfa252072a2c94d823": {
          "model_module": "@jupyter-widgets/base",
          "model_name": "LayoutModel",
          "state": {
            "_view_name": "LayoutView",
            "grid_template_rows": null,
            "right": null,
            "justify_content": null,
            "_view_module": "@jupyter-widgets/base",
            "overflow": null,
            "_model_module_version": "1.2.0",
            "_view_count": null,
            "flex_flow": null,
            "width": null,
            "min_width": null,
            "border": null,
            "align_items": null,
            "bottom": null,
            "_model_module": "@jupyter-widgets/base",
            "top": null,
            "grid_column": null,
            "overflow_y": null,
            "overflow_x": null,
            "grid_auto_flow": null,
            "grid_area": null,
            "grid_template_columns": null,
            "flex": null,
            "_model_name": "LayoutModel",
            "justify_items": null,
            "grid_row": null,
            "max_height": null,
            "align_content": null,
            "visibility": null,
            "align_self": null,
            "height": null,
            "min_height": null,
            "padding": null,
            "grid_auto_rows": null,
            "grid_gap": null,
            "max_width": null,
            "order": null,
            "_view_module_version": "1.2.0",
            "grid_template_areas": null,
            "object_position": null,
            "object_fit": null,
            "grid_auto_columns": null,
            "margin": null,
            "display": null,
            "left": null
          }
        },
        "c7efd60c6bd1489da54a8f939f0f55c1": {
          "model_module": "@jupyter-widgets/controls",
          "model_name": "FloatProgressModel",
          "state": {
            "_view_name": "ProgressView",
            "style": "IPY_MODEL_2837579da7584e989ae098254ca0f4a6",
            "_dom_classes": [],
            "description": "",
            "_model_name": "FloatProgressModel",
            "bar_style": "success",
            "max": 1,
            "_view_module": "@jupyter-widgets/controls",
            "_model_module_version": "1.5.0",
            "value": 1,
            "_view_count": null,
            "_view_module_version": "1.5.0",
            "orientation": "horizontal",
            "min": 0,
            "description_tooltip": null,
            "_model_module": "@jupyter-widgets/controls",
            "layout": "IPY_MODEL_3290cf1c04504f2c829cc7b617c6d959"
          }
        },
        "b2cc7b13ece14b18a32740530ef911e6": {
          "model_module": "@jupyter-widgets/controls",
          "model_name": "HTMLModel",
          "state": {
            "_view_name": "HTMLView",
            "style": "IPY_MODEL_aac86d0d8ae24ddcb78bc94399a7b229",
            "_dom_classes": [],
            "description": "",
            "_model_name": "HTMLModel",
            "placeholder": "​",
            "_view_module": "@jupyter-widgets/controls",
            "_model_module_version": "1.5.0",
            "value": " 2610/? [00:00&lt;00:00, 3076.46it/s]",
            "_view_count": null,
            "_view_module_version": "1.5.0",
            "description_tooltip": null,
            "_model_module": "@jupyter-widgets/controls",
            "layout": "IPY_MODEL_badb75b9fbab413bbe31e9c0fbb3a446"
          }
        },
        "2837579da7584e989ae098254ca0f4a6": {
          "model_module": "@jupyter-widgets/controls",
          "model_name": "ProgressStyleModel",
          "state": {
            "_view_name": "StyleView",
            "_model_name": "ProgressStyleModel",
            "description_width": "initial",
            "_view_module": "@jupyter-widgets/base",
            "_model_module_version": "1.5.0",
            "_view_count": null,
            "_view_module_version": "1.2.0",
            "bar_color": null,
            "_model_module": "@jupyter-widgets/controls"
          }
        },
        "3290cf1c04504f2c829cc7b617c6d959": {
          "model_module": "@jupyter-widgets/base",
          "model_name": "LayoutModel",
          "state": {
            "_view_name": "LayoutView",
            "grid_template_rows": null,
            "right": null,
            "justify_content": null,
            "_view_module": "@jupyter-widgets/base",
            "overflow": null,
            "_model_module_version": "1.2.0",
            "_view_count": null,
            "flex_flow": null,
            "width": null,
            "min_width": null,
            "border": null,
            "align_items": null,
            "bottom": null,
            "_model_module": "@jupyter-widgets/base",
            "top": null,
            "grid_column": null,
            "overflow_y": null,
            "overflow_x": null,
            "grid_auto_flow": null,
            "grid_area": null,
            "grid_template_columns": null,
            "flex": null,
            "_model_name": "LayoutModel",
            "justify_items": null,
            "grid_row": null,
            "max_height": null,
            "align_content": null,
            "visibility": null,
            "align_self": null,
            "height": null,
            "min_height": null,
            "padding": null,
            "grid_auto_rows": null,
            "grid_gap": null,
            "max_width": null,
            "order": null,
            "_view_module_version": "1.2.0",
            "grid_template_areas": null,
            "object_position": null,
            "object_fit": null,
            "grid_auto_columns": null,
            "margin": null,
            "display": null,
            "left": null
          }
        },
        "aac86d0d8ae24ddcb78bc94399a7b229": {
          "model_module": "@jupyter-widgets/controls",
          "model_name": "DescriptionStyleModel",
          "state": {
            "_view_name": "StyleView",
            "_model_name": "DescriptionStyleModel",
            "description_width": "",
            "_view_module": "@jupyter-widgets/base",
            "_model_module_version": "1.5.0",
            "_view_count": null,
            "_view_module_version": "1.2.0",
            "_model_module": "@jupyter-widgets/controls"
          }
        },
        "badb75b9fbab413bbe31e9c0fbb3a446": {
          "model_module": "@jupyter-widgets/base",
          "model_name": "LayoutModel",
          "state": {
            "_view_name": "LayoutView",
            "grid_template_rows": null,
            "right": null,
            "justify_content": null,
            "_view_module": "@jupyter-widgets/base",
            "overflow": null,
            "_model_module_version": "1.2.0",
            "_view_count": null,
            "flex_flow": null,
            "width": null,
            "min_width": null,
            "border": null,
            "align_items": null,
            "bottom": null,
            "_model_module": "@jupyter-widgets/base",
            "top": null,
            "grid_column": null,
            "overflow_y": null,
            "overflow_x": null,
            "grid_auto_flow": null,
            "grid_area": null,
            "grid_template_columns": null,
            "flex": null,
            "_model_name": "LayoutModel",
            "justify_items": null,
            "grid_row": null,
            "max_height": null,
            "align_content": null,
            "visibility": null,
            "align_self": null,
            "height": null,
            "min_height": null,
            "padding": null,
            "grid_auto_rows": null,
            "grid_gap": null,
            "max_width": null,
            "order": null,
            "_view_module_version": "1.2.0",
            "grid_template_areas": null,
            "object_position": null,
            "object_fit": null,
            "grid_auto_columns": null,
            "margin": null,
            "display": null,
            "left": null
          }
        },
        "9a32a548e2f34c1e93d6c55cf5dfe3a7": {
          "model_module": "@jupyter-widgets/controls",
          "model_name": "HBoxModel",
          "state": {
            "_view_name": "HBoxView",
            "_dom_classes": [],
            "_model_name": "HBoxModel",
            "_view_module": "@jupyter-widgets/controls",
            "_model_module_version": "1.5.0",
            "_view_count": null,
            "_view_module_version": "1.5.0",
            "box_style": "",
            "layout": "IPY_MODEL_8aead6f46f8d4245a07265ecd038c74d",
            "_model_module": "@jupyter-widgets/controls",
            "children": [
              "IPY_MODEL_2787279dd66c4007b551680f2d22dd0c",
              "IPY_MODEL_cad6bddd089f4a72840a5a6b39c461ad"
            ]
          }
        },
        "8aead6f46f8d4245a07265ecd038c74d": {
          "model_module": "@jupyter-widgets/base",
          "model_name": "LayoutModel",
          "state": {
            "_view_name": "LayoutView",
            "grid_template_rows": null,
            "right": null,
            "justify_content": null,
            "_view_module": "@jupyter-widgets/base",
            "overflow": null,
            "_model_module_version": "1.2.0",
            "_view_count": null,
            "flex_flow": null,
            "width": null,
            "min_width": null,
            "border": null,
            "align_items": null,
            "bottom": null,
            "_model_module": "@jupyter-widgets/base",
            "top": null,
            "grid_column": null,
            "overflow_y": null,
            "overflow_x": null,
            "grid_auto_flow": null,
            "grid_area": null,
            "grid_template_columns": null,
            "flex": null,
            "_model_name": "LayoutModel",
            "justify_items": null,
            "grid_row": null,
            "max_height": null,
            "align_content": null,
            "visibility": null,
            "align_self": null,
            "height": null,
            "min_height": null,
            "padding": null,
            "grid_auto_rows": null,
            "grid_gap": null,
            "max_width": null,
            "order": null,
            "_view_module_version": "1.2.0",
            "grid_template_areas": null,
            "object_position": null,
            "object_fit": null,
            "grid_auto_columns": null,
            "margin": null,
            "display": null,
            "left": null
          }
        },
        "2787279dd66c4007b551680f2d22dd0c": {
          "model_module": "@jupyter-widgets/controls",
          "model_name": "FloatProgressModel",
          "state": {
            "_view_name": "ProgressView",
            "style": "IPY_MODEL_6b983f281be3464b8219ee6d7c81328d",
            "_dom_classes": [],
            "description": "100%",
            "_model_name": "FloatProgressModel",
            "bar_style": "success",
            "max": 3,
            "_view_module": "@jupyter-widgets/controls",
            "_model_module_version": "1.5.0",
            "value": 3,
            "_view_count": null,
            "_view_module_version": "1.5.0",
            "orientation": "horizontal",
            "min": 0,
            "description_tooltip": null,
            "_model_module": "@jupyter-widgets/controls",
            "layout": "IPY_MODEL_f27bb3558d92474bb2746a2fbca463b4"
          }
        },
        "cad6bddd089f4a72840a5a6b39c461ad": {
          "model_module": "@jupyter-widgets/controls",
          "model_name": "HTMLModel",
          "state": {
            "_view_name": "HTMLView",
            "style": "IPY_MODEL_3d84849c806b4c9d8b8639c315e74669",
            "_dom_classes": [],
            "description": "",
            "_model_name": "HTMLModel",
            "placeholder": "​",
            "_view_module": "@jupyter-widgets/controls",
            "_model_module_version": "1.5.0",
            "value": " 3/3 [10:44&lt;00:00, 214.91s/it]",
            "_view_count": null,
            "_view_module_version": "1.5.0",
            "description_tooltip": null,
            "_model_module": "@jupyter-widgets/controls",
            "layout": "IPY_MODEL_5ced9cdec2614dfda3b23651635a8eb2"
          }
        },
        "6b983f281be3464b8219ee6d7c81328d": {
          "model_module": "@jupyter-widgets/controls",
          "model_name": "ProgressStyleModel",
          "state": {
            "_view_name": "StyleView",
            "_model_name": "ProgressStyleModel",
            "description_width": "initial",
            "_view_module": "@jupyter-widgets/base",
            "_model_module_version": "1.5.0",
            "_view_count": null,
            "_view_module_version": "1.2.0",
            "bar_color": null,
            "_model_module": "@jupyter-widgets/controls"
          }
        },
        "f27bb3558d92474bb2746a2fbca463b4": {
          "model_module": "@jupyter-widgets/base",
          "model_name": "LayoutModel",
          "state": {
            "_view_name": "LayoutView",
            "grid_template_rows": null,
            "right": null,
            "justify_content": null,
            "_view_module": "@jupyter-widgets/base",
            "overflow": null,
            "_model_module_version": "1.2.0",
            "_view_count": null,
            "flex_flow": null,
            "width": null,
            "min_width": null,
            "border": null,
            "align_items": null,
            "bottom": null,
            "_model_module": "@jupyter-widgets/base",
            "top": null,
            "grid_column": null,
            "overflow_y": null,
            "overflow_x": null,
            "grid_auto_flow": null,
            "grid_area": null,
            "grid_template_columns": null,
            "flex": null,
            "_model_name": "LayoutModel",
            "justify_items": null,
            "grid_row": null,
            "max_height": null,
            "align_content": null,
            "visibility": null,
            "align_self": null,
            "height": null,
            "min_height": null,
            "padding": null,
            "grid_auto_rows": null,
            "grid_gap": null,
            "max_width": null,
            "order": null,
            "_view_module_version": "1.2.0",
            "grid_template_areas": null,
            "object_position": null,
            "object_fit": null,
            "grid_auto_columns": null,
            "margin": null,
            "display": null,
            "left": null
          }
        },
        "3d84849c806b4c9d8b8639c315e74669": {
          "model_module": "@jupyter-widgets/controls",
          "model_name": "DescriptionStyleModel",
          "state": {
            "_view_name": "StyleView",
            "_model_name": "DescriptionStyleModel",
            "description_width": "",
            "_view_module": "@jupyter-widgets/base",
            "_model_module_version": "1.5.0",
            "_view_count": null,
            "_view_module_version": "1.2.0",
            "_model_module": "@jupyter-widgets/controls"
          }
        },
        "5ced9cdec2614dfda3b23651635a8eb2": {
          "model_module": "@jupyter-widgets/base",
          "model_name": "LayoutModel",
          "state": {
            "_view_name": "LayoutView",
            "grid_template_rows": null,
            "right": null,
            "justify_content": null,
            "_view_module": "@jupyter-widgets/base",
            "overflow": null,
            "_model_module_version": "1.2.0",
            "_view_count": null,
            "flex_flow": null,
            "width": null,
            "min_width": null,
            "border": null,
            "align_items": null,
            "bottom": null,
            "_model_module": "@jupyter-widgets/base",
            "top": null,
            "grid_column": null,
            "overflow_y": null,
            "overflow_x": null,
            "grid_auto_flow": null,
            "grid_area": null,
            "grid_template_columns": null,
            "flex": null,
            "_model_name": "LayoutModel",
            "justify_items": null,
            "grid_row": null,
            "max_height": null,
            "align_content": null,
            "visibility": null,
            "align_self": null,
            "height": null,
            "min_height": null,
            "padding": null,
            "grid_auto_rows": null,
            "grid_gap": null,
            "max_width": null,
            "order": null,
            "_view_module_version": "1.2.0",
            "grid_template_areas": null,
            "object_position": null,
            "object_fit": null,
            "grid_auto_columns": null,
            "margin": null,
            "display": null,
            "left": null
          }
        },
        "d5edec33d7114a5f8e67fca01e4416bf": {
          "model_module": "@jupyter-widgets/controls",
          "model_name": "HBoxModel",
          "state": {
            "_view_name": "HBoxView",
            "_dom_classes": [],
            "_model_name": "HBoxModel",
            "_view_module": "@jupyter-widgets/controls",
            "_model_module_version": "1.5.0",
            "_view_count": null,
            "_view_module_version": "1.5.0",
            "box_style": "",
            "layout": "IPY_MODEL_648ee38c75b0422c90ce40735e91e13f",
            "_model_module": "@jupyter-widgets/controls",
            "children": [
              "IPY_MODEL_0b9a2135c3b84a39910a5ad14e3532d5",
              "IPY_MODEL_6806ae6b7b124c9dba3837a8cff9adc6"
            ]
          }
        },
        "648ee38c75b0422c90ce40735e91e13f": {
          "model_module": "@jupyter-widgets/base",
          "model_name": "LayoutModel",
          "state": {
            "_view_name": "LayoutView",
            "grid_template_rows": null,
            "right": null,
            "justify_content": null,
            "_view_module": "@jupyter-widgets/base",
            "overflow": null,
            "_model_module_version": "1.2.0",
            "_view_count": null,
            "flex_flow": null,
            "width": null,
            "min_width": null,
            "border": null,
            "align_items": null,
            "bottom": null,
            "_model_module": "@jupyter-widgets/base",
            "top": null,
            "grid_column": null,
            "overflow_y": null,
            "overflow_x": null,
            "grid_auto_flow": null,
            "grid_area": null,
            "grid_template_columns": null,
            "flex": null,
            "_model_name": "LayoutModel",
            "justify_items": null,
            "grid_row": null,
            "max_height": null,
            "align_content": null,
            "visibility": null,
            "align_self": null,
            "height": null,
            "min_height": null,
            "padding": null,
            "grid_auto_rows": null,
            "grid_gap": null,
            "max_width": null,
            "order": null,
            "_view_module_version": "1.2.0",
            "grid_template_areas": null,
            "object_position": null,
            "object_fit": null,
            "grid_auto_columns": null,
            "margin": null,
            "display": null,
            "left": null
          }
        },
        "0b9a2135c3b84a39910a5ad14e3532d5": {
          "model_module": "@jupyter-widgets/controls",
          "model_name": "FloatProgressModel",
          "state": {
            "_view_name": "ProgressView",
            "style": "IPY_MODEL_a4a5cee7253b42b09bcaaaf375461af4",
            "_dom_classes": [],
            "description": "100%",
            "_model_name": "FloatProgressModel",
            "bar_style": "success",
            "max": 9989,
            "_view_module": "@jupyter-widgets/controls",
            "_model_module_version": "1.5.0",
            "value": 9989,
            "_view_count": null,
            "_view_module_version": "1.5.0",
            "orientation": "horizontal",
            "min": 0,
            "description_tooltip": null,
            "_model_module": "@jupyter-widgets/controls",
            "layout": "IPY_MODEL_ff8abf963f7d4dd9a4462f3baa4638f6"
          }
        },
        "6806ae6b7b124c9dba3837a8cff9adc6": {
          "model_module": "@jupyter-widgets/controls",
          "model_name": "HTMLModel",
          "state": {
            "_view_name": "HTMLView",
            "style": "IPY_MODEL_2c1434bbd99142df81a0d2679cb3af99",
            "_dom_classes": [],
            "description": "",
            "_model_name": "HTMLModel",
            "placeholder": "​",
            "_view_module": "@jupyter-widgets/controls",
            "_model_module_version": "1.5.0",
            "value": " 9989/9989 [08:24&lt;00:00, 19.81it/s]",
            "_view_count": null,
            "_view_module_version": "1.5.0",
            "description_tooltip": null,
            "_model_module": "@jupyter-widgets/controls",
            "layout": "IPY_MODEL_907b8882df014c45959b8816d92727cf"
          }
        },
        "a4a5cee7253b42b09bcaaaf375461af4": {
          "model_module": "@jupyter-widgets/controls",
          "model_name": "ProgressStyleModel",
          "state": {
            "_view_name": "StyleView",
            "_model_name": "ProgressStyleModel",
            "description_width": "initial",
            "_view_module": "@jupyter-widgets/base",
            "_model_module_version": "1.5.0",
            "_view_count": null,
            "_view_module_version": "1.2.0",
            "bar_color": null,
            "_model_module": "@jupyter-widgets/controls"
          }
        },
        "ff8abf963f7d4dd9a4462f3baa4638f6": {
          "model_module": "@jupyter-widgets/base",
          "model_name": "LayoutModel",
          "state": {
            "_view_name": "LayoutView",
            "grid_template_rows": null,
            "right": null,
            "justify_content": null,
            "_view_module": "@jupyter-widgets/base",
            "overflow": null,
            "_model_module_version": "1.2.0",
            "_view_count": null,
            "flex_flow": null,
            "width": null,
            "min_width": null,
            "border": null,
            "align_items": null,
            "bottom": null,
            "_model_module": "@jupyter-widgets/base",
            "top": null,
            "grid_column": null,
            "overflow_y": null,
            "overflow_x": null,
            "grid_auto_flow": null,
            "grid_area": null,
            "grid_template_columns": null,
            "flex": null,
            "_model_name": "LayoutModel",
            "justify_items": null,
            "grid_row": null,
            "max_height": null,
            "align_content": null,
            "visibility": null,
            "align_self": null,
            "height": null,
            "min_height": null,
            "padding": null,
            "grid_auto_rows": null,
            "grid_gap": null,
            "max_width": null,
            "order": null,
            "_view_module_version": "1.2.0",
            "grid_template_areas": null,
            "object_position": null,
            "object_fit": null,
            "grid_auto_columns": null,
            "margin": null,
            "display": null,
            "left": null
          }
        },
        "2c1434bbd99142df81a0d2679cb3af99": {
          "model_module": "@jupyter-widgets/controls",
          "model_name": "DescriptionStyleModel",
          "state": {
            "_view_name": "StyleView",
            "_model_name": "DescriptionStyleModel",
            "description_width": "",
            "_view_module": "@jupyter-widgets/base",
            "_model_module_version": "1.5.0",
            "_view_count": null,
            "_view_module_version": "1.2.0",
            "_model_module": "@jupyter-widgets/controls"
          }
        },
        "907b8882df014c45959b8816d92727cf": {
          "model_module": "@jupyter-widgets/base",
          "model_name": "LayoutModel",
          "state": {
            "_view_name": "LayoutView",
            "grid_template_rows": null,
            "right": null,
            "justify_content": null,
            "_view_module": "@jupyter-widgets/base",
            "overflow": null,
            "_model_module_version": "1.2.0",
            "_view_count": null,
            "flex_flow": null,
            "width": null,
            "min_width": null,
            "border": null,
            "align_items": null,
            "bottom": null,
            "_model_module": "@jupyter-widgets/base",
            "top": null,
            "grid_column": null,
            "overflow_y": null,
            "overflow_x": null,
            "grid_auto_flow": null,
            "grid_area": null,
            "grid_template_columns": null,
            "flex": null,
            "_model_name": "LayoutModel",
            "justify_items": null,
            "grid_row": null,
            "max_height": null,
            "align_content": null,
            "visibility": null,
            "align_self": null,
            "height": null,
            "min_height": null,
            "padding": null,
            "grid_auto_rows": null,
            "grid_gap": null,
            "max_width": null,
            "order": null,
            "_view_module_version": "1.2.0",
            "grid_template_areas": null,
            "object_position": null,
            "object_fit": null,
            "grid_auto_columns": null,
            "margin": null,
            "display": null,
            "left": null
          }
        },
        "732b19f6bb0e4becb2856f175cbd0958": {
          "model_module": "@jupyter-widgets/controls",
          "model_name": "HBoxModel",
          "state": {
            "_view_name": "HBoxView",
            "_dom_classes": [],
            "_model_name": "HBoxModel",
            "_view_module": "@jupyter-widgets/controls",
            "_model_module_version": "1.5.0",
            "_view_count": null,
            "_view_module_version": "1.5.0",
            "box_style": "",
            "layout": "IPY_MODEL_7da06375b648455faecc15e8568eb9e1",
            "_model_module": "@jupyter-widgets/controls",
            "children": [
              "IPY_MODEL_9e87216dfb894ff39ae6958bda0e9f29",
              "IPY_MODEL_525911ddc9784752825d41cdb9022eff"
            ]
          }
        },
        "7da06375b648455faecc15e8568eb9e1": {
          "model_module": "@jupyter-widgets/base",
          "model_name": "LayoutModel",
          "state": {
            "_view_name": "LayoutView",
            "grid_template_rows": null,
            "right": null,
            "justify_content": null,
            "_view_module": "@jupyter-widgets/base",
            "overflow": null,
            "_model_module_version": "1.2.0",
            "_view_count": null,
            "flex_flow": null,
            "width": null,
            "min_width": null,
            "border": null,
            "align_items": null,
            "bottom": null,
            "_model_module": "@jupyter-widgets/base",
            "top": null,
            "grid_column": null,
            "overflow_y": null,
            "overflow_x": null,
            "grid_auto_flow": null,
            "grid_area": null,
            "grid_template_columns": null,
            "flex": null,
            "_model_name": "LayoutModel",
            "justify_items": null,
            "grid_row": null,
            "max_height": null,
            "align_content": null,
            "visibility": null,
            "align_self": null,
            "height": null,
            "min_height": null,
            "padding": null,
            "grid_auto_rows": null,
            "grid_gap": null,
            "max_width": null,
            "order": null,
            "_view_module_version": "1.2.0",
            "grid_template_areas": null,
            "object_position": null,
            "object_fit": null,
            "grid_auto_columns": null,
            "margin": null,
            "display": null,
            "left": null
          }
        },
        "9e87216dfb894ff39ae6958bda0e9f29": {
          "model_module": "@jupyter-widgets/controls",
          "model_name": "FloatProgressModel",
          "state": {
            "_view_name": "ProgressView",
            "style": "IPY_MODEL_bdf172e0ea2a406bbdb99394d8efadcf",
            "_dom_classes": [],
            "description": "100%",
            "_model_name": "FloatProgressModel",
            "bar_style": "success",
            "max": 1108,
            "_view_module": "@jupyter-widgets/controls",
            "_model_module_version": "1.5.0",
            "value": 1108,
            "_view_count": null,
            "_view_module_version": "1.5.0",
            "orientation": "horizontal",
            "min": 0,
            "description_tooltip": null,
            "_model_module": "@jupyter-widgets/controls",
            "layout": "IPY_MODEL_2ba56814c96e45ecace780de1f52acc9"
          }
        },
        "525911ddc9784752825d41cdb9022eff": {
          "model_module": "@jupyter-widgets/controls",
          "model_name": "HTMLModel",
          "state": {
            "_view_name": "HTMLView",
            "style": "IPY_MODEL_8e05aa04a126453891d6ec5112857110",
            "_dom_classes": [],
            "description": "",
            "_model_name": "HTMLModel",
            "placeholder": "​",
            "_view_module": "@jupyter-widgets/controls",
            "_model_module_version": "1.5.0",
            "value": " 1108/1108 [01:13&lt;00:00, 15.13it/s]",
            "_view_count": null,
            "_view_module_version": "1.5.0",
            "description_tooltip": null,
            "_model_module": "@jupyter-widgets/controls",
            "layout": "IPY_MODEL_e4efad7694d54ed4a2b78ed37909b291"
          }
        },
        "bdf172e0ea2a406bbdb99394d8efadcf": {
          "model_module": "@jupyter-widgets/controls",
          "model_name": "ProgressStyleModel",
          "state": {
            "_view_name": "StyleView",
            "_model_name": "ProgressStyleModel",
            "description_width": "initial",
            "_view_module": "@jupyter-widgets/base",
            "_model_module_version": "1.5.0",
            "_view_count": null,
            "_view_module_version": "1.2.0",
            "bar_color": null,
            "_model_module": "@jupyter-widgets/controls"
          }
        },
        "2ba56814c96e45ecace780de1f52acc9": {
          "model_module": "@jupyter-widgets/base",
          "model_name": "LayoutModel",
          "state": {
            "_view_name": "LayoutView",
            "grid_template_rows": null,
            "right": null,
            "justify_content": null,
            "_view_module": "@jupyter-widgets/base",
            "overflow": null,
            "_model_module_version": "1.2.0",
            "_view_count": null,
            "flex_flow": null,
            "width": null,
            "min_width": null,
            "border": null,
            "align_items": null,
            "bottom": null,
            "_model_module": "@jupyter-widgets/base",
            "top": null,
            "grid_column": null,
            "overflow_y": null,
            "overflow_x": null,
            "grid_auto_flow": null,
            "grid_area": null,
            "grid_template_columns": null,
            "flex": null,
            "_model_name": "LayoutModel",
            "justify_items": null,
            "grid_row": null,
            "max_height": null,
            "align_content": null,
            "visibility": null,
            "align_self": null,
            "height": null,
            "min_height": null,
            "padding": null,
            "grid_auto_rows": null,
            "grid_gap": null,
            "max_width": null,
            "order": null,
            "_view_module_version": "1.2.0",
            "grid_template_areas": null,
            "object_position": null,
            "object_fit": null,
            "grid_auto_columns": null,
            "margin": null,
            "display": null,
            "left": null
          }
        },
        "8e05aa04a126453891d6ec5112857110": {
          "model_module": "@jupyter-widgets/controls",
          "model_name": "DescriptionStyleModel",
          "state": {
            "_view_name": "StyleView",
            "_model_name": "DescriptionStyleModel",
            "description_width": "",
            "_view_module": "@jupyter-widgets/base",
            "_model_module_version": "1.5.0",
            "_view_count": null,
            "_view_module_version": "1.2.0",
            "_model_module": "@jupyter-widgets/controls"
          }
        },
        "e4efad7694d54ed4a2b78ed37909b291": {
          "model_module": "@jupyter-widgets/base",
          "model_name": "LayoutModel",
          "state": {
            "_view_name": "LayoutView",
            "grid_template_rows": null,
            "right": null,
            "justify_content": null,
            "_view_module": "@jupyter-widgets/base",
            "overflow": null,
            "_model_module_version": "1.2.0",
            "_view_count": null,
            "flex_flow": null,
            "width": null,
            "min_width": null,
            "border": null,
            "align_items": null,
            "bottom": null,
            "_model_module": "@jupyter-widgets/base",
            "top": null,
            "grid_column": null,
            "overflow_y": null,
            "overflow_x": null,
            "grid_auto_flow": null,
            "grid_area": null,
            "grid_template_columns": null,
            "flex": null,
            "_model_name": "LayoutModel",
            "justify_items": null,
            "grid_row": null,
            "max_height": null,
            "align_content": null,
            "visibility": null,
            "align_self": null,
            "height": null,
            "min_height": null,
            "padding": null,
            "grid_auto_rows": null,
            "grid_gap": null,
            "max_width": null,
            "order": null,
            "_view_module_version": "1.2.0",
            "grid_template_areas": null,
            "object_position": null,
            "object_fit": null,
            "grid_auto_columns": null,
            "margin": null,
            "display": null,
            "left": null
          }
        },
        "db7c7c19c18147f79e78ee7152ebb84d": {
          "model_module": "@jupyter-widgets/controls",
          "model_name": "HBoxModel",
          "state": {
            "_view_name": "HBoxView",
            "_dom_classes": [],
            "_model_name": "HBoxModel",
            "_view_module": "@jupyter-widgets/controls",
            "_model_module_version": "1.5.0",
            "_view_count": null,
            "_view_module_version": "1.5.0",
            "box_style": "",
            "layout": "IPY_MODEL_7cb4dbe0186c4a04ba2c7cae04392e26",
            "_model_module": "@jupyter-widgets/controls",
            "children": [
              "IPY_MODEL_89cc3fc0d64645a1abeae748a8c7f619",
              "IPY_MODEL_5ecdbad84dbb45fca45bb65e636af442"
            ]
          }
        },
        "7cb4dbe0186c4a04ba2c7cae04392e26": {
          "model_module": "@jupyter-widgets/base",
          "model_name": "LayoutModel",
          "state": {
            "_view_name": "LayoutView",
            "grid_template_rows": null,
            "right": null,
            "justify_content": null,
            "_view_module": "@jupyter-widgets/base",
            "overflow": null,
            "_model_module_version": "1.2.0",
            "_view_count": null,
            "flex_flow": null,
            "width": null,
            "min_width": null,
            "border": null,
            "align_items": null,
            "bottom": null,
            "_model_module": "@jupyter-widgets/base",
            "top": null,
            "grid_column": null,
            "overflow_y": null,
            "overflow_x": null,
            "grid_auto_flow": null,
            "grid_area": null,
            "grid_template_columns": null,
            "flex": null,
            "_model_name": "LayoutModel",
            "justify_items": null,
            "grid_row": null,
            "max_height": null,
            "align_content": null,
            "visibility": null,
            "align_self": null,
            "height": null,
            "min_height": null,
            "padding": null,
            "grid_auto_rows": null,
            "grid_gap": null,
            "max_width": null,
            "order": null,
            "_view_module_version": "1.2.0",
            "grid_template_areas": null,
            "object_position": null,
            "object_fit": null,
            "grid_auto_columns": null,
            "margin": null,
            "display": null,
            "left": null
          }
        },
        "89cc3fc0d64645a1abeae748a8c7f619": {
          "model_module": "@jupyter-widgets/controls",
          "model_name": "FloatProgressModel",
          "state": {
            "_view_name": "ProgressView",
            "style": "IPY_MODEL_a45bb85c2aba4b62a509dff8a1fb694d",
            "_dom_classes": [],
            "description": "100%",
            "_model_name": "FloatProgressModel",
            "bar_style": "success",
            "max": 2610,
            "_view_module": "@jupyter-widgets/controls",
            "_model_module_version": "1.5.0",
            "value": 2610,
            "_view_count": null,
            "_view_module_version": "1.5.0",
            "orientation": "horizontal",
            "min": 0,
            "description_tooltip": null,
            "_model_module": "@jupyter-widgets/controls",
            "layout": "IPY_MODEL_077ef93d5486497a97ad2f72a6ffd1ab"
          }
        },
        "5ecdbad84dbb45fca45bb65e636af442": {
          "model_module": "@jupyter-widgets/controls",
          "model_name": "HTMLModel",
          "state": {
            "_view_name": "HTMLView",
            "style": "IPY_MODEL_06943d562c9f4d9ea0f299947b617667",
            "_dom_classes": [],
            "description": "",
            "_model_name": "HTMLModel",
            "placeholder": "​",
            "_view_module": "@jupyter-widgets/controls",
            "_model_module_version": "1.5.0",
            "value": " 2610/2610 [02:03&lt;00:00, 21.22it/s]",
            "_view_count": null,
            "_view_module_version": "1.5.0",
            "description_tooltip": null,
            "_model_module": "@jupyter-widgets/controls",
            "layout": "IPY_MODEL_f5699205173d4e60a96dfe44ee91aca4"
          }
        },
        "a45bb85c2aba4b62a509dff8a1fb694d": {
          "model_module": "@jupyter-widgets/controls",
          "model_name": "ProgressStyleModel",
          "state": {
            "_view_name": "StyleView",
            "_model_name": "ProgressStyleModel",
            "description_width": "initial",
            "_view_module": "@jupyter-widgets/base",
            "_model_module_version": "1.5.0",
            "_view_count": null,
            "_view_module_version": "1.2.0",
            "bar_color": null,
            "_model_module": "@jupyter-widgets/controls"
          }
        },
        "077ef93d5486497a97ad2f72a6ffd1ab": {
          "model_module": "@jupyter-widgets/base",
          "model_name": "LayoutModel",
          "state": {
            "_view_name": "LayoutView",
            "grid_template_rows": null,
            "right": null,
            "justify_content": null,
            "_view_module": "@jupyter-widgets/base",
            "overflow": null,
            "_model_module_version": "1.2.0",
            "_view_count": null,
            "flex_flow": null,
            "width": null,
            "min_width": null,
            "border": null,
            "align_items": null,
            "bottom": null,
            "_model_module": "@jupyter-widgets/base",
            "top": null,
            "grid_column": null,
            "overflow_y": null,
            "overflow_x": null,
            "grid_auto_flow": null,
            "grid_area": null,
            "grid_template_columns": null,
            "flex": null,
            "_model_name": "LayoutModel",
            "justify_items": null,
            "grid_row": null,
            "max_height": null,
            "align_content": null,
            "visibility": null,
            "align_self": null,
            "height": null,
            "min_height": null,
            "padding": null,
            "grid_auto_rows": null,
            "grid_gap": null,
            "max_width": null,
            "order": null,
            "_view_module_version": "1.2.0",
            "grid_template_areas": null,
            "object_position": null,
            "object_fit": null,
            "grid_auto_columns": null,
            "margin": null,
            "display": null,
            "left": null
          }
        },
        "06943d562c9f4d9ea0f299947b617667": {
          "model_module": "@jupyter-widgets/controls",
          "model_name": "DescriptionStyleModel",
          "state": {
            "_view_name": "StyleView",
            "_model_name": "DescriptionStyleModel",
            "description_width": "",
            "_view_module": "@jupyter-widgets/base",
            "_model_module_version": "1.5.0",
            "_view_count": null,
            "_view_module_version": "1.2.0",
            "_model_module": "@jupyter-widgets/controls"
          }
        },
        "f5699205173d4e60a96dfe44ee91aca4": {
          "model_module": "@jupyter-widgets/base",
          "model_name": "LayoutModel",
          "state": {
            "_view_name": "LayoutView",
            "grid_template_rows": null,
            "right": null,
            "justify_content": null,
            "_view_module": "@jupyter-widgets/base",
            "overflow": null,
            "_model_module_version": "1.2.0",
            "_view_count": null,
            "flex_flow": null,
            "width": null,
            "min_width": null,
            "border": null,
            "align_items": null,
            "bottom": null,
            "_model_module": "@jupyter-widgets/base",
            "top": null,
            "grid_column": null,
            "overflow_y": null,
            "overflow_x": null,
            "grid_auto_flow": null,
            "grid_area": null,
            "grid_template_columns": null,
            "flex": null,
            "_model_name": "LayoutModel",
            "justify_items": null,
            "grid_row": null,
            "max_height": null,
            "align_content": null,
            "visibility": null,
            "align_self": null,
            "height": null,
            "min_height": null,
            "padding": null,
            "grid_auto_rows": null,
            "grid_gap": null,
            "max_width": null,
            "order": null,
            "_view_module_version": "1.2.0",
            "grid_template_areas": null,
            "object_position": null,
            "object_fit": null,
            "grid_auto_columns": null,
            "margin": null,
            "display": null,
            "left": null
          }
        },
        "cf545ab780a54318917914ba02289c6c": {
          "model_module": "@jupyter-widgets/controls",
          "model_name": "HBoxModel",
          "state": {
            "_view_name": "HBoxView",
            "_dom_classes": [],
            "_model_name": "HBoxModel",
            "_view_module": "@jupyter-widgets/controls",
            "_model_module_version": "1.5.0",
            "_view_count": null,
            "_view_module_version": "1.5.0",
            "box_style": "",
            "layout": "IPY_MODEL_d801cf4206564d1d9610e13997f3047b",
            "_model_module": "@jupyter-widgets/controls",
            "children": [
              "IPY_MODEL_8f6ca8ee14d94f3cb088f30bfd04f8b4",
              "IPY_MODEL_2ccbacb8257541ab86ac22f8ec7527ad"
            ]
          }
        },
        "d801cf4206564d1d9610e13997f3047b": {
          "model_module": "@jupyter-widgets/base",
          "model_name": "LayoutModel",
          "state": {
            "_view_name": "LayoutView",
            "grid_template_rows": null,
            "right": null,
            "justify_content": null,
            "_view_module": "@jupyter-widgets/base",
            "overflow": null,
            "_model_module_version": "1.2.0",
            "_view_count": null,
            "flex_flow": null,
            "width": null,
            "min_width": null,
            "border": null,
            "align_items": null,
            "bottom": null,
            "_model_module": "@jupyter-widgets/base",
            "top": null,
            "grid_column": null,
            "overflow_y": null,
            "overflow_x": null,
            "grid_auto_flow": null,
            "grid_area": null,
            "grid_template_columns": null,
            "flex": null,
            "_model_name": "LayoutModel",
            "justify_items": null,
            "grid_row": null,
            "max_height": null,
            "align_content": null,
            "visibility": null,
            "align_self": null,
            "height": null,
            "min_height": null,
            "padding": null,
            "grid_auto_rows": null,
            "grid_gap": null,
            "max_width": null,
            "order": null,
            "_view_module_version": "1.2.0",
            "grid_template_areas": null,
            "object_position": null,
            "object_fit": null,
            "grid_auto_columns": null,
            "margin": null,
            "display": null,
            "left": null
          }
        },
        "8f6ca8ee14d94f3cb088f30bfd04f8b4": {
          "model_module": "@jupyter-widgets/controls",
          "model_name": "FloatProgressModel",
          "state": {
            "_view_name": "ProgressView",
            "style": "IPY_MODEL_8523ace443ea436891cab9728e6ae6e3",
            "_dom_classes": [],
            "description": "100%",
            "_model_name": "FloatProgressModel",
            "bar_style": "success",
            "max": 3,
            "_view_module": "@jupyter-widgets/controls",
            "_model_module_version": "1.5.0",
            "value": 3,
            "_view_count": null,
            "_view_module_version": "1.5.0",
            "orientation": "horizontal",
            "min": 0,
            "description_tooltip": null,
            "_model_module": "@jupyter-widgets/controls",
            "layout": "IPY_MODEL_689e52465f324bbd849f322ae90eb724"
          }
        },
        "2ccbacb8257541ab86ac22f8ec7527ad": {
          "model_module": "@jupyter-widgets/controls",
          "model_name": "HTMLModel",
          "state": {
            "_view_name": "HTMLView",
            "style": "IPY_MODEL_2aeae248764249ea90629a9b942872d6",
            "_dom_classes": [],
            "description": "",
            "_model_name": "HTMLModel",
            "placeholder": "​",
            "_view_module": "@jupyter-widgets/controls",
            "_model_module_version": "1.5.0",
            "value": " 3/3 [00:00&lt;00:00, 18.37it/s]",
            "_view_count": null,
            "_view_module_version": "1.5.0",
            "description_tooltip": null,
            "_model_module": "@jupyter-widgets/controls",
            "layout": "IPY_MODEL_b74d73981fee449597aeab47a5c9b5bc"
          }
        },
        "8523ace443ea436891cab9728e6ae6e3": {
          "model_module": "@jupyter-widgets/controls",
          "model_name": "ProgressStyleModel",
          "state": {
            "_view_name": "StyleView",
            "_model_name": "ProgressStyleModel",
            "description_width": "initial",
            "_view_module": "@jupyter-widgets/base",
            "_model_module_version": "1.5.0",
            "_view_count": null,
            "_view_module_version": "1.2.0",
            "bar_color": null,
            "_model_module": "@jupyter-widgets/controls"
          }
        },
        "689e52465f324bbd849f322ae90eb724": {
          "model_module": "@jupyter-widgets/base",
          "model_name": "LayoutModel",
          "state": {
            "_view_name": "LayoutView",
            "grid_template_rows": null,
            "right": null,
            "justify_content": null,
            "_view_module": "@jupyter-widgets/base",
            "overflow": null,
            "_model_module_version": "1.2.0",
            "_view_count": null,
            "flex_flow": null,
            "width": null,
            "min_width": null,
            "border": null,
            "align_items": null,
            "bottom": null,
            "_model_module": "@jupyter-widgets/base",
            "top": null,
            "grid_column": null,
            "overflow_y": null,
            "overflow_x": null,
            "grid_auto_flow": null,
            "grid_area": null,
            "grid_template_columns": null,
            "flex": null,
            "_model_name": "LayoutModel",
            "justify_items": null,
            "grid_row": null,
            "max_height": null,
            "align_content": null,
            "visibility": null,
            "align_self": null,
            "height": null,
            "min_height": null,
            "padding": null,
            "grid_auto_rows": null,
            "grid_gap": null,
            "max_width": null,
            "order": null,
            "_view_module_version": "1.2.0",
            "grid_template_areas": null,
            "object_position": null,
            "object_fit": null,
            "grid_auto_columns": null,
            "margin": null,
            "display": null,
            "left": null
          }
        },
        "2aeae248764249ea90629a9b942872d6": {
          "model_module": "@jupyter-widgets/controls",
          "model_name": "DescriptionStyleModel",
          "state": {
            "_view_name": "StyleView",
            "_model_name": "DescriptionStyleModel",
            "description_width": "",
            "_view_module": "@jupyter-widgets/base",
            "_model_module_version": "1.5.0",
            "_view_count": null,
            "_view_module_version": "1.2.0",
            "_model_module": "@jupyter-widgets/controls"
          }
        },
        "b74d73981fee449597aeab47a5c9b5bc": {
          "model_module": "@jupyter-widgets/base",
          "model_name": "LayoutModel",
          "state": {
            "_view_name": "LayoutView",
            "grid_template_rows": null,
            "right": null,
            "justify_content": null,
            "_view_module": "@jupyter-widgets/base",
            "overflow": null,
            "_model_module_version": "1.2.0",
            "_view_count": null,
            "flex_flow": null,
            "width": null,
            "min_width": null,
            "border": null,
            "align_items": null,
            "bottom": null,
            "_model_module": "@jupyter-widgets/base",
            "top": null,
            "grid_column": null,
            "overflow_y": null,
            "overflow_x": null,
            "grid_auto_flow": null,
            "grid_area": null,
            "grid_template_columns": null,
            "flex": null,
            "_model_name": "LayoutModel",
            "justify_items": null,
            "grid_row": null,
            "max_height": null,
            "align_content": null,
            "visibility": null,
            "align_self": null,
            "height": null,
            "min_height": null,
            "padding": null,
            "grid_auto_rows": null,
            "grid_gap": null,
            "max_width": null,
            "order": null,
            "_view_module_version": "1.2.0",
            "grid_template_areas": null,
            "object_position": null,
            "object_fit": null,
            "grid_auto_columns": null,
            "margin": null,
            "display": null,
            "left": null
          }
        },
        "8041e77594b14cb48a0bf834bc06d174": {
          "model_module": "@jupyter-widgets/controls",
          "model_name": "HBoxModel",
          "state": {
            "_view_name": "HBoxView",
            "_dom_classes": [],
            "_model_name": "HBoxModel",
            "_view_module": "@jupyter-widgets/controls",
            "_model_module_version": "1.5.0",
            "_view_count": null,
            "_view_module_version": "1.5.0",
            "box_style": "",
            "layout": "IPY_MODEL_ebd85de776c948e8959f66b9fb6544d7",
            "_model_module": "@jupyter-widgets/controls",
            "children": [
              "IPY_MODEL_994a6e3facdb46bca38f9d67409b868b",
              "IPY_MODEL_b105e5ff71dd4c408c09ce239f52adc7"
            ]
          }
        },
        "ebd85de776c948e8959f66b9fb6544d7": {
          "model_module": "@jupyter-widgets/base",
          "model_name": "LayoutModel",
          "state": {
            "_view_name": "LayoutView",
            "grid_template_rows": null,
            "right": null,
            "justify_content": null,
            "_view_module": "@jupyter-widgets/base",
            "overflow": null,
            "_model_module_version": "1.2.0",
            "_view_count": null,
            "flex_flow": null,
            "width": null,
            "min_width": null,
            "border": null,
            "align_items": null,
            "bottom": null,
            "_model_module": "@jupyter-widgets/base",
            "top": null,
            "grid_column": null,
            "overflow_y": null,
            "overflow_x": null,
            "grid_auto_flow": null,
            "grid_area": null,
            "grid_template_columns": null,
            "flex": null,
            "_model_name": "LayoutModel",
            "justify_items": null,
            "grid_row": null,
            "max_height": null,
            "align_content": null,
            "visibility": null,
            "align_self": null,
            "height": null,
            "min_height": null,
            "padding": null,
            "grid_auto_rows": null,
            "grid_gap": null,
            "max_width": null,
            "order": null,
            "_view_module_version": "1.2.0",
            "grid_template_areas": null,
            "object_position": null,
            "object_fit": null,
            "grid_auto_columns": null,
            "margin": null,
            "display": null,
            "left": null
          }
        },
        "994a6e3facdb46bca38f9d67409b868b": {
          "model_module": "@jupyter-widgets/controls",
          "model_name": "FloatProgressModel",
          "state": {
            "_view_name": "ProgressView",
            "style": "IPY_MODEL_60899dd17f154f16a5edaefce07b9bb8",
            "_dom_classes": [],
            "description": "100%",
            "_model_name": "FloatProgressModel",
            "bar_style": "success",
            "max": 3,
            "_view_module": "@jupyter-widgets/controls",
            "_model_module_version": "1.5.0",
            "value": 3,
            "_view_count": null,
            "_view_module_version": "1.5.0",
            "orientation": "horizontal",
            "min": 0,
            "description_tooltip": null,
            "_model_module": "@jupyter-widgets/controls",
            "layout": "IPY_MODEL_7cb2bbf3db794d26a12cadc773215f47"
          }
        },
        "b105e5ff71dd4c408c09ce239f52adc7": {
          "model_module": "@jupyter-widgets/controls",
          "model_name": "HTMLModel",
          "state": {
            "_view_name": "HTMLView",
            "style": "IPY_MODEL_02640a0316a3471a82994d9e9ff7533f",
            "_dom_classes": [],
            "description": "",
            "_model_name": "HTMLModel",
            "placeholder": "​",
            "_view_module": "@jupyter-widgets/controls",
            "_model_module_version": "1.5.0",
            "value": " 3/3 [00:41&lt;00:00, 13.83s/it]",
            "_view_count": null,
            "_view_module_version": "1.5.0",
            "description_tooltip": null,
            "_model_module": "@jupyter-widgets/controls",
            "layout": "IPY_MODEL_53c439d8af3f431bb106fe75952b6644"
          }
        },
        "60899dd17f154f16a5edaefce07b9bb8": {
          "model_module": "@jupyter-widgets/controls",
          "model_name": "ProgressStyleModel",
          "state": {
            "_view_name": "StyleView",
            "_model_name": "ProgressStyleModel",
            "description_width": "initial",
            "_view_module": "@jupyter-widgets/base",
            "_model_module_version": "1.5.0",
            "_view_count": null,
            "_view_module_version": "1.2.0",
            "bar_color": null,
            "_model_module": "@jupyter-widgets/controls"
          }
        },
        "7cb2bbf3db794d26a12cadc773215f47": {
          "model_module": "@jupyter-widgets/base",
          "model_name": "LayoutModel",
          "state": {
            "_view_name": "LayoutView",
            "grid_template_rows": null,
            "right": null,
            "justify_content": null,
            "_view_module": "@jupyter-widgets/base",
            "overflow": null,
            "_model_module_version": "1.2.0",
            "_view_count": null,
            "flex_flow": null,
            "width": null,
            "min_width": null,
            "border": null,
            "align_items": null,
            "bottom": null,
            "_model_module": "@jupyter-widgets/base",
            "top": null,
            "grid_column": null,
            "overflow_y": null,
            "overflow_x": null,
            "grid_auto_flow": null,
            "grid_area": null,
            "grid_template_columns": null,
            "flex": null,
            "_model_name": "LayoutModel",
            "justify_items": null,
            "grid_row": null,
            "max_height": null,
            "align_content": null,
            "visibility": null,
            "align_self": null,
            "height": null,
            "min_height": null,
            "padding": null,
            "grid_auto_rows": null,
            "grid_gap": null,
            "max_width": null,
            "order": null,
            "_view_module_version": "1.2.0",
            "grid_template_areas": null,
            "object_position": null,
            "object_fit": null,
            "grid_auto_columns": null,
            "margin": null,
            "display": null,
            "left": null
          }
        },
        "02640a0316a3471a82994d9e9ff7533f": {
          "model_module": "@jupyter-widgets/controls",
          "model_name": "DescriptionStyleModel",
          "state": {
            "_view_name": "StyleView",
            "_model_name": "DescriptionStyleModel",
            "description_width": "",
            "_view_module": "@jupyter-widgets/base",
            "_model_module_version": "1.5.0",
            "_view_count": null,
            "_view_module_version": "1.2.0",
            "_model_module": "@jupyter-widgets/controls"
          }
        },
        "53c439d8af3f431bb106fe75952b6644": {
          "model_module": "@jupyter-widgets/base",
          "model_name": "LayoutModel",
          "state": {
            "_view_name": "LayoutView",
            "grid_template_rows": null,
            "right": null,
            "justify_content": null,
            "_view_module": "@jupyter-widgets/base",
            "overflow": null,
            "_model_module_version": "1.2.0",
            "_view_count": null,
            "flex_flow": null,
            "width": null,
            "min_width": null,
            "border": null,
            "align_items": null,
            "bottom": null,
            "_model_module": "@jupyter-widgets/base",
            "top": null,
            "grid_column": null,
            "overflow_y": null,
            "overflow_x": null,
            "grid_auto_flow": null,
            "grid_area": null,
            "grid_template_columns": null,
            "flex": null,
            "_model_name": "LayoutModel",
            "justify_items": null,
            "grid_row": null,
            "max_height": null,
            "align_content": null,
            "visibility": null,
            "align_self": null,
            "height": null,
            "min_height": null,
            "padding": null,
            "grid_auto_rows": null,
            "grid_gap": null,
            "max_width": null,
            "order": null,
            "_view_module_version": "1.2.0",
            "grid_template_areas": null,
            "object_position": null,
            "object_fit": null,
            "grid_auto_columns": null,
            "margin": null,
            "display": null,
            "left": null
          }
        }
      }
    },
    "accelerator": "GPU"
  },
  "cells": [
    {
      "cell_type": "markdown",
      "metadata": {
        "id": "view-in-github",
        "colab_type": "text"
      },
      "source": [
        "<a href=\"https://colab.research.google.com/github/leolani/cltl-face-all/blob/master/examples/colab/4.ERC-MELD-colab.ipynb\" target=\"_parent\"><img src=\"https://colab.research.google.com/assets/colab-badge.svg\" alt=\"Open In Colab\"/></a>"
      ]
    },
    {
      "cell_type": "markdown",
      "metadata": {
        "id": "ZrxsvcwFpBEm"
      },
      "source": [
        "# We will train our simples models here together.\n",
        "\n",
        "We'll start with the small pre-defined dataset."
      ]
    },
    {
      "cell_type": "markdown",
      "metadata": {
        "id": "tjBTsRr7msfa"
      },
      "source": [
        "## Clone the repo, download the necessary files, etc."
      ]
    },
    {
      "cell_type": "code",
      "metadata": {
        "id": "4HBvOvmSmm1k",
        "colab": {
          "base_uri": "https://localhost:8080/"
        },
        "outputId": "68756aea-9427-4279-a936-c7c9bd442f38"
      },
      "source": [
        "%cd /content\n",
        "!git clone https://github.com/leolani/cltl-face-all\n",
        "!cd cltl-face-all/ && pip install .\n",
        "!pip install omegaconf==2.0.5\n",
        "!pip install tqdm av\n",
        "\n",
        "# Download the annotations and stuff\n",
        "!wget https://raw.githubusercontent.com/declare-lab/MELD/master/data/MELD/train_sent_emo.csv\n",
        "!wget https://raw.githubusercontent.com/leolani/cltl-face-all/master/examples/smaller-datasets-jsons/dataset-small.json\n",
        "!wget https://raw.githubusercontent.com/leolani/cltl-face-all/master/examples/smaller-datasets-jsons/dataset-medium.json\n",
        "!wget https://raw.githubusercontent.com/leolani/cltl-face-all/master/examples/smaller-datasets-jsons/dataset-large.json\n",
        "!wget https://raw.githubusercontent.com/leolani/cltl-face-all/master/examples/smaller-datasets-jsons/datasets.json\n",
        "\n",
        "!gdown --id 1rsLbfgQYztDtrPFqEmkh-2d_0ap1qd_s\n",
        "!unzip visual-features-smaller-dataset.zip\n",
        "!rm visual-features-smaller-dataset.zip\n",
        "\n",
        "!gdown --id 16ck7plW9v9eSHGCs5wuB2AhhufPRt3Wi\n",
        "!unzip smaller-dataset.zip\n",
        "!rm smaller-dataset.zip\n",
        "\n",
        "!ls smaller-dataset/  |  wc -l\n",
        "!ls visual-features-smaller-dataset | wc -l"
      ],
      "execution_count": null,
      "outputs": [
        {
          "output_type": "stream",
          "text": [
            "/content\n",
            "fatal: destination path 'cltl-face-all' already exists and is not an empty directory.\n",
            "Processing /content/cltl-face-all\n",
            "Building wheels for collected packages: cltl-face-all\n",
            "  Building wheel for cltl-face-all (setup.py) ... \u001b[?25l\u001b[?25hdone\n",
            "  Created wheel for cltl-face-all: filename=cltl_face_all-0.0.0-cp36-none-any.whl size=53234 sha256=0ac0ab7f48be5917cabf368336c66ee674b46b82e08524399f71dd4c242657b1\n",
            "  Stored in directory: /root/.cache/pip/wheels/8d/71/f3/2db0b17856a0b395aaa04c8562716e0350cfc712cdd4b9947e\n",
            "Successfully built cltl-face-all\n",
            "Installing collected packages: cltl-face-all\n",
            "  Found existing installation: cltl-face-all 0.0.0\n",
            "    Uninstalling cltl-face-all-0.0.0:\n",
            "      Successfully uninstalled cltl-face-all-0.0.0\n",
            "Successfully installed cltl-face-all-0.0.0\n",
            "Requirement already satisfied: omegaconf==2.0.5 in /usr/local/lib/python3.6/dist-packages (2.0.5)\n",
            "Requirement already satisfied: dataclasses; python_version == \"3.6\" in /usr/local/lib/python3.6/dist-packages (from omegaconf==2.0.5) (0.8)\n",
            "Requirement already satisfied: typing-extensions in /usr/local/lib/python3.6/dist-packages (from omegaconf==2.0.5) (3.7.4.3)\n",
            "Requirement already satisfied: PyYAML>=5.1.* in /usr/local/lib/python3.6/dist-packages (from omegaconf==2.0.5) (5.3.1)\n",
            "Requirement already satisfied: tqdm in /usr/local/lib/python3.6/dist-packages (4.41.1)\n",
            "Requirement already satisfied: av in /usr/local/lib/python3.6/dist-packages (8.0.2)\n",
            "--2020-12-10 17:15:17--  https://raw.githubusercontent.com/declare-lab/MELD/master/data/MELD/train_sent_emo.csv\n",
            "Resolving raw.githubusercontent.com (raw.githubusercontent.com)... 151.101.0.133, 151.101.64.133, 151.101.128.133, ...\n",
            "Connecting to raw.githubusercontent.com (raw.githubusercontent.com)|151.101.0.133|:443... connected.\n",
            "HTTP request sent, awaiting response... 200 OK\n",
            "Length: 1119290 (1.1M) [text/plain]\n",
            "Saving to: ‘train_sent_emo.csv.1’\n",
            "\n",
            "train_sent_emo.csv. 100%[===================>]   1.07M  --.-KB/s    in 0.04s   \n",
            "\n",
            "2020-12-10 17:15:17 (24.1 MB/s) - ‘train_sent_emo.csv.1’ saved [1119290/1119290]\n",
            "\n",
            "--2020-12-10 17:15:17--  https://raw.githubusercontent.com/leolani/cltl-face-all/master/examples/smaller-datasets-jsons/dataset-small.json\n",
            "Resolving raw.githubusercontent.com (raw.githubusercontent.com)... 151.101.0.133, 151.101.64.133, 151.101.128.133, ...\n",
            "Connecting to raw.githubusercontent.com (raw.githubusercontent.com)|151.101.0.133|:443... connected.\n",
            "HTTP request sent, awaiting response... 200 OK\n",
            "Length: 5660 (5.5K) [text/plain]\n",
            "Saving to: ‘dataset-small.json.1’\n",
            "\n",
            "dataset-small.json. 100%[===================>]   5.53K  --.-KB/s    in 0s      \n",
            "\n",
            "2020-12-10 17:15:17 (67.6 MB/s) - ‘dataset-small.json.1’ saved [5660/5660]\n",
            "\n",
            "--2020-12-10 17:15:17--  https://raw.githubusercontent.com/leolani/cltl-face-all/master/examples/smaller-datasets-jsons/dataset-medium.json\n",
            "Resolving raw.githubusercontent.com (raw.githubusercontent.com)... 151.101.0.133, 151.101.64.133, 151.101.128.133, ...\n",
            "Connecting to raw.githubusercontent.com (raw.githubusercontent.com)|151.101.0.133|:443... connected.\n",
            "HTTP request sent, awaiting response... 200 OK\n",
            "Length: 10309 (10K) [text/plain]\n",
            "Saving to: ‘dataset-medium.json.1’\n",
            "\n",
            "dataset-medium.json 100%[===================>]  10.07K  --.-KB/s    in 0s      \n",
            "\n",
            "2020-12-10 17:15:17 (123 MB/s) - ‘dataset-medium.json.1’ saved [10309/10309]\n",
            "\n",
            "--2020-12-10 17:15:18--  https://raw.githubusercontent.com/leolani/cltl-face-all/master/examples/smaller-datasets-jsons/dataset-large.json\n",
            "Resolving raw.githubusercontent.com (raw.githubusercontent.com)... 151.101.0.133, 151.101.64.133, 151.101.128.133, ...\n",
            "Connecting to raw.githubusercontent.com (raw.githubusercontent.com)|151.101.0.133|:443... connected.\n",
            "HTTP request sent, awaiting response... 200 OK\n",
            "Length: 21584 (21K) [text/plain]\n",
            "Saving to: ‘dataset-large.json.1’\n",
            "\n",
            "dataset-large.json. 100%[===================>]  21.08K  --.-KB/s    in 0.001s  \n",
            "\n",
            "2020-12-10 17:15:18 (38.4 MB/s) - ‘dataset-large.json.1’ saved [21584/21584]\n",
            "\n",
            "--2020-12-10 17:15:18--  https://raw.githubusercontent.com/leolani/cltl-face-all/master/examples/smaller-datasets-jsons/datasets.json\n",
            "Resolving raw.githubusercontent.com (raw.githubusercontent.com)... 151.101.0.133, 151.101.64.133, 151.101.128.133, ...\n",
            "Connecting to raw.githubusercontent.com (raw.githubusercontent.com)|151.101.0.133|:443... connected.\n",
            "HTTP request sent, awaiting response... 200 OK\n",
            "Length: 672504 (657K) [text/plain]\n",
            "Saving to: ‘datasets.json.1’\n",
            "\n",
            "datasets.json.1     100%[===================>] 656.74K  --.-KB/s    in 0.03s   \n",
            "\n",
            "2020-12-10 17:15:18 (21.0 MB/s) - ‘datasets.json.1’ saved [672504/672504]\n",
            "\n",
            "Downloading...\n",
            "From: https://drive.google.com/uc?id=1rsLbfgQYztDtrPFqEmkh-2d_0ap1qd_s\n",
            "To: /content/visual-features-smaller-dataset.zip\n",
            "264MB [00:00, 270MB/s]\n",
            "Archive:  visual-features-smaller-dataset.zip\n",
            "replace visual-features-smaller-dataset/dia523_utt4.npy? [y]es, [n]o, [A]ll, [N]one, [r]ename: N\n",
            "Downloading...\n",
            "From: https://drive.google.com/uc?id=16ck7plW9v9eSHGCs5wuB2AhhufPRt3Wi\n",
            "To: /content/smaller-dataset.zip\n",
            "629MB [00:02, 266MB/s]\n",
            "Archive:  smaller-dataset.zip\n",
            "replace smaller-dataset/dia47_utt0.mp4? [y]es, [n]o, [A]ll, [N]one, [r]ename: N\n",
            "789\n",
            "789\n"
          ],
          "name": "stdout"
        }
      ]
    },
    {
      "cell_type": "code",
      "metadata": {
        "id": "i7fM8jE1rduB"
      },
      "source": [
        "import json\n",
        "\n",
        "with open('datasets.json', 'r') as stream:\n",
        "    datasets = json.load(stream)\n",
        "\n",
        "datasets = datasets['large']"
      ],
      "execution_count": null,
      "outputs": []
    },
    {
      "cell_type": "markdown",
      "metadata": {
        "id": "Z8_WhbBZRV_w"
      },
      "source": [
        "## Randomly select a video and play it\n",
        "\n"
      ]
    },
    {
      "cell_type": "code",
      "metadata": {
        "id": "wLBMSi9sRa0s"
      },
      "source": [
        "from glob import glob\n",
        "import random\n",
        "import os\n",
        "import json\n",
        "import numpy as np\n",
        "import av\n",
        "import matplotlib.pyplot as plt\n",
        "import cv2\n",
        "import random\n",
        "from IPython.display import HTML\n",
        "from base64 import b64encode\n",
        "\n",
        "VISUAL_FEATURES_PATH = 'visual-features-smaller-dataset/'\n",
        "VIDEOS_PATH = \"smaller-dataset/\"\n",
        "\n",
        "diautt = random.choice([foo for foo, bar in datasets['train'].items()])\n",
        "annot = datasets['train'][diautt]\n",
        "features_path = os.path.join(VISUAL_FEATURES_PATH, diautt) + '.npy'\n",
        "\n",
        "features = np.load(features_path, allow_pickle=True)\n",
        "# below line is necessary since the saved file is actually a dictionary.\n",
        "features = features.item()\n",
        "\n",
        "vid_path = os.path.join(VIDEOS_PATH, diautt) +  '.mp4'\n",
        "container = av.open(vid_path)\n",
        "\n",
        "print(vid_path)\n",
        "print(annot)\n",
        "\n",
        "frames = {}\n",
        "for idx, frame in enumerate(container.decode(video=0)):\n",
        "    numpy_RGB = np.array(frame.to_image())\n",
        "    frames[idx] = numpy_RGB\n",
        "\n",
        "assert np.abs(len(frames) - len(features)) <= 1\n",
        "\n",
        "mp4 = open(vid_path,'rb').read()\n",
        "data_url = \"data:video/mp4;base64,\" + b64encode(mp4).decode()\n",
        "\n",
        "HTML(\"\"\"\n",
        "<video width=1280 controls>\n",
        "      <source src=\"%s\" type=\"video/mp4\">\n",
        "</video>\n",
        "\"\"\" % data_url)"
      ],
      "execution_count": null,
      "outputs": []
    },
    {
      "cell_type": "markdown",
      "metadata": {
        "id": "ljENNO_dSHxs"
      },
      "source": [
        "## Randomly select a frame and check it"
      ]
    },
    {
      "cell_type": "code",
      "metadata": {
        "id": "yQXWHtPwSJXb"
      },
      "source": [
        "def draw_label(image, point, label, font=cv2.FONT_HERSHEY_SIMPLEX,\n",
        "               font_scale=0.8, thickness=1):\n",
        "    size = cv2.getTextSize(label, font, font_scale, thickness)[0]\n",
        "    x, y = point\n",
        "    cv2.rectangle(image, (x, y - size[1]), (x + size[0], y), (255, 0, 0), cv2.FILLED)\n",
        "    cv2.putText(image, label, point, font, font_scale, (255, 255, 255), thickness, lineType=cv2.LINE_AA)\n",
        "    \n",
        "idx = random.choice(list(frames.keys()))\n",
        "img = frames[idx]\n",
        "print(idx)\n",
        "\n",
        "feature = features[idx]\n",
        "\n",
        "for feat in feature:\n",
        "    bbox = feat['bbox']\n",
        "    landmark = feat['landmark']\n",
        "    age = feat['age']\n",
        "    gender = feat['gender']\n",
        "    embedding = feat['embedding']\n",
        "    # face = feat['face']\n",
        "\n",
        "    x1, y1, x2, y2, prob = bbox\n",
        "    \n",
        "    x1, y1, x2, y2 = int(x1), int(y1), int(x2), int(y2)\n",
        "    cv2.rectangle(img, (x1, y1), (x2, y2), (255, 0, 0), 2)\n",
        "\n",
        "    label = f\"{str(round(prob*100, 1))} % face\"\n",
        "    draw_label(img, (x1, y2), label, font_scale=0.5, thickness=1)\n",
        "\n",
        "    for lm in landmark:\n",
        "        cv2.circle(img, (int(lm[0]), int(lm[1])), 1, (0,255,0), -1)\n",
        "\n",
        "    label = f\"{int(age)} years old, {str(round(gender*100, 1))} % female\"\n",
        "    draw_label(img, (x1, y1), label, font_scale=0.5, thickness=1)\n",
        "    \n",
        "plt.figure(figsize=(15,15))\n",
        "plt.imshow(img)\n",
        "plt.show()\n",
        "\n",
        "for key, val in annot.items():\n",
        "    print(key, '\\t', val)"
      ],
      "execution_count": null,
      "outputs": []
    },
    {
      "cell_type": "markdown",
      "metadata": {
        "id": "omO1t2U5o-Vv"
      },
      "source": [
        "## The datasets structure\n",
        "\n",
        "It has train, dev and test. "
      ]
    },
    {
      "cell_type": "code",
      "metadata": {
        "id": "jIEc8IbR5EQR",
        "colab": {
          "base_uri": "https://localhost:8080/"
        },
        "outputId": "8b56a592-e0ce-47da-e3a4-d51d23c89a27"
      },
      "source": [
        "datasets.keys()"
      ],
      "execution_count": null,
      "outputs": [
        {
          "output_type": "execute_result",
          "data": {
            "text/plain": [
              "dict_keys(['train', 'dev', 'test'])"
            ]
          },
          "metadata": {
            "tags": []
          },
          "execution_count": 13
        }
      ]
    },
    {
      "cell_type": "code",
      "metadata": {
        "id": "p50YaecPmycS",
        "colab": {
          "base_uri": "https://localhost:8080/"
        },
        "outputId": "a38b9783-29ec-4587-d513-98790731ef34"
      },
      "source": [
        "for key, val in datasets.items():\n",
        "    print(key, len(val))"
      ],
      "execution_count": null,
      "outputs": [
        {
          "output_type": "stream",
          "text": [
            "train 173\n",
            "dev 14\n",
            "test 17\n"
          ],
          "name": "stdout"
        }
      ]
    },
    {
      "cell_type": "markdown",
      "metadata": {
        "id": "QUbKLlMprqCb"
      },
      "source": [
        "## Let's see how the data actually looks like\n",
        "\n",
        "run the below cell."
      ]
    },
    {
      "cell_type": "code",
      "metadata": {
        "id": "4E-wm5EIrsT0",
        "colab": {
          "base_uri": "https://localhost:8080/"
        },
        "outputId": "e80fe48e-f499-4369-9982-922088ca43a2"
      },
      "source": [
        "datasets['train']['dia1000_utt0']"
      ],
      "execution_count": null,
      "outputs": [
        {
          "output_type": "execute_result",
          "data": {
            "text/plain": [
              "{'Dialogue_ID': '1000',\n",
              " 'Emotion': 'disgust',\n",
              " 'EndTime': '00:06:49,783',\n",
              " 'Episode': '3',\n",
              " 'Season': '2',\n",
              " 'Sentiment': 'negative',\n",
              " 'Speaker': 'Monica',\n",
              " 'SrNo': '10029',\n",
              " 'StartTime': '00:06:45,780',\n",
              " 'Utterance': 'Would you look at this dump? He hated us. This is his final revenge!',\n",
              " 'Utterance_ID': '0'}"
            ]
          },
          "metadata": {
            "tags": []
          },
          "execution_count": 106
        }
      ]
    },
    {
      "cell_type": "markdown",
      "metadata": {
        "id": "htmUkh-VpPST"
      },
      "source": [
        "## Let's check out the data distributions."
      ]
    },
    {
      "cell_type": "code",
      "metadata": {
        "id": "XUW6NGRrpPnG"
      },
      "source": [
        "import numpy as np\n",
        "from tqdm.notebook import tqdm\n",
        "from collections import Counter\n",
        "\n",
        "def count2ratio(counts):\n",
        "    total_counts = sum([val for key, val in counts.items()])\n",
        "\n",
        "    return {key: round(val/total_counts, 3) for key, val in counts.items()}\n",
        "\n",
        "for key, val in datasets.items():\n",
        "    sentiments = []\n",
        "    emotions = []\n",
        "    speakers = []\n",
        "\n",
        "    for diautt, annot in val.items():\n",
        "        sentiments.append(annot['Sentiment'])\n",
        "        emotions.append(annot['Emotion'])\n",
        "        speakers.append(annot['Speaker'])\n",
        "\n",
        "    sentiments = dict(Counter(sentiments))\n",
        "    emotions = dict(Counter(emotions))\n",
        "    speakers = dict(Counter(speakers))\n",
        "\n",
        "    sentiments = count2ratio(sentiments)\n",
        "    emotions = count2ratio(emotions)\n",
        "    speakers = count2ratio(speakers)\n",
        "\n",
        "    print(key, 'sentiments', sentiments)\n",
        "    print(key, 'emotions', emotions)\n",
        "    print(key, 'speakers', sentiments)\n",
        "    print()"
      ],
      "execution_count": null,
      "outputs": []
    },
    {
      "cell_type": "markdown",
      "metadata": {
        "id": "q0sBIZPuOo-b"
      },
      "source": [
        "When it comes to the emotion classes, you can see that the label `neutral` accounts for nearly half of the instances. **This means that if your emotion classifier performs less than the accuracy of 50%, you are doing something wrong.**\n",
        "\n"
      ]
    },
    {
      "cell_type": "markdown",
      "metadata": {
        "id": "ms9-zMVhBVCA"
      },
      "source": [
        "## **TODO0**: \n",
        "Down-sample the data. "
      ]
    },
    {
      "cell_type": "code",
      "metadata": {
        "id": "pWU49Gv6BUBt",
        "colab": {
          "base_uri": "https://localhost:8080/"
        },
        "outputId": "6bed9c8b-ee87-4f1a-eafb-f6a8ebfada41"
      },
      "source": [
        "import pandas as pd\n",
        "\n",
        "BALANCE = True\n",
        "\n",
        "def balance(train, method = ''):\n",
        "    \"\"\"\n",
        "    Balances the classes by down-sampling.\n",
        "    \"\"\"\n",
        "    df = pd.DataFrame(train).T\n",
        "\n",
        "    if method == 'all':\n",
        "        g = df.groupby('Emotion', group_keys=False)\n",
        "        data = pd.DataFrame(g.apply(lambda x: x.sample(g.size().min())))\n",
        "        return data.T.to_dict()\n",
        "    \n",
        "    elif method == 'halved':\n",
        "        ### Separate the majority and minority classes\n",
        "      df_minority  = df[df['Emotion']=='joy']\n",
        "      df_majority = df[df['Emotion']=='neutral']\n",
        "      df_rest = df[df['Emotion'] != 'neutral'][df['Emotion'] != 'joy']\n",
        "\n",
        "      ### Now, downsamples majority labels equal to the number of samples in the minority class\n",
        "\n",
        "      df_majority = df_majority.sample(len(df_minority), random_state=0)\n",
        "\n",
        "      ### concat the majority and minority dataframes\n",
        "      df = pd.concat([df_majority,df_minority, df_rest])\n",
        "\n",
        "      ## Shuffle the dataset to prevent the model from getting biased by similar samples\n",
        "      df = df.sample(frac=1, random_state=0)\n",
        "      print(df['Emotion'].value_counts())\n",
        "      return df.T.to_dict()\n",
        "\n",
        "if BALANCE:\n",
        "    datasets['balanced_train'] = balance(datasets['train'], method = 'halved')\n"
      ],
      "execution_count": null,
      "outputs": [
        {
          "output_type": "stream",
          "text": [
            "joy         106\n",
            "neutral     106\n",
            "surprise     73\n",
            "anger        53\n",
            "sadness      48\n",
            "disgust      15\n",
            "fear         13\n",
            "Name: Emotion, dtype: int64\n"
          ],
          "name": "stdout"
        },
        {
          "output_type": "stream",
          "text": [
            "/usr/local/lib/python3.6/dist-packages/ipykernel_launcher.py:20: UserWarning: Boolean Series key will be reindexed to match DataFrame index.\n"
          ],
          "name": "stderr"
        }
      ]
    },
    {
      "cell_type": "markdown",
      "metadata": {
        "id": "un5HEtRys1tk"
      },
      "source": [
        ""
      ]
    },
    {
      "cell_type": "markdown",
      "metadata": {
        "id": "GyjaXtcNtLeu"
      },
      "source": [
        "## TODO1:\n",
        "\n",
        "Extract viasual features or train a classifier. Each video (utterance) should result in a fixed-size vector. This should be done by Tae and Wes."
      ]
    },
    {
      "cell_type": "code",
      "metadata": {
        "colab": {
          "base_uri": "https://localhost:8080/",
          "height": 406,
          "referenced_widgets": [
            "401725efbe6148b3bef933e281e9b8ad",
            "0b4d81bcf4a340db88626f73567b21a9",
            "e2a58c0ee59843ef93a7b0255a151b7d",
            "862bec07cff046f8b16da78e52a099a0",
            "778b7783dae941e68bd68563f8bfc952",
            "fc7c605143ff41e2b5df024b0ec08172",
            "5b3e42ee20c94d37b617334e553cf63d",
            "7591d7c6e9974763945e91f9dd256e70"
          ]
        },
        "id": "NTLxHn-btF8s",
        "outputId": "16d6f03b-6583-47a2-e8aa-0e8312d12980"
      },
      "source": [
        "import os\n",
        "from glob import glob\n",
        "import numpy as np\n",
        "from cltl_face_all.arcface import calc_angle_distance\n",
        "from tqdm.notebook import tqdm\n",
        "\n",
        "\n",
        "predefined_faces_= glob(os.path.join('./cltl-face-all/your-faces/*/*.npy'))\n",
        "predefined_faces = {}\n",
        "\n",
        "for path in predefined_faces_:\n",
        "    name = path.split('/')[-2]\n",
        "    predefined_faces[name] = np.load(path)\n",
        "\n",
        "vecs = {}\n",
        "THRESHOLDS = {'face': 0.9, 'angle': 1.15}\n",
        "\n",
        "for DATASET in tqdm(['train', 'dev', 'test']):\n",
        "    vecs[DATASET] = {}\n",
        "    for diautt, annot in datasets[DATASET].items():\n",
        "        vecs[DATASET][diautt] = {}\n",
        "        speaker = annot['Speaker']\n",
        "\n",
        "        visual_features = np.load(f'visual-features-smaller-dataset/{diautt}.npy', \\\n",
        "                                    allow_pickle=True).item()\n",
        "\n",
        "        for frame, features in visual_features.items():\n",
        "            vecs[DATASET][diautt][frame] = None\n",
        "            # Assume that there is only one unique face per frame.\n",
        "            for feat in features:\n",
        "                age = feat['age']\n",
        "                gender = feat['gender']\n",
        "                bbox = feat['bbox']\n",
        "                embedding = feat['embedding']\n",
        "                landmark = feat['landmark']\n",
        "\n",
        "                if bbox[-1] < THRESHOLDS['face']:\n",
        "                    continue\n",
        "\n",
        "                if speaker not in list(predefined_faces.keys()):\n",
        "                    continue\n",
        "\n",
        "                embedding.reshape(1, 512)\n",
        "\n",
        "                dists = {key: calc_angle_distance(embedding, val) for key, val \\\n",
        "                            in predefined_faces.items()}\n",
        "\n",
        "                if dists[speaker] < THRESHOLDS['angle']:\n",
        "                    vecs[DATASET][diautt][frame] = landmark\n"
      ],
      "execution_count": null,
      "outputs": [
        {
          "output_type": "display_data",
          "data": {
            "application/vnd.jupyter.widget-view+json": {
              "model_id": "401725efbe6148b3bef933e281e9b8ad",
              "version_minor": 0,
              "version_major": 2
            },
            "text/plain": [
              "HBox(children=(FloatProgress(value=0.0, max=3.0), HTML(value='')))"
            ]
          },
          "metadata": {
            "tags": []
          }
        },
        {
          "output_type": "error",
          "ename": "KeyboardInterrupt",
          "evalue": "ignored",
          "traceback": [
            "\u001b[0;31m---------------------------------------------------------------------------\u001b[0m",
            "\u001b[0;31mKeyboardInterrupt\u001b[0m                         Traceback (most recent call last)",
            "\u001b[0;32m<ipython-input-17-028e81db6e3b>\u001b[0m in \u001b[0;36m<module>\u001b[0;34m()\u001b[0m\n\u001b[1;32m     42\u001b[0m                 \u001b[0membedding\u001b[0m\u001b[0;34m.\u001b[0m\u001b[0mreshape\u001b[0m\u001b[0;34m(\u001b[0m\u001b[0;36m1\u001b[0m\u001b[0;34m,\u001b[0m \u001b[0;36m512\u001b[0m\u001b[0;34m)\u001b[0m\u001b[0;34m\u001b[0m\u001b[0;34m\u001b[0m\u001b[0m\n\u001b[1;32m     43\u001b[0m \u001b[0;34m\u001b[0m\u001b[0m\n\u001b[0;32m---> 44\u001b[0;31m                 \u001b[0mdists\u001b[0m \u001b[0;34m=\u001b[0m \u001b[0;34m{\u001b[0m\u001b[0mkey\u001b[0m\u001b[0;34m:\u001b[0m \u001b[0mcalc_angle_distance\u001b[0m\u001b[0;34m(\u001b[0m\u001b[0membedding\u001b[0m\u001b[0;34m,\u001b[0m \u001b[0mval\u001b[0m\u001b[0;34m)\u001b[0m \u001b[0;32mfor\u001b[0m \u001b[0mkey\u001b[0m\u001b[0;34m,\u001b[0m \u001b[0mval\u001b[0m                             \u001b[0;32min\u001b[0m \u001b[0mpredefined_faces\u001b[0m\u001b[0;34m.\u001b[0m\u001b[0mitems\u001b[0m\u001b[0;34m(\u001b[0m\u001b[0;34m)\u001b[0m\u001b[0;34m}\u001b[0m\u001b[0;34m\u001b[0m\u001b[0;34m\u001b[0m\u001b[0m\n\u001b[0m\u001b[1;32m     45\u001b[0m \u001b[0;34m\u001b[0m\u001b[0m\n\u001b[1;32m     46\u001b[0m                 \u001b[0;32mif\u001b[0m \u001b[0mdists\u001b[0m\u001b[0;34m[\u001b[0m\u001b[0mspeaker\u001b[0m\u001b[0;34m]\u001b[0m \u001b[0;34m<\u001b[0m \u001b[0mTHRESHOLDS\u001b[0m\u001b[0;34m[\u001b[0m\u001b[0;34m'angle'\u001b[0m\u001b[0;34m]\u001b[0m\u001b[0;34m:\u001b[0m\u001b[0;34m\u001b[0m\u001b[0;34m\u001b[0m\u001b[0m\n",
            "\u001b[0;32m<ipython-input-17-028e81db6e3b>\u001b[0m in \u001b[0;36m<dictcomp>\u001b[0;34m(.0)\u001b[0m\n\u001b[1;32m     42\u001b[0m                 \u001b[0membedding\u001b[0m\u001b[0;34m.\u001b[0m\u001b[0mreshape\u001b[0m\u001b[0;34m(\u001b[0m\u001b[0;36m1\u001b[0m\u001b[0;34m,\u001b[0m \u001b[0;36m512\u001b[0m\u001b[0;34m)\u001b[0m\u001b[0;34m\u001b[0m\u001b[0;34m\u001b[0m\u001b[0m\n\u001b[1;32m     43\u001b[0m \u001b[0;34m\u001b[0m\u001b[0m\n\u001b[0;32m---> 44\u001b[0;31m                 \u001b[0mdists\u001b[0m \u001b[0;34m=\u001b[0m \u001b[0;34m{\u001b[0m\u001b[0mkey\u001b[0m\u001b[0;34m:\u001b[0m \u001b[0mcalc_angle_distance\u001b[0m\u001b[0;34m(\u001b[0m\u001b[0membedding\u001b[0m\u001b[0;34m,\u001b[0m \u001b[0mval\u001b[0m\u001b[0;34m)\u001b[0m \u001b[0;32mfor\u001b[0m \u001b[0mkey\u001b[0m\u001b[0;34m,\u001b[0m \u001b[0mval\u001b[0m                             \u001b[0;32min\u001b[0m \u001b[0mpredefined_faces\u001b[0m\u001b[0;34m.\u001b[0m\u001b[0mitems\u001b[0m\u001b[0;34m(\u001b[0m\u001b[0;34m)\u001b[0m\u001b[0;34m}\u001b[0m\u001b[0;34m\u001b[0m\u001b[0;34m\u001b[0m\u001b[0m\n\u001b[0m\u001b[1;32m     45\u001b[0m \u001b[0;34m\u001b[0m\u001b[0m\n\u001b[1;32m     46\u001b[0m                 \u001b[0;32mif\u001b[0m \u001b[0mdists\u001b[0m\u001b[0;34m[\u001b[0m\u001b[0mspeaker\u001b[0m\u001b[0;34m]\u001b[0m \u001b[0;34m<\u001b[0m \u001b[0mTHRESHOLDS\u001b[0m\u001b[0;34m[\u001b[0m\u001b[0;34m'angle'\u001b[0m\u001b[0;34m]\u001b[0m\u001b[0;34m:\u001b[0m\u001b[0;34m\u001b[0m\u001b[0;34m\u001b[0m\u001b[0m\n",
            "\u001b[0;32m/usr/local/lib/python3.6/dist-packages/cltl_face_all/arcface/modules/utils.py\u001b[0m in \u001b[0;36mcalc_angle_distance\u001b[0;34m(emb1, emb2)\u001b[0m\n\u001b[1;32m     51\u001b[0m \u001b[0;32mdef\u001b[0m \u001b[0mcalc_angle_distance\u001b[0m\u001b[0;34m(\u001b[0m\u001b[0memb1\u001b[0m\u001b[0;34m,\u001b[0m \u001b[0memb2\u001b[0m\u001b[0;34m)\u001b[0m\u001b[0;34m:\u001b[0m\u001b[0;34m\u001b[0m\u001b[0;34m\u001b[0m\u001b[0m\n\u001b[1;32m     52\u001b[0m     \u001b[0;34m\"\"\"Calculate the angle (radian) distance between the embeddings.\"\"\"\u001b[0m\u001b[0;34m\u001b[0m\u001b[0;34m\u001b[0m\u001b[0m\n\u001b[0;32m---> 53\u001b[0;31m     \u001b[0;32mreturn\u001b[0m \u001b[0mnp\u001b[0m\u001b[0;34m.\u001b[0m\u001b[0marccos\u001b[0m\u001b[0;34m(\u001b[0m\u001b[0mnp\u001b[0m\u001b[0;34m.\u001b[0m\u001b[0mclip\u001b[0m\u001b[0;34m(\u001b[0m\u001b[0;34m(\u001b[0m\u001b[0memb1\u001b[0m \u001b[0;34m@\u001b[0m \u001b[0memb2\u001b[0m\u001b[0;34m.\u001b[0m\u001b[0mT\u001b[0m\u001b[0;34m)\u001b[0m\u001b[0;34m,\u001b[0m \u001b[0;34m-\u001b[0m\u001b[0;36m1\u001b[0m\u001b[0;34m,\u001b[0m \u001b[0;36m1\u001b[0m\u001b[0;34m)\u001b[0m\u001b[0;34m)\u001b[0m\u001b[0;34m\u001b[0m\u001b[0;34m\u001b[0m\u001b[0m\n\u001b[0m\u001b[1;32m     54\u001b[0m \u001b[0;34m\u001b[0m\u001b[0m\n\u001b[1;32m     55\u001b[0m \u001b[0;34m\u001b[0m\u001b[0m\n",
            "\u001b[0;31mKeyboardInterrupt\u001b[0m: "
          ]
        }
      ]
    },
    {
      "cell_type": "code",
      "metadata": {
        "colab": {
          "base_uri": "https://localhost:8080/",
          "height": 270,
          "referenced_widgets": [
            "12c79fa04f2e4cc08cc10d95cc398c0e",
            "5a7713c25c744cf0a2bcb2125e8b313c",
            "b37b2a1f1ed046178ee510284d5b9cf0",
            "7596f87b5afa42d9870748657e4dd649",
            "882ea7a0a7a0436b9c6db49312e03d83",
            "4b344ca8a5284bdab0900b344ff33404",
            "c23860599e564d31965a54d47f05ace8",
            "9556c05635b04a05918197ac2176733b"
          ]
        },
        "id": "NXpw-lsfjP9L",
        "outputId": "e6191750-bbea-4b51-f1c1-7373ef55711f"
      },
      "source": [
        "vecs_with_speaker = {}\n",
        "\n",
        "for DATASET in tqdm(['train', 'dev', 'test']):\n",
        "    vecs_with_speaker[DATASET] = {}\n",
        "\n",
        "    print(f\"{len(vecs[DATASET])} videos in {DATASET}\")\n",
        "    for diautt, frame_landmarks in vecs[DATASET].items():\n",
        "        with_speaker = [lm for lm in frame_landmarks.values() if lm is not None]\n",
        "        if len(with_speaker) > 0:\n",
        "            vecs_with_speaker[DATASET][diautt] = with_speaker\n",
        "\n",
        "    print(f\"{len(vecs_with_speaker[DATASET])} videos in {DATASET}, after removing the utterances without the speaker face\")\n",
        "    print(f\"the ratio is {len(vecs_with_speaker[DATASET]) / len(vecs[DATASET])}\")\n",
        "    print()"
      ],
      "execution_count": null,
      "outputs": [
        {
          "output_type": "display_data",
          "data": {
            "application/vnd.jupyter.widget-view+json": {
              "model_id": "12c79fa04f2e4cc08cc10d95cc398c0e",
              "version_minor": 0,
              "version_major": 2
            },
            "text/plain": [
              "HBox(children=(FloatProgress(value=0.0, max=3.0), HTML(value='')))"
            ]
          },
          "metadata": {
            "tags": []
          }
        },
        {
          "output_type": "stream",
          "text": [
            "584 videos in train\n",
            "517 videos in train, after removing the utterances without the speaker face\n",
            "the ratio is 0.8852739726027398\n",
            "\n",
            "97 videos in dev\n",
            "81 videos in dev, after removing the utterances without the speaker face\n",
            "the ratio is 0.8350515463917526\n",
            "\n",
            "108 videos in test\n",
            "94 videos in test, after removing the utterances without the speaker face\n",
            "the ratio is 0.8703703703703703\n",
            "\n",
            "\n"
          ],
          "name": "stdout"
        }
      ]
    },
    {
      "cell_type": "code",
      "metadata": {
        "id": "H3lCjNwD57jY",
        "colab": {
          "base_uri": "https://localhost:8080/",
          "height": 231
        },
        "outputId": "fd10a6b3-70b5-4797-edc0-e930b5f5a276"
      },
      "source": [
        "X = {}\n",
        "y = {}\n",
        "\n",
        "original_diautt = {}\n",
        "\n",
        "emotion2num = {'anger': 0,\n",
        "               'disgust': 1,\n",
        "               'fear': 2,\n",
        "               'joy': 3,\n",
        "               'neutral': 4,\n",
        "               'sadness': 5, \n",
        "               'surprise': 6}\n",
        "\n",
        "num2emotion = {val: key for key, val in emotion2num.items()}\n",
        "num2onehot = {0: np.array([1, 0, 0, 0, 0, 0, 0]),\n",
        "              1: np.array([0, 1, 0, 0, 0, 0, 0]),\n",
        "              2: np.array([0, 0, 1, 0, 0, 0, 0]),\n",
        "              3: np.array([0, 0, 0, 1, 0, 0, 0]),\n",
        "              4: np.array([0, 0, 0, 0, 1, 0, 0]),\n",
        "              5: np.array([0, 0, 0, 0, 0, 1, 0]),\n",
        "              6: np.array([0, 0, 0, 0, 0, 0, 1])}\n",
        "\n",
        "\n",
        "for DATATYPE in ['train', 'dev', 'test']:\n",
        "    X[DATATYPE] = []\n",
        "    y[DATATYPE] = []\n",
        "    original_diautt[DATATYPE] = []\n",
        "    for diautt, landmarks in vecs_with_speaker[DATATYPE].items():\n",
        "        label = datasets[DATATYPE][diautt]['Emotion']\n",
        "        X[DATATYPE].append(landmarks)\n",
        "        y[DATATYPE].append(num2onehot[emotion2num[label]])\n",
        "        original_diautt[DATATYPE].append(diautt)\n"
      ],
      "execution_count": 108,
      "outputs": [
        {
          "output_type": "error",
          "ename": "NameError",
          "evalue": "ignored",
          "traceback": [
            "\u001b[0;31m---------------------------------------------------------------------------\u001b[0m",
            "\u001b[0;31mNameError\u001b[0m                                 Traceback (most recent call last)",
            "\u001b[0;32m<ipython-input-108-783b90a9e44b>\u001b[0m in \u001b[0;36m<module>\u001b[0;34m()\u001b[0m\n\u001b[1;32m     26\u001b[0m     \u001b[0my\u001b[0m\u001b[0;34m[\u001b[0m\u001b[0mDATATYPE\u001b[0m\u001b[0;34m]\u001b[0m \u001b[0;34m=\u001b[0m \u001b[0;34m[\u001b[0m\u001b[0;34m]\u001b[0m\u001b[0;34m\u001b[0m\u001b[0;34m\u001b[0m\u001b[0m\n\u001b[1;32m     27\u001b[0m     \u001b[0moriginal_diautt\u001b[0m\u001b[0;34m[\u001b[0m\u001b[0mDATATYPE\u001b[0m\u001b[0;34m]\u001b[0m \u001b[0;34m=\u001b[0m \u001b[0;34m[\u001b[0m\u001b[0;34m]\u001b[0m\u001b[0;34m\u001b[0m\u001b[0;34m\u001b[0m\u001b[0m\n\u001b[0;32m---> 28\u001b[0;31m     \u001b[0;32mfor\u001b[0m \u001b[0mdiautt\u001b[0m\u001b[0;34m,\u001b[0m \u001b[0mlandmarks\u001b[0m \u001b[0;32min\u001b[0m \u001b[0mvecs_with_speaker\u001b[0m\u001b[0;34m[\u001b[0m\u001b[0mDATATYPE\u001b[0m\u001b[0;34m]\u001b[0m\u001b[0;34m.\u001b[0m\u001b[0mitems\u001b[0m\u001b[0;34m(\u001b[0m\u001b[0;34m)\u001b[0m\u001b[0;34m:\u001b[0m\u001b[0;34m\u001b[0m\u001b[0;34m\u001b[0m\u001b[0m\n\u001b[0m\u001b[1;32m     29\u001b[0m         \u001b[0mlabel\u001b[0m \u001b[0;34m=\u001b[0m \u001b[0mdatasets\u001b[0m\u001b[0;34m[\u001b[0m\u001b[0mDATATYPE\u001b[0m\u001b[0;34m]\u001b[0m\u001b[0;34m[\u001b[0m\u001b[0mdiautt\u001b[0m\u001b[0;34m]\u001b[0m\u001b[0;34m[\u001b[0m\u001b[0;34m'Emotion'\u001b[0m\u001b[0;34m]\u001b[0m\u001b[0;34m\u001b[0m\u001b[0;34m\u001b[0m\u001b[0m\n\u001b[1;32m     30\u001b[0m         \u001b[0mX\u001b[0m\u001b[0;34m[\u001b[0m\u001b[0mDATATYPE\u001b[0m\u001b[0;34m]\u001b[0m\u001b[0;34m.\u001b[0m\u001b[0mappend\u001b[0m\u001b[0;34m(\u001b[0m\u001b[0mlandmarks\u001b[0m\u001b[0;34m)\u001b[0m\u001b[0;34m\u001b[0m\u001b[0;34m\u001b[0m\u001b[0m\n",
            "\u001b[0;31mNameError\u001b[0m: name 'vecs_with_speaker' is not defined"
          ]
        }
      ]
    },
    {
      "cell_type": "code",
      "metadata": {
        "id": "4YBW60o_sHHr"
      },
      "source": [
        "import pickle\n",
        "\n",
        "with open('compact-visual.pkl', 'wb') as stream:\n",
        "    pickle.dump({'X': X, 'y': y, 'original_diautt': original_diautt}, stream)"
      ],
      "execution_count": null,
      "outputs": []
    },
    {
      "cell_type": "code",
      "metadata": {
        "colab": {
          "base_uri": "https://localhost:8080/"
        },
        "id": "DoLhjRgnML7-",
        "outputId": "d17ccd93-eea4-4795-c615-073ca7b21e66"
      },
      "source": [
        "len(X['train']), len(X['train'][0]), X['train'][0][0].shape, y['train'][0], len(original_diautt['train'])"
      ],
      "execution_count": null,
      "outputs": [
        {
          "output_type": "execute_result",
          "data": {
            "text/plain": [
              "(517, 9, (68, 2), array([0, 1, 0, 0, 0, 0, 0]), 517)"
            ]
          },
          "metadata": {
            "tags": []
          },
          "execution_count": 14
        }
      ]
    },
    {
      "cell_type": "markdown",
      "metadata": {
        "id": "raqXanaNtdFC"
      },
      "source": [
        "## TODO2:\n",
        "\n",
        "Extract text features  or train a classifier. Each video (utterance) should result in a fixed-size vector. This should be done by Nihat and Zeynep."
      ]
    },
    {
      "cell_type": "markdown",
      "metadata": {
        "id": "jL2pjkY4SNWM"
      },
      "source": [
        "## Roberta Text Classification"
      ]
    },
    {
      "cell_type": "code",
      "metadata": {
        "colab": {
          "base_uri": "https://localhost:8080/"
        },
        "id": "1tRbxenRrm1P",
        "outputId": "f8271e57-90fc-4b10-c428-21b44bd74e0e"
      },
      "source": [
        "!pip install transformers==3.0.2"
      ],
      "execution_count": 127,
      "outputs": [
        {
          "output_type": "stream",
          "text": [
            "Requirement already satisfied: transformers==3.0.2 in /usr/local/lib/python3.6/dist-packages (3.0.2)\n",
            "Requirement already satisfied: regex!=2019.12.17 in /usr/local/lib/python3.6/dist-packages (from transformers==3.0.2) (2019.12.20)\n",
            "Requirement already satisfied: requests in /usr/local/lib/python3.6/dist-packages (from transformers==3.0.2) (2.23.0)\n",
            "Requirement already satisfied: numpy in /usr/local/lib/python3.6/dist-packages (from transformers==3.0.2) (1.18.5)\n",
            "Requirement already satisfied: sacremoses in /usr/local/lib/python3.6/dist-packages (from transformers==3.0.2) (0.0.43)\n",
            "Requirement already satisfied: sentencepiece!=0.1.92 in /usr/local/lib/python3.6/dist-packages (from transformers==3.0.2) (0.1.94)\n",
            "Requirement already satisfied: dataclasses; python_version < \"3.7\" in /usr/local/lib/python3.6/dist-packages (from transformers==3.0.2) (0.8)\n",
            "Requirement already satisfied: tokenizers==0.8.1.rc1 in /usr/local/lib/python3.6/dist-packages (from transformers==3.0.2) (0.8.1rc1)\n",
            "Requirement already satisfied: tqdm>=4.27 in /usr/local/lib/python3.6/dist-packages (from transformers==3.0.2) (4.41.1)\n",
            "Requirement already satisfied: packaging in /usr/local/lib/python3.6/dist-packages (from transformers==3.0.2) (20.7)\n",
            "Requirement already satisfied: filelock in /usr/local/lib/python3.6/dist-packages (from transformers==3.0.2) (3.0.12)\n",
            "Requirement already satisfied: chardet<4,>=3.0.2 in /usr/local/lib/python3.6/dist-packages (from requests->transformers==3.0.2) (3.0.4)\n",
            "Requirement already satisfied: idna<3,>=2.5 in /usr/local/lib/python3.6/dist-packages (from requests->transformers==3.0.2) (2.10)\n",
            "Requirement already satisfied: certifi>=2017.4.17 in /usr/local/lib/python3.6/dist-packages (from requests->transformers==3.0.2) (2020.12.5)\n",
            "Requirement already satisfied: urllib3!=1.25.0,!=1.25.1,<1.26,>=1.21.1 in /usr/local/lib/python3.6/dist-packages (from requests->transformers==3.0.2) (1.24.3)\n",
            "Requirement already satisfied: six in /usr/local/lib/python3.6/dist-packages (from sacremoses->transformers==3.0.2) (1.15.0)\n",
            "Requirement already satisfied: joblib in /usr/local/lib/python3.6/dist-packages (from sacremoses->transformers==3.0.2) (0.17.0)\n",
            "Requirement already satisfied: click in /usr/local/lib/python3.6/dist-packages (from sacremoses->transformers==3.0.2) (7.1.2)\n",
            "Requirement already satisfied: pyparsing>=2.0.2 in /usr/local/lib/python3.6/dist-packages (from packaging->transformers==3.0.2) (2.4.7)\n"
          ],
          "name": "stdout"
        }
      ]
    },
    {
      "cell_type": "code",
      "metadata": {
        "id": "-wxqLw9brBfS"
      },
      "source": [
        "# Transformers packages\n",
        "import transformers\n",
        "from transformers import RobertaModel, RobertaTokenizer\n",
        "# Torch packages\n",
        "import torch\n",
        "from torch.utils.data import Dataset, DataLoader\n",
        "from torch import cuda\n",
        "\n",
        "# Check for the device\n",
        "device = 'cuda' if cuda.is_available() else 'cpu'"
      ],
      "execution_count": 128,
      "outputs": []
    },
    {
      "cell_type": "markdown",
      "metadata": {
        "id": "xLAhJILJSgKQ"
      },
      "source": [
        "### Embedding"
      ]
    },
    {
      "cell_type": "code",
      "metadata": {
        "colab": {
          "base_uri": "https://localhost:8080/",
          "height": 625
        },
        "id": "i1vYPn-eHXkn",
        "outputId": "8305fe3e-ae65-4bd7-acfb-85342f78dd58"
      },
      "source": [
        "import matplotlib.pyplot as plt\r\n",
        "from pylab import rcParams\r\n",
        "import seaborn as sns\r\n",
        "import pandas as pd\r\n",
        "import numpy as np\r\n",
        "import requests\r\n",
        "import io\r\n",
        "\r\n",
        "%matplotlib inline\r\n",
        "%config InlineBackend.figure_format='retina'\r\n",
        "\r\n",
        "sns.set(style='whitegrid', palette='muted', font_scale=1.2)\r\n",
        "HAPPY_COLORS_PALETTE = [\"#01BEFE\", \"#FFDD00\", \"#FF7D00\", \"#FF006D\", \"#ADFF02\", \"#8F00FF\"]\r\n",
        "sns.set_palette(sns.color_palette(HAPPY_COLORS_PALETTE))\r\n",
        "rcParams['figure.figsize'] = 12, 8\r\n",
        "\r\n",
        "# Download data\r\n",
        "download_train = requests.get('https://raw.githubusercontent.com/declare-lab/MELD/master/data/MELD/train_sent_emo.csv').content\r\n",
        "download_val = requests.get('https://raw.githubusercontent.com/declare-lab/MELD/master/data/MELD/dev_sent_emo.csv').content\r\n",
        "download_test = requests.get('https://raw.githubusercontent.com/declare-lab/MELD/master/data/MELD/test_sent_emo.csv').content\r\n",
        "\r\n",
        "# Create frames\r\n",
        "df_train = pd.read_csv(io.StringIO(download_train.decode('utf-8')))\r\n",
        "df_val = pd.read_csv(io.StringIO(download_val.decode('utf-8')))\r\n",
        "df_test = pd.read_csv(io.StringIO(download_test.decode('utf-8')))\r\n",
        "\r\n",
        "# Declare class names\r\n",
        "class_names = [\r\n",
        "    'neutral', 'joy', 'surprise', 'anger', 'sadness', 'disgust', 'fear'\r\n",
        "]\r\n",
        "\r\n",
        "def transform_labels(emotion):\r\n",
        "    if emotion == 'neutral': return 0\r\n",
        "    elif emotion == 'joy': return 1\r\n",
        "    elif emotion == 'surprise': return 2\r\n",
        "    elif emotion == 'anger': return 3\r\n",
        "    elif emotion == 'sadness': return 4\r\n",
        "    elif emotion == 'disgust': return 5\r\n",
        "    elif emotion == 'fear': return 6\r\n",
        "\r\n",
        "df_train['enc_emotion'] = df_train.Emotion.apply(transform_labels)\r\n",
        "df_val['enc_emotion'] = df_val.Emotion.apply(transform_labels)\r\n",
        "df_test['enc_emotion'] = df_test.Emotion.apply(transform_labels)\r\n",
        "\r\n",
        "ax = sns.countplot(x=df_train.enc_emotion)\r\n",
        "plt.xlabel('Emotion classes before downsampling')\r\n",
        "ax.set_xticklabels(class_names)"
      ],
      "execution_count": 129,
      "outputs": [
        {
          "output_type": "execute_result",
          "data": {
            "text/plain": [
              "[Text(0, 0, 'neutral'),\n",
              " Text(0, 0, 'joy'),\n",
              " Text(0, 0, 'surprise'),\n",
              " Text(0, 0, 'anger'),\n",
              " Text(0, 0, 'sadness'),\n",
              " Text(0, 0, 'disgust'),\n",
              " Text(0, 0, 'fear')]"
            ]
          },
          "metadata": {
            "tags": []
          },
          "execution_count": 129
        },
        {
          "output_type": "display_data",
          "data": {
            "image/png": "[encoded data removed]",
            "text/plain": [
              "<Figure size 864x576 with 1 Axes>"
            ]
          },
          "metadata": {
            "tags": [],
            "image/png": {
              "width": 745,
              "height": 489
            }
          }
        }
      ]
    },
    {
      "cell_type": "code",
      "metadata": {
        "id": "_dcoKsRpSh6H"
      },
      "source": [
        "# Sort train set\n",
        "df_train.sort_values(by=['Season', 'Episode', 'StartTime', 'EndTime'], inplace=True, ignore_index=True)\n",
        "# Drop first 2710\n",
        "df_train = df_train.drop(df_train[df_train['Emotion']=='neutral'].head(2710).index).reset_index()\n",
        "\n",
        "# Defining some key variables that will be used later on in the training\n",
        "MAX_LEN = 95\n",
        "MODEL_NAME = \"roberta-base\"\n",
        "\n",
        "tokenizer = RobertaTokenizer.from_pretrained(MODEL_NAME, truncation=True, do_lower_case=True)"
      ],
      "execution_count": 130,
      "outputs": []
    },
    {
      "cell_type": "code",
      "metadata": {
        "colab": {
          "base_uri": "https://localhost:8080/",
          "height": 560
        },
        "id": "FAqdgxiHvswA",
        "outputId": "7556c408-4daf-4323-8a65-bad3f8d9642e"
      },
      "source": [
        "# Print the token length distribution\n",
        "token_lens = []\n",
        "utterances = df_train.Utterance.to_numpy()\n",
        "\n",
        "for txt in utterances:\n",
        "  tokens = tokenizer.encode(txt, truncation=True, max_length=512)\n",
        "  token_lens.append(len(tokens))\n",
        "\n",
        "sns.distplot(token_lens)\n",
        "plt.xlim([0, 100]);\n",
        "plt.xlabel('Token count');"
      ],
      "execution_count": 131,
      "outputs": [
        {
          "output_type": "stream",
          "text": [
            "/usr/local/lib/python3.6/dist-packages/seaborn/distributions.py:2551: FutureWarning: `distplot` is a deprecated function and will be removed in a future version. Please adapt your code to use either `displot` (a figure-level function with similar flexibility) or `histplot` (an axes-level function for histograms).\n",
            "  warnings.warn(msg, FutureWarning)\n"
          ],
          "name": "stderr"
        },
        {
          "output_type": "display_data",
          "data": {
            "image/png": "[encoded data removed]",
            "text/plain": [
              "<Figure size 864x576 with 1 Axes>"
            ]
          },
          "metadata": {
            "tags": [],
            "image/png": {
              "width": 753,
              "height": 489
            }
          }
        }
      ]
    },
    {
      "cell_type": "code",
      "metadata": {
        "colab": {
          "base_uri": "https://localhost:8080/",
          "height": 560
        },
        "id": "WLkuCZp86bVS",
        "outputId": "72d9c0b4-2e3d-4978-be27-a6c7f0c6a395"
      },
      "source": [
        "# Print the token length distribution [test]\n",
        "token_lens = []\n",
        "utterances = df_test.Utterance.to_numpy()\n",
        "\n",
        "for txt in utterances:\n",
        "  tokens = tokenizer.encode(txt, truncation=True, max_length=512)\n",
        "  token_lens.append(len(tokens))\n",
        "\n",
        "sns.distplot(token_lens)\n",
        "plt.xlim([0, 100]);\n",
        "plt.xlabel('Token count');"
      ],
      "execution_count": 132,
      "outputs": [
        {
          "output_type": "stream",
          "text": [
            "/usr/local/lib/python3.6/dist-packages/seaborn/distributions.py:2551: FutureWarning: `distplot` is a deprecated function and will be removed in a future version. Please adapt your code to use either `displot` (a figure-level function with similar flexibility) or `histplot` (an axes-level function for histograms).\n",
            "  warnings.warn(msg, FutureWarning)\n"
          ],
          "name": "stderr"
        },
        {
          "output_type": "display_data",
          "data": {
            "image/png": "[encoded data removed]",
            "text/plain": [
              "<Figure size 864x576 with 1 Axes>"
            ]
          },
          "metadata": {
            "tags": [],
            "image/png": {
              "width": 753,
              "height": 489
            }
          }
        }
      ]
    },
    {
      "cell_type": "code",
      "metadata": {
        "colab": {
          "base_uri": "https://localhost:8080/"
        },
        "id": "Y8TZ1kEM7HXv",
        "outputId": "3b55d3af-d3f2-4fd9-8eee-0a2d05eb7449"
      },
      "source": [
        "token_lens[np.argmax(token_lens)]"
      ],
      "execution_count": 133,
      "outputs": [
        {
          "output_type": "execute_result",
          "data": {
            "text/plain": [
              "66"
            ]
          },
          "metadata": {
            "tags": []
          },
          "execution_count": 133
        }
      ]
    },
    {
      "cell_type": "code",
      "metadata": {
        "colab": {
          "base_uri": "https://localhost:8080/",
          "height": 625
        },
        "id": "AerlUt2lCNaS",
        "outputId": "5bdf1664-676b-41fd-fea0-d37e9b9513f5"
      },
      "source": [
        "ax = sns.countplot(x=df_train.enc_emotion)\r\n",
        "plt.xlabel('Emotion classes after downsampling')\r\n",
        "ax.set_xticklabels(class_names)"
      ],
      "execution_count": 134,
      "outputs": [
        {
          "output_type": "execute_result",
          "data": {
            "text/plain": [
              "[Text(0, 0, 'neutral'),\n",
              " Text(0, 0, 'joy'),\n",
              " Text(0, 0, 'surprise'),\n",
              " Text(0, 0, 'anger'),\n",
              " Text(0, 0, 'sadness'),\n",
              " Text(0, 0, 'disgust'),\n",
              " Text(0, 0, 'fear')]"
            ]
          },
          "metadata": {
            "tags": []
          },
          "execution_count": 134
        },
        {
          "output_type": "display_data",
          "data": {
            "image/png": "[encoded data removed]",
            "text/plain": [
              "<Figure size 864x576 with 1 Axes>"
            ]
          },
          "metadata": {
            "tags": [],
            "image/png": {
              "width": 745,
              "height": 489
            }
          }
        }
      ]
    },
    {
      "cell_type": "code",
      "metadata": {
        "id": "7dOKeOdlVOJA"
      },
      "source": [
        "def utterance_encode(utterance: str):\n",
        "    inputs = tokenizer.encode_plus(\n",
        "        utterance,\n",
        "        None,\n",
        "        add_special_tokens=True,\n",
        "        max_length=MAX_LEN,\n",
        "        truncation=True,\n",
        "        padding='max_length',\n",
        "        return_token_type_ids=True\n",
        "    )\n",
        "\n",
        "    ids = inputs['input_ids']\n",
        "    mask = inputs['attention_mask']\n",
        "    token_type_ids = inputs[\"token_type_ids\"]\n",
        "\n",
        "    return {\n",
        "        'ids': torch.tensor(ids, dtype=torch.long).unsqueeze(0),\n",
        "        'mask': torch.tensor(mask, dtype=torch.long).unsqueeze(0),\n",
        "        'token_type_ids': torch.tensor(token_type_ids, dtype=torch.long)\n",
        "    }"
      ],
      "execution_count": 135,
      "outputs": []
    },
    {
      "cell_type": "markdown",
      "metadata": {
        "id": "yHW0WtDXSaLK"
      },
      "source": [
        "### Model"
      ]
    },
    {
      "cell_type": "code",
      "metadata": {
        "id": "21xMpscnrVjL"
      },
      "source": [
        "class RobertaClass(torch.nn.Module):\n",
        "    def __init__(self):\n",
        "        super(RobertaClass, self).__init__()\n",
        "        self.l1 = RobertaModel.from_pretrained('roberta-base')\n",
        "        self.pre_classifier = torch.nn.Linear(768, 768)\n",
        "        self.dropout = torch.nn.Dropout(0.3)\n",
        "        self.classifier = torch.nn.Linear(768, 7)\n",
        "\n",
        "    def forward(self, input_ids, attention_mask, token_type_ids):\n",
        "        output_1 = self.l1(input_ids=input_ids, attention_mask=attention_mask, token_type_ids=token_type_ids)\n",
        "        hidden_state = output_1[0]\n",
        "        pooler = hidden_state[:, 0]\n",
        "        # print(pooler.size())\n",
        "        pooler = self.pre_classifier(pooler)\n",
        "        pooler = torch.nn.ReLU()(pooler)\n",
        "        pooler = self.dropout(pooler)\n",
        "        output = self.classifier(pooler)\n",
        "        return output\n",
        "\n",
        "model = RobertaClass().to(device=device)"
      ],
      "execution_count": 136,
      "outputs": []
    },
    {
      "cell_type": "code",
      "metadata": {
        "colab": {
          "base_uri": "https://localhost:8080/"
        },
        "id": "uW1YivmTpk9V",
        "outputId": "9766e1b5-a64f-458d-dc40-546c2f81b9a5"
      },
      "source": [
        "file_id = '1-0HL9o2tnNYUJwoVv1HMLj_NmY07kBu0' # '1--TzzCipxlgo17bWNhY0Z4rWNQWzFpMv' -> 256 length if needed\n",
        "!gdown https://drive.google.com/uc?id={file_id}\n",
        "\n",
        "# Load configs to the existing model\n",
        "model.load_state_dict(torch.load('pytorch_roberta_sentiment.bin'))"
      ],
      "execution_count": 137,
      "outputs": [
        {
          "output_type": "stream",
          "text": [
            "Downloading...\n",
            "From: https://drive.google.com/uc?id=1-0HL9o2tnNYUJwoVv1HMLj_NmY07kBu0\n",
            "To: /content/pytorch_roberta_sentiment.bin\n",
            "501MB [00:05, 97.0MB/s]\n"
          ],
          "name": "stdout"
        },
        {
          "output_type": "execute_result",
          "data": {
            "text/plain": [
              "<All keys matched successfully>"
            ]
          },
          "metadata": {
            "tags": []
          },
          "execution_count": 137
        }
      ]
    },
    {
      "cell_type": "code",
      "metadata": {
        "id": "ShbHyg9UVHOg"
      },
      "source": [
        "def predict_emotion(utterance) -> tuple:\n",
        "    '''\n",
        "    utterance: str\n",
        "        The utterance text.\n",
        "    \n",
        "    Returns tuple.\n",
        "        First item is the belonging class name.\n",
        "        Second item is the encoded class name.\n",
        "    '''\n",
        "    # Encode inputs\n",
        "    inputs = utterance_encode(utterance)\n",
        "    # Parse into needed variables\n",
        "    ids = inputs['ids'].to(device, dtype = torch.long)\n",
        "    mask = inputs['mask'].to(device, dtype = torch.long)\n",
        "    token_type_ids = inputs['token_type_ids'].to(device, dtype = torch.long)\n",
        "\n",
        "    # Predict\n",
        "    output = model(ids, mask, token_type_ids)\n",
        "    _, prediction = torch.max(output, dim=1)\n",
        "\n",
        "    return (output.to(torch.device(\"cpu\")).detach().numpy(), class_names[prediction], prediction.item())\n",
        "\n",
        "output, cls_name, index = predict_emotion(\"why you did that??\")"
      ],
      "execution_count": 138,
      "outputs": []
    },
    {
      "cell_type": "code",
      "metadata": {
        "colab": {
          "base_uri": "https://localhost:8080/"
        },
        "id": "LO-rqYVLno6g",
        "outputId": "4f46b4eb-7fe0-4e47-9374-cae569b50a30"
      },
      "source": [
        "def tae(utterance) -> dict:\n",
        "    '''\n",
        "    utterance: str\n",
        "        The utterance text.\n",
        "    '''\n",
        "    idx = {\n",
        "        'anger': 0,\n",
        "        'disgust': 1,\n",
        "        'fear': 2,\n",
        "        'joy': 3,\n",
        "        'neutral': 4,\n",
        "        'sadness': 5,\n",
        "        'surprise': 6\n",
        "    }\n",
        "\n",
        "    # Encode inputs\n",
        "    inputs = utterance_encode(utterance)\n",
        "    # Parse into needed variables\n",
        "    ids = inputs['ids'].to(device, dtype = torch.long)\n",
        "    mask = inputs['mask'].to(device, dtype = torch.long)\n",
        "    token_type_ids = inputs['token_type_ids'].to(device, dtype = torch.long)\n",
        "\n",
        "    # Predict\n",
        "    output = torch.nn.functional.softmax(model(ids, mask, token_type_ids), dim=1)\n",
        "    _, prediction = torch.max(output, dim=1)\n",
        "\n",
        "    return {\n",
        "        'probs': output.to(torch.device(\"cpu\")).detach().numpy(),\n",
        "        'label': class_names[prediction],\n",
        "        'index': idx[class_names[prediction]]\n",
        "    }\n",
        "\n",
        "tae(\"why you did that??\")"
      ],
      "execution_count": 139,
      "outputs": [
        {
          "output_type": "execute_result",
          "data": {
            "text/plain": [
              "{'index': 6,\n",
              " 'label': 'surprise',\n",
              " 'probs': array([[0.10603976, 0.05075339, 0.5761565 , 0.12183854, 0.05615963,\n",
              "         0.04529101, 0.04376117]], dtype=float32)}"
            ]
          },
          "metadata": {
            "tags": []
          },
          "execution_count": 139
        }
      ]
    },
    {
      "cell_type": "markdown",
      "metadata": {
        "id": "uYrjl8SjtrT7"
      },
      "source": [
        "## TODO3:\n",
        "\n",
        "Extract audio features  or train a classifier. Each video (utterance) should result in a fixed-size vector. This should be done by Vivian.\n",
        "\n"
      ]
    },
    {
      "cell_type": "code",
      "metadata": {
        "id": "Bn7um158tq1x",
        "colab": {
          "base_uri": "https://localhost:8080/"
        },
        "outputId": "de73259e-104f-4b3c-d044-6b784bc3bd2c"
      },
      "source": [
        "! pip install librosa"
      ],
      "execution_count": 1,
      "outputs": [
        {
          "output_type": "stream",
          "text": [
            "Requirement already satisfied: librosa in /usr/local/lib/python3.6/dist-packages (0.6.3)\n",
            "Requirement already satisfied: numba>=0.38.0 in /usr/local/lib/python3.6/dist-packages (from librosa) (0.48.0)\n",
            "Requirement already satisfied: numpy>=1.8.0 in /usr/local/lib/python3.6/dist-packages (from librosa) (1.18.5)\n",
            "Requirement already satisfied: joblib>=0.12 in /usr/local/lib/python3.6/dist-packages (from librosa) (0.17.0)\n",
            "Requirement already satisfied: scikit-learn!=0.19.0,>=0.14.0 in /usr/local/lib/python3.6/dist-packages (from librosa) (0.22.2.post1)\n",
            "Requirement already satisfied: six>=1.3 in /usr/local/lib/python3.6/dist-packages (from librosa) (1.15.0)\n",
            "Requirement already satisfied: audioread>=2.0.0 in /usr/local/lib/python3.6/dist-packages (from librosa) (2.1.9)\n",
            "Requirement already satisfied: scipy>=1.0.0 in /usr/local/lib/python3.6/dist-packages (from librosa) (1.4.1)\n",
            "Requirement already satisfied: decorator>=3.0.0 in /usr/local/lib/python3.6/dist-packages (from librosa) (4.4.2)\n",
            "Requirement already satisfied: resampy>=0.2.0 in /usr/local/lib/python3.6/dist-packages (from librosa) (0.2.2)\n",
            "Requirement already satisfied: llvmlite<0.32.0,>=0.31.0dev0 in /usr/local/lib/python3.6/dist-packages (from numba>=0.38.0->librosa) (0.31.0)\n",
            "Requirement already satisfied: setuptools in /usr/local/lib/python3.6/dist-packages (from numba>=0.38.0->librosa) (50.3.2)\n"
          ],
          "name": "stdout"
        }
      ]
    },
    {
      "cell_type": "code",
      "metadata": {
        "id": "9zz3TYu2oWBf"
      },
      "source": [
        "# from google.colab import drive\n",
        "# drive.mount('/content/drive')\n",
        "# !unzip 'drive/My Drive/audio.zip'\n",
        "!gdown --id 1e6HlcqfAjNOQJROtXn7gqcuPTGzu2KUk\n",
        "!unzip audio.zip"
      ],
      "execution_count": null,
      "outputs": []
    },
    {
      "cell_type": "code",
      "metadata": {
        "id": "ue-NVUsI4XgP"
      },
      "source": [
        "# Show random audio representation example of file\r\n",
        "from scipy.io import wavfile as wav\r\n",
        "import random\r\n",
        "import os\r\n",
        "from matplotlib import pyplot as plt\r\n",
        "import IPython.display as ipd\r\n",
        "import librosa.display\r\n",
        "\r\n",
        "\r\n",
        "AUDIO_PATH = \"smaller-dataset/\"\r\n",
        "\r\n",
        "diautt = random.choice([foo for foo, bar in datasets['train'].items()])\r\n",
        "annot = datasets['train'][diautt]\r\n",
        "\r\n",
        "print(annot)\r\n",
        "\r\n",
        "audio_path = os.path.join(AUDIO_PATH, diautt) +  '.mp4'\r\n",
        "\r\n",
        "def print_plot_play(x, Fs, text=''):\r\n",
        "    print('%s Fs = %d, x.shape = %s, x.dtype = %s' % (text, Fs, x.shape, x.dtype))\r\n",
        "    plt.figure(figsize=(8, 2))\r\n",
        "    plt.plot(x, color='gray')\r\n",
        "    plt.xlim([0, x.shape[0]])\r\n",
        "    plt.xlabel('Time (samples)')\r\n",
        "    plt.ylabel('Amplitude')\r\n",
        "    plt.tight_layout()\r\n",
        "    plt.show()\r\n",
        "    ipd.display(ipd.Audio(data=x, rate=Fs))\r\n",
        "\r\n",
        "x, sr = librosa.load(audio_path)\r\n",
        "print_plot_play(x=x, Fs=sr, text='MP4 file: ')\r\n",
        "\r\n",
        "mfccs = librosa.feature.mfcc(x, sr=sr)\r\n",
        "print(mfccs.shape)\r\n",
        "#Displaying  the MFCCs:\r\n",
        "librosa.display.specshow(mfccs, sr=sr, x_axis='time')\r\n",
        "\r\n",
        "X = librosa.stft(x)\r\n",
        "Xdb = librosa.amplitude_to_db(abs(X))\r\n",
        "plt.figure(figsize=(14, 5))\r\n",
        "librosa.display.specshow(Xdb, sr=sr, x_axis='time', y_axis='hz') \r\n",
        "#If to pring log of frequencies  \r\n",
        "#librosa.display.specshow(Xdb, sr=sr, x_axis='time', y_axis='log')\r\n",
        "plt.colorbar()"
      ],
      "execution_count": null,
      "outputs": []
    },
    {
      "cell_type": "code",
      "metadata": {
        "id": "-kfOD53zqHTA"
      },
      "source": [
        "import requests \r\n",
        "import io\r\n",
        "import pandas as pd\r\n",
        "\r\n",
        "download_train = requests.get('https://raw.githubusercontent.com/declare-lab/MELD/master/data/MELD/train_sent_emo.csv').content\r\n",
        "download_val = requests.get('https://raw.githubusercontent.com/declare-lab/MELD/master/data/MELD/dev_sent_emo.csv').content\r\n",
        "download_test = requests.get('https://raw.githubusercontent.com/declare-lab/MELD/master/data/MELD/test_sent_emo.csv').content\r\n",
        "\r\n",
        "# Create frames\r\n",
        "df_train = pd.read_csv(io.StringIO(download_train.decode('utf-8')))\r\n",
        "df_val = pd.read_csv(io.StringIO(download_val.decode('utf-8')))\r\n",
        "df_test = pd.read_csv(io.StringIO(download_test.decode('utf-8')))"
      ],
      "execution_count": 3,
      "outputs": []
    },
    {
      "cell_type": "code",
      "metadata": {
        "id": "672nPI_BPrZe"
      },
      "source": [
        "from tqdm import tqdm\n",
        "import librosa \n",
        "import numpy as np\n",
        "import pandas as pd\n",
        "from numpy import std\n",
        "\n",
        "def get_features(df, dir, scaler = dict()):\n",
        "    data = pd.DataFrame(columns=['feature'])\n",
        "    label = pd.DataFrame(columns=['label'])\n",
        "    name = pd.DataFrame(columns=['name'])    \n",
        "  \n",
        "    print(f'Number of rows in DataFrame: {len(df)}')\n",
        "\n",
        "    for row in tqdm(df.itertuples()):\n",
        "        \n",
        "        try:\n",
        "            path = f'./content/MELD.Raw/audio/{dir}/dia{row.Dialogue_ID}_utt{row.Utterance_ID}.mp3'\n",
        "            y, sr = librosa.load(path, sr=None)\n",
        "\n",
        "            result = np.array([])\n",
        "\n",
        "            rmse = np.mean(librosa.feature.rmse(y=y))\n",
        "            result = np.hstack((result, rmse))\n",
        "\n",
        "            spec_cent = np.mean(librosa.feature.spectral_centroid(y=y, sr=sr))\n",
        "            result = np.hstack((result, spec_cent))\n",
        "            \n",
        "            spec_bw = np.mean(librosa.feature.spectral_bandwidth(y=y, sr=sr))\n",
        "            result = np.hstack((result, spec_bw))\n",
        "\n",
        "            rolloff = np.mean(librosa.feature.spectral_rolloff(y=y, sr=sr))\n",
        "            result = np.hstack((result, rolloff))\n",
        "\n",
        "            zcr = np.mean(librosa.feature.zero_crossing_rate(y=y))\n",
        "            result = np.hstack((result, zcr))\n",
        "\n",
        "            ## MFCCs\n",
        "            mfccs = np.mean(librosa.feature.mfcc(y=y, sr=sr, n_mfcc=40).T, axis=0)\n",
        "            result = np.hstack((result, mfccs))\n",
        "\n",
        "            ## Chroma\n",
        "            stft= np.abs(librosa.stft(y))\n",
        "            chroma = np.mean(librosa.feature.chroma_stft(S=stft, sr=sr).T, axis=0)\n",
        "            result = np.hstack((result, chroma))\n",
        "\n",
        "            ## Mel Scale\n",
        "            mel = np.mean(librosa.feature.melspectrogram(y , sr=sr).T, axis=0)\n",
        "            result = np.hstack((result, mel))\n",
        "\n",
        "            label.loc[row.Index, 'label'] = df.loc[row.Index, 'Emotion']\n",
        "            data.loc[row.Index] = [result]\n",
        "            filename = 'dia'+ str(df.loc[row.Index, 'Dialogue_ID']) + '_utt' + str(df.loc[row.Index, 'Utterance_ID'])\n",
        "            name.at[row.Index, 'name'] = filename\n",
        "\n",
        "        except:\n",
        "            print(f'failed for {row.Index}')\n",
        "\n",
        "    final_data = pd.DataFrame(data['feature'].values.tolist(), index=data.index)\n",
        "    if NORMALISE:\n",
        "        for col in final_data:\n",
        "            minimum = final_data[col].min(axis=0)\n",
        "            maximum = final_data[col].max(axis=0)\n",
        "            final_data[col] = final_data[col].apply(lambda x: (x - minimum) / (maximum - minimum))\n",
        "            scaler[col] = (minimum, maximum)\n",
        "\n",
        "    data = pd.concat([final_data, label, name], axis=1)\n",
        "    data = data.sample(frac=1)\n",
        "\n",
        "    return data, scaler"
      ],
      "execution_count": 16,
      "outputs": []
    },
    {
      "cell_type": "code",
      "metadata": {
        "id": "jRHUzcuBPrhx"
      },
      "source": [
        "NORMALISE=True\n",
        "\n",
        "audio_train, scaler = get_features(df_train, 'train')\n",
        "audio_dev, scaler = get_features(df_val, 'dev', scaler)\n",
        "audio_test, scaler = get_features(df_test, 'test', scaler)"
      ],
      "execution_count": null,
      "outputs": []
    },
    {
      "cell_type": "code",
      "metadata": {
        "colab": {
          "base_uri": "https://localhost:8080/"
        },
        "id": "YZgWZAhGwbTv",
        "outputId": "ecf573cd-5884-462c-8e4a-054b188f12b6"
      },
      "source": [
        ""
      ],
      "execution_count": 21,
      "outputs": [
        {
          "output_type": "stream",
          "text": [
            "\r0it [00:00, ?it/s]"
          ],
          "name": "stderr"
        },
        {
          "output_type": "stream",
          "text": [
            "Number of rows in DataFrame: 1109\n"
          ],
          "name": "stdout"
        },
        {
          "output_type": "stream",
          "text": [
            "1085it [05:43,  4.25it/s]"
          ],
          "name": "stderr"
        },
        {
          "output_type": "stream",
          "text": [
            "failed for 1084\n"
          ],
          "name": "stdout"
        },
        {
          "output_type": "stream",
          "text": [
            "1109it [05:50,  3.16it/s]\n",
            "0it [00:00, ?it/s]"
          ],
          "name": "stderr"
        },
        {
          "output_type": "stream",
          "text": [
            "Number of rows in DataFrame: 2610\n"
          ],
          "name": "stdout"
        },
        {
          "output_type": "stream",
          "text": [
            "2610it [15:38,  2.78it/s]\n"
          ],
          "name": "stderr"
        }
      ]
    },
    {
      "cell_type": "code",
      "metadata": {
        "id": "IcCLELk6Y5q1"
      },
      "source": [
        "# !gdown --id 1eFAHRypj9RH7pm0d5oJBFHJnaZWEo_uA\n",
        "# !unzip Downloads.zip\n",
        "# !rm -rf submissions\\ \\(2\\)\n",
        "# !rm -rf submissions\\ \\(3\\)\n",
        "\n",
        "# import pandas as pd\n",
        "\n",
        "# audio_train = pd.read_csv('full_audio_train.csv')\n",
        "# audio_dev = pd.read_csv('full_audio_dev.csv')\n",
        "# audio_test = pd.read_csv('full_audio_test.csv')"
      ],
      "execution_count": 8,
      "outputs": []
    },
    {
      "cell_type": "code",
      "metadata": {
        "colab": {
          "base_uri": "https://localhost:8080/",
          "height": 17
        },
        "id": "nGT0J3I5t0mj",
        "outputId": "d79ea880-fe7f-48df-c354-b8394be43765"
      },
      "source": [
        "audio_train.to_csv('full_audio_train.csv', index=False)\r\n",
        "audio_dev.to_csv('full_audio_dev.csv', index=False)\r\n",
        "audio_test.to_csv('full_audio_test.csv', index=False)\r\n",
        "\r\n",
        "from google.colab import files\r\n",
        "files.download('full_audio_train.csv')\r\n",
        "files.download('full_audio_dev.csv')\r\n",
        "files.download('full_audio_test.csv')"
      ],
      "execution_count": 22,
      "outputs": [
        {
          "output_type": "display_data",
          "data": {
            "application/javascript": [
              "\n",
              "    async function download(id, filename, size) {\n",
              "      if (!google.colab.kernel.accessAllowed) {\n",
              "        return;\n",
              "      }\n",
              "      const div = document.createElement('div');\n",
              "      const label = document.createElement('label');\n",
              "      label.textContent = `Downloading \"${filename}\": `;\n",
              "      div.appendChild(label);\n",
              "      const progress = document.createElement('progress');\n",
              "      progress.max = size;\n",
              "      div.appendChild(progress);\n",
              "      document.body.appendChild(div);\n",
              "\n",
              "      const buffers = [];\n",
              "      let downloaded = 0;\n",
              "\n",
              "      const channel = await google.colab.kernel.comms.open(id);\n",
              "      // Send a message to notify the kernel that we're ready.\n",
              "      channel.send({})\n",
              "\n",
              "      for await (const message of channel.messages) {\n",
              "        // Send a message to notify the kernel that we're ready.\n",
              "        channel.send({})\n",
              "        if (message.buffers) {\n",
              "          for (const buffer of message.buffers) {\n",
              "            buffers.push(buffer);\n",
              "            downloaded += buffer.byteLength;\n",
              "            progress.value = downloaded;\n",
              "          }\n",
              "        }\n",
              "      }\n",
              "      const blob = new Blob(buffers, {type: 'application/binary'});\n",
              "      const a = document.createElement('a');\n",
              "      a.href = window.URL.createObjectURL(blob);\n",
              "      a.download = filename;\n",
              "      div.appendChild(a);\n",
              "      a.click();\n",
              "      div.remove();\n",
              "    }\n",
              "  "
            ],
            "text/plain": [
              "<IPython.core.display.Javascript object>"
            ]
          },
          "metadata": {
            "tags": []
          }
        },
        {
          "output_type": "display_data",
          "data": {
            "application/javascript": [
              "download(\"download_95c8fa0d-f7cb-4693-8e45-1e4450547a95\", \"full_audio_train.csv\", 38183564)"
            ],
            "text/plain": [
              "<IPython.core.display.Javascript object>"
            ]
          },
          "metadata": {
            "tags": []
          }
        },
        {
          "output_type": "display_data",
          "data": {
            "application/javascript": [
              "\n",
              "    async function download(id, filename, size) {\n",
              "      if (!google.colab.kernel.accessAllowed) {\n",
              "        return;\n",
              "      }\n",
              "      const div = document.createElement('div');\n",
              "      const label = document.createElement('label');\n",
              "      label.textContent = `Downloading \"${filename}\": `;\n",
              "      div.appendChild(label);\n",
              "      const progress = document.createElement('progress');\n",
              "      progress.max = size;\n",
              "      div.appendChild(progress);\n",
              "      document.body.appendChild(div);\n",
              "\n",
              "      const buffers = [];\n",
              "      let downloaded = 0;\n",
              "\n",
              "      const channel = await google.colab.kernel.comms.open(id);\n",
              "      // Send a message to notify the kernel that we're ready.\n",
              "      channel.send({})\n",
              "\n",
              "      for await (const message of channel.messages) {\n",
              "        // Send a message to notify the kernel that we're ready.\n",
              "        channel.send({})\n",
              "        if (message.buffers) {\n",
              "          for (const buffer of message.buffers) {\n",
              "            buffers.push(buffer);\n",
              "            downloaded += buffer.byteLength;\n",
              "            progress.value = downloaded;\n",
              "          }\n",
              "        }\n",
              "      }\n",
              "      const blob = new Blob(buffers, {type: 'application/binary'});\n",
              "      const a = document.createElement('a');\n",
              "      a.href = window.URL.createObjectURL(blob);\n",
              "      a.download = filename;\n",
              "      div.appendChild(a);\n",
              "      a.click();\n",
              "      div.remove();\n",
              "    }\n",
              "  "
            ],
            "text/plain": [
              "<IPython.core.display.Javascript object>"
            ]
          },
          "metadata": {
            "tags": []
          }
        },
        {
          "output_type": "display_data",
          "data": {
            "application/javascript": [
              "download(\"download_6c444f4f-58ff-46ed-a74c-1ee86955cc6b\", \"full_audio_dev.csv\", 4192397)"
            ],
            "text/plain": [
              "<IPython.core.display.Javascript object>"
            ]
          },
          "metadata": {
            "tags": []
          }
        },
        {
          "output_type": "display_data",
          "data": {
            "application/javascript": [
              "\n",
              "    async function download(id, filename, size) {\n",
              "      if (!google.colab.kernel.accessAllowed) {\n",
              "        return;\n",
              "      }\n",
              "      const div = document.createElement('div');\n",
              "      const label = document.createElement('label');\n",
              "      label.textContent = `Downloading \"${filename}\": `;\n",
              "      div.appendChild(label);\n",
              "      const progress = document.createElement('progress');\n",
              "      progress.max = size;\n",
              "      div.appendChild(progress);\n",
              "      document.body.appendChild(div);\n",
              "\n",
              "      const buffers = [];\n",
              "      let downloaded = 0;\n",
              "\n",
              "      const channel = await google.colab.kernel.comms.open(id);\n",
              "      // Send a message to notify the kernel that we're ready.\n",
              "      channel.send({})\n",
              "\n",
              "      for await (const message of channel.messages) {\n",
              "        // Send a message to notify the kernel that we're ready.\n",
              "        channel.send({})\n",
              "        if (message.buffers) {\n",
              "          for (const buffer of message.buffers) {\n",
              "            buffers.push(buffer);\n",
              "            downloaded += buffer.byteLength;\n",
              "            progress.value = downloaded;\n",
              "          }\n",
              "        }\n",
              "      }\n",
              "      const blob = new Blob(buffers, {type: 'application/binary'});\n",
              "      const a = document.createElement('a');\n",
              "      a.href = window.URL.createObjectURL(blob);\n",
              "      a.download = filename;\n",
              "      div.appendChild(a);\n",
              "      a.click();\n",
              "      div.remove();\n",
              "    }\n",
              "  "
            ],
            "text/plain": [
              "<IPython.core.display.Javascript object>"
            ]
          },
          "metadata": {
            "tags": []
          }
        },
        {
          "output_type": "display_data",
          "data": {
            "application/javascript": [
              "download(\"download_3b2dc529-f1e5-4fbb-bc3f-894e5bdb9a01\", \"full_audio_test.csv\", 9890805)"
            ],
            "text/plain": [
              "<IPython.core.display.Javascript object>"
            ]
          },
          "metadata": {
            "tags": []
          }
        }
      ]
    },
    {
      "cell_type": "code",
      "metadata": {
        "colab": {
          "base_uri": "https://localhost:8080/"
        },
        "id": "QdDojyUf-sD3",
        "outputId": "25e63ca9-5e7d-4bf1-89e3-27819ab1f91b"
      },
      "source": [
        "# BALANCE CLASSES\r\n",
        "BALANCE = True\r\n",
        "ALL = False\r\n",
        "\r\n",
        "def balance(df, BALANCE, ALL):\r\n",
        "  if BALANCE:\r\n",
        "    # Balance classes for through down-sampling)\r\n",
        "    if ALL:\r\n",
        "        print(df.columns)\r\n",
        "        g = df.groupby('label', group_keys=False)\r\n",
        "        df = pd.DataFrame(g.apply(lambda x: x.sample(g.size().min()))).reset_index(drop=True)\r\n",
        "    else:  \r\n",
        "        ### Separate the majority and minority classes\r\n",
        "        df_minority  = df[df['label']=='joy']\r\n",
        "        df_majority = df[df['label']=='neutral']\r\n",
        "        df_rest = df[df['label'] != 'neutral'][df['label'] != 'joy']\r\n",
        "\r\n",
        "        ### Now, downsamples majority labels equal to the number of samples in the minority class\r\n",
        "\r\n",
        "        df_majority = df_majority.sample(len(df_minority), random_state=0)\r\n",
        "\r\n",
        "        ### concat the majority and minority dataframes\r\n",
        "        df = pd.concat([df_majority,df_minority, df_rest])\r\n",
        "\r\n",
        "        ## Shuffle the dataset to prevent the model from getting biased by similar samples\r\n",
        "        df = df.sample(frac=1, random_state=0)\r\n",
        "\r\n",
        "    return df\r\n",
        "\r\n",
        "    #train_df = pd.DataFrame(g.apply(lambda x: x.sample(g.size().min()))).reset_index(drop=True)\r\n",
        "\r\n",
        "balanced_train = balance(audio_train, BALANCE, ALL)\r\n",
        "balanced_train.to_csv('full_audio_train_balanced.csv', index=False)\r\n",
        "#files.download('full_audio_train_balanced.csv')\r\n",
        "\r\n",
        "balanced_train['label'].value_counts()"
      ],
      "execution_count": 29,
      "outputs": [
        {
          "output_type": "stream",
          "text": [
            "/usr/local/lib/python3.6/dist-packages/ipykernel_launcher.py:16: UserWarning: Boolean Series key will be reindexed to match DataFrame index.\n",
            "  app.launch_new_instance()\n"
          ],
          "name": "stderr"
        },
        {
          "output_type": "execute_result",
          "data": {
            "text/plain": [
              "neutral     1743\n",
              "joy         1743\n",
              "surprise    1205\n",
              "anger       1109\n",
              "sadness      683\n",
              "disgust      271\n",
              "fear         268\n",
              "Name: label, dtype: int64"
            ]
          },
          "metadata": {
            "tags": []
          },
          "execution_count": 29
        }
      ]
    },
    {
      "cell_type": "markdown",
      "metadata": {
        "id": "bkDFlE0aGTj_"
      },
      "source": [
        "# Actual audio model building\n",
        "\n",
        "\n",
        "---\n",
        "\n",
        "Fully connected deep neural network\n"
      ]
    },
    {
      "cell_type": "code",
      "metadata": {
        "id": "P2SBe1LeBqVq",
        "colab": {
          "base_uri": "https://localhost:8080/"
        },
        "outputId": "7b69de34-120a-4ccd-c4b6-46ed54f1fc01"
      },
      "source": [
        "from keras import models\n",
        "from keras import layers\n",
        "from keras.layers import Dropout\n",
        "\n",
        "model_v = models.Sequential()\n",
        "model_v.add(layers.Dense(185, activation='relu', input_shape=(185,)))\n",
        "model_v.add(Dropout(0.5))\n",
        "model_v.add(layers.Dense(128, activation='relu'))\n",
        "model_v.add(Dropout(0.5))\n",
        "model_v.add(layers.Dense(64, activation='relu'))\n",
        "model_v.add(Dropout(0.25))\n",
        "model_v.add(layers.Dense(7, activation='softmax'))\n",
        "\n",
        "model_v.compile(optimizer='adam',\n",
        "              loss='sparse_categorical_crossentropy',\n",
        "              metrics=['accuracy'])\n",
        "\n",
        "model_v.summary()"
      ],
      "execution_count": 144,
      "outputs": [
        {
          "output_type": "stream",
          "text": [
            "Model: \"sequential_1\"\n",
            "_________________________________________________________________\n",
            "Layer (type)                 Output Shape              Param #   \n",
            "=================================================================\n",
            "dense_4 (Dense)              (None, 185)               34410     \n",
            "_________________________________________________________________\n",
            "dropout_3 (Dropout)          (None, 185)               0         \n",
            "_________________________________________________________________\n",
            "dense_5 (Dense)              (None, 128)               23808     \n",
            "_________________________________________________________________\n",
            "dropout_4 (Dropout)          (None, 128)               0         \n",
            "_________________________________________________________________\n",
            "dense_6 (Dense)              (None, 64)                8256      \n",
            "_________________________________________________________________\n",
            "dropout_5 (Dropout)          (None, 64)                0         \n",
            "_________________________________________________________________\n",
            "dense_7 (Dense)              (None, 7)                 455       \n",
            "=================================================================\n",
            "Total params: 66,929\n",
            "Trainable params: 66,929\n",
            "Non-trainable params: 0\n",
            "_________________________________________________________________\n"
          ],
          "name": "stdout"
        }
      ]
    },
    {
      "cell_type": "code",
      "metadata": {
        "id": "y3oHfpLvEZC_"
      },
      "source": [
        "from sklearn.preprocessing import LabelEncoder\r\n",
        "import numpy as np\r\n",
        "\r\n",
        "X_train = np.array(balanced_train.drop(['label', 'name'], axis=1))\r\n",
        "y_train = balanced_train['label'].tolist()\r\n",
        "\r\n",
        "encoder = LabelEncoder()\r\n",
        "y_train = encoder.fit_transform(y_train)\r\n",
        "\r\n",
        "X_dev = np.array(audio_dev.drop(['label', 'name'], axis=1))\r\n",
        "y_dev = audio_dev['label'].tolist()\r\n",
        "y_dev = encoder.transform(y_dev)\r\n",
        "\r\n",
        "X_test = np.array(audio_test.drop(['label', 'name'], axis=1))\r\n",
        "y_test = audio_test['label'].tolist()\r\n",
        "y_test = encoder.transform(y_test)"
      ],
      "execution_count": 145,
      "outputs": []
    },
    {
      "cell_type": "code",
      "metadata": {
        "colab": {
          "base_uri": "https://localhost:8080/",
          "height": 1000
        },
        "id": "RVNknLmgEHZ3",
        "outputId": "34fb0cf8-4f40-4636-cfcd-5d464ba77ab8"
      },
      "source": [
        "from keras.callbacks import EarlyStopping\r\n",
        "import matplotlib.pyplot as plt\r\n",
        "\r\n",
        "es = EarlyStopping(monitor='val_loss', mode='min', verbose=1, patience=50)\r\n",
        "\r\n",
        "history = model_v.fit(X_train,\r\n",
        "                    y_train,\r\n",
        "                    epochs=100,\r\n",
        "                    validation_data = (X_dev, y_dev),\r\n",
        "                    batch_size=12,\r\n",
        "                    callbacks = [es])\r\n",
        "\r\n",
        "plt.plot(history.history['loss'], label='train')\r\n",
        "plt.plot(history.history['val_loss'], label='val')\r\n",
        "plt.legend()\r\n",
        "plt.show()"
      ],
      "execution_count": 147,
      "outputs": [
        {
          "output_type": "stream",
          "text": [
            "Epoch 1/100\n",
            "586/586 [==============================] - 2s 3ms/step - loss: 1.8010 - accuracy: 0.2361 - val_loss: 1.7575 - val_accuracy: 0.1480\n",
            "Epoch 2/100\n",
            "586/586 [==============================] - 1s 2ms/step - loss: 1.7746 - accuracy: 0.2575 - val_loss: 1.7193 - val_accuracy: 0.2915\n",
            "Epoch 3/100\n",
            "586/586 [==============================] - 1s 2ms/step - loss: 1.7680 - accuracy: 0.2553 - val_loss: 1.7304 - val_accuracy: 0.2518\n",
            "Epoch 4/100\n",
            "586/586 [==============================] - 1s 2ms/step - loss: 1.7607 - accuracy: 0.2636 - val_loss: 1.7388 - val_accuracy: 0.2022\n",
            "Epoch 5/100\n",
            "586/586 [==============================] - 1s 2ms/step - loss: 1.7573 - accuracy: 0.2709 - val_loss: 1.7201 - val_accuracy: 0.2771\n",
            "Epoch 6/100\n",
            "586/586 [==============================] - 1s 2ms/step - loss: 1.7532 - accuracy: 0.2744 - val_loss: 1.6873 - val_accuracy: 0.3357\n",
            "Epoch 7/100\n",
            "586/586 [==============================] - 1s 2ms/step - loss: 1.7495 - accuracy: 0.2815 - val_loss: 1.7213 - val_accuracy: 0.2699\n",
            "Epoch 8/100\n",
            "586/586 [==============================] - 1s 2ms/step - loss: 1.7509 - accuracy: 0.2741 - val_loss: 1.7144 - val_accuracy: 0.2924\n",
            "Epoch 9/100\n",
            "586/586 [==============================] - 1s 2ms/step - loss: 1.7463 - accuracy: 0.2740 - val_loss: 1.6916 - val_accuracy: 0.2915\n",
            "Epoch 10/100\n",
            "586/586 [==============================] - 1s 2ms/step - loss: 1.7436 - accuracy: 0.2774 - val_loss: 1.6940 - val_accuracy: 0.3168\n",
            "Epoch 11/100\n",
            "586/586 [==============================] - 1s 2ms/step - loss: 1.7433 - accuracy: 0.2868 - val_loss: 1.6655 - val_accuracy: 0.3502\n",
            "Epoch 12/100\n",
            "586/586 [==============================] - 1s 2ms/step - loss: 1.7424 - accuracy: 0.2795 - val_loss: 1.6839 - val_accuracy: 0.3430\n",
            "Epoch 13/100\n",
            "586/586 [==============================] - 1s 2ms/step - loss: 1.7431 - accuracy: 0.2764 - val_loss: 1.7522 - val_accuracy: 0.2365\n",
            "Epoch 14/100\n",
            "586/586 [==============================] - 1s 2ms/step - loss: 1.7442 - accuracy: 0.2814 - val_loss: 1.7086 - val_accuracy: 0.2843\n",
            "Epoch 15/100\n",
            "586/586 [==============================] - 1s 2ms/step - loss: 1.7428 - accuracy: 0.2717 - val_loss: 1.6755 - val_accuracy: 0.3132\n",
            "Epoch 16/100\n",
            "586/586 [==============================] - 1s 2ms/step - loss: 1.7413 - accuracy: 0.2798 - val_loss: 1.7321 - val_accuracy: 0.2419\n",
            "Epoch 17/100\n",
            "586/586 [==============================] - 1s 2ms/step - loss: 1.7405 - accuracy: 0.2763 - val_loss: 1.7077 - val_accuracy: 0.2915\n",
            "Epoch 18/100\n",
            "586/586 [==============================] - 1s 2ms/step - loss: 1.7365 - accuracy: 0.2834 - val_loss: 1.6831 - val_accuracy: 0.3005\n",
            "Epoch 19/100\n",
            "586/586 [==============================] - 1s 2ms/step - loss: 1.7374 - accuracy: 0.2835 - val_loss: 1.6774 - val_accuracy: 0.3511\n",
            "Epoch 20/100\n",
            "586/586 [==============================] - 2s 3ms/step - loss: 1.7378 - accuracy: 0.2840 - val_loss: 1.6768 - val_accuracy: 0.3204\n",
            "Epoch 21/100\n",
            "586/586 [==============================] - 1s 3ms/step - loss: 1.7369 - accuracy: 0.2911 - val_loss: 1.7093 - val_accuracy: 0.2671\n",
            "Epoch 22/100\n",
            "586/586 [==============================] - 1s 3ms/step - loss: 1.7318 - accuracy: 0.2919 - val_loss: 1.6782 - val_accuracy: 0.3195\n",
            "Epoch 23/100\n",
            "586/586 [==============================] - 2s 3ms/step - loss: 1.7325 - accuracy: 0.2820 - val_loss: 1.7002 - val_accuracy: 0.2960\n",
            "Epoch 24/100\n",
            "586/586 [==============================] - 1s 2ms/step - loss: 1.7316 - accuracy: 0.2858 - val_loss: 1.7362 - val_accuracy: 0.2473\n",
            "Epoch 25/100\n",
            "586/586 [==============================] - 1s 3ms/step - loss: 1.7357 - accuracy: 0.2862 - val_loss: 1.7044 - val_accuracy: 0.2491\n",
            "Epoch 26/100\n",
            "586/586 [==============================] - 2s 3ms/step - loss: 1.7330 - accuracy: 0.2882 - val_loss: 1.6637 - val_accuracy: 0.3421\n",
            "Epoch 27/100\n",
            "586/586 [==============================] - 1s 2ms/step - loss: 1.7338 - accuracy: 0.2874 - val_loss: 1.6954 - val_accuracy: 0.2753\n",
            "Epoch 28/100\n",
            "586/586 [==============================] - 1s 2ms/step - loss: 1.7311 - accuracy: 0.2877 - val_loss: 1.6983 - val_accuracy: 0.2626\n",
            "Epoch 29/100\n",
            "586/586 [==============================] - 1s 2ms/step - loss: 1.7318 - accuracy: 0.2833 - val_loss: 1.7474 - val_accuracy: 0.2419\n",
            "Epoch 30/100\n",
            "586/586 [==============================] - 1s 2ms/step - loss: 1.7316 - accuracy: 0.2838 - val_loss: 1.6851 - val_accuracy: 0.2744\n",
            "Epoch 31/100\n",
            "586/586 [==============================] - 1s 2ms/step - loss: 1.7260 - accuracy: 0.2860 - val_loss: 1.6998 - val_accuracy: 0.2635\n",
            "Epoch 32/100\n",
            "586/586 [==============================] - 1s 2ms/step - loss: 1.7274 - accuracy: 0.2898 - val_loss: 1.7033 - val_accuracy: 0.2464\n",
            "Epoch 33/100\n",
            "586/586 [==============================] - 1s 2ms/step - loss: 1.7245 - accuracy: 0.2840 - val_loss: 1.7066 - val_accuracy: 0.2780\n",
            "Epoch 34/100\n",
            "586/586 [==============================] - 1s 2ms/step - loss: 1.7253 - accuracy: 0.2949 - val_loss: 1.7106 - val_accuracy: 0.2554\n",
            "Epoch 35/100\n",
            "586/586 [==============================] - 1s 2ms/step - loss: 1.7277 - accuracy: 0.2868 - val_loss: 1.6952 - val_accuracy: 0.2789\n",
            "Epoch 36/100\n",
            "586/586 [==============================] - 1s 2ms/step - loss: 1.7244 - accuracy: 0.2917 - val_loss: 1.7215 - val_accuracy: 0.2554\n",
            "Epoch 37/100\n",
            "586/586 [==============================] - 1s 2ms/step - loss: 1.7238 - accuracy: 0.2905 - val_loss: 1.6809 - val_accuracy: 0.3384\n",
            "Epoch 38/100\n",
            "586/586 [==============================] - 1s 2ms/step - loss: 1.7253 - accuracy: 0.2918 - val_loss: 1.7053 - val_accuracy: 0.3060\n",
            "Epoch 39/100\n",
            "586/586 [==============================] - 1s 2ms/step - loss: 1.7280 - accuracy: 0.2870 - val_loss: 1.7488 - val_accuracy: 0.2229\n",
            "Epoch 40/100\n",
            "586/586 [==============================] - 1s 2ms/step - loss: 1.7220 - accuracy: 0.2872 - val_loss: 1.7183 - val_accuracy: 0.3204\n",
            "Epoch 41/100\n",
            "586/586 [==============================] - 1s 2ms/step - loss: 1.7279 - accuracy: 0.2918 - val_loss: 1.6924 - val_accuracy: 0.3475\n",
            "Epoch 42/100\n",
            "586/586 [==============================] - 1s 2ms/step - loss: 1.7201 - accuracy: 0.2976 - val_loss: 1.6974 - val_accuracy: 0.2852\n",
            "Epoch 43/100\n",
            "586/586 [==============================] - 1s 2ms/step - loss: 1.7205 - accuracy: 0.2932 - val_loss: 1.7243 - val_accuracy: 0.2545\n",
            "Epoch 44/100\n",
            "586/586 [==============================] - 1s 2ms/step - loss: 1.7234 - accuracy: 0.2907 - val_loss: 1.7364 - val_accuracy: 0.2699\n",
            "Epoch 45/100\n",
            "586/586 [==============================] - 1s 2ms/step - loss: 1.7206 - accuracy: 0.2964 - val_loss: 1.7511 - val_accuracy: 0.2527\n",
            "Epoch 46/100\n",
            "586/586 [==============================] - 1s 2ms/step - loss: 1.7191 - accuracy: 0.2892 - val_loss: 1.7021 - val_accuracy: 0.3032\n",
            "Epoch 47/100\n",
            "586/586 [==============================] - 1s 2ms/step - loss: 1.7198 - accuracy: 0.2887 - val_loss: 1.7164 - val_accuracy: 0.2717\n",
            "Epoch 48/100\n",
            "586/586 [==============================] - 1s 2ms/step - loss: 1.7204 - accuracy: 0.2928 - val_loss: 1.7511 - val_accuracy: 0.2735\n",
            "Epoch 49/100\n",
            "586/586 [==============================] - 1s 2ms/step - loss: 1.7198 - accuracy: 0.2956 - val_loss: 1.7399 - val_accuracy: 0.2518\n",
            "Epoch 50/100\n",
            "586/586 [==============================] - 1s 3ms/step - loss: 1.7189 - accuracy: 0.2985 - val_loss: 1.6753 - val_accuracy: 0.3583\n",
            "Epoch 51/100\n",
            "586/586 [==============================] - 1s 2ms/step - loss: 1.7185 - accuracy: 0.2862 - val_loss: 1.7353 - val_accuracy: 0.2590\n",
            "Epoch 52/100\n",
            "586/586 [==============================] - 1s 2ms/step - loss: 1.7154 - accuracy: 0.2941 - val_loss: 1.7101 - val_accuracy: 0.3078\n",
            "Epoch 53/100\n",
            "586/586 [==============================] - 1s 2ms/step - loss: 1.7184 - accuracy: 0.2961 - val_loss: 1.7437 - val_accuracy: 0.2744\n",
            "Epoch 54/100\n",
            "586/586 [==============================] - 1s 2ms/step - loss: 1.7189 - accuracy: 0.2946 - val_loss: 1.7009 - val_accuracy: 0.2996\n",
            "Epoch 55/100\n",
            "586/586 [==============================] - 1s 2ms/step - loss: 1.7134 - accuracy: 0.2936 - val_loss: 1.6954 - val_accuracy: 0.3032\n",
            "Epoch 56/100\n",
            "586/586 [==============================] - 1s 2ms/step - loss: 1.7138 - accuracy: 0.2878 - val_loss: 1.7651 - val_accuracy: 0.2383\n",
            "Epoch 57/100\n",
            "586/586 [==============================] - 1s 2ms/step - loss: 1.7149 - accuracy: 0.2972 - val_loss: 1.6994 - val_accuracy: 0.3213\n",
            "Epoch 58/100\n",
            "586/586 [==============================] - 1s 2ms/step - loss: 1.7158 - accuracy: 0.2934 - val_loss: 1.6867 - val_accuracy: 0.3330\n",
            "Epoch 59/100\n",
            "586/586 [==============================] - 1s 2ms/step - loss: 1.7115 - accuracy: 0.3012 - val_loss: 1.6950 - val_accuracy: 0.3105\n",
            "Epoch 60/100\n",
            "586/586 [==============================] - 1s 2ms/step - loss: 1.7117 - accuracy: 0.2909 - val_loss: 1.7263 - val_accuracy: 0.2699\n",
            "Epoch 61/100\n",
            "586/586 [==============================] - 1s 2ms/step - loss: 1.7151 - accuracy: 0.2962 - val_loss: 1.7191 - val_accuracy: 0.3168\n",
            "Epoch 62/100\n",
            "586/586 [==============================] - 1s 2ms/step - loss: 1.7143 - accuracy: 0.2983 - val_loss: 1.7124 - val_accuracy: 0.3403\n",
            "Epoch 63/100\n",
            "586/586 [==============================] - 1s 2ms/step - loss: 1.7081 - accuracy: 0.3009 - val_loss: 1.7242 - val_accuracy: 0.2852\n",
            "Epoch 64/100\n",
            "586/586 [==============================] - 1s 2ms/step - loss: 1.7111 - accuracy: 0.2999 - val_loss: 1.7241 - val_accuracy: 0.3060\n",
            "Epoch 65/100\n",
            "586/586 [==============================] - 1s 2ms/step - loss: 1.7132 - accuracy: 0.2889 - val_loss: 1.7905 - val_accuracy: 0.2500\n",
            "Epoch 66/100\n",
            "586/586 [==============================] - 1s 2ms/step - loss: 1.7128 - accuracy: 0.3005 - val_loss: 1.7344 - val_accuracy: 0.2987\n",
            "Epoch 67/100\n",
            "586/586 [==============================] - 1s 2ms/step - loss: 1.7098 - accuracy: 0.3062 - val_loss: 1.7324 - val_accuracy: 0.3096\n",
            "Epoch 68/100\n",
            "586/586 [==============================] - 1s 2ms/step - loss: 1.7127 - accuracy: 0.3018 - val_loss: 1.7313 - val_accuracy: 0.2789\n",
            "Epoch 69/100\n",
            "586/586 [==============================] - 1s 2ms/step - loss: 1.7095 - accuracy: 0.2961 - val_loss: 1.8250 - val_accuracy: 0.2365\n",
            "Epoch 70/100\n",
            "586/586 [==============================] - 1s 2ms/step - loss: 1.7091 - accuracy: 0.2955 - val_loss: 1.7887 - val_accuracy: 0.2356\n",
            "Epoch 71/100\n",
            "586/586 [==============================] - 1s 2ms/step - loss: 1.7101 - accuracy: 0.3003 - val_loss: 1.7912 - val_accuracy: 0.2446\n",
            "Epoch 72/100\n",
            "586/586 [==============================] - 1s 2ms/step - loss: 1.7111 - accuracy: 0.2948 - val_loss: 1.7318 - val_accuracy: 0.3213\n",
            "Epoch 73/100\n",
            "586/586 [==============================] - 1s 2ms/step - loss: 1.7072 - accuracy: 0.2966 - val_loss: 1.8480 - val_accuracy: 0.2310\n",
            "Epoch 74/100\n",
            "586/586 [==============================] - 1s 2ms/step - loss: 1.7067 - accuracy: 0.2998 - val_loss: 1.7706 - val_accuracy: 0.2807\n",
            "Epoch 75/100\n",
            "586/586 [==============================] - 1s 2ms/step - loss: 1.7075 - accuracy: 0.3028 - val_loss: 1.7379 - val_accuracy: 0.2987\n",
            "Epoch 76/100\n",
            "586/586 [==============================] - 1s 2ms/step - loss: 1.7059 - accuracy: 0.3005 - val_loss: 1.7735 - val_accuracy: 0.2780\n",
            "Epoch 00076: early stopping\n"
          ],
          "name": "stdout"
        },
        {
          "output_type": "display_data",
          "data": {
            "image/png": "[encoded data removed]",
            "text/plain": [
              "<Figure size 864x576 with 1 Axes>"
            ]
          },
          "metadata": {
            "tags": [],
            "image/png": {
              "width": 731,
              "height": 471
            }
          }
        }
      ]
    },
    {
      "cell_type": "code",
      "metadata": {
        "colab": {
          "base_uri": "https://localhost:8080/"
        },
        "id": "0VnUFj0yEYG9",
        "outputId": "7d1d0606-0fe5-4711-d92f-2fb4815a4ac5"
      },
      "source": [
        "test_loss, test_acc = model_v.evaluate(X_test,y_test)\r\n",
        "print('test_acc: ',test_acc)"
      ],
      "execution_count": 150,
      "outputs": [
        {
          "output_type": "stream",
          "text": [
            "82/82 [==============================] - 0s 2ms/step - loss: 1.7182 - accuracy: 0.2716\n",
            "test_acc:  0.27164751291275024\n"
          ],
          "name": "stdout"
        }
      ]
    },
    {
      "cell_type": "markdown",
      "metadata": {
        "id": "hJBYp156tx1h"
      },
      "source": [
        "## TODO4:\n",
        "\n",
        "Concatenate the three feature vectors and/or train a simple classifier. Start simple (e.g. one-layered logistic regression). This should be done all together.\n",
        "\n",
        "I (Viv) would propose the following structure for the voting system.\n",
        "\n",
        "\n",
        "1.   **Scenario 1**: Each modality outputs the same emotion --> pick this emotion.\n",
        "2.   **Scenario 2**: Two modalities output the same emotion --> pick this emotion.\n",
        "3.   **Scenario 3**: Each modality outputs a different emotion. Depending on which of the three initial base models performs best (likely video or text?), select this option.\n",
        "\n"
      ]
    },
    {
      "cell_type": "markdown",
      "metadata": {
        "id": "OugnpKkx3UHz"
      },
      "source": [
        "Modality fusion"
      ]
    },
    {
      "cell_type": "code",
      "metadata": {
        "id": "x_HIvCGe78UW"
      },
      "source": [
        "import os\n",
        "from tqdm.notebook import tqdm\n",
        "import json\n",
        "\n",
        "if not os.path.isfile('datasets.json'):\n",
        "    !gdown --id 1LG06KGcjJf6Efs1FGlQxz_NG_A8iWHE-\n",
        "with open('datasets.json', 'r') as stream:\n",
        "    datasets = json.load(stream)\n",
        "\n",
        "emotion2num = {'anger': 0,\n",
        "               'disgust': 1,\n",
        "               'fear': 2,\n",
        "               'joy': 3,\n",
        "               'neutral': 4,\n",
        "               'sadness': 5, \n",
        "               'surprise': 6}\n",
        "\n",
        "from sklearn.metrics import classification_report, f1_score"
      ],
      "execution_count": 220,
      "outputs": []
    },
    {
      "cell_type": "code",
      "metadata": {
        "colab": {
          "base_uri": "https://localhost:8080/",
          "height": 164,
          "referenced_widgets": [
            "2713a7ea4ed94233ab7184057c58ea67",
            "1a6b7f9e58ce46778a1baab57524bf62",
            "cb3920a946074503ab3c038566d81b8a",
            "4086cd26e7df47a3bf5d780e95a1a45e",
            "ec90f3c79928424ab528cd004880f61d",
            "6037da49aa4a4640aa68862b144ab238",
            "e42a7ba5d93d4f8f8eedb637b7e8086e",
            "2cdda004e9d84d73b7a15aaa30f0231c",
            "5dcc8d31783941659526b41278a1a2e9",
            "abe24adde9dd4b5491e664ac6a38d1f4",
            "d955693d7bc349f0ac513b0d6662d60b",
            "b6958ecc653f4091a7afb3f64310ece4",
            "0216c5c9c54045edb4222d7d00e5f368",
            "446498f092b14950b070f32054504c6d",
            "b7417810099e46b5917f3d2d76128aeb",
            "cba8dc414b0444d6acfb9d66e10d2a3c",
            "0437ce536d844e9c8eb41a42c29610da",
            "4c19d3cf0d344fcfa252072a2c94d823",
            "c7efd60c6bd1489da54a8f939f0f55c1",
            "b2cc7b13ece14b18a32740530ef911e6",
            "2837579da7584e989ae098254ca0f4a6",
            "3290cf1c04504f2c829cc7b617c6d959",
            "aac86d0d8ae24ddcb78bc94399a7b229",
            "badb75b9fbab413bbe31e9c0fbb3a446"
          ]
        },
        "id": "cRwCid66-4pu",
        "outputId": "fb47adfe-34be-4608-e075-bc775920827d"
      },
      "source": [
        "audio_features = {'train': {}, 'dev': {}, 'test': {}}\n",
        "\n",
        "for idx, sample in tqdm(audio_train.iterrows()):\n",
        "    label = sample['label']\n",
        "    diautt = sample['name']\n",
        "    feat = np.array(sample[:-2]).astype(np.float)\n",
        "    feat = feat.reshape(1,-1)\n",
        "\n",
        "    audio_features['train'][diautt] = feat\n",
        "\n",
        "for idx, sample in tqdm(audio_dev.iterrows()):\n",
        "    label = sample['label']\n",
        "    diautt = sample['name']\n",
        "    feat = np.array(sample[:-2]).astype(np.float)\n",
        "    feat = feat.reshape(1,-1)\n",
        "\n",
        "    audio_features['dev'][diautt] = feat\n",
        "\n",
        "for idx, sample in tqdm(audio_test.iterrows()):\n",
        "    label = sample['label']\n",
        "    diautt = sample['name']\n",
        "    feat = np.array(sample[:-2]).astype(np.float)\n",
        "    feat = feat.reshape(1,-1)\n",
        "\n",
        "    audio_features['test'][diautt] = feat"
      ],
      "execution_count": 221,
      "outputs": [
        {
          "output_type": "display_data",
          "data": {
            "application/vnd.jupyter.widget-view+json": {
              "model_id": "2713a7ea4ed94233ab7184057c58ea67",
              "version_minor": 0,
              "version_major": 2
            },
            "text/plain": [
              "HBox(children=(FloatProgress(value=1.0, bar_style='info', max=1.0), HTML(value='')))"
            ]
          },
          "metadata": {
            "tags": []
          }
        },
        {
          "output_type": "stream",
          "text": [
            "\n"
          ],
          "name": "stdout"
        },
        {
          "output_type": "display_data",
          "data": {
            "application/vnd.jupyter.widget-view+json": {
              "model_id": "5dcc8d31783941659526b41278a1a2e9",
              "version_minor": 0,
              "version_major": 2
            },
            "text/plain": [
              "HBox(children=(FloatProgress(value=1.0, bar_style='info', max=1.0), HTML(value='')))"
            ]
          },
          "metadata": {
            "tags": []
          }
        },
        {
          "output_type": "stream",
          "text": [
            "\n"
          ],
          "name": "stdout"
        },
        {
          "output_type": "display_data",
          "data": {
            "application/vnd.jupyter.widget-view+json": {
              "model_id": "0437ce536d844e9c8eb41a42c29610da",
              "version_minor": 0,
              "version_major": 2
            },
            "text/plain": [
              "HBox(children=(FloatProgress(value=1.0, bar_style='info', max=1.0), HTML(value='')))"
            ]
          },
          "metadata": {
            "tags": []
          }
        },
        {
          "output_type": "stream",
          "text": [
            "\n"
          ],
          "name": "stdout"
        }
      ]
    },
    {
      "cell_type": "code",
      "metadata": {
        "colab": {
          "base_uri": "https://localhost:8080/",
          "height": 230,
          "referenced_widgets": [
            "9a32a548e2f34c1e93d6c55cf5dfe3a7",
            "8aead6f46f8d4245a07265ecd038c74d",
            "2787279dd66c4007b551680f2d22dd0c",
            "cad6bddd089f4a72840a5a6b39c461ad",
            "6b983f281be3464b8219ee6d7c81328d",
            "f27bb3558d92474bb2746a2fbca463b4",
            "3d84849c806b4c9d8b8639c315e74669",
            "5ced9cdec2614dfda3b23651635a8eb2",
            "d5edec33d7114a5f8e67fca01e4416bf",
            "648ee38c75b0422c90ce40735e91e13f",
            "0b9a2135c3b84a39910a5ad14e3532d5",
            "6806ae6b7b124c9dba3837a8cff9adc6",
            "a4a5cee7253b42b09bcaaaf375461af4",
            "ff8abf963f7d4dd9a4462f3baa4638f6",
            "2c1434bbd99142df81a0d2679cb3af99",
            "907b8882df014c45959b8816d92727cf",
            "732b19f6bb0e4becb2856f175cbd0958",
            "7da06375b648455faecc15e8568eb9e1",
            "9e87216dfb894ff39ae6958bda0e9f29",
            "525911ddc9784752825d41cdb9022eff",
            "bdf172e0ea2a406bbdb99394d8efadcf",
            "2ba56814c96e45ecace780de1f52acc9",
            "8e05aa04a126453891d6ec5112857110",
            "e4efad7694d54ed4a2b78ed37909b291",
            "db7c7c19c18147f79e78ee7152ebb84d",
            "7cb4dbe0186c4a04ba2c7cae04392e26",
            "89cc3fc0d64645a1abeae748a8c7f619",
            "5ecdbad84dbb45fca45bb65e636af442",
            "a45bb85c2aba4b62a509dff8a1fb694d",
            "077ef93d5486497a97ad2f72a6ffd1ab",
            "06943d562c9f4d9ea0f299947b617667",
            "f5699205173d4e60a96dfe44ee91aca4"
          ]
        },
        "id": "qxTYJlob8cf-",
        "outputId": "65fbcbe0-1777-4c19-d192-db098fd37e63"
      },
      "source": [
        "predictions_probs_text = {}\n",
        "predictions_probs_audio = {}\n",
        "\n",
        "truths = {}\n",
        "\n",
        "for DATASET in tqdm(['train', 'dev', 'test']):\n",
        "    predictions_probs_text[DATASET] = {}\n",
        "    predictions_probs_audio[DATASET] = {}\n",
        "    \n",
        "    truths[DATASET] = {}\n",
        "\n",
        "    for diautt, annot in tqdm(datasets[DATASET].items()):\n",
        "        t =  emotion2num[annot['Emotion']]\n",
        "\n",
        "        try:\n",
        "            p_audio = model_v.predict(audio_features[DATASET][diautt].reshape(1, -1))\n",
        "            p_text = tae(datasets[DATASET][diautt]['Utterance'])['probs']\n",
        "\n",
        "            p_text = p_text[0,3], p_text[0,5], p_text[0,6], p_text[0,1], p_text[0,0], p_text[0,4], p_text[0,2] \n",
        "            p_text = np.array(p_text).reshape(1,7)\n",
        "\n",
        "            predictions_probs_audio[DATASET][diautt] = p_audio\n",
        "            predictions_probs_text[DATASET][diautt] = p_text\n",
        "            truths[DATASET][diautt] = t\n",
        "\n",
        "        except Exception as e:\n",
        "            print(e)\n"
      ],
      "execution_count": 229,
      "outputs": [
        {
          "output_type": "display_data",
          "data": {
            "application/vnd.jupyter.widget-view+json": {
              "model_id": "9a32a548e2f34c1e93d6c55cf5dfe3a7",
              "version_minor": 0,
              "version_major": 2
            },
            "text/plain": [
              "HBox(children=(FloatProgress(value=0.0, max=3.0), HTML(value='')))"
            ]
          },
          "metadata": {
            "tags": []
          }
        },
        {
          "output_type": "display_data",
          "data": {
            "application/vnd.jupyter.widget-view+json": {
              "model_id": "d5edec33d7114a5f8e67fca01e4416bf",
              "version_minor": 0,
              "version_major": 2
            },
            "text/plain": [
              "HBox(children=(FloatProgress(value=0.0, max=9989.0), HTML(value='')))"
            ]
          },
          "metadata": {
            "tags": []
          }
        },
        {
          "output_type": "stream",
          "text": [
            "'dia125_utt3'\n",
            "\n"
          ],
          "name": "stdout"
        },
        {
          "output_type": "display_data",
          "data": {
            "application/vnd.jupyter.widget-view+json": {
              "model_id": "732b19f6bb0e4becb2856f175cbd0958",
              "version_minor": 0,
              "version_major": 2
            },
            "text/plain": [
              "HBox(children=(FloatProgress(value=0.0, max=1108.0), HTML(value='')))"
            ]
          },
          "metadata": {
            "tags": []
          }
        },
        {
          "output_type": "stream",
          "text": [
            "\n"
          ],
          "name": "stdout"
        },
        {
          "output_type": "display_data",
          "data": {
            "application/vnd.jupyter.widget-view+json": {
              "model_id": "db7c7c19c18147f79e78ee7152ebb84d",
              "version_minor": 0,
              "version_major": 2
            },
            "text/plain": [
              "HBox(children=(FloatProgress(value=0.0, max=2610.0), HTML(value='')))"
            ]
          },
          "metadata": {
            "tags": []
          }
        },
        {
          "output_type": "stream",
          "text": [
            "\n",
            "\n"
          ],
          "name": "stdout"
        }
      ]
    },
    {
      "cell_type": "markdown",
      "metadata": {
        "id": "r5TuiOcZEAnJ"
      },
      "source": [
        "### performance of audio alone"
      ]
    },
    {
      "cell_type": "code",
      "metadata": {
        "colab": {
          "base_uri": "https://localhost:8080/",
          "height": 936,
          "referenced_widgets": [
            "cf545ab780a54318917914ba02289c6c",
            "d801cf4206564d1d9610e13997f3047b",
            "8f6ca8ee14d94f3cb088f30bfd04f8b4",
            "2ccbacb8257541ab86ac22f8ec7527ad",
            "8523ace443ea436891cab9728e6ae6e3",
            "689e52465f324bbd849f322ae90eb724",
            "2aeae248764249ea90629a9b942872d6",
            "b74d73981fee449597aeab47a5c9b5bc"
          ]
        },
        "id": "toiWf6IE-FAr",
        "outputId": "c7695df0-23f4-4e8f-dcc6-8e99030ac8c2"
      },
      "source": [
        "for DATASET in tqdm(['train', 'dev', 'test']):\n",
        "    print(f\"*************** {DATASET} ***************\")\n",
        "    y_pred = [np.argmax(foo) for foo in list(predictions_probs_audio[DATASET].values())]\n",
        "    y_true = [foo for foo in truths[DATASET].values()]\n",
        "    print(classification_report(y_true, y_pred))\n",
        "    print(f\"weighted f1 score: \", f1_score(y_true, y_pred, average='weighted'))"
      ],
      "execution_count": 230,
      "outputs": [
        {
          "output_type": "display_data",
          "data": {
            "application/vnd.jupyter.widget-view+json": {
              "model_id": "cf545ab780a54318917914ba02289c6c",
              "version_minor": 0,
              "version_major": 2
            },
            "text/plain": [
              "HBox(children=(FloatProgress(value=0.0, max=3.0), HTML(value='')))"
            ]
          },
          "metadata": {
            "tags": []
          }
        },
        {
          "output_type": "stream",
          "text": [
            "*************** train ***************\n",
            "              precision    recall  f1-score   support\n",
            "\n",
            "           0       0.31      0.33      0.32      1109\n",
            "           1       0.00      0.00      0.00       271\n",
            "           2       0.00      0.00      0.00       268\n",
            "           3       0.21      0.42      0.28      1743\n",
            "           4       0.56      0.61      0.58      4709\n",
            "           5       0.00      0.00      0.00       683\n",
            "           6       0.36      0.08      0.12      1205\n",
            "\n",
            "    accuracy                           0.40      9988\n",
            "   macro avg       0.21      0.20      0.19      9988\n",
            "weighted avg       0.38      0.40      0.37      9988\n",
            "\n",
            "weighted f1 score:  0.37345158101874015\n",
            "*************** dev ***************\n",
            "              precision    recall  f1-score   support\n",
            "\n",
            "           0       0.24      0.24      0.24       153\n",
            "           1       0.00      0.00      0.00        22\n",
            "           2       0.00      0.00      0.00        40\n",
            "           3       0.16      0.61      0.26       163\n",
            "           4       0.49      0.36      0.42       469\n",
            "           5       0.00      0.00      0.00       111\n",
            "           6       0.38      0.02      0.04       150\n",
            "\n",
            "    accuracy                           0.28      1108\n",
            "   macro avg       0.18      0.18      0.14      1108\n",
            "weighted avg       0.32      0.28      0.25      1108\n",
            "\n",
            "weighted f1 score:  0.25237266206699904\n",
            "*************** test ***************\n",
            "              precision    recall  f1-score   support\n",
            "\n",
            "           0       0.23      0.36      0.28       345\n",
            "           1       0.00      0.00      0.00        68\n",
            "           2       0.00      0.00      0.00        50\n",
            "           3       0.16      0.55      0.25       402\n",
            "           4       0.55      0.27      0.37      1256\n",
            "           5       0.00      0.00      0.00       208\n",
            "           6       0.27      0.07      0.11       281\n",
            "\n",
            "    accuracy                           0.27      2610\n",
            "   macro avg       0.17      0.18      0.14      2610\n",
            "weighted avg       0.35      0.27      0.26      2610\n",
            "\n",
            "weighted f1 score:  0.2636388249044981\n",
            "\n"
          ],
          "name": "stdout"
        },
        {
          "output_type": "stream",
          "text": [
            "/usr/local/lib/python3.6/dist-packages/sklearn/metrics/_classification.py:1272: UndefinedMetricWarning: Precision and F-score are ill-defined and being set to 0.0 in labels with no predicted samples. Use `zero_division` parameter to control this behavior.\n",
            "  _warn_prf(average, modifier, msg_start, len(result))\n"
          ],
          "name": "stderr"
        }
      ]
    },
    {
      "cell_type": "markdown",
      "metadata": {
        "id": "vkoRHV0uISik"
      },
      "source": [
        "### performance on text alone"
      ]
    },
    {
      "cell_type": "code",
      "metadata": {
        "colab": {
          "base_uri": "https://localhost:8080/",
          "height": 936,
          "referenced_widgets": [
            "8041e77594b14cb48a0bf834bc06d174",
            "ebd85de776c948e8959f66b9fb6544d7",
            "994a6e3facdb46bca38f9d67409b868b",
            "b105e5ff71dd4c408c09ce239f52adc7",
            "60899dd17f154f16a5edaefce07b9bb8",
            "7cb2bbf3db794d26a12cadc773215f47",
            "02640a0316a3471a82994d9e9ff7533f",
            "53c439d8af3f431bb106fe75952b6644"
          ]
        },
        "id": "EqRK5waX7-6H",
        "outputId": "cc26f833-9ce2-4306-f582-0f1f21e60aff"
      },
      "source": [
        "for DATASET in tqdm(['train', 'dev', 'test']):\n",
        "    print(f\"*************** {DATASET} ***************\")\n",
        "    y_pred = [np.argmax(foo) for foo in list(predictions_probs_text[DATASET].values())]\n",
        "    y_true = [foo for foo in truths[DATASET].values()]\n",
        "    print(classification_report(y_true, y_pred))\n",
        "    print(f\"weighted f1 score: \", f1_score(y_true, y_pred, average='weighted'))"
      ],
      "execution_count": 231,
      "outputs": [
        {
          "output_type": "display_data",
          "data": {
            "application/vnd.jupyter.widget-view+json": {
              "model_id": "8041e77594b14cb48a0bf834bc06d174",
              "version_minor": 0,
              "version_major": 2
            },
            "text/plain": [
              "HBox(children=(FloatProgress(value=0.0, max=3.0), HTML(value='')))"
            ]
          },
          "metadata": {
            "tags": []
          }
        },
        {
          "output_type": "stream",
          "text": [
            "*************** train ***************\n"
          ],
          "name": "stdout"
        },
        {
          "output_type": "stream",
          "text": [
            "/usr/local/lib/python3.6/dist-packages/sklearn/metrics/_classification.py:1272: UndefinedMetricWarning: Precision and F-score are ill-defined and being set to 0.0 in labels with no predicted samples. Use `zero_division` parameter to control this behavior.\n",
            "  _warn_prf(average, modifier, msg_start, len(result))\n"
          ],
          "name": "stderr"
        },
        {
          "output_type": "stream",
          "text": [
            "              precision    recall  f1-score   support\n",
            "\n",
            "           0       0.42      0.65      0.51      1109\n",
            "           1       0.62      0.02      0.04       271\n",
            "           2       0.00      0.00      0.00       268\n",
            "           3       0.72      0.53      0.61      1743\n",
            "           4       0.76      0.87      0.81      4709\n",
            "           5       0.43      0.47      0.45       683\n",
            "           6       0.79      0.56      0.66      1205\n",
            "\n",
            "    accuracy                           0.67      9988\n",
            "   macro avg       0.54      0.44      0.44      9988\n",
            "weighted avg       0.67      0.67      0.66      9988\n",
            "\n",
            "weighted f1 score:  0.6566283655271358\n",
            "*************** dev ***************\n",
            "              precision    recall  f1-score   support\n",
            "\n",
            "           0       0.35      0.47      0.40       153\n",
            "           1       0.00      0.00      0.00        22\n",
            "           2       0.00      0.00      0.00        40\n",
            "           3       0.66      0.52      0.58       163\n",
            "           4       0.68      0.86      0.76       469\n",
            "           5       0.42      0.33      0.37       111\n",
            "           6       0.71      0.48      0.57       150\n",
            "\n",
            "    accuracy                           0.60      1108\n",
            "   macro avg       0.40      0.38      0.38      1108\n",
            "weighted avg       0.57      0.60      0.58      1108\n",
            "\n",
            "weighted f1 score:  0.5778240819082258\n",
            "*************** test ***************\n",
            "              precision    recall  f1-score   support\n",
            "\n",
            "           0       0.42      0.59      0.49       345\n",
            "           1       1.00      0.01      0.03        68\n",
            "           2       0.00      0.00      0.00        50\n",
            "           3       0.64      0.51      0.57       402\n",
            "           4       0.74      0.84      0.79      1256\n",
            "           5       0.37      0.34      0.35       208\n",
            "           6       0.71      0.43      0.54       281\n",
            "\n",
            "    accuracy                           0.64      2610\n",
            "   macro avg       0.55      0.39      0.39      2610\n",
            "weighted avg       0.64      0.64      0.62      2610\n",
            "\n",
            "weighted f1 score:  0.6168130119796446\n",
            "\n"
          ],
          "name": "stdout"
        }
      ]
    },
    {
      "cell_type": "markdown",
      "metadata": {
        "id": "ZyMrPbDaLPXO"
      },
      "source": [
        "### FUSION!!!"
      ]
    },
    {
      "cell_type": "code",
      "metadata": {
        "colab": {
          "base_uri": "https://localhost:8080/"
        },
        "id": "uHSAlstYNqG9",
        "outputId": "f2d1df41-7b86-493e-ceaa-ee217c0467b1"
      },
      "source": [
        "predictions_fusion = {'dev': {}}\n",
        "performance_fusion = {'dev': {}}\n",
        "f1_weighted_fusion = {'dev': {}}\n",
        "for alpha in np.arange(0, 1, 0.05):\n",
        "\n",
        "    y_true = []\n",
        "    y_pred = []\n",
        "\n",
        "    for diautt, t in truths['dev'].items():\n",
        "        prob_text = predictions_probs_text['dev'][diautt]\n",
        "        prob_audio = predictions_probs_audio['dev'][diautt]\n",
        "\n",
        "        prob_fusion = prob_text * alpha + prob_audio* (1-alpha)\n",
        "        # print(f\"{np.argmax(prob_text)}, {np.argmax(prob_audio)}, {np.argmax(prob_fusion)}, {t}\")\n",
        "        predict_fusion = np.argmax(prob_fusion)\n",
        "        y_true.append(t)\n",
        "        \n",
        "        y_pred.append(predict_fusion)\n",
        "\n",
        "    performance_fusion['dev'][alpha] = classification_report(y_true, y_pred)\n",
        "    f1_weighted_fusion['dev'][alpha] = f1_score(y_true, y_pred, average='weighted')"
      ],
      "execution_count": 280,
      "outputs": [
        {
          "output_type": "stream",
          "text": [
            "/usr/local/lib/python3.6/dist-packages/sklearn/metrics/_classification.py:1272: UndefinedMetricWarning: Precision and F-score are ill-defined and being set to 0.0 in labels with no predicted samples. Use `zero_division` parameter to control this behavior.\n",
            "  _warn_prf(average, modifier, msg_start, len(result))\n"
          ],
          "name": "stderr"
        }
      ]
    },
    {
      "cell_type": "code",
      "metadata": {
        "colab": {
          "base_uri": "https://localhost:8080/"
        },
        "id": "FIkoBOD0OG6X",
        "outputId": "1c5dc702-1ae0-4876-fcf8-893bbba94178"
      },
      "source": [
        "for alpha, performance in performance_fusion['dev'].items():\n",
        "    print('----------------------------------------------')\n",
        "    print(f\"alpha: {round(alpha, 3)}\")\n",
        "    print(performance)\n",
        "    print('----------------------------------------------')"
      ],
      "execution_count": 281,
      "outputs": [
        {
          "output_type": "stream",
          "text": [
            "----------------------------------------------\n",
            "alpha: 0.0\n",
            "              precision    recall  f1-score   support\n",
            "\n",
            "           0       0.24      0.24      0.24       153\n",
            "           1       0.00      0.00      0.00        22\n",
            "           2       0.00      0.00      0.00        40\n",
            "           3       0.16      0.61      0.26       163\n",
            "           4       0.49      0.36      0.42       469\n",
            "           5       0.00      0.00      0.00       111\n",
            "           6       0.38      0.02      0.04       150\n",
            "\n",
            "    accuracy                           0.28      1108\n",
            "   macro avg       0.18      0.18      0.14      1108\n",
            "weighted avg       0.32      0.28      0.25      1108\n",
            "\n",
            "----------------------------------------------\n",
            "----------------------------------------------\n",
            "alpha: 0.05\n",
            "              precision    recall  f1-score   support\n",
            "\n",
            "           0       0.25      0.26      0.25       153\n",
            "           1       0.00      0.00      0.00        22\n",
            "           2       0.00      0.00      0.00        40\n",
            "           3       0.20      0.62      0.30       163\n",
            "           4       0.55      0.50      0.52       469\n",
            "           5       0.00      0.00      0.00       111\n",
            "           6       0.40      0.03      0.05       150\n",
            "\n",
            "    accuracy                           0.34      1108\n",
            "   macro avg       0.20      0.20      0.16      1108\n",
            "weighted avg       0.35      0.34      0.31      1108\n",
            "\n",
            "----------------------------------------------\n",
            "----------------------------------------------\n",
            "alpha: 0.1\n",
            "              precision    recall  f1-score   support\n",
            "\n",
            "           0       0.26      0.28      0.27       153\n",
            "           1       0.00      0.00      0.00        22\n",
            "           2       0.00      0.00      0.00        40\n",
            "           3       0.26      0.63      0.36       163\n",
            "           4       0.60      0.68      0.64       469\n",
            "           5       0.00      0.00      0.00       111\n",
            "           6       0.72      0.09      0.15       150\n",
            "\n",
            "    accuracy                           0.43      1108\n",
            "   macro avg       0.26      0.24      0.20      1108\n",
            "weighted avg       0.43      0.43      0.38      1108\n",
            "\n",
            "----------------------------------------------\n",
            "----------------------------------------------\n",
            "alpha: 0.15\n",
            "              precision    recall  f1-score   support\n",
            "\n",
            "           0       0.32      0.36      0.34       153\n",
            "           1       0.00      0.00      0.00        22\n",
            "           2       0.00      0.00      0.00        40\n",
            "           3       0.31      0.63      0.42       163\n",
            "           4       0.63      0.77      0.70       469\n",
            "           5       0.00      0.00      0.00       111\n",
            "           6       0.78      0.19      0.31       150\n",
            "\n",
            "    accuracy                           0.50      1108\n",
            "   macro avg       0.29      0.28      0.25      1108\n",
            "weighted avg       0.46      0.50      0.45      1108\n",
            "\n",
            "----------------------------------------------\n",
            "----------------------------------------------\n",
            "alpha: 0.2\n",
            "              precision    recall  f1-score   support\n",
            "\n",
            "           0       0.34      0.41      0.37       153\n",
            "           1       0.00      0.00      0.00        22\n",
            "           2       0.00      0.00      0.00        40\n",
            "           3       0.36      0.60      0.45       163\n",
            "           4       0.64      0.82      0.72       469\n",
            "           5       1.00      0.01      0.02       111\n",
            "           6       0.80      0.27      0.41       150\n",
            "\n",
            "    accuracy                           0.53      1108\n",
            "   macro avg       0.45      0.30      0.28      1108\n",
            "weighted avg       0.58      0.53      0.48      1108\n",
            "\n",
            "----------------------------------------------\n",
            "----------------------------------------------\n",
            "alpha: 0.25\n",
            "              precision    recall  f1-score   support\n",
            "\n",
            "           0       0.33      0.44      0.38       153\n",
            "           1       0.00      0.00      0.00        22\n",
            "           2       0.00      0.00      0.00        40\n",
            "           3       0.41      0.56      0.48       163\n",
            "           4       0.63      0.83      0.72       469\n",
            "           5       0.60      0.03      0.05       111\n",
            "           6       0.76      0.31      0.44       150\n",
            "\n",
            "    accuracy                           0.54      1108\n",
            "   macro avg       0.39      0.31      0.30      1108\n",
            "weighted avg       0.54      0.54      0.49      1108\n",
            "\n",
            "----------------------------------------------\n",
            "----------------------------------------------\n",
            "alpha: 0.3\n",
            "              precision    recall  f1-score   support\n",
            "\n",
            "           0       0.35      0.49      0.41       153\n",
            "           1       0.00      0.00      0.00        22\n",
            "           2       0.00      0.00      0.00        40\n",
            "           3       0.46      0.53      0.49       163\n",
            "           4       0.64      0.84      0.73       469\n",
            "           5       0.73      0.10      0.17       111\n",
            "           6       0.75      0.33      0.46       150\n",
            "\n",
            "    accuracy                           0.56      1108\n",
            "   macro avg       0.42      0.33      0.32      1108\n",
            "weighted avg       0.56      0.56      0.51      1108\n",
            "\n",
            "----------------------------------------------\n",
            "----------------------------------------------\n",
            "alpha: 0.35\n",
            "              precision    recall  f1-score   support\n",
            "\n",
            "           0       0.36      0.50      0.41       153\n",
            "           1       0.00      0.00      0.00        22\n",
            "           2       0.00      0.00      0.00        40\n",
            "           3       0.50      0.53      0.51       163\n",
            "           4       0.65      0.86      0.74       469\n",
            "           5       0.67      0.13      0.21       111\n",
            "           6       0.77      0.38      0.51       150\n",
            "\n",
            "    accuracy                           0.57      1108\n",
            "   macro avg       0.42      0.34      0.34      1108\n",
            "weighted avg       0.57      0.57      0.54      1108\n",
            "\n",
            "----------------------------------------------\n",
            "----------------------------------------------\n",
            "alpha: 0.4\n",
            "              precision    recall  f1-score   support\n",
            "\n",
            "           0       0.35      0.52      0.42       153\n",
            "           1       0.00      0.00      0.00        22\n",
            "           2       0.00      0.00      0.00        40\n",
            "           3       0.51      0.51      0.51       163\n",
            "           4       0.66      0.86      0.74       469\n",
            "           5       0.59      0.15      0.24       111\n",
            "           6       0.75      0.39      0.52       150\n",
            "\n",
            "    accuracy                           0.58      1108\n",
            "   macro avg       0.41      0.35      0.35      1108\n",
            "weighted avg       0.56      0.58      0.54      1108\n",
            "\n",
            "----------------------------------------------\n",
            "----------------------------------------------\n",
            "alpha: 0.45\n",
            "              precision    recall  f1-score   support\n",
            "\n",
            "           0       0.35      0.52      0.42       153\n",
            "           1       0.00      0.00      0.00        22\n",
            "           2       0.00      0.00      0.00        40\n",
            "           3       0.53      0.51      0.52       163\n",
            "           4       0.66      0.86      0.74       469\n",
            "           5       0.53      0.15      0.24       111\n",
            "           6       0.74      0.40      0.52       150\n",
            "\n",
            "    accuracy                           0.58      1108\n",
            "   macro avg       0.40      0.35      0.35      1108\n",
            "weighted avg       0.56      0.58      0.54      1108\n",
            "\n",
            "----------------------------------------------\n",
            "----------------------------------------------\n",
            "alpha: 0.5\n",
            "              precision    recall  f1-score   support\n",
            "\n",
            "           0       0.35      0.51      0.41       153\n",
            "           1       0.00      0.00      0.00        22\n",
            "           2       0.00      0.00      0.00        40\n",
            "           3       0.56      0.51      0.54       163\n",
            "           4       0.66      0.86      0.75       469\n",
            "           5       0.51      0.19      0.28       111\n",
            "           6       0.73      0.41      0.52       150\n",
            "\n",
            "    accuracy                           0.58      1108\n",
            "   macro avg       0.40      0.35      0.36      1108\n",
            "weighted avg       0.56      0.58      0.55      1108\n",
            "\n",
            "----------------------------------------------\n",
            "----------------------------------------------\n",
            "alpha: 0.55\n",
            "              precision    recall  f1-score   support\n",
            "\n",
            "           0       0.36      0.52      0.42       153\n",
            "           1       0.00      0.00      0.00        22\n",
            "           2       0.00      0.00      0.00        40\n",
            "           3       0.59      0.52      0.55       163\n",
            "           4       0.67      0.86      0.75       469\n",
            "           5       0.48      0.20      0.28       111\n",
            "           6       0.73      0.44      0.55       150\n",
            "\n",
            "    accuracy                           0.59      1108\n",
            "   macro avg       0.40      0.36      0.36      1108\n",
            "weighted avg       0.56      0.59      0.56      1108\n",
            "\n",
            "----------------------------------------------\n",
            "----------------------------------------------\n",
            "alpha: 0.6\n",
            "              precision    recall  f1-score   support\n",
            "\n",
            "           0       0.36      0.52      0.43       153\n",
            "           1       0.00      0.00      0.00        22\n",
            "           2       0.00      0.00      0.00        40\n",
            "           3       0.61      0.53      0.57       163\n",
            "           4       0.68      0.87      0.76       469\n",
            "           5       0.51      0.24      0.33       111\n",
            "           6       0.74      0.46      0.57       150\n",
            "\n",
            "    accuracy                           0.60      1108\n",
            "   macro avg       0.41      0.37      0.38      1108\n",
            "weighted avg       0.58      0.60      0.57      1108\n",
            "\n",
            "----------------------------------------------\n",
            "----------------------------------------------\n",
            "alpha: 0.65\n",
            "              precision    recall  f1-score   support\n",
            "\n",
            "           0       0.37      0.54      0.44       153\n",
            "           1       0.00      0.00      0.00        22\n",
            "           2       0.00      0.00      0.00        40\n",
            "           3       0.65      0.53      0.59       163\n",
            "           4       0.68      0.87      0.77       469\n",
            "           5       0.51      0.26      0.35       111\n",
            "           6       0.73      0.47      0.57       150\n",
            "\n",
            "    accuracy                           0.61      1108\n",
            "   macro avg       0.42      0.38      0.39      1108\n",
            "weighted avg       0.59      0.61      0.58      1108\n",
            "\n",
            "----------------------------------------------\n",
            "----------------------------------------------\n",
            "alpha: 0.7\n",
            "              precision    recall  f1-score   support\n",
            "\n",
            "           0       0.37      0.54      0.44       153\n",
            "           1       0.00      0.00      0.00        22\n",
            "           2       0.00      0.00      0.00        40\n",
            "           3       0.66      0.54      0.59       163\n",
            "           4       0.69      0.87      0.77       469\n",
            "           5       0.51      0.28      0.36       111\n",
            "           6       0.73      0.47      0.57       150\n",
            "\n",
            "    accuracy                           0.61      1108\n",
            "   macro avg       0.42      0.39      0.39      1108\n",
            "weighted avg       0.59      0.61      0.59      1108\n",
            "\n",
            "----------------------------------------------\n",
            "----------------------------------------------\n",
            "alpha: 0.75\n",
            "              precision    recall  f1-score   support\n",
            "\n",
            "           0       0.37      0.54      0.44       153\n",
            "           1       0.00      0.00      0.00        22\n",
            "           2       0.00      0.00      0.00        40\n",
            "           3       0.66      0.53      0.59       163\n",
            "           4       0.69      0.87      0.77       469\n",
            "           5       0.48      0.29      0.36       111\n",
            "           6       0.73      0.47      0.57       150\n",
            "\n",
            "    accuracy                           0.61      1108\n",
            "   macro avg       0.42      0.39      0.39      1108\n",
            "weighted avg       0.59      0.61      0.59      1108\n",
            "\n",
            "----------------------------------------------\n",
            "----------------------------------------------\n",
            "alpha: 0.8\n",
            "              precision    recall  f1-score   support\n",
            "\n",
            "           0       0.36      0.52      0.43       153\n",
            "           1       0.00      0.00      0.00        22\n",
            "           2       0.00      0.00      0.00        40\n",
            "           3       0.66      0.52      0.58       163\n",
            "           4       0.68      0.86      0.76       469\n",
            "           5       0.46      0.30      0.36       111\n",
            "           6       0.72      0.47      0.57       150\n",
            "\n",
            "    accuracy                           0.61      1108\n",
            "   macro avg       0.41      0.38      0.39      1108\n",
            "weighted avg       0.58      0.61      0.58      1108\n",
            "\n",
            "----------------------------------------------\n",
            "----------------------------------------------\n",
            "alpha: 0.85\n",
            "              precision    recall  f1-score   support\n",
            "\n",
            "           0       0.36      0.50      0.42       153\n",
            "           1       0.00      0.00      0.00        22\n",
            "           2       0.00      0.00      0.00        40\n",
            "           3       0.66      0.52      0.58       163\n",
            "           4       0.68      0.86      0.76       469\n",
            "           5       0.45      0.31      0.36       111\n",
            "           6       0.72      0.47      0.57       150\n",
            "\n",
            "    accuracy                           0.60      1108\n",
            "   macro avg       0.41      0.38      0.38      1108\n",
            "weighted avg       0.58      0.60      0.58      1108\n",
            "\n",
            "----------------------------------------------\n",
            "----------------------------------------------\n",
            "alpha: 0.9\n",
            "              precision    recall  f1-score   support\n",
            "\n",
            "           0       0.36      0.50      0.42       153\n",
            "           1       0.00      0.00      0.00        22\n",
            "           2       0.00      0.00      0.00        40\n",
            "           3       0.65      0.52      0.58       163\n",
            "           4       0.69      0.86      0.76       469\n",
            "           5       0.45      0.32      0.37       111\n",
            "           6       0.71      0.47      0.56       150\n",
            "\n",
            "    accuracy                           0.61      1108\n",
            "   macro avg       0.41      0.38      0.39      1108\n",
            "weighted avg       0.58      0.61      0.58      1108\n",
            "\n",
            "----------------------------------------------\n",
            "----------------------------------------------\n",
            "alpha: 0.95\n",
            "              precision    recall  f1-score   support\n",
            "\n",
            "           0       0.36      0.49      0.41       153\n",
            "           1       0.00      0.00      0.00        22\n",
            "           2       0.00      0.00      0.00        40\n",
            "           3       0.66      0.52      0.58       163\n",
            "           4       0.68      0.86      0.76       469\n",
            "           5       0.43      0.32      0.36       111\n",
            "           6       0.71      0.47      0.57       150\n",
            "\n",
            "    accuracy                           0.60      1108\n",
            "   macro avg       0.41      0.38      0.38      1108\n",
            "weighted avg       0.57      0.60      0.58      1108\n",
            "\n",
            "----------------------------------------------\n"
          ],
          "name": "stdout"
        }
      ]
    },
    {
      "cell_type": "code",
      "metadata": {
        "colab": {
          "base_uri": "https://localhost:8080/"
        },
        "id": "W5AVZb5yP6sw",
        "outputId": "c105b985-7441-4d6c-f17f-7688e7733dc3"
      },
      "source": [
        "for key, val in f1_weighted_fusion['dev'].items():\n",
        "    print(round(key, 3), '\\t', round(val,5))"
      ],
      "execution_count": 283,
      "outputs": [
        {
          "output_type": "stream",
          "text": [
            "0.0 \t 0.25237\n",
            "0.05 \t 0.30814\n",
            "0.1 \t 0.3826\n",
            "0.15 \t 0.4451\n",
            "0.2 \t 0.47888\n",
            "0.25 \t 0.49114\n",
            "0.3 \t 0.51427\n",
            "0.35 \t 0.53521\n",
            "0.4 \t 0.54154\n",
            "0.45 \t 0.54198\n",
            "0.5 \t 0.5515\n",
            "0.55 \t 0.56035\n",
            "0.6 \t 0.57396\n",
            "0.65 \t 0.58254\n",
            "0.7 \t 0.58708\n",
            "0.75 \t 0.58662\n",
            "0.8 \t 0.58141\n",
            "0.85 \t 0.57902\n",
            "0.9 \t 0.58015\n",
            "0.95 \t 0.57788\n"
          ],
          "name": "stdout"
        }
      ]
    },
    {
      "cell_type": "markdown",
      "metadata": {
        "id": "BlW2n_EmR4CL"
      },
      "source": [
        "alpha = 0.7 is the best for dev. let's check out the test!!!"
      ]
    },
    {
      "cell_type": "code",
      "metadata": {
        "colab": {
          "base_uri": "https://localhost:8080/"
        },
        "id": "PdgIKYylR3Rk",
        "outputId": "3d015a5b-9816-4681-f5a3-83f35daa5a5d"
      },
      "source": [
        "alpha = 0.7\n",
        "for DATASET in ['train', 'dev', 'test']:\n",
        "    y_true = []\n",
        "    y_pred = []\n",
        "    for diautt, t in truths[DATASET].items():\n",
        "        prob_text = predictions_probs_text[DATASET][diautt]\n",
        "        prob_audio = predictions_probs_audio[DATASET][diautt]\n",
        "        prob_fusion = prob_text * alpha + prob_audio* (1-alpha)\n",
        "        predict_fusion = np.argmax(prob_fusion)\n",
        "\n",
        "        y_true.append(t)        \n",
        "        y_pred.append(predict_fusion)\n",
        "\n",
        "    print(classification_report(y_true, y_pred))\n",
        "    print(f1_score(y_true, y_pred, average='weighted'))"
      ],
      "execution_count": 287,
      "outputs": [
        {
          "output_type": "stream",
          "text": [
            "              precision    recall  f1-score   support\n",
            "\n",
            "           0       0.43      0.66      0.52      1109\n",
            "           1       0.33      0.00      0.01       271\n",
            "           2       0.00      0.00      0.00       268\n",
            "           3       0.72      0.54      0.62      1743\n",
            "           4       0.75      0.88      0.81      4709\n",
            "           5       0.47      0.42      0.44       683\n",
            "           6       0.79      0.55      0.65      1205\n",
            "\n",
            "    accuracy                           0.68      9988\n",
            "   macro avg       0.50      0.44      0.44      9988\n",
            "weighted avg       0.66      0.68      0.66      9988\n",
            "\n",
            "0.6560185848997651\n",
            "              precision    recall  f1-score   support\n",
            "\n",
            "           0       0.37      0.54      0.44       153\n",
            "           1       0.00      0.00      0.00        22\n",
            "           2       0.00      0.00      0.00        40\n",
            "           3       0.66      0.54      0.59       163\n",
            "           4       0.69      0.87      0.77       469\n",
            "           5       0.51      0.28      0.36       111\n",
            "           6       0.73      0.47      0.57       150\n",
            "\n",
            "    accuracy                           0.61      1108\n",
            "   macro avg       0.42      0.39      0.39      1108\n",
            "weighted avg       0.59      0.61      0.59      1108\n",
            "\n",
            "0.587078974528446\n",
            "              precision    recall  f1-score   support\n",
            "\n",
            "           0       0.42      0.62      0.50       345\n",
            "           1       0.00      0.00      0.00        68\n",
            "           2       0.00      0.00      0.00        50\n",
            "           3       0.63      0.52      0.57       402\n",
            "           4       0.73      0.86      0.79      1256\n",
            "           5       0.40      0.27      0.32       208\n",
            "           6       0.73      0.43      0.54       281\n",
            "\n",
            "    accuracy                           0.64      2610\n",
            "   macro avg       0.42      0.39      0.39      2610\n",
            "weighted avg       0.62      0.64      0.62      2610\n",
            "\n",
            "0.6191815241353724\n"
          ],
          "name": "stdout"
        },
        {
          "output_type": "stream",
          "text": [
            "/usr/local/lib/python3.6/dist-packages/sklearn/metrics/_classification.py:1272: UndefinedMetricWarning: Precision and F-score are ill-defined and being set to 0.0 in labels with no predicted samples. Use `zero_division` parameter to control this behavior.\n",
            "  _warn_prf(average, modifier, msg_start, len(result))\n"
          ],
          "name": "stderr"
        }
      ]
    }
  ]
}