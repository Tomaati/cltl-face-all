{
  "nbformat": 4,
  "nbformat_minor": 0,
  "metadata": {
    "colab": {
      "name": "3.find-relevant-faces-colab.ipynb",
      "provenance": [],
      "collapsed_sections": [],
      "toc_visible": true,
      "authorship_tag": "ABX9TyMkd6WvyNWr6a1kk99gSnPC",
      "include_colab_link": true
    },
    "kernelspec": {
      "name": "python3",
      "display_name": "Python 3"
    },
    "widgets": {
      "application/vnd.jupyter.widget-state+json": {
        "2b93547389e246b49ea682bb9c3d7890": {
          "model_module": "@jupyter-widgets/controls",
          "model_name": "HBoxModel",
          "state": {
            "_view_name": "HBoxView",
            "_dom_classes": [],
            "_model_name": "HBoxModel",
            "_view_module": "@jupyter-widgets/controls",
            "_model_module_version": "1.5.0",
            "_view_count": null,
            "_view_module_version": "1.5.0",
            "box_style": "",
            "layout": "IPY_MODEL_541cbd15c5c344778e67021e0c6dab2c",
            "_model_module": "@jupyter-widgets/controls",
            "children": [
              "IPY_MODEL_a32b2b90abff42ea9b727ba11c2118ad",
              "IPY_MODEL_834c0462c51b41c789e560140bc5f428"
            ]
          }
        },
        "541cbd15c5c344778e67021e0c6dab2c": {
          "model_module": "@jupyter-widgets/base",
          "model_name": "LayoutModel",
          "state": {
            "_view_name": "LayoutView",
            "grid_template_rows": null,
            "right": null,
            "justify_content": null,
            "_view_module": "@jupyter-widgets/base",
            "overflow": null,
            "_model_module_version": "1.2.0",
            "_view_count": null,
            "flex_flow": null,
            "width": null,
            "min_width": null,
            "border": null,
            "align_items": null,
            "bottom": null,
            "_model_module": "@jupyter-widgets/base",
            "top": null,
            "grid_column": null,
            "overflow_y": null,
            "overflow_x": null,
            "grid_auto_flow": null,
            "grid_area": null,
            "grid_template_columns": null,
            "flex": null,
            "_model_name": "LayoutModel",
            "justify_items": null,
            "grid_row": null,
            "max_height": null,
            "align_content": null,
            "visibility": null,
            "align_self": null,
            "height": null,
            "min_height": null,
            "padding": null,
            "grid_auto_rows": null,
            "grid_gap": null,
            "max_width": null,
            "order": null,
            "_view_module_version": "1.2.0",
            "grid_template_areas": null,
            "object_position": null,
            "object_fit": null,
            "grid_auto_columns": null,
            "margin": null,
            "display": null,
            "left": null
          }
        },
        "a32b2b90abff42ea9b727ba11c2118ad": {
          "model_module": "@jupyter-widgets/controls",
          "model_name": "FloatProgressModel",
          "state": {
            "_view_name": "ProgressView",
            "style": "IPY_MODEL_69babf4f164e430f9d4aa66951d791aa",
            "_dom_classes": [],
            "description": "100%",
            "_model_name": "FloatProgressModel",
            "bar_style": "success",
            "max": 89843225,
            "_view_module": "@jupyter-widgets/controls",
            "_model_module_version": "1.5.0",
            "value": 89843225,
            "_view_count": null,
            "_view_module_version": "1.5.0",
            "orientation": "horizontal",
            "min": 0,
            "description_tooltip": null,
            "_model_module": "@jupyter-widgets/controls",
            "layout": "IPY_MODEL_ce96a57c4cf24dc3a667ff222d37790e"
          }
        },
        "834c0462c51b41c789e560140bc5f428": {
          "model_module": "@jupyter-widgets/controls",
          "model_name": "HTMLModel",
          "state": {
            "_view_name": "HTMLView",
            "style": "IPY_MODEL_964943d8d62f48379016248473e4dc7a",
            "_dom_classes": [],
            "description": "",
            "_model_name": "HTMLModel",
            "placeholder": "​",
            "_view_module": "@jupyter-widgets/controls",
            "_model_module_version": "1.5.0",
            "value": " 85.7M/85.7M [00:04&lt;00:00, 18.2MB/s]",
            "_view_count": null,
            "_view_module_version": "1.5.0",
            "description_tooltip": null,
            "_model_module": "@jupyter-widgets/controls",
            "layout": "IPY_MODEL_7d8cb7b984834b98a0470aefb026bc98"
          }
        },
        "69babf4f164e430f9d4aa66951d791aa": {
          "model_module": "@jupyter-widgets/controls",
          "model_name": "ProgressStyleModel",
          "state": {
            "_view_name": "StyleView",
            "_model_name": "ProgressStyleModel",
            "description_width": "initial",
            "_view_module": "@jupyter-widgets/base",
            "_model_module_version": "1.5.0",
            "_view_count": null,
            "_view_module_version": "1.2.0",
            "bar_color": null,
            "_model_module": "@jupyter-widgets/controls"
          }
        },
        "ce96a57c4cf24dc3a667ff222d37790e": {
          "model_module": "@jupyter-widgets/base",
          "model_name": "LayoutModel",
          "state": {
            "_view_name": "LayoutView",
            "grid_template_rows": null,
            "right": null,
            "justify_content": null,
            "_view_module": "@jupyter-widgets/base",
            "overflow": null,
            "_model_module_version": "1.2.0",
            "_view_count": null,
            "flex_flow": null,
            "width": null,
            "min_width": null,
            "border": null,
            "align_items": null,
            "bottom": null,
            "_model_module": "@jupyter-widgets/base",
            "top": null,
            "grid_column": null,
            "overflow_y": null,
            "overflow_x": null,
            "grid_auto_flow": null,
            "grid_area": null,
            "grid_template_columns": null,
            "flex": null,
            "_model_name": "LayoutModel",
            "justify_items": null,
            "grid_row": null,
            "max_height": null,
            "align_content": null,
            "visibility": null,
            "align_self": null,
            "height": null,
            "min_height": null,
            "padding": null,
            "grid_auto_rows": null,
            "grid_gap": null,
            "max_width": null,
            "order": null,
            "_view_module_version": "1.2.0",
            "grid_template_areas": null,
            "object_position": null,
            "object_fit": null,
            "grid_auto_columns": null,
            "margin": null,
            "display": null,
            "left": null
          }
        },
        "964943d8d62f48379016248473e4dc7a": {
          "model_module": "@jupyter-widgets/controls",
          "model_name": "DescriptionStyleModel",
          "state": {
            "_view_name": "StyleView",
            "_model_name": "DescriptionStyleModel",
            "description_width": "",
            "_view_module": "@jupyter-widgets/base",
            "_model_module_version": "1.5.0",
            "_view_count": null,
            "_view_module_version": "1.2.0",
            "_model_module": "@jupyter-widgets/controls"
          }
        },
        "7d8cb7b984834b98a0470aefb026bc98": {
          "model_module": "@jupyter-widgets/base",
          "model_name": "LayoutModel",
          "state": {
            "_view_name": "LayoutView",
            "grid_template_rows": null,
            "right": null,
            "justify_content": null,
            "_view_module": "@jupyter-widgets/base",
            "overflow": null,
            "_model_module_version": "1.2.0",
            "_view_count": null,
            "flex_flow": null,
            "width": null,
            "min_width": null,
            "border": null,
            "align_items": null,
            "bottom": null,
            "_model_module": "@jupyter-widgets/base",
            "top": null,
            "grid_column": null,
            "overflow_y": null,
            "overflow_x": null,
            "grid_auto_flow": null,
            "grid_area": null,
            "grid_template_columns": null,
            "flex": null,
            "_model_name": "LayoutModel",
            "justify_items": null,
            "grid_row": null,
            "max_height": null,
            "align_content": null,
            "visibility": null,
            "align_self": null,
            "height": null,
            "min_height": null,
            "padding": null,
            "grid_auto_rows": null,
            "grid_gap": null,
            "max_width": null,
            "order": null,
            "_view_module_version": "1.2.0",
            "grid_template_areas": null,
            "object_position": null,
            "object_fit": null,
            "grid_auto_columns": null,
            "margin": null,
            "display": null,
            "left": null
          }
        },
        "7e93a47276b346cebf4837dbd5afcfd4": {
          "model_module": "@jupyter-widgets/controls",
          "model_name": "HBoxModel",
          "state": {
            "_view_name": "HBoxView",
            "_dom_classes": [],
            "_model_name": "HBoxModel",
            "_view_module": "@jupyter-widgets/controls",
            "_model_module_version": "1.5.0",
            "_view_count": null,
            "_view_module_version": "1.5.0",
            "box_style": "",
            "layout": "IPY_MODEL_c76e01cdc4ee4837bc47b59eaace435f",
            "_model_module": "@jupyter-widgets/controls",
            "children": [
              "IPY_MODEL_467cdb280b614997a5dff0469e605564",
              "IPY_MODEL_282b3fc0f42f45e1a80b0ded6a859979"
            ]
          }
        },
        "c76e01cdc4ee4837bc47b59eaace435f": {
          "model_module": "@jupyter-widgets/base",
          "model_name": "LayoutModel",
          "state": {
            "_view_name": "LayoutView",
            "grid_template_rows": null,
            "right": null,
            "justify_content": null,
            "_view_module": "@jupyter-widgets/base",
            "overflow": null,
            "_model_module_version": "1.2.0",
            "_view_count": null,
            "flex_flow": null,
            "width": null,
            "min_width": null,
            "border": null,
            "align_items": null,
            "bottom": null,
            "_model_module": "@jupyter-widgets/base",
            "top": null,
            "grid_column": null,
            "overflow_y": null,
            "overflow_x": null,
            "grid_auto_flow": null,
            "grid_area": null,
            "grid_template_columns": null,
            "flex": null,
            "_model_name": "LayoutModel",
            "justify_items": null,
            "grid_row": null,
            "max_height": null,
            "align_content": null,
            "visibility": null,
            "align_self": null,
            "height": null,
            "min_height": null,
            "padding": null,
            "grid_auto_rows": null,
            "grid_gap": null,
            "max_width": null,
            "order": null,
            "_view_module_version": "1.2.0",
            "grid_template_areas": null,
            "object_position": null,
            "object_fit": null,
            "grid_auto_columns": null,
            "margin": null,
            "display": null,
            "left": null
          }
        },
        "467cdb280b614997a5dff0469e605564": {
          "model_module": "@jupyter-widgets/controls",
          "model_name": "FloatProgressModel",
          "state": {
            "_view_name": "ProgressView",
            "style": "IPY_MODEL_124e0946d2544650811d00547e59d1e5",
            "_dom_classes": [],
            "description": "100%",
            "_model_name": "FloatProgressModel",
            "bar_style": "success",
            "max": 95641761,
            "_view_module": "@jupyter-widgets/controls",
            "_model_module_version": "1.5.0",
            "value": 95641761,
            "_view_count": null,
            "_view_module_version": "1.5.0",
            "orientation": "horizontal",
            "min": 0,
            "description_tooltip": null,
            "_model_module": "@jupyter-widgets/controls",
            "layout": "IPY_MODEL_f37ac7b888814c9eb9bdde4437d29c01"
          }
        },
        "282b3fc0f42f45e1a80b0ded6a859979": {
          "model_module": "@jupyter-widgets/controls",
          "model_name": "HTMLModel",
          "state": {
            "_view_name": "HTMLView",
            "style": "IPY_MODEL_de20085e365046769d6dccb7d01c901a",
            "_dom_classes": [],
            "description": "",
            "_model_name": "HTMLModel",
            "placeholder": "​",
            "_view_module": "@jupyter-widgets/controls",
            "_model_module_version": "1.5.0",
            "value": " 91.2M/91.2M [00:06&lt;00:00, 15.3MB/s]",
            "_view_count": null,
            "_view_module_version": "1.5.0",
            "description_tooltip": null,
            "_model_module": "@jupyter-widgets/controls",
            "layout": "IPY_MODEL_f02daf05c4a6461e8efff6d62e70d142"
          }
        },
        "124e0946d2544650811d00547e59d1e5": {
          "model_module": "@jupyter-widgets/controls",
          "model_name": "ProgressStyleModel",
          "state": {
            "_view_name": "StyleView",
            "_model_name": "ProgressStyleModel",
            "description_width": "initial",
            "_view_module": "@jupyter-widgets/base",
            "_model_module_version": "1.5.0",
            "_view_count": null,
            "_view_module_version": "1.2.0",
            "bar_color": null,
            "_model_module": "@jupyter-widgets/controls"
          }
        },
        "f37ac7b888814c9eb9bdde4437d29c01": {
          "model_module": "@jupyter-widgets/base",
          "model_name": "LayoutModel",
          "state": {
            "_view_name": "LayoutView",
            "grid_template_rows": null,
            "right": null,
            "justify_content": null,
            "_view_module": "@jupyter-widgets/base",
            "overflow": null,
            "_model_module_version": "1.2.0",
            "_view_count": null,
            "flex_flow": null,
            "width": null,
            "min_width": null,
            "border": null,
            "align_items": null,
            "bottom": null,
            "_model_module": "@jupyter-widgets/base",
            "top": null,
            "grid_column": null,
            "overflow_y": null,
            "overflow_x": null,
            "grid_auto_flow": null,
            "grid_area": null,
            "grid_template_columns": null,
            "flex": null,
            "_model_name": "LayoutModel",
            "justify_items": null,
            "grid_row": null,
            "max_height": null,
            "align_content": null,
            "visibility": null,
            "align_self": null,
            "height": null,
            "min_height": null,
            "padding": null,
            "grid_auto_rows": null,
            "grid_gap": null,
            "max_width": null,
            "order": null,
            "_view_module_version": "1.2.0",
            "grid_template_areas": null,
            "object_position": null,
            "object_fit": null,
            "grid_auto_columns": null,
            "margin": null,
            "display": null,
            "left": null
          }
        },
        "de20085e365046769d6dccb7d01c901a": {
          "model_module": "@jupyter-widgets/controls",
          "model_name": "DescriptionStyleModel",
          "state": {
            "_view_name": "StyleView",
            "_model_name": "DescriptionStyleModel",
            "description_width": "",
            "_view_module": "@jupyter-widgets/base",
            "_model_module_version": "1.5.0",
            "_view_count": null,
            "_view_module_version": "1.2.0",
            "_model_module": "@jupyter-widgets/controls"
          }
        },
        "f02daf05c4a6461e8efff6d62e70d142": {
          "model_module": "@jupyter-widgets/base",
          "model_name": "LayoutModel",
          "state": {
            "_view_name": "LayoutView",
            "grid_template_rows": null,
            "right": null,
            "justify_content": null,
            "_view_module": "@jupyter-widgets/base",
            "overflow": null,
            "_model_module_version": "1.2.0",
            "_view_count": null,
            "flex_flow": null,
            "width": null,
            "min_width": null,
            "border": null,
            "align_items": null,
            "bottom": null,
            "_model_module": "@jupyter-widgets/base",
            "top": null,
            "grid_column": null,
            "overflow_y": null,
            "overflow_x": null,
            "grid_auto_flow": null,
            "grid_area": null,
            "grid_template_columns": null,
            "flex": null,
            "_model_name": "LayoutModel",
            "justify_items": null,
            "grid_row": null,
            "max_height": null,
            "align_content": null,
            "visibility": null,
            "align_self": null,
            "height": null,
            "min_height": null,
            "padding": null,
            "grid_auto_rows": null,
            "grid_gap": null,
            "max_width": null,
            "order": null,
            "_view_module_version": "1.2.0",
            "grid_template_areas": null,
            "object_position": null,
            "object_fit": null,
            "grid_auto_columns": null,
            "margin": null,
            "display": null,
            "left": null
          }
        },
        "d4498351844b486885323b6cca005c00": {
          "model_module": "@jupyter-widgets/controls",
          "model_name": "HBoxModel",
          "state": {
            "_view_name": "HBoxView",
            "_dom_classes": [],
            "_model_name": "HBoxModel",
            "_view_module": "@jupyter-widgets/controls",
            "_model_module_version": "1.5.0",
            "_view_count": null,
            "_view_module_version": "1.5.0",
            "box_style": "",
            "layout": "IPY_MODEL_7441588cc8c34fa98d842237dcc29aad",
            "_model_module": "@jupyter-widgets/controls",
            "children": [
              "IPY_MODEL_efed0878944e4688babfc1129fc58673",
              "IPY_MODEL_f7b2d1bacfec4452860e9a4f765d380b"
            ]
          }
        },
        "7441588cc8c34fa98d842237dcc29aad": {
          "model_module": "@jupyter-widgets/base",
          "model_name": "LayoutModel",
          "state": {
            "_view_name": "LayoutView",
            "grid_template_rows": null,
            "right": null,
            "justify_content": null,
            "_view_module": "@jupyter-widgets/base",
            "overflow": null,
            "_model_module_version": "1.2.0",
            "_view_count": null,
            "flex_flow": null,
            "width": null,
            "min_width": null,
            "border": null,
            "align_items": null,
            "bottom": null,
            "_model_module": "@jupyter-widgets/base",
            "top": null,
            "grid_column": null,
            "overflow_y": null,
            "overflow_x": null,
            "grid_auto_flow": null,
            "grid_area": null,
            "grid_template_columns": null,
            "flex": null,
            "_model_name": "LayoutModel",
            "justify_items": null,
            "grid_row": null,
            "max_height": null,
            "align_content": null,
            "visibility": null,
            "align_self": null,
            "height": null,
            "min_height": null,
            "padding": null,
            "grid_auto_rows": null,
            "grid_gap": null,
            "max_width": null,
            "order": null,
            "_view_module_version": "1.2.0",
            "grid_template_areas": null,
            "object_position": null,
            "object_fit": null,
            "grid_auto_columns": null,
            "margin": null,
            "display": null,
            "left": null
          }
        },
        "efed0878944e4688babfc1129fc58673": {
          "model_module": "@jupyter-widgets/controls",
          "model_name": "FloatProgressModel",
          "state": {
            "_view_name": "ProgressView",
            "style": "IPY_MODEL_c27766f206fe49bd8ea622808251401e",
            "_dom_classes": [],
            "description": "  0%",
            "_model_name": "FloatProgressModel",
            "bar_style": "",
            "max": 19645,
            "_view_module": "@jupyter-widgets/controls",
            "_model_module_version": "1.5.0",
            "value": 4,
            "_view_count": null,
            "_view_module_version": "1.5.0",
            "orientation": "horizontal",
            "min": 0,
            "description_tooltip": null,
            "_model_module": "@jupyter-widgets/controls",
            "layout": "IPY_MODEL_ce36be7c6773462fbb67a4184a998e0e"
          }
        },
        "f7b2d1bacfec4452860e9a4f765d380b": {
          "model_module": "@jupyter-widgets/controls",
          "model_name": "HTMLModel",
          "state": {
            "_view_name": "HTMLView",
            "style": "IPY_MODEL_863499fa1e93438d8cd030d6986f49d9",
            "_dom_classes": [],
            "description": "",
            "_model_name": "HTMLModel",
            "placeholder": "​",
            "_view_module": "@jupyter-widgets/controls",
            "_model_module_version": "1.5.0",
            "value": " 4/19645 [00:04&lt;5:45:27,  1.06s/it]",
            "_view_count": null,
            "_view_module_version": "1.5.0",
            "description_tooltip": null,
            "_model_module": "@jupyter-widgets/controls",
            "layout": "IPY_MODEL_55c727c9c87e4cc8bde50d9d852a5b39"
          }
        },
        "c27766f206fe49bd8ea622808251401e": {
          "model_module": "@jupyter-widgets/controls",
          "model_name": "ProgressStyleModel",
          "state": {
            "_view_name": "StyleView",
            "_model_name": "ProgressStyleModel",
            "description_width": "initial",
            "_view_module": "@jupyter-widgets/base",
            "_model_module_version": "1.5.0",
            "_view_count": null,
            "_view_module_version": "1.2.0",
            "bar_color": null,
            "_model_module": "@jupyter-widgets/controls"
          }
        },
        "ce36be7c6773462fbb67a4184a998e0e": {
          "model_module": "@jupyter-widgets/base",
          "model_name": "LayoutModel",
          "state": {
            "_view_name": "LayoutView",
            "grid_template_rows": null,
            "right": null,
            "justify_content": null,
            "_view_module": "@jupyter-widgets/base",
            "overflow": null,
            "_model_module_version": "1.2.0",
            "_view_count": null,
            "flex_flow": null,
            "width": null,
            "min_width": null,
            "border": null,
            "align_items": null,
            "bottom": null,
            "_model_module": "@jupyter-widgets/base",
            "top": null,
            "grid_column": null,
            "overflow_y": null,
            "overflow_x": null,
            "grid_auto_flow": null,
            "grid_area": null,
            "grid_template_columns": null,
            "flex": null,
            "_model_name": "LayoutModel",
            "justify_items": null,
            "grid_row": null,
            "max_height": null,
            "align_content": null,
            "visibility": null,
            "align_self": null,
            "height": null,
            "min_height": null,
            "padding": null,
            "grid_auto_rows": null,
            "grid_gap": null,
            "max_width": null,
            "order": null,
            "_view_module_version": "1.2.0",
            "grid_template_areas": null,
            "object_position": null,
            "object_fit": null,
            "grid_auto_columns": null,
            "margin": null,
            "display": null,
            "left": null
          }
        },
        "863499fa1e93438d8cd030d6986f49d9": {
          "model_module": "@jupyter-widgets/controls",
          "model_name": "DescriptionStyleModel",
          "state": {
            "_view_name": "StyleView",
            "_model_name": "DescriptionStyleModel",
            "description_width": "",
            "_view_module": "@jupyter-widgets/base",
            "_model_module_version": "1.5.0",
            "_view_count": null,
            "_view_module_version": "1.2.0",
            "_model_module": "@jupyter-widgets/controls"
          }
        },
        "55c727c9c87e4cc8bde50d9d852a5b39": {
          "model_module": "@jupyter-widgets/base",
          "model_name": "LayoutModel",
          "state": {
            "_view_name": "LayoutView",
            "grid_template_rows": null,
            "right": null,
            "justify_content": null,
            "_view_module": "@jupyter-widgets/base",
            "overflow": null,
            "_model_module_version": "1.2.0",
            "_view_count": null,
            "flex_flow": null,
            "width": null,
            "min_width": null,
            "border": null,
            "align_items": null,
            "bottom": null,
            "_model_module": "@jupyter-widgets/base",
            "top": null,
            "grid_column": null,
            "overflow_y": null,
            "overflow_x": null,
            "grid_auto_flow": null,
            "grid_area": null,
            "grid_template_columns": null,
            "flex": null,
            "_model_name": "LayoutModel",
            "justify_items": null,
            "grid_row": null,
            "max_height": null,
            "align_content": null,
            "visibility": null,
            "align_self": null,
            "height": null,
            "min_height": null,
            "padding": null,
            "grid_auto_rows": null,
            "grid_gap": null,
            "max_width": null,
            "order": null,
            "_view_module_version": "1.2.0",
            "grid_template_areas": null,
            "object_position": null,
            "object_fit": null,
            "grid_auto_columns": null,
            "margin": null,
            "display": null,
            "left": null
          }
        }
      }
    }
  },
  "cells": [
    {
      "cell_type": "markdown",
      "metadata": {
        "id": "view-in-github",
        "colab_type": "text"
      },
      "source": [
        "<a href=\"https://colab.research.google.com/github/leolani/cltl-face-all/blob/master/examples/colab/3.find-relevant-faces-colab.ipynb\" target=\"_parent\"><img src=\"https://colab.research.google.com/assets/colab-badge.svg\" alt=\"Open In Colab\"/></a>"
      ]
    },
    {
      "cell_type": "code",
      "metadata": {
        "colab": {
          "base_uri": "https://localhost:8080/"
        },
        "id": "nyw8bugIVhSx",
        "outputId": "7f6ecbcf-2517-4a28-93a0-5d39ef27ae6e"
      },
      "source": [
        "from google.colab import drive\n",
        "drive.mount('/content/drive')"
      ],
      "execution_count": null,
      "outputs": [
        {
          "output_type": "stream",
          "text": [
            "Mounted at /content/drive\n"
          ],
          "name": "stdout"
        }
      ]
    },
    {
      "cell_type": "markdown",
      "metadata": {
        "id": "mtvPb85O6l_Z"
      },
      "source": [
        "# Clone the repo, download the necessary files, etc."
      ]
    },
    {
      "cell_type": "code",
      "metadata": {
        "id": "ohHZcBa9zpMX"
      },
      "source": [
        "%cd /content\n",
        "!git clone https://github.com/leolani/cltl-face-all\n",
        "!cd cltl-face-all/ && pip install .\n",
        "!pip install omegaconf==2.0.5\n",
        "!pip install tqdm av\n",
        "\n",
        "# Download the annotations and stuff\n",
        "!wget https://raw.githubusercontent.com/declare-lab/MELD/master/data/MELD/train_sent_emo.csv\n",
        "!wget https://raw.githubusercontent.com/leolani/cltl-face-all/master/examples/smaller-datatsets-jsons/dataset-small.json\n",
        "!wget https://raw.githubusercontent.com/leolani/cltl-face-all/master/examples/smaller-datatsets-jsons/dataset-medium.json\n",
        "!wget https://raw.githubusercontent.com/leolani/cltl-face-all/master/examples/smaller-datatsets-jsons/dataset-large.json\n",
        "!wget https://raw.githubusercontent.com/leolani/cltl-face-all/master/examples/smaller-datatsets-jsons/datasets.json\n",
        "\n",
        "!gdown --id 1rsLbfgQYztDtrPFqEmkh-2d_0ap1qd_s\n",
        "!unzip visual-features-smaller-dataset.zip\n",
        "!rm visual-features-smaller-dataset.zip\n",
        "\n",
        "!gdown --id 16ck7plW9v9eSHGCs5wuB2AhhufPRt3Wi\n",
        "!unzip smaller-dataset.zip\n",
        "!rm smaller-dataset.zip\n",
        "\n",
        "!ls smaller-dataset/  |  wc -l\n",
        "!ls visual-features | wc -l"
      ],
      "execution_count": null,
      "outputs": []
    },
    {
      "cell_type": "code",
      "metadata": {
        "id": "fXzhYm6EUcX6"
      },
      "source": [
        "import json\n",
        "\n",
        "with open('datasets.json', 'r') as stream:\n",
        "    datasets = json.load(stream)\n",
        "\n",
        "datasets = datasets['large']\n",
        "\n",
        "from glob import glob\n",
        "import numpy as np\n",
        "import os\n",
        "visual_features = glob('visual-features-smaller-dataset/*.npy')\n",
        "visual_features = {os.path.basename(vf).split('.npy')[0] : np.load(vf, allow_pickle=True).item() for vf in visual_features}"
      ],
      "execution_count": null,
      "outputs": []
    },
    {
      "cell_type": "markdown",
      "metadata": {
        "id": "vtKHLZnf6rnp"
      },
      "source": [
        "# Load the data from storage to memory\n",
        "\n",
        "The biggest difficulty is that the annotated face is not always in the video. It might be hidden. Let's try to match the annotated names with the face embeddings, if possible"
      ]
    },
    {
      "cell_type": "markdown",
      "metadata": {
        "id": "_KFxPi5p_A4w"
      },
      "source": [
        "## Let's start from the smallest"
      ]
    },
    {
      "cell_type": "code",
      "metadata": {
        "colab": {
          "base_uri": "https://localhost:8080/"
        },
        "id": "xIt9hz4i7XO2",
        "outputId": "6de212d2-a39f-4f4c-b119-dcc99f448e9d"
      },
      "source": [
        "FACE_PROB = 0.975\n",
        "EVERY_N_FRAME = 4\n",
        "# SPEAKERS_OF_INTEREST = ['Chandler', 'Joey', 'Monica', 'Phoebe', 'Rachel', 'Ross']\n",
        "DATASET_chosen = 'train'\n",
        "dataset_chosen = datasets[DATASET_chosen]\n",
        "\n",
        "speakers_mentioned = []\n",
        "embeddings_all = []\n",
        "\n",
        "# This is gonna help us to find back to the source frame and video\n",
        "idx2source = {}\n",
        "embeddings_all = []\n",
        "bboxes_all = []\n",
        "landmarks_all = []\n",
        "\n",
        "count = 0\n",
        "for diautt, annot in dataset_chosen.items():\n",
        "    # There is one face annotated in the entire video.\n",
        "    # We are not even sure if the face is actually there or not.\n",
        "    # Even though the face is there, we are not sure which frame number it is.\n",
        "\n",
        "    # if annot['Speaker'] not in SPEAKERS_OF_INTEREST:\n",
        "    #     continue\n",
        "\n",
        "    for framenum, list_of_findings in visual_features[diautt].items():\n",
        "        if framenum % EVERY_N_FRAME != 0:\n",
        "            continue\n",
        "        for finding in list_of_findings:\n",
        "            if finding['bbox'][-1] < FACE_PROB:\n",
        "                continue\n",
        "            \n",
        "            embeddings_all.append(finding['embedding'])\n",
        "            bboxes_all.append(finding['bbox'])\n",
        "            landmarks_all.append(finding['landmark'])\n",
        "            idx2source[count] = {'diautt':diautt, 'frame': framenum}\n",
        "            count+=1\n",
        "            speakers_mentioned.append(annot['Speaker'])\n",
        "\n",
        "assert len(embeddings_all) == len(bboxes_all) == len(landmarks_all) == \\\n",
        "        len(idx2source)\n",
        "\n",
        "speakers_mentioned = sorted(list(set(speakers_mentioned)))\n",
        "\n",
        "print(f\"Out of the {len(dataset_chosen)} number of videos (utterances),\")\n",
        "print(f\"There are in total of {len(speakers_mentioned)} unique speakers mentioned\")\n",
        "print()\n",
        "print(speakers_mentioned)\n",
        "print()\n",
        "print(f\"and {len(embeddings_all)} faces detected\")"
      ],
      "execution_count": null,
      "outputs": [
        {
          "output_type": "stream",
          "text": [
            "Out of the 584 number of videos (utterances),\n",
            "There are in total of 31 unique speakers mentioned\n",
            "\n",
            "['Ben', 'Chandler', 'Charlie', 'Chip', 'Danny', 'Dr. Green', 'Dr. Johnson', 'Dr. Ledbetter', 'Dr. Rhodes', 'Hoshi', 'Joey', 'Julie', 'Katie', 'Leslie', 'Marc', 'Mike', 'Mischa', 'Mona', \"Mona's Date\", 'Monica', 'Pete', 'Phoebe', 'Rachel', 'Receptionist', 'Richard', 'Rick', 'Ross', 'Student', 'The Assistant Director', 'The Director', 'Tom']\n",
            "\n",
            "and 19645 faces detected\n"
          ],
          "name": "stdout"
        }
      ]
    },
    {
      "cell_type": "markdown",
      "metadata": {
        "id": "CRCAzDmX6VRx"
      },
      "source": [
        "You can't just assume that every face detected is one of the 16 speakers mentioned, since there are also other faces in the scene. Let's try simple clustering of the embeddings. Refer to https://scikit-learn.org/stable/modules/clustering.html for data aclustering.\n",
        "\n",
        "Clustering is not an easy topic. Our data are all unit vectors, which means that they are all located on the surface of a high-dimensional sphere. There must be exisitng work done here, which fits to our case. But I'll just copy and paste what I can easily find from scikit-learn."
      ]
    },
    {
      "cell_type": "code",
      "metadata": {
        "id": "M9UH7nsb-zEr"
      },
      "source": [
        "import numpy as np\n",
        "\n",
        "from sklearn.cluster import DBSCAN\n",
        "from sklearn import metrics\n",
        "from sklearn.datasets import make_blobs\n",
        "from sklearn.preprocessing import StandardScaler\n",
        "\n",
        "\n",
        "X = np.stack(embeddings_all)\n",
        "\n",
        "# #############################################################################\n",
        "# Compute DBSCAN\n",
        "# DBSCAN uses euclidean distance between the data points.\n",
        "# TODO: find a way to replace it with angle distance.\n",
        "# eps and min_samples are hyper parameters that you have to tune.\n",
        "# At the moment 0.75 and 10, respectively, works decent.\n",
        "db = DBSCAN(eps=0.8, min_samples=20).fit(X)\n",
        "core_samples_mask = np.zeros_like(db.labels_, dtype=bool)\n",
        "core_samples_mask[db.core_sample_indices_] = True\n",
        "labels = db.labels_\n",
        "\n",
        "# Number of clusters in labels, ignoring noise if present.\n",
        "n_clusters_ = len(set(labels)) - (1 if -1 in labels else 0)\n",
        "n_noise_ = list(labels).count(-1)\n",
        "\n",
        "print('Estimated number of clusters: %d' % n_clusters_)\n",
        "print('Estimated number of noise points: %d' % n_noise_)\n",
        "print(\"Silhouette Coefficient: %0.3f\"\n",
        "      % metrics.silhouette_score(X, labels))\n",
        "print(f\"Number of faces that are clustered: {len(embeddings_all) - n_noise_}\")\n",
        "print()\n",
        "\n",
        "(label_num, counts) = np.unique(labels, return_counts=True)\n",
        "\n",
        "for l, c in zip(label_num, counts):\n",
        "    print(f\" label {l} \\t has {c} counts\")\n",
        "\n",
        "np.save('embeddings-clusters.npy', labels)\n",
        "!cp 'embeddings-clusters.npy' drive/MyDrive/"
      ],
      "execution_count": null,
      "outputs": []
    },
    {
      "cell_type": "markdown",
      "metadata": {
        "id": "E9VQVOjLJl11"
      },
      "source": [
        "We got several clusters. This is not that many. We can go through one by one. The label `-1` is considered noise.\n",
        "\n",
        "\n",
        "Below cell will save all of the images"
      ]
    },
    {
      "cell_type": "code",
      "metadata": {
        "colab": {
          "base_uri": "https://localhost:8080/",
          "height": 252,
          "referenced_widgets": [
            "2b93547389e246b49ea682bb9c3d7890",
            "541cbd15c5c344778e67021e0c6dab2c",
            "a32b2b90abff42ea9b727ba11c2118ad",
            "834c0462c51b41c789e560140bc5f428",
            "69babf4f164e430f9d4aa66951d791aa",
            "ce96a57c4cf24dc3a667ff222d37790e",
            "964943d8d62f48379016248473e4dc7a",
            "7d8cb7b984834b98a0470aefb026bc98",
            "7e93a47276b346cebf4837dbd5afcfd4",
            "c76e01cdc4ee4837bc47b59eaace435f",
            "467cdb280b614997a5dff0469e605564",
            "282b3fc0f42f45e1a80b0ded6a859979",
            "124e0946d2544650811d00547e59d1e5",
            "f37ac7b888814c9eb9bdde4437d29c01",
            "de20085e365046769d6dccb7d01c901a",
            "f02daf05c4a6461e8efff6d62e70d142",
            "d4498351844b486885323b6cca005c00",
            "7441588cc8c34fa98d842237dcc29aad",
            "efed0878944e4688babfc1129fc58673",
            "f7b2d1bacfec4452860e9a4f765d380b",
            "c27766f206fe49bd8ea622808251401e",
            "ce36be7c6773462fbb67a4184a998e0e",
            "863499fa1e93438d8cd030d6986f49d9",
            "55c727c9c87e4cc8bde50d9d852a5b39"
          ]
        },
        "id": "zrphwtUsT7jI",
        "outputId": "65745491-d03c-4874-a56f-df119049cf7e"
      },
      "source": [
        "import numpy as np\n",
        "\n",
        "labels = np.load(f\"drive/MyDrive/embeddings-clusters.npy\")\n",
        "\n",
        "import shutil\n",
        "from tqdm.notebook import tqdm\n",
        "import cv2\n",
        "import av\n",
        "import random\n",
        "from cltl_face_all.face_alignment import FaceDetection\n",
        "\n",
        "NUM_MAX_VID_PER_LABEL = 25\n",
        "\n",
        "shutil.rmtree('faces', ignore_errors=True)\n",
        "\n",
        "assert len(embeddings_all) == len(bboxes_all) == len(landmarks_all) == \\\n",
        "        len(idx2source) == len(labels)\n",
        "\n",
        "VIDS_DIR = 'smaller-dataset/'\n",
        "\n",
        "\n",
        "list_all = []\n",
        "\n",
        "\n",
        "indices = list(idx2source.keys())\n",
        "for idx in indices:\n",
        "    label_ = labels[idx]\n",
        "\n",
        "    embedding_ = embeddings_all[idx]\n",
        "    bbox_ = bboxes_all[idx]\n",
        "    landmark_ = landmarks_all[idx]\n",
        "    source_ = idx2source[idx]\n",
        "\n",
        "    to_append = {'label': label_, \n",
        "                'embedding': embedding_,\n",
        "                 'bbox': bbox_,\n",
        "                 'landmark': landmark_,\n",
        "                 'diautt': source_['diautt'],\n",
        "                 'frame': source_['frame']}\n",
        "\n",
        "    list_all.append(to_append)\n",
        "\n",
        "\n",
        "assert len(list_all) == len(labels)\n",
        "\n",
        "random.shuffle(list_all)\n",
        "\n",
        "\n",
        "fd = FaceDetection(device='cpu', face_detector='sfd')\n",
        "\n",
        "labels_processed = {l: 0 for l in set(labels)}\n",
        "\n",
        "for finding in tqdm(list_all):\n",
        "    label_ = finding['label']\n",
        "    embedding_ = finding['embedding']\n",
        "    bbox_ = finding['bbox']\n",
        "    landmark_ = finding['landmark']\n",
        "    diautt_ = finding['diautt']\n",
        "    frame_num = finding['frame']\n",
        "    video_path = os.path.join(VIDS_DIR, diautt_) + '.mp4'\n",
        "\n",
        "    os.makedirs(os.path.join('faces', str(label_)), exist_ok=True)\n",
        "\n",
        "    # if labels_processed[label_] > NUM_MAX_VID_PER_LABEL:\n",
        "    #     continue\n",
        "\n",
        "    assert os.path.isfile(video_path)\n",
        "\n",
        "    container = av.open(video_path)\n",
        "    for frame in container.decode(video=0):\n",
        "        idx = frame.index\n",
        "        img = np.array(frame.to_image())\n",
        "\n",
        "        if idx == frame_num:\n",
        "            break\n",
        "\n",
        "    batch = img[np.newaxis, ...]\n",
        "    face = fd.crop_and_align(batch, [bbox_[np.newaxis, ...]], [landmark_[np.newaxis, ...]])\n",
        "    face = np.squeeze(face)\n",
        "\n",
        "    img_write_path = os.path.join('faces', \n",
        "                                  str(label_), \n",
        "                                  f\"{diautt_}_frame{frame_num}_{'_'.join([str(foo) for foo in bbox_.astype(np.int).tolist()[:4]])}.jpg\")\n",
        "\n",
        "    cv2.imwrite(img_write_path, cv2.cvtColor(face, cv2.COLOR_RGB2BGR))\n",
        "    labels_processed[label_] +=1\n",
        "\n",
        "\n",
        "!zip -r faces.zip faces\n",
        "!cp faces.zip drive/MyDrive/"
      ],
      "execution_count": null,
      "outputs": [
        {
          "output_type": "stream",
          "text": [
            "Downloading: \"https://www.adrianbulat.com/downloads/python-fan/s3fd-619a316812.pth\" to /root/.cache/torch/hub/checkpoints/s3fd-619a316812.pth\n"
          ],
          "name": "stderr"
        },
        {
          "output_type": "display_data",
          "data": {
            "application/vnd.jupyter.widget-view+json": {
              "model_id": "2b93547389e246b49ea682bb9c3d7890",
              "version_minor": 0,
              "version_major": 2
            },
            "text/plain": [
              "HBox(children=(FloatProgress(value=0.0, max=89843225.0), HTML(value='')))"
            ]
          },
          "metadata": {
            "tags": []
          }
        },
        {
          "output_type": "stream",
          "text": [
            "\n"
          ],
          "name": "stdout"
        },
        {
          "output_type": "stream",
          "text": [
            "Downloading: \"https://www.adrianbulat.com/downloads/python-fan/2DFAN4-11f355bf06.pth.tar\" to /root/.cache/torch/hub/checkpoints/2DFAN4-11f355bf06.pth.tar\n"
          ],
          "name": "stderr"
        },
        {
          "output_type": "display_data",
          "data": {
            "application/vnd.jupyter.widget-view+json": {
              "model_id": "7e93a47276b346cebf4837dbd5afcfd4",
              "version_minor": 0,
              "version_major": 2
            },
            "text/plain": [
              "HBox(children=(FloatProgress(value=0.0, max=95641761.0), HTML(value='')))"
            ]
          },
          "metadata": {
            "tags": []
          }
        },
        {
          "output_type": "stream",
          "text": [
            "\n"
          ],
          "name": "stdout"
        },
        {
          "output_type": "display_data",
          "data": {
            "application/vnd.jupyter.widget-view+json": {
              "model_id": "d4498351844b486885323b6cca005c00",
              "version_minor": 0,
              "version_major": 2
            },
            "text/plain": [
              "HBox(children=(FloatProgress(value=0.0, max=19645.0), HTML(value='')))"
            ]
          },
          "metadata": {
            "tags": []
          }
        },
        {
          "output_type": "stream",
          "text": [
            "/usr/local/lib/python3.6/dist-packages/cltl_face_all/face_alignment/matlab_cp2tform.py:84: FutureWarning: `rcond` parameter will change to the default of machine precision times ``max(M, N)`` where M and N are the input matrix dimensions.\n",
            "To use the future default and silence this warning we advise to pass `rcond=None`, to keep using the old, explicitly pass `rcond=-1`.\n",
            "  r, _, _, _ = lstsq(X, U)\n"
          ],
          "name": "stderr"
        }
      ]
    },
    {
      "cell_type": "markdown",
      "metadata": {
        "id": "7HTNIPB1DlgY"
      },
      "source": [
        "Now go through the faces if they match the names\n"
      ]
    },
    {
      "cell_type": "code",
      "metadata": {
        "id": "wcaxZ6svDkZy"
      },
      "source": [
        "import matplotlib.pyplot as plt\n",
        "from glob import glob\n",
        "import random\n",
        "import os\n",
        "import cv2\n",
        "\n",
        "print(sorted(os.listdir('faces/')))\n",
        "\n",
        "for label in sorted(os.listdir('faces/')):\n",
        "    images = glob(os.path.join('faces', label, '*.jpg'))\n",
        "    img = random.choice(images)\n",
        "    img = cv2.imread(img)\n",
        "    img = cv2.cvtColor(img, cv2.COLOR_BGR2RGB)\n",
        "\n",
        "    plt.figure()\n",
        "    plt.imshow(img)\n",
        "    plt.title(f\"{label}, {len(images)}\")\n"
      ],
      "execution_count": null,
      "outputs": []
    },
    {
      "cell_type": "markdown",
      "metadata": {
        "id": "TUOPMZM02ajV"
      },
      "source": [
        "## Here are my findings\n",
        "\n",
        "```\n",
        " label character   note\n",
        " -1  noise\n",
        " 0   Chandler\n",
        " 1   Joey\n",
        " 2   Ross\n",
        " 3   Phoebe\n",
        " 4   noise\n",
        " 5   Gunther\n",
        " 6   Rachel\n",
        " 7   Ross (side) remove it\n",
        " 8   Ben\n",
        " 9   Ross (side) remove it\n",
        " 10  Monica\n",
        " 11  Monica (side)   remove it\n",
        " 12  Leslie\n",
        " 13  a dude (side)   remove it\n",
        " 14  a dude (side)   remove it\n",
        " 15  Richard Gary Oldman\n",
        " 16  Monica\n",
        " 17  DONT KNOW\n",
        " 18  Tom\n",
        " 19  DONT KNOW\n",
        "```\n",
        "It was almost perfect that it clustered 2 front Monicas, not 1. From now on, we only keep the frontal face, which gives us\n",
        "\n",
        "```\n",
        " 0   Chandler\n",
        " 1   Joey\n",
        " 2   Ross\n",
        " 3   Phoebe\n",
        " 4   noise\n",
        " 5   Gunther\n",
        " 6   Rachel\n",
        " 8   Ben\n",
        " 10  Monica\n",
        " 12  Leslie\n",
        " 15  Richard\n",
        " 16  Monica\n",
        " 18  Tom\n",
        "```\n",
        "\n",
        "10 and 16 will be merged\n",
        "\n",
        "\n"
      ]
    },
    {
      "cell_type": "code",
      "metadata": {
        "id": "yWauhnpWRmaI"
      },
      "source": [
        "to_keep = {'Chandler': [],\n",
        "           'Joey': [],\n",
        "           'Ross': [],\n",
        "           'Phoebe': [],\n",
        "           'Gunther': [],\n",
        "           'Rachel': [],\n",
        "           'Ben': [],\n",
        "           'Monica': [],\n",
        "           'Leslie': [],\n",
        "           'Richard': [],\n",
        "           'Tom': []}\n",
        "\n",
        "label2name = {0: 'Chandler',\n",
        "              1: 'Joey',\n",
        "              2: 'Ross',\n",
        "              3: 'Phoebe',\n",
        "              5: 'Gunther',\n",
        "              6: 'Rachel',\n",
        "              8: 'Ben',\n",
        "              10: 'Monica',\n",
        "              12: 'Leslie',\n",
        "              15: 'Richard',\n",
        "              16: 'Monica',\n",
        "              18: 'Tom'}\n",
        "\n",
        "for finding in list_all:\n",
        "    label_ = finding['label']\n",
        "    embedding_ = finding['embedding']\n",
        "    bbox_ = finding['bbox']\n",
        "    landmark_ = finding['landmark']\n",
        "    diautt_ = finding['diautt']\n",
        "    frame_num = finding['frame']\n",
        "\n",
        "    if label_ in list(label2name.keys()):\n",
        "        to_keep[label2name[label_]].append(embedding_)"
      ],
      "execution_count": null,
      "outputs": []
    },
    {
      "cell_type": "code",
      "metadata": {
        "id": "ynkTfHqQ5gB9"
      },
      "source": [
        "final_vectors = {}\n",
        "for name, list_of_embs in to_keep.items():\n",
        "    sum_of_vecs = np.sum(list_of_embs, axis=0)\n",
        "    sum_of_vecs = sum_of_vecs / np.linalg.norm(sum_of_vecs)\n",
        "    print(name, sum_of_vecs.shape, np.linalg.norm(sum_of_vecs), sum_of_vecs.dtype)\n",
        "    final_vectors[name] = sum_of_vecs\n",
        "\n",
        "np.save('friends-embeddings.npy', final_vectors)\n",
        "!cp friends-embeddings.npy drive/MyDrive/"
      ],
      "execution_count": null,
      "outputs": []
    }
  ]
}