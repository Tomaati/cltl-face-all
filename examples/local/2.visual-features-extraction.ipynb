{
 "metadata": {
  "language_info": {
   "codemirror_mode": {
    "name": "ipython",
    "version": 3
   },
   "file_extension": ".py",
   "mimetype": "text/x-python",
   "name": "python",
   "nbconvert_exporter": "python",
   "pygments_lexer": "ipython3",
   "version": "3.7.9-final"
  },
  "orig_nbformat": 2,
  "kernelspec": {
   "name": "python37964bitdevpython378e162af75d134820b03d49898b79756f",
   "display_name": "Python 3.7.9 64-bit ('dev-python-3.7')"
  }
 },
 "nbformat": 4,
 "nbformat_minor": 2,
 "cells": [
  {
   "source": [
    "# Get cleaner annotations and save them as json"
   ],
   "cell_type": "markdown",
   "metadata": {}
  },
  {
   "cell_type": "code",
   "execution_count": 1,
   "metadata": {},
   "outputs": [],
   "source": [
    "import os\n",
    "from glob import glob\n",
    "import csv\n",
    "import json\n",
    "from tqdm.notebook import tqdm\n",
    "\n",
    "SAVE_AT = \"/home/tk/datasets/MELD/visual-features/entire-dataset\"\n",
    "annotation_path = {}\n",
    "annotation_path['train'] = \"/home/tk/repos/MELD/data/MELD/train_sent_emo.csv\" \n",
    "annotation_path['dev'] = \"/home/tk/repos/MELD/data/MELD/dev_sent_emo.csv\" \n",
    "annotation_path['test'] = \"/home/tk/repos/MELD/data/MELD/test_sent_emo.csv\" \n",
    "\n",
    "        \n",
    "VIDS_DIR = {}\n",
    "VIDS_DIR['train'] = \"/home/tk/datasets/MELD/MELD.Raw/train/train_splits/\" \n",
    "VIDS_DIR['dev'] = \"/home/tk/datasets/MELD/MELD.Raw/dev/dev_splits_complete/\" \n",
    "VIDS_DIR['test'] = \"/home/tk/datasets/MELD/MELD.Raw/test/output_repeated_splits_test/\"\n",
    "\n",
    "\n",
    "if not os.path.isfile(os.path.join(SAVE_AT, 'datasets.json')):\n",
    "\n",
    "\n",
    "    annotations = {}\n",
    "    for DATATYPE in ['train', 'dev', 'test']:\n",
    "        with open(annotation_path[DATATYPE]) as f:\n",
    "            reader = csv.reader(f)\n",
    "            annotations[DATATYPE] = list(reader)\n",
    "\n",
    "    vid2anno = {}\n",
    "    weird = 0\n",
    "    for DATATYPE in tqdm(['train', 'dev', 'test']):\n",
    "        vid2anno[DATATYPE] = {}\n",
    "        for row in tqdm(annotations[DATATYPE][1:]):\n",
    "            SrNo, Utterance, Speaker, Emotion, Sentiment, Dialogue_ID,\\\n",
    "                Utterance_ID, Season, Episode, StartTime, EndTime = row\n",
    "\n",
    "            if f\"dia{Dialogue_ID}_utt{Utterance_ID}.mp4\" not in str(os.listdir(VIDS_DIR[DATATYPE])):\n",
    "                weird+=1\n",
    "                continue\n",
    "            vid2anno[DATATYPE][f\"dia{Dialogue_ID}_utt{Utterance_ID}\"] = \\\n",
    "                {'SrNo': SrNo, \n",
    "                'Utterance': Utterance, \n",
    "                'Speaker': Speaker, \n",
    "                'Emotion': Emotion, \n",
    "                'Sentiment': Sentiment, \n",
    "                'Dialogue_ID': Dialogue_ID,\n",
    "                'Utterance_ID': Utterance_ID, \n",
    "                'Season': Season, \n",
    "                'Episode': Episode, \n",
    "                'StartTime': StartTime, \n",
    "                'EndTime':EndTime}\n",
    "                    \n",
    "    print(f\"the number of video that didn't match is : {weird}\")\n",
    "\n",
    "\n",
    "    with open(os.path.join(SAVE_AT, 'datasets.json'), 'w', encoding='utf8') as stream:\n",
    "        json.dump(vid2anno, stream, ensure_ascii=False)\n",
    "\n",
    "else:\n",
    "    with open(os.path.join(SAVE_AT, 'datasets.json'), 'r', encoding='utf8') as stream:\n",
    "        vid2anno = json.load(stream)\n",
    "\n"
   ]
  },
  {
   "source": [
    "# Instantiate the three classes"
   ],
   "cell_type": "markdown",
   "metadata": {}
  },
  {
   "cell_type": "code",
   "execution_count": 2,
   "metadata": {},
   "outputs": [
    {
     "output_type": "stream",
     "name": "stdout",
     "text": [
      "[*] load ckpt from /home/tk/.virtualenvs/dev-python-3.7/lib/python3.7/site-packages/cltl_face_all/arcface/./pretrained_models/arc_res50/e_8_b_40000.ckpt\n"
     ]
    }
   ],
   "source": [
    "from cltl_face_all.face_alignment import FaceDetection\n",
    "from cltl_face_all.arcface import ArcFace\n",
    "from cltl_face_all.agegender import AgeGender\n",
    "\n",
    "fd = FaceDetection(device='cuda', face_detector='sfd')\n",
    "ag = AgeGender(device='cpu')\n",
    "af = ArcFace(device='cpu')"
   ]
  },
  {
   "source": [
    "# Run over the images"
   ],
   "cell_type": "markdown",
   "metadata": {}
  },
  {
   "cell_type": "code",
   "execution_count": 3,
   "metadata": {
    "tags": []
   },
   "outputs": [
    {
     "output_type": "display_data",
     "data": {
      "text/plain": "HBox(children=(HTML(value=''), FloatProgress(value=0.0, max=3.0), HTML(value='')))",
      "application/vnd.jupyter.widget-view+json": {
       "version_major": 2,
       "version_minor": 0,
       "model_id": "cd030bd121f442a6b670f0de56529d8b"
      }
     },
     "metadata": {}
    },
    {
     "output_type": "display_data",
     "data": {
      "text/plain": "HBox(children=(HTML(value=''), FloatProgress(value=0.0, max=9989.0), HTML(value='')))",
      "application/vnd.jupyter.widget-view+json": {
       "version_major": 2,
       "version_minor": 0,
       "model_id": "9f9c25e0b2d643e69bd79aadc5eeec90"
      }
     },
     "metadata": {}
    },
    {
     "output_type": "stream",
     "name": "stderr",
     "text": [
      "Format mov,mp4,m4a,3gp,3g2,mj2 detected only with low score of 1, misdetection possible!\n",
      "moov atom not found\n",
      "[Errno 1094995529] Invalid data found when processing input: '/home/tk/datasets/MELD/MELD.Raw/train/train_splits/dia125_utt3.mp4'; last error log: [mov,mp4,m4a,3gp,3g2,mj2] moov atom not found\n",
      "\n",
      "\n"
     ]
    },
    {
     "output_type": "error",
     "ename": "KeyboardInterrupt",
     "evalue": "",
     "traceback": [
      "\u001b[0;31m---------------------------------------------------------------------------\u001b[0m",
      "\u001b[0;31mKeyboardInterrupt\u001b[0m                         Traceback (most recent call last)",
      "\u001b[0;32m<ipython-input-3-806092c9eb99>\u001b[0m in \u001b[0;36m<module>\u001b[0;34m\u001b[0m\n\u001b[1;32m     40\u001b[0m                 \u001b[0mnumpy_RGB\u001b[0m \u001b[0;34m=\u001b[0m \u001b[0mnp\u001b[0m\u001b[0;34m.\u001b[0m\u001b[0marray\u001b[0m\u001b[0;34m(\u001b[0m\u001b[0mframe\u001b[0m\u001b[0;34m.\u001b[0m\u001b[0mto_image\u001b[0m\u001b[0;34m(\u001b[0m\u001b[0;34m)\u001b[0m\u001b[0;34m)\u001b[0m\u001b[0;34m\u001b[0m\u001b[0;34m\u001b[0m\u001b[0m\n\u001b[1;32m     41\u001b[0m                 \u001b[0mbatch\u001b[0m \u001b[0;34m=\u001b[0m \u001b[0mnumpy_RGB\u001b[0m\u001b[0;34m[\u001b[0m\u001b[0mnp\u001b[0m\u001b[0;34m.\u001b[0m\u001b[0mnewaxis\u001b[0m\u001b[0;34m,\u001b[0m \u001b[0;34m...\u001b[0m\u001b[0;34m]\u001b[0m\u001b[0;34m\u001b[0m\u001b[0;34m\u001b[0m\u001b[0m\n\u001b[0;32m---> 42\u001b[0;31m                 \u001b[0mbboxes\u001b[0m \u001b[0;34m=\u001b[0m \u001b[0mfd\u001b[0m\u001b[0;34m.\u001b[0m\u001b[0mdetect_faces\u001b[0m\u001b[0;34m(\u001b[0m\u001b[0mbatch\u001b[0m\u001b[0;34m)\u001b[0m\u001b[0;34m\u001b[0m\u001b[0;34m\u001b[0m\u001b[0m\n\u001b[0m\u001b[1;32m     43\u001b[0m                 \u001b[0;31m# print(f\"number of faces detected in the frame {idx} is {len(bboxes[0])}\")\u001b[0m\u001b[0;34m\u001b[0m\u001b[0;34m\u001b[0m\u001b[0;34m\u001b[0m\u001b[0m\n\u001b[1;32m     44\u001b[0m \u001b[0;34m\u001b[0m\u001b[0m\n",
      "\u001b[0;32m~/.virtualenvs/dev-python-3.7/lib/python3.7/site-packages/cltl_face_all/face_alignment/__init__.py\u001b[0m in \u001b[0;36mdetect_faces\u001b[0;34m(self, images)\u001b[0m\n\u001b[1;32m     65\u001b[0m         \u001b[0mimages\u001b[0m \u001b[0;34m=\u001b[0m \u001b[0mtorch\u001b[0m\u001b[0;34m.\u001b[0m\u001b[0mTensor\u001b[0m\u001b[0;34m(\u001b[0m\u001b[0mimages\u001b[0m\u001b[0;34m)\u001b[0m\u001b[0;34m\u001b[0m\u001b[0;34m\u001b[0m\u001b[0m\n\u001b[1;32m     66\u001b[0m         \u001b[0mimages\u001b[0m \u001b[0;34m=\u001b[0m \u001b[0mimages\u001b[0m\u001b[0;34m.\u001b[0m\u001b[0mto\u001b[0m\u001b[0;34m(\u001b[0m\u001b[0mself\u001b[0m\u001b[0;34m.\u001b[0m\u001b[0mdevice\u001b[0m\u001b[0;34m)\u001b[0m\u001b[0;34m\u001b[0m\u001b[0;34m\u001b[0m\u001b[0m\n\u001b[0;32m---> 67\u001b[0;31m         \u001b[0mbboxes\u001b[0m \u001b[0;34m=\u001b[0m \u001b[0mself\u001b[0m\u001b[0;34m.\u001b[0m\u001b[0mmodel\u001b[0m\u001b[0;34m.\u001b[0m\u001b[0mface_detector\u001b[0m\u001b[0;34m.\u001b[0m\u001b[0mdetect_from_batch\u001b[0m\u001b[0;34m(\u001b[0m\u001b[0mimages\u001b[0m\u001b[0;34m)\u001b[0m\u001b[0;34m\u001b[0m\u001b[0;34m\u001b[0m\u001b[0m\n\u001b[0m\u001b[1;32m     68\u001b[0m \u001b[0;34m\u001b[0m\u001b[0m\n\u001b[1;32m     69\u001b[0m         \u001b[0;32mreturn\u001b[0m \u001b[0mbboxes\u001b[0m\u001b[0;34m\u001b[0m\u001b[0;34m\u001b[0m\u001b[0m\n",
      "\u001b[0;32m~/.virtualenvs/dev-python-3.7/lib/python3.7/site-packages/cltl_face_all/face_alignment/detection/sfd/sfd_detector.py\u001b[0m in \u001b[0;36mdetect_from_batch\u001b[0;34m(self, tensor)\u001b[0m\n\u001b[1;32m     40\u001b[0m \u001b[0;34m\u001b[0m\u001b[0m\n\u001b[1;32m     41\u001b[0m     \u001b[0;32mdef\u001b[0m \u001b[0mdetect_from_batch\u001b[0m\u001b[0;34m(\u001b[0m\u001b[0mself\u001b[0m\u001b[0;34m,\u001b[0m \u001b[0mtensor\u001b[0m\u001b[0;34m)\u001b[0m\u001b[0;34m:\u001b[0m\u001b[0;34m\u001b[0m\u001b[0;34m\u001b[0m\u001b[0m\n\u001b[0;32m---> 42\u001b[0;31m         \u001b[0mbboxlists\u001b[0m \u001b[0;34m=\u001b[0m \u001b[0mbatch_detect\u001b[0m\u001b[0;34m(\u001b[0m\u001b[0mself\u001b[0m\u001b[0;34m.\u001b[0m\u001b[0mface_detector\u001b[0m\u001b[0;34m,\u001b[0m \u001b[0mtensor\u001b[0m\u001b[0;34m,\u001b[0m \u001b[0mdevice\u001b[0m\u001b[0;34m=\u001b[0m\u001b[0mself\u001b[0m\u001b[0;34m.\u001b[0m\u001b[0mdevice\u001b[0m\u001b[0;34m)\u001b[0m\u001b[0;34m\u001b[0m\u001b[0;34m\u001b[0m\u001b[0m\n\u001b[0m\u001b[1;32m     43\u001b[0m \u001b[0;34m\u001b[0m\u001b[0m\n\u001b[1;32m     44\u001b[0m         \u001b[0mnew_bboxlists\u001b[0m \u001b[0;34m=\u001b[0m \u001b[0;34m[\u001b[0m\u001b[0;34m]\u001b[0m\u001b[0;34m\u001b[0m\u001b[0;34m\u001b[0m\u001b[0m\n",
      "\u001b[0;32m~/.virtualenvs/dev-python-3.7/lib/python3.7/site-packages/cltl_face_all/face_alignment/detection/sfd/detect.py\u001b[0m in \u001b[0;36mbatch_detect\u001b[0;34m(net, img_batch, device)\u001b[0m\n\u001b[1;32m     50\u001b[0m     \u001b[0mbboxlists\u001b[0m \u001b[0;34m=\u001b[0m \u001b[0;34m[\u001b[0m\u001b[0;34m]\u001b[0m\u001b[0;34m\u001b[0m\u001b[0;34m\u001b[0m\u001b[0m\n\u001b[1;32m     51\u001b[0m \u001b[0;34m\u001b[0m\u001b[0m\n\u001b[0;32m---> 52\u001b[0;31m     \u001b[0molist\u001b[0m \u001b[0;34m=\u001b[0m \u001b[0;34m[\u001b[0m\u001b[0moelem\u001b[0m\u001b[0;34m.\u001b[0m\u001b[0mdata\u001b[0m\u001b[0;34m.\u001b[0m\u001b[0mcpu\u001b[0m\u001b[0;34m(\u001b[0m\u001b[0;34m)\u001b[0m \u001b[0;32mfor\u001b[0m \u001b[0moelem\u001b[0m \u001b[0;32min\u001b[0m \u001b[0molist\u001b[0m\u001b[0;34m]\u001b[0m\u001b[0;34m\u001b[0m\u001b[0;34m\u001b[0m\u001b[0m\n\u001b[0m\u001b[1;32m     53\u001b[0m \u001b[0;34m\u001b[0m\u001b[0m\n\u001b[1;32m     54\u001b[0m     \u001b[0;32mfor\u001b[0m \u001b[0mj\u001b[0m \u001b[0;32min\u001b[0m \u001b[0mrange\u001b[0m\u001b[0;34m(\u001b[0m\u001b[0mBB\u001b[0m\u001b[0;34m)\u001b[0m\u001b[0;34m:\u001b[0m\u001b[0;34m\u001b[0m\u001b[0;34m\u001b[0m\u001b[0m\n",
      "\u001b[0;32m~/.virtualenvs/dev-python-3.7/lib/python3.7/site-packages/cltl_face_all/face_alignment/detection/sfd/detect.py\u001b[0m in \u001b[0;36m<listcomp>\u001b[0;34m(.0)\u001b[0m\n\u001b[1;32m     50\u001b[0m     \u001b[0mbboxlists\u001b[0m \u001b[0;34m=\u001b[0m \u001b[0;34m[\u001b[0m\u001b[0;34m]\u001b[0m\u001b[0;34m\u001b[0m\u001b[0;34m\u001b[0m\u001b[0m\n\u001b[1;32m     51\u001b[0m \u001b[0;34m\u001b[0m\u001b[0m\n\u001b[0;32m---> 52\u001b[0;31m     \u001b[0molist\u001b[0m \u001b[0;34m=\u001b[0m \u001b[0;34m[\u001b[0m\u001b[0moelem\u001b[0m\u001b[0;34m.\u001b[0m\u001b[0mdata\u001b[0m\u001b[0;34m.\u001b[0m\u001b[0mcpu\u001b[0m\u001b[0;34m(\u001b[0m\u001b[0;34m)\u001b[0m \u001b[0;32mfor\u001b[0m \u001b[0moelem\u001b[0m \u001b[0;32min\u001b[0m \u001b[0molist\u001b[0m\u001b[0;34m]\u001b[0m\u001b[0;34m\u001b[0m\u001b[0;34m\u001b[0m\u001b[0m\n\u001b[0m\u001b[1;32m     53\u001b[0m \u001b[0;34m\u001b[0m\u001b[0m\n\u001b[1;32m     54\u001b[0m     \u001b[0;32mfor\u001b[0m \u001b[0mj\u001b[0m \u001b[0;32min\u001b[0m \u001b[0mrange\u001b[0m\u001b[0;34m(\u001b[0m\u001b[0mBB\u001b[0m\u001b[0;34m)\u001b[0m\u001b[0;34m:\u001b[0m\u001b[0;34m\u001b[0m\u001b[0;34m\u001b[0m\u001b[0m\n",
      "\u001b[0;31mKeyboardInterrupt\u001b[0m: "
     ]
    }
   ],
   "source": [
    "import av\n",
    "import numpy as np\n",
    "import os\n",
    "\n",
    "import signal\n",
    "import time\n",
    "from tqdm.notebook import tqdm\n",
    "\n",
    "class Timeout(Exception):\n",
    "    pass\n",
    "\n",
    "def handler(sig, frame):\n",
    "    raise Timeout\n",
    "\n",
    "signal.signal(signal.SIGALRM, handler) \n",
    "\n",
    "\n",
    "for DATATYPE in tqdm(['train', 'dev', 'test']):\n",
    "    os.makedirs(os.path.join(SAVE_AT, DATATYPE), exist_ok=True)\n",
    "\n",
    "    for diautt, anno in tqdm(vid2anno[DATATYPE].items()):\n",
    "        signal.alarm(10)\n",
    "        try:\n",
    "            to_dump = {}\n",
    "            vidpath = os.path.join(VIDS_DIR[DATATYPE], diautt) + '.mp4'\n",
    "            container = av.open(vidpath)\n",
    "            save_full_path = os.path.join(SAVE_AT, DATATYPE, diautt) + '.npy'\n",
    "        except Exception as e:\n",
    "            print(e)\n",
    "            continue\n",
    "\n",
    "        if os.path.isfile(save_full_path) and os.path.getsize(save_full_path) > 1024:\n",
    "            continue\n",
    "\n",
    "        for frame in container.decode(video=0):\n",
    "            signal.alarm(10)\n",
    "            try:\n",
    "                idx = frame.index\n",
    "                to_dump[idx] = []\n",
    "                numpy_RGB = np.array(frame.to_image())\n",
    "                batch = numpy_RGB[np.newaxis, ...]\n",
    "                bboxes = fd.detect_faces(batch)\n",
    "                # print(f\"number of faces detected in the frame {idx} is {len(bboxes[0])}\")\n",
    "\n",
    "                if len(bboxes[0]) == 0:\n",
    "                    continue\n",
    "\n",
    "                landmarks = fd.detect_landmarks(batch, bboxes)\n",
    "\n",
    "                faces = fd.crop_and_align(batch, bboxes, landmarks)\n",
    "                faces = np.concatenate(faces, axis=0)\n",
    "                embeddings = af.predict(faces)\n",
    "                ages, genders = ag.predict(faces)\n",
    "\n",
    "                # print(len(bboxes[0]), len(landmarks[0]), len(ages), len(genders), len(embeddings), len(faces))\n",
    "                for bb, lm, a, g, emb in zip(bboxes[0], landmarks[0], ages, genders, embeddings):\n",
    "                    x1, y1, x2, y2, prob = bb\n",
    "\n",
    "                    to_append = {'bbox': bb, \n",
    "                                'landmark': lm, \n",
    "                                'age': a,\n",
    "                                'gender': g,\n",
    "                                'embedding': emb}\n",
    "\n",
    "                    to_dump[idx].append(to_append)\n",
    "                # print(len(to_dump), idx+1)\n",
    "            except Exception as e:\n",
    "                print(e)\n",
    "                continue\n",
    "\n",
    "        np.save(save_full_path, to_dump)"
   ]
  }
 ]
}