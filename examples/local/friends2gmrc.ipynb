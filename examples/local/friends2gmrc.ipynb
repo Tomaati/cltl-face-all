{
 "metadata": {
  "language_info": {
   "codemirror_mode": {
    "name": "ipython",
    "version": 3
   },
   "file_extension": ".py",
   "mimetype": "text/x-python",
   "name": "python",
   "nbconvert_exporter": "python",
   "pygments_lexer": "ipython3",
   "version": "3.7.9-final"
  },
  "orig_nbformat": 2,
  "kernelspec": {
   "name": "python37964bitdevpython378e162af75d134820b03d49898b79756f",
   "display_name": "Python 3.7.9 64-bit ('dev-python-3.7')"
  }
 },
 "nbformat": 4,
 "nbformat_minor": 2,
 "cells": [
  {
   "source": [
    "# WIP"
   ],
   "cell_type": "markdown",
   "metadata": {}
  },
  {
   "source": [
    "# load the packages\n",
    "\n",
    "Make sure that you installed the python package `grmc` from https://github.com/cltl/GRMCAnnotation "
   ],
   "cell_type": "markdown",
   "metadata": {}
  },
  {
   "cell_type": "code",
   "execution_count": 1,
   "metadata": {},
   "outputs": [
    {
     "output_type": "stream",
     "name": "stdout",
     "text": [
      "[*] load ckpt from /home/tk/.virtualenvs/dev-python-3.7/lib/python3.7/site-packages/cltl_face_all/arcface/./pretrained_models/arc_res50/e_8_b_40000.ckpt\n"
     ]
    }
   ],
   "source": [
    "import os\n",
    "from grmc.representation import annotation, container, entity, scenario, util\n",
    "from cltl_face_all.face_alignment import FaceDetection\n",
    "from cltl_face_all.arcface import ArcFace\n",
    "from cltl_face_all.agegender import AgeGender\n",
    "\n",
    "fd = FaceDetection(device='cpu', face_detector='sfd')\n",
    "ag = AgeGender(device='cpu')\n",
    "af = ArcFace(device='cpu')"
   ]
  },
  {
   "source": [
    "# Download small dataset and its annotation"
   ],
   "cell_type": "markdown",
   "metadata": {}
  },
  {
   "cell_type": "code",
   "execution_count": 2,
   "metadata": {
    "tags": []
   },
   "outputs": [
    {
     "output_type": "stream",
     "name": "stdout",
     "text": [
      "/home/tk/repos/cltl-face-all/examples/local/DEBUG\n/home/tk/repos/cltl-face-all/examples/local\n"
     ]
    }
   ],
   "source": [
    "os.makedirs('DEBUG', exist_ok=True)\n",
    "\n",
    "%cd DEBUG\n",
    "if not os.path.isfile('EVERYTHING_DOWNLOADED'):\n",
    "    !wget https://raw.githubusercontent.com/declare-lab/MELD/master/data/MELD/train_sent_emo.csv\n",
    "    !wget https://raw.githubusercontent.com/leolani/cltl-face-all/master/examples/smaller-datatsets-jsons/dataset-small.json\n",
    "    !wget https://raw.githubusercontent.com/leolani/cltl-face-all/master/examples/smaller-datatsets-jsons/dataset-medium.json\n",
    "    !wget https://raw.githubusercontent.com/leolani/cltl-face-all/master/examples/smaller-datatsets-jsons/dataset-large.json\n",
    "    !wget https://raw.githubusercontent.com/leolani/cltl-face-all/master/examples/smaller-datatsets-jsons/datasets.json\n",
    "\n",
    "    !gdown --id 1-2LeHC_5Cm2gWWT6vBrVhp8jorbjkN1_\n",
    "    !unzip visual-features.zip\n",
    "    !rm visual-features.zip\n",
    "\n",
    "    !gdown --id 16ck7plW9v9eSHGCs5wuB2AhhufPRt3Wi\n",
    "    !unzip smaller-dataset.zip\n",
    "    !rm smaller-dataset.zip\n",
    "    !touch EVERYTHING_DOWNLOADED\n",
    "%cd .."
   ]
  },
  {
   "source": [
    "# Simplify the data. After this cell the dict obj `datasets` will have all you need"
   ],
   "cell_type": "markdown",
   "metadata": {}
  },
  {
   "cell_type": "code",
   "execution_count": 5,
   "metadata": {},
   "outputs": [],
   "source": [
    "import os\n",
    "from glob import glob\n",
    "import csv\n",
    "import json\n",
    "\n",
    "\n",
    "with open('DEBUG/datasets.json', 'r') as stream:\n",
    "    datasets = json.load(stream)"
   ]
  },
  {
   "source": [
    "Let's see what `datasets` has"
   ],
   "cell_type": "markdown",
   "metadata": {}
  },
  {
   "cell_type": "code",
   "execution_count": 11,
   "metadata": {},
   "outputs": [
    {
     "output_type": "stream",
     "name": "stdout",
     "text": [
      "dia226_utt11\n"
     ]
    }
   ],
   "source": [
    "import random\n",
    "\n",
    "diautt = random.choice(list(datasets['small']['train'].keys()))\n",
    "print(diautt)\n"
   ]
  },
  {
   "source": [
    "Load the video and get the visual features"
   ],
   "cell_type": "markdown",
   "metadata": {}
  },
  {
   "source": [
    "# TODOs: \n",
    "\n",
    "1. match the face to the speaker if possible (Tae's working on the face recognition of the friends characters.)\n",
    "\n",
    "2. Save the visual features in the grmc format\n",
    "\n",
    "3. etc."
   ],
   "cell_type": "markdown",
   "metadata": {}
  },
  {
   "cell_type": "code",
   "execution_count": null,
   "metadata": {},
   "outputs": [],
   "source": []
  }
 ]
}